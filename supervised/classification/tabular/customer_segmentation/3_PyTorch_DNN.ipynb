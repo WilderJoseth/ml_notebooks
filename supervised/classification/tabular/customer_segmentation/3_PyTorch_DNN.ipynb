{
  "cells": [
    {
      "cell_type": "markdown",
      "id": "f5332b55-0dc1-4e5d-ad81-dfe9174231ea",
      "metadata": {
        "id": "f5332b55-0dc1-4e5d-ad81-dfe9174231ea"
      },
      "source": [
        "# Customer segmentation\n",
        "\n",
        "This notebook is focus on training models using PyTorch and deep neural networks."
      ]
    },
    {
      "cell_type": "markdown",
      "id": "w5R7FeVr-w7I",
      "metadata": {
        "id": "w5R7FeVr-w7I"
      },
      "source": [
        "## 1. Data preparation\n",
        "\n",
        "Algorithms for training need that the whole data is numeric, for that reason both categorical and target variables are going to be transformed into numeric values.\n",
        "\n",
        "With respect to original numeric features need to be scaled."
      ]
    },
    {
      "cell_type": "code",
      "execution_count": 1,
      "id": "qkBqSzcg-wIm",
      "metadata": {
        "id": "qkBqSzcg-wIm"
      },
      "outputs": [],
      "source": [
        "import os\n",
        "import pandas as pd\n",
        "import matplotlib.pyplot as plt\n",
        "import numpy as np"
      ]
    },
    {
      "cell_type": "code",
      "execution_count": 2,
      "id": "N8wdv4nW-wFN",
      "metadata": {
        "id": "N8wdv4nW-wFN"
      },
      "outputs": [],
      "source": [
        "PATH_DATA = os.path.join(os.getenv(\"PATH_DATA_PROJECTS\"), \"Tabular\", \"customer_segmentation\")"
      ]
    },
    {
      "cell_type": "code",
      "execution_count": 3,
      "id": "Tfadf-DZ-v-7",
      "metadata": {
        "colab": {
          "base_uri": "https://localhost:8080/",
          "height": 224
        },
        "id": "Tfadf-DZ-v-7",
        "outputId": "ba136bf7-ef38-4a0e-8d66-f44c68b794fb"
      },
      "outputs": [
        {
          "name": "stdout",
          "output_type": "stream",
          "text": [
            "Shape: (8068, 10)\n"
          ]
        },
        {
          "data": {
            "text/html": [
              "<div>\n",
              "<style scoped>\n",
              "    .dataframe tbody tr th:only-of-type {\n",
              "        vertical-align: middle;\n",
              "    }\n",
              "\n",
              "    .dataframe tbody tr th {\n",
              "        vertical-align: top;\n",
              "    }\n",
              "\n",
              "    .dataframe thead th {\n",
              "        text-align: right;\n",
              "    }\n",
              "</style>\n",
              "<table border=\"1\" class=\"dataframe\">\n",
              "  <thead>\n",
              "    <tr style=\"text-align: right;\">\n",
              "      <th></th>\n",
              "      <th>Gender</th>\n",
              "      <th>Ever_Married</th>\n",
              "      <th>Age</th>\n",
              "      <th>Graduated</th>\n",
              "      <th>Profession</th>\n",
              "      <th>Work_Experience</th>\n",
              "      <th>Spending_Score</th>\n",
              "      <th>Family_Size</th>\n",
              "      <th>Var_1</th>\n",
              "      <th>Segmentation</th>\n",
              "    </tr>\n",
              "  </thead>\n",
              "  <tbody>\n",
              "    <tr>\n",
              "      <th>0</th>\n",
              "      <td>Male</td>\n",
              "      <td>No</td>\n",
              "      <td>22</td>\n",
              "      <td>No</td>\n",
              "      <td>Healthcare</td>\n",
              "      <td>1.0</td>\n",
              "      <td>Low</td>\n",
              "      <td>4.0</td>\n",
              "      <td>Cat_4</td>\n",
              "      <td>D</td>\n",
              "    </tr>\n",
              "    <tr>\n",
              "      <th>1</th>\n",
              "      <td>Female</td>\n",
              "      <td>Yes</td>\n",
              "      <td>38</td>\n",
              "      <td>Yes</td>\n",
              "      <td>Engineer</td>\n",
              "      <td>1.0</td>\n",
              "      <td>Average</td>\n",
              "      <td>3.0</td>\n",
              "      <td>Cat_4</td>\n",
              "      <td>A</td>\n",
              "    </tr>\n",
              "    <tr>\n",
              "      <th>2</th>\n",
              "      <td>Female</td>\n",
              "      <td>Yes</td>\n",
              "      <td>67</td>\n",
              "      <td>Yes</td>\n",
              "      <td>Engineer</td>\n",
              "      <td>1.0</td>\n",
              "      <td>Low</td>\n",
              "      <td>1.0</td>\n",
              "      <td>Cat_6</td>\n",
              "      <td>B</td>\n",
              "    </tr>\n",
              "    <tr>\n",
              "      <th>3</th>\n",
              "      <td>Male</td>\n",
              "      <td>Yes</td>\n",
              "      <td>67</td>\n",
              "      <td>Yes</td>\n",
              "      <td>Lawyer</td>\n",
              "      <td>0.0</td>\n",
              "      <td>High</td>\n",
              "      <td>2.0</td>\n",
              "      <td>Cat_6</td>\n",
              "      <td>B</td>\n",
              "    </tr>\n",
              "    <tr>\n",
              "      <th>4</th>\n",
              "      <td>Female</td>\n",
              "      <td>Yes</td>\n",
              "      <td>40</td>\n",
              "      <td>Yes</td>\n",
              "      <td>Entertainment</td>\n",
              "      <td>1.0</td>\n",
              "      <td>High</td>\n",
              "      <td>6.0</td>\n",
              "      <td>Cat_6</td>\n",
              "      <td>A</td>\n",
              "    </tr>\n",
              "  </tbody>\n",
              "</table>\n",
              "</div>"
            ],
            "text/plain": [
              "   Gender Ever_Married  Age Graduated     Profession  Work_Experience  \\\n",
              "0    Male           No   22        No     Healthcare              1.0   \n",
              "1  Female          Yes   38       Yes       Engineer              1.0   \n",
              "2  Female          Yes   67       Yes       Engineer              1.0   \n",
              "3    Male          Yes   67       Yes         Lawyer              0.0   \n",
              "4  Female          Yes   40       Yes  Entertainment              1.0   \n",
              "\n",
              "  Spending_Score  Family_Size  Var_1 Segmentation  \n",
              "0            Low          4.0  Cat_4            D  \n",
              "1        Average          3.0  Cat_4            A  \n",
              "2            Low          1.0  Cat_6            B  \n",
              "3           High          2.0  Cat_6            B  \n",
              "4           High          6.0  Cat_6            A  "
            ]
          },
          "execution_count": 3,
          "metadata": {},
          "output_type": "execute_result"
        }
      ],
      "source": [
        "df_train = pd.read_csv(os.path.join(PATH_DATA, \"train_cleaned.csv\"))\n",
        "print(\"Shape:\", df_train.shape)\n",
        "df_train.head()"
      ]
    },
    {
      "cell_type": "code",
      "execution_count": 4,
      "id": "ItMFlraS-v8M",
      "metadata": {
        "colab": {
          "base_uri": "https://localhost:8080/"
        },
        "id": "ItMFlraS-v8M",
        "outputId": "8a12c0e1-99cf-4c74-91a3-13e3b492ea90"
      },
      "outputs": [
        {
          "name": "stdout",
          "output_type": "stream",
          "text": [
            "<class 'pandas.core.frame.DataFrame'>\n",
            "RangeIndex: 8068 entries, 0 to 8067\n",
            "Data columns (total 10 columns):\n",
            " #   Column           Non-Null Count  Dtype  \n",
            "---  ------           --------------  -----  \n",
            " 0   Gender           8068 non-null   object \n",
            " 1   Ever_Married     8068 non-null   object \n",
            " 2   Age              8068 non-null   int64  \n",
            " 3   Graduated        8068 non-null   object \n",
            " 4   Profession       8068 non-null   object \n",
            " 5   Work_Experience  8068 non-null   float64\n",
            " 6   Spending_Score   8068 non-null   object \n",
            " 7   Family_Size      8068 non-null   float64\n",
            " 8   Var_1            8068 non-null   object \n",
            " 9   Segmentation     8068 non-null   object \n",
            "dtypes: float64(2), int64(1), object(7)\n",
            "memory usage: 630.4+ KB\n"
          ]
        }
      ],
      "source": [
        "df_train.info()"
      ]
    },
    {
      "cell_type": "markdown",
      "id": "Vjke47jE_h6p",
      "metadata": {
        "id": "Vjke47jE_h6p"
      },
      "source": [
        "### 1.1. Categorical\n",
        "\n",
        "There are two types of categorical features:\n",
        "\n",
        "* **Non ordinal**: all classes have the same meaning with respect to weight or position.\n",
        "* **Ordinal**: the classes belong to a ranking where each class has weight."
      ]
    },
    {
      "cell_type": "markdown",
      "id": "1KerKkT2_yVP",
      "metadata": {
        "id": "1KerKkT2_yVP"
      },
      "source": [
        "#### 1.1.1. Non ordinal\n",
        "\n",
        "These features are going to be transformed using OneHotEncoder."
      ]
    },
    {
      "cell_type": "code",
      "execution_count": 5,
      "id": "V5sB2kSN-v4n",
      "metadata": {
        "id": "V5sB2kSN-v4n"
      },
      "outputs": [],
      "source": [
        "from sklearn.preprocessing import OneHotEncoder"
      ]
    },
    {
      "cell_type": "code",
      "execution_count": 6,
      "id": "ZApUk_Ct_hL0",
      "metadata": {
        "id": "ZApUk_Ct_hL0"
      },
      "outputs": [],
      "source": [
        "categorical_features_n_ordinal = [\"Gender\", \"Ever_Married\", \"Graduated\", \"Profession\", \"Var_1\"]"
      ]
    },
    {
      "cell_type": "code",
      "execution_count": 7,
      "id": "oHIgx-SC_hO1",
      "metadata": {
        "id": "oHIgx-SC_hO1"
      },
      "outputs": [],
      "source": [
        "# Get transformer instance\n",
        "# sparse_output = False to return the values as vectors\n",
        "# drop = first to remove first class, because the rest of classes are enough explanatory and reduce training time\n",
        "onehot_encoder = OneHotEncoder(sparse_output = False, drop = \"first\")\n",
        "\n",
        "# Training\n",
        "encoded_features_no_ordinal = onehot_encoder.fit_transform(df_train[categorical_features_n_ordinal])\n",
        "\n",
        "# Turn result into a dataframe\n",
        "df_one_hot_encoder = pd.DataFrame(encoded_features_no_ordinal, columns = onehot_encoder.get_feature_names_out())"
      ]
    },
    {
      "cell_type": "markdown",
      "id": "gTyllEGEAXKY",
      "metadata": {
        "id": "gTyllEGEAXKY"
      },
      "source": [
        "#### 1.1.2. Ordinal\n",
        "\n",
        "Each class is going to be encoded using a number."
      ]
    },
    {
      "cell_type": "code",
      "execution_count": 8,
      "id": "P7h20vQqAZDz",
      "metadata": {
        "id": "P7h20vQqAZDz"
      },
      "outputs": [],
      "source": [
        "def get_spending_score_encoded(spending_score):\n",
        "    if spending_score == \"Low\":\n",
        "        return 0\n",
        "    elif spending_score == \"Average\":\n",
        "        return 1\n",
        "    elif spending_score == \"High\":\n",
        "        return 2"
      ]
    },
    {
      "cell_type": "code",
      "execution_count": 9,
      "id": "IRrsYNLSAZHH",
      "metadata": {
        "id": "IRrsYNLSAZHH"
      },
      "outputs": [],
      "source": [
        "df_train[\"Spending_Score\"] = df_train[\"Spending_Score\"].apply(get_spending_score_encoded)"
      ]
    },
    {
      "cell_type": "markdown",
      "id": "mGSobXNqBH3E",
      "metadata": {
        "id": "mGSobXNqBH3E"
      },
      "source": [
        "### 1.2. Numeric\n",
        "\n",
        "These features need to be scaled in order to improve performance. So, the encoder to be used is MinMaxScaler."
      ]
    },
    {
      "cell_type": "code",
      "execution_count": 10,
      "id": "Eu64gnNpBeev",
      "metadata": {
        "id": "Eu64gnNpBeev"
      },
      "outputs": [],
      "source": [
        "numeric_features = [\"Age\", \"Work_Experience\", \"Family_Size\"]"
      ]
    },
    {
      "cell_type": "code",
      "execution_count": 11,
      "id": "-ZtQhJl8BMbp",
      "metadata": {
        "id": "-ZtQhJl8BMbp"
      },
      "outputs": [],
      "source": [
        "from sklearn.preprocessing import MinMaxScaler"
      ]
    },
    {
      "cell_type": "code",
      "execution_count": 12,
      "id": "HSe-D1qhBVZM",
      "metadata": {
        "colab": {
          "base_uri": "https://localhost:8080/",
          "height": 318
        },
        "id": "HSe-D1qhBVZM",
        "outputId": "10b0d653-6b74-4132-8823-99138abbb916"
      },
      "outputs": [
        {
          "name": "stdout",
          "output_type": "stream",
          "text": [
            "Shape: (8068, 10)\n"
          ]
        },
        {
          "data": {
            "text/html": [
              "<div>\n",
              "<style scoped>\n",
              "    .dataframe tbody tr th:only-of-type {\n",
              "        vertical-align: middle;\n",
              "    }\n",
              "\n",
              "    .dataframe tbody tr th {\n",
              "        vertical-align: top;\n",
              "    }\n",
              "\n",
              "    .dataframe thead th {\n",
              "        text-align: right;\n",
              "    }\n",
              "</style>\n",
              "<table border=\"1\" class=\"dataframe\">\n",
              "  <thead>\n",
              "    <tr style=\"text-align: right;\">\n",
              "      <th></th>\n",
              "      <th>Age</th>\n",
              "      <th>Work_Experience</th>\n",
              "      <th>Family_Size</th>\n",
              "    </tr>\n",
              "  </thead>\n",
              "  <tbody>\n",
              "    <tr>\n",
              "      <th>count</th>\n",
              "      <td>8068.000000</td>\n",
              "      <td>8068.000000</td>\n",
              "      <td>8068.000000</td>\n",
              "    </tr>\n",
              "    <tr>\n",
              "      <th>mean</th>\n",
              "      <td>0.358689</td>\n",
              "      <td>0.176641</td>\n",
              "      <td>0.232043</td>\n",
              "    </tr>\n",
              "    <tr>\n",
              "      <th>std</th>\n",
              "      <td>0.235376</td>\n",
              "      <td>0.233232</td>\n",
              "      <td>0.187447</td>\n",
              "    </tr>\n",
              "    <tr>\n",
              "      <th>min</th>\n",
              "      <td>0.000000</td>\n",
              "      <td>0.000000</td>\n",
              "      <td>0.000000</td>\n",
              "    </tr>\n",
              "    <tr>\n",
              "      <th>25%</th>\n",
              "      <td>0.169014</td>\n",
              "      <td>0.000000</td>\n",
              "      <td>0.125000</td>\n",
              "    </tr>\n",
              "    <tr>\n",
              "      <th>50%</th>\n",
              "      <td>0.309859</td>\n",
              "      <td>0.071429</td>\n",
              "      <td>0.250000</td>\n",
              "    </tr>\n",
              "    <tr>\n",
              "      <th>75%</th>\n",
              "      <td>0.492958</td>\n",
              "      <td>0.285714</td>\n",
              "      <td>0.375000</td>\n",
              "    </tr>\n",
              "    <tr>\n",
              "      <th>max</th>\n",
              "      <td>1.000000</td>\n",
              "      <td>1.000000</td>\n",
              "      <td>1.000000</td>\n",
              "    </tr>\n",
              "  </tbody>\n",
              "</table>\n",
              "</div>"
            ],
            "text/plain": [
              "               Age  Work_Experience  Family_Size\n",
              "count  8068.000000      8068.000000  8068.000000\n",
              "mean      0.358689         0.176641     0.232043\n",
              "std       0.235376         0.233232     0.187447\n",
              "min       0.000000         0.000000     0.000000\n",
              "25%       0.169014         0.000000     0.125000\n",
              "50%       0.309859         0.071429     0.250000\n",
              "75%       0.492958         0.285714     0.375000\n",
              "max       1.000000         1.000000     1.000000"
            ]
          },
          "execution_count": 12,
          "metadata": {},
          "output_type": "execute_result"
        }
      ],
      "source": [
        "scaler = MinMaxScaler()\n",
        "ar = scaler.fit_transform(df_train[numeric_features])\n",
        "df_numeric = pd.DataFrame(ar, columns = numeric_features)\n",
        "\n",
        "for c in numeric_features:\n",
        "    df_train[c] = df_numeric[c]\n",
        "\n",
        "print(\"Shape:\", df_train.shape)\n",
        "df_train[numeric_features].describe()"
      ]
    },
    {
      "cell_type": "markdown",
      "id": "GkYi3Iu5AcNf",
      "metadata": {
        "id": "GkYi3Iu5AcNf"
      },
      "source": [
        "### 1.3. Target variable\n",
        "\n",
        "Each class is going to be encoded using a number."
      ]
    },
    {
      "cell_type": "code",
      "execution_count": 13,
      "id": "Syoh-kJuCQgl",
      "metadata": {
        "id": "Syoh-kJuCQgl"
      },
      "outputs": [],
      "source": [
        "target_variable = \"Segmentation\""
      ]
    },
    {
      "cell_type": "code",
      "execution_count": 14,
      "id": "39fjAs9A_hVI",
      "metadata": {
        "id": "39fjAs9A_hVI"
      },
      "outputs": [],
      "source": [
        "def get_segmentation_encoded(segmentation):\n",
        "    if segmentation == \"A\":\n",
        "        return 0\n",
        "    elif segmentation == \"B\":\n",
        "        return 1\n",
        "    elif segmentation == \"C\":\n",
        "        return 2\n",
        "    else:\n",
        "        return 3"
      ]
    },
    {
      "cell_type": "code",
      "execution_count": 15,
      "id": "bPAnI6sTCB0g",
      "metadata": {
        "colab": {
          "base_uri": "https://localhost:8080/",
          "height": 206
        },
        "id": "bPAnI6sTCB0g",
        "outputId": "b9949fd7-1d48-41ea-f5b3-a67654252137"
      },
      "outputs": [
        {
          "data": {
            "text/html": [
              "<div>\n",
              "<style scoped>\n",
              "    .dataframe tbody tr th:only-of-type {\n",
              "        vertical-align: middle;\n",
              "    }\n",
              "\n",
              "    .dataframe tbody tr th {\n",
              "        vertical-align: top;\n",
              "    }\n",
              "\n",
              "    .dataframe thead th {\n",
              "        text-align: right;\n",
              "    }\n",
              "</style>\n",
              "<table border=\"1\" class=\"dataframe\">\n",
              "  <thead>\n",
              "    <tr style=\"text-align: right;\">\n",
              "      <th></th>\n",
              "      <th>Gender</th>\n",
              "      <th>Ever_Married</th>\n",
              "      <th>Age</th>\n",
              "      <th>Graduated</th>\n",
              "      <th>Profession</th>\n",
              "      <th>Work_Experience</th>\n",
              "      <th>Spending_Score</th>\n",
              "      <th>Family_Size</th>\n",
              "      <th>Var_1</th>\n",
              "      <th>Segmentation</th>\n",
              "    </tr>\n",
              "  </thead>\n",
              "  <tbody>\n",
              "    <tr>\n",
              "      <th>0</th>\n",
              "      <td>Male</td>\n",
              "      <td>No</td>\n",
              "      <td>0.056338</td>\n",
              "      <td>No</td>\n",
              "      <td>Healthcare</td>\n",
              "      <td>0.071429</td>\n",
              "      <td>0</td>\n",
              "      <td>0.375</td>\n",
              "      <td>Cat_4</td>\n",
              "      <td>3</td>\n",
              "    </tr>\n",
              "    <tr>\n",
              "      <th>1</th>\n",
              "      <td>Female</td>\n",
              "      <td>Yes</td>\n",
              "      <td>0.281690</td>\n",
              "      <td>Yes</td>\n",
              "      <td>Engineer</td>\n",
              "      <td>0.071429</td>\n",
              "      <td>1</td>\n",
              "      <td>0.250</td>\n",
              "      <td>Cat_4</td>\n",
              "      <td>0</td>\n",
              "    </tr>\n",
              "    <tr>\n",
              "      <th>2</th>\n",
              "      <td>Female</td>\n",
              "      <td>Yes</td>\n",
              "      <td>0.690141</td>\n",
              "      <td>Yes</td>\n",
              "      <td>Engineer</td>\n",
              "      <td>0.071429</td>\n",
              "      <td>0</td>\n",
              "      <td>0.000</td>\n",
              "      <td>Cat_6</td>\n",
              "      <td>1</td>\n",
              "    </tr>\n",
              "    <tr>\n",
              "      <th>3</th>\n",
              "      <td>Male</td>\n",
              "      <td>Yes</td>\n",
              "      <td>0.690141</td>\n",
              "      <td>Yes</td>\n",
              "      <td>Lawyer</td>\n",
              "      <td>0.000000</td>\n",
              "      <td>2</td>\n",
              "      <td>0.125</td>\n",
              "      <td>Cat_6</td>\n",
              "      <td>1</td>\n",
              "    </tr>\n",
              "    <tr>\n",
              "      <th>4</th>\n",
              "      <td>Female</td>\n",
              "      <td>Yes</td>\n",
              "      <td>0.309859</td>\n",
              "      <td>Yes</td>\n",
              "      <td>Entertainment</td>\n",
              "      <td>0.071429</td>\n",
              "      <td>2</td>\n",
              "      <td>0.625</td>\n",
              "      <td>Cat_6</td>\n",
              "      <td>0</td>\n",
              "    </tr>\n",
              "  </tbody>\n",
              "</table>\n",
              "</div>"
            ],
            "text/plain": [
              "   Gender Ever_Married       Age Graduated     Profession  Work_Experience  \\\n",
              "0    Male           No  0.056338        No     Healthcare         0.071429   \n",
              "1  Female          Yes  0.281690       Yes       Engineer         0.071429   \n",
              "2  Female          Yes  0.690141       Yes       Engineer         0.071429   \n",
              "3    Male          Yes  0.690141       Yes         Lawyer         0.000000   \n",
              "4  Female          Yes  0.309859       Yes  Entertainment         0.071429   \n",
              "\n",
              "   Spending_Score  Family_Size  Var_1  Segmentation  \n",
              "0               0        0.375  Cat_4             3  \n",
              "1               1        0.250  Cat_4             0  \n",
              "2               0        0.000  Cat_6             1  \n",
              "3               2        0.125  Cat_6             1  \n",
              "4               2        0.625  Cat_6             0  "
            ]
          },
          "execution_count": 15,
          "metadata": {},
          "output_type": "execute_result"
        }
      ],
      "source": [
        "df_train[target_variable] = df_train[target_variable].apply(get_segmentation_encoded)\n",
        "df_train.head()"
      ]
    },
    {
      "cell_type": "markdown",
      "id": "06Eif2UVDGIL",
      "metadata": {
        "id": "06Eif2UVDGIL"
      },
      "source": [
        "### 1.4. Get transformed dataset\n",
        "\n",
        "Join all encoded features in order to create a dataset which is going to be used to feed training process."
      ]
    },
    {
      "cell_type": "code",
      "execution_count": 16,
      "id": "znUbOmvhCBxQ",
      "metadata": {
        "colab": {
          "base_uri": "https://localhost:8080/",
          "height": 273
        },
        "id": "znUbOmvhCBxQ",
        "outputId": "2aa78773-ec39-4849-be1b-eb8d80cbff4e"
      },
      "outputs": [
        {
          "name": "stdout",
          "output_type": "stream",
          "text": [
            "Shape: (8068, 21)\n"
          ]
        },
        {
          "data": {
            "text/html": [
              "<div>\n",
              "<style scoped>\n",
              "    .dataframe tbody tr th:only-of-type {\n",
              "        vertical-align: middle;\n",
              "    }\n",
              "\n",
              "    .dataframe tbody tr th {\n",
              "        vertical-align: top;\n",
              "    }\n",
              "\n",
              "    .dataframe thead th {\n",
              "        text-align: right;\n",
              "    }\n",
              "</style>\n",
              "<table border=\"1\" class=\"dataframe\">\n",
              "  <thead>\n",
              "    <tr style=\"text-align: right;\">\n",
              "      <th></th>\n",
              "      <th>Age</th>\n",
              "      <th>Work_Experience</th>\n",
              "      <th>Family_Size</th>\n",
              "      <th>Gender_Male</th>\n",
              "      <th>Ever_Married_Yes</th>\n",
              "      <th>Graduated_Yes</th>\n",
              "      <th>Profession_Doctor</th>\n",
              "      <th>Profession_Engineer</th>\n",
              "      <th>Profession_Entertainment</th>\n",
              "      <th>Profession_Executive</th>\n",
              "      <th>...</th>\n",
              "      <th>Profession_Homemaker</th>\n",
              "      <th>Profession_Lawyer</th>\n",
              "      <th>Profession_Marketing</th>\n",
              "      <th>Var_1_Cat_2</th>\n",
              "      <th>Var_1_Cat_3</th>\n",
              "      <th>Var_1_Cat_4</th>\n",
              "      <th>Var_1_Cat_5</th>\n",
              "      <th>Var_1_Cat_6</th>\n",
              "      <th>Var_1_Cat_7</th>\n",
              "      <th>Segmentation</th>\n",
              "    </tr>\n",
              "  </thead>\n",
              "  <tbody>\n",
              "    <tr>\n",
              "      <th>0</th>\n",
              "      <td>0.056338</td>\n",
              "      <td>0.071429</td>\n",
              "      <td>0.375</td>\n",
              "      <td>1.0</td>\n",
              "      <td>0.0</td>\n",
              "      <td>0.0</td>\n",
              "      <td>0.0</td>\n",
              "      <td>0.0</td>\n",
              "      <td>0.0</td>\n",
              "      <td>0.0</td>\n",
              "      <td>...</td>\n",
              "      <td>0.0</td>\n",
              "      <td>0.0</td>\n",
              "      <td>0.0</td>\n",
              "      <td>0.0</td>\n",
              "      <td>0.0</td>\n",
              "      <td>1.0</td>\n",
              "      <td>0.0</td>\n",
              "      <td>0.0</td>\n",
              "      <td>0.0</td>\n",
              "      <td>3</td>\n",
              "    </tr>\n",
              "    <tr>\n",
              "      <th>1</th>\n",
              "      <td>0.281690</td>\n",
              "      <td>0.071429</td>\n",
              "      <td>0.250</td>\n",
              "      <td>0.0</td>\n",
              "      <td>1.0</td>\n",
              "      <td>1.0</td>\n",
              "      <td>0.0</td>\n",
              "      <td>1.0</td>\n",
              "      <td>0.0</td>\n",
              "      <td>0.0</td>\n",
              "      <td>...</td>\n",
              "      <td>0.0</td>\n",
              "      <td>0.0</td>\n",
              "      <td>0.0</td>\n",
              "      <td>0.0</td>\n",
              "      <td>0.0</td>\n",
              "      <td>1.0</td>\n",
              "      <td>0.0</td>\n",
              "      <td>0.0</td>\n",
              "      <td>0.0</td>\n",
              "      <td>0</td>\n",
              "    </tr>\n",
              "    <tr>\n",
              "      <th>2</th>\n",
              "      <td>0.690141</td>\n",
              "      <td>0.071429</td>\n",
              "      <td>0.000</td>\n",
              "      <td>0.0</td>\n",
              "      <td>1.0</td>\n",
              "      <td>1.0</td>\n",
              "      <td>0.0</td>\n",
              "      <td>1.0</td>\n",
              "      <td>0.0</td>\n",
              "      <td>0.0</td>\n",
              "      <td>...</td>\n",
              "      <td>0.0</td>\n",
              "      <td>0.0</td>\n",
              "      <td>0.0</td>\n",
              "      <td>0.0</td>\n",
              "      <td>0.0</td>\n",
              "      <td>0.0</td>\n",
              "      <td>0.0</td>\n",
              "      <td>1.0</td>\n",
              "      <td>0.0</td>\n",
              "      <td>1</td>\n",
              "    </tr>\n",
              "    <tr>\n",
              "      <th>3</th>\n",
              "      <td>0.690141</td>\n",
              "      <td>0.000000</td>\n",
              "      <td>0.125</td>\n",
              "      <td>1.0</td>\n",
              "      <td>1.0</td>\n",
              "      <td>1.0</td>\n",
              "      <td>0.0</td>\n",
              "      <td>0.0</td>\n",
              "      <td>0.0</td>\n",
              "      <td>0.0</td>\n",
              "      <td>...</td>\n",
              "      <td>0.0</td>\n",
              "      <td>1.0</td>\n",
              "      <td>0.0</td>\n",
              "      <td>0.0</td>\n",
              "      <td>0.0</td>\n",
              "      <td>0.0</td>\n",
              "      <td>0.0</td>\n",
              "      <td>1.0</td>\n",
              "      <td>0.0</td>\n",
              "      <td>1</td>\n",
              "    </tr>\n",
              "    <tr>\n",
              "      <th>4</th>\n",
              "      <td>0.309859</td>\n",
              "      <td>0.071429</td>\n",
              "      <td>0.625</td>\n",
              "      <td>0.0</td>\n",
              "      <td>1.0</td>\n",
              "      <td>1.0</td>\n",
              "      <td>0.0</td>\n",
              "      <td>0.0</td>\n",
              "      <td>1.0</td>\n",
              "      <td>0.0</td>\n",
              "      <td>...</td>\n",
              "      <td>0.0</td>\n",
              "      <td>0.0</td>\n",
              "      <td>0.0</td>\n",
              "      <td>0.0</td>\n",
              "      <td>0.0</td>\n",
              "      <td>0.0</td>\n",
              "      <td>0.0</td>\n",
              "      <td>1.0</td>\n",
              "      <td>0.0</td>\n",
              "      <td>0</td>\n",
              "    </tr>\n",
              "  </tbody>\n",
              "</table>\n",
              "<p>5 rows × 21 columns</p>\n",
              "</div>"
            ],
            "text/plain": [
              "        Age  Work_Experience  Family_Size  Gender_Male  Ever_Married_Yes  \\\n",
              "0  0.056338         0.071429        0.375          1.0               0.0   \n",
              "1  0.281690         0.071429        0.250          0.0               1.0   \n",
              "2  0.690141         0.071429        0.000          0.0               1.0   \n",
              "3  0.690141         0.000000        0.125          1.0               1.0   \n",
              "4  0.309859         0.071429        0.625          0.0               1.0   \n",
              "\n",
              "   Graduated_Yes  Profession_Doctor  Profession_Engineer  \\\n",
              "0            0.0                0.0                  0.0   \n",
              "1            1.0                0.0                  1.0   \n",
              "2            1.0                0.0                  1.0   \n",
              "3            1.0                0.0                  0.0   \n",
              "4            1.0                0.0                  0.0   \n",
              "\n",
              "   Profession_Entertainment  Profession_Executive  ...  Profession_Homemaker  \\\n",
              "0                       0.0                   0.0  ...                   0.0   \n",
              "1                       0.0                   0.0  ...                   0.0   \n",
              "2                       0.0                   0.0  ...                   0.0   \n",
              "3                       0.0                   0.0  ...                   0.0   \n",
              "4                       1.0                   0.0  ...                   0.0   \n",
              "\n",
              "   Profession_Lawyer  Profession_Marketing  Var_1_Cat_2  Var_1_Cat_3  \\\n",
              "0                0.0                   0.0          0.0          0.0   \n",
              "1                0.0                   0.0          0.0          0.0   \n",
              "2                0.0                   0.0          0.0          0.0   \n",
              "3                1.0                   0.0          0.0          0.0   \n",
              "4                0.0                   0.0          0.0          0.0   \n",
              "\n",
              "   Var_1_Cat_4  Var_1_Cat_5  Var_1_Cat_6  Var_1_Cat_7  Segmentation  \n",
              "0          1.0          0.0          0.0          0.0             3  \n",
              "1          1.0          0.0          0.0          0.0             0  \n",
              "2          0.0          0.0          1.0          0.0             1  \n",
              "3          0.0          0.0          1.0          0.0             1  \n",
              "4          0.0          0.0          1.0          0.0             0  \n",
              "\n",
              "[5 rows x 21 columns]"
            ]
          },
          "execution_count": 16,
          "metadata": {},
          "output_type": "execute_result"
        }
      ],
      "source": [
        "df_train_encoded = pd.concat([df_train[numeric_features], df_one_hot_encoder, df_train[target_variable]], axis = 1)\n",
        "print(\"Shape:\", df_train_encoded.shape)\n",
        "df_train_encoded.head()"
      ]
    },
    {
      "cell_type": "markdown",
      "id": "tQatgVSqDW_u",
      "metadata": {
        "id": "tQatgVSqDW_u"
      },
      "source": [
        "## 2. Modeling"
      ]
    },
    {
      "cell_type": "markdown",
      "id": "FTA3u7bHDZd5",
      "metadata": {
        "id": "FTA3u7bHDZd5"
      },
      "source": [
        "### 2.1. Split data into training and validation"
      ]
    },
    {
      "cell_type": "code",
      "execution_count": 17,
      "id": "OQbkQ8vhDWgI",
      "metadata": {
        "id": "OQbkQ8vhDWgI"
      },
      "outputs": [],
      "source": [
        "from sklearn.model_selection import train_test_split"
      ]
    },
    {
      "cell_type": "code",
      "execution_count": 18,
      "id": "g0izh_TVDWa9",
      "metadata": {
        "colab": {
          "base_uri": "https://localhost:8080/"
        },
        "id": "g0izh_TVDWa9",
        "outputId": "2d66551e-6852-4686-ef10-a3f8665ac091"
      },
      "outputs": [
        {
          "name": "stdout",
          "output_type": "stream",
          "text": [
            "x_train shape: (6454, 20)\n",
            "x_val shape: (1614, 20)\n",
            "y_train shape: (6454,)\n",
            "y_val shape: (1614,)\n"
          ]
        }
      ],
      "source": [
        "x = df_train_encoded.drop(target_variable, axis = 1).values\n",
        "y = df_train_encoded[target_variable].values\n",
        "\n",
        "x_train, x_val, y_train, y_val = train_test_split(x, y, test_size = 0.2, random_state = 42)\n",
        "\n",
        "print(\"x_train shape:\", x_train.shape)\n",
        "print(\"x_val shape:\", x_val.shape)\n",
        "print(\"y_train shape:\", y_train.shape)\n",
        "print(\"y_val shape:\", y_val.shape)"
      ]
    },
    {
      "cell_type": "markdown",
      "id": "DDWYazuaDhoz",
      "metadata": {
        "id": "DDWYazuaDhoz"
      },
      "source": [
        "### 2.2. Training\n",
        "\n",
        "This model is going to be created from scratch using a feedforward neural network."
      ]
    },
    {
      "cell_type": "code",
      "execution_count": 19,
      "id": "d0c9d7fe-df25-402e-82ea-6cebf4ba5eca",
      "metadata": {
        "id": "d0c9d7fe-df25-402e-82ea-6cebf4ba5eca",
        "tags": []
      },
      "outputs": [],
      "source": [
        "import torch\n",
        "import torch.nn as nn\n",
        "import torch.nn.functional as F\n",
        "from torch.utils.data import DataLoader, TensorDataset"
      ]
    },
    {
      "cell_type": "markdown",
      "id": "3d17f719-10fa-466b-bd60-15674b09553b",
      "metadata": {
        "id": "3d17f719-10fa-466b-bd60-15674b09553b",
        "tags": []
      },
      "source": [
        "#### 2.2.1. Get metrics\n",
        "\n",
        "In order to add more options to evaluate the performance of a model, the following metrics are going to be part of evaluation:\n",
        "\n",
        "* Recall.\n",
        "* Precision.\n",
        "* F1 score.\n",
        "* Accuracy."
      ]
    },
    {
      "cell_type": "code",
      "execution_count": 20,
      "id": "1828e968-fb4a-4e52-b05c-b973b44661a6",
      "metadata": {
        "id": "1828e968-fb4a-4e52-b05c-b973b44661a6",
        "tags": []
      },
      "outputs": [],
      "source": [
        "from sklearn.metrics import recall_score, precision_score, f1_score, accuracy_score"
      ]
    },
    {
      "cell_type": "code",
      "execution_count": 21,
      "id": "aed45e39-568b-477b-8ca4-8bd79e21b5e0",
      "metadata": {
        "id": "aed45e39-568b-477b-8ca4-8bd79e21b5e0",
        "tags": []
      },
      "outputs": [],
      "source": [
        "def get_metrics(y_pred, y_true, average = \"weighted\", zero_division = 1):\n",
        "    '''\n",
        "        This function returns metrics for multiclass problem: Recall, Precision, F1 and Accuracy\n",
        "    '''\n",
        "\n",
        "    # Recall\n",
        "    rec = recall_score(y_true, y_pred, average = average, zero_division = zero_division)\n",
        "\n",
        "    # Precision\n",
        "    pr = precision_score(y_true, y_pred, average = average, zero_division = zero_division)\n",
        "\n",
        "    # F1\n",
        "    f1 = f1_score(y_true, y_pred, average = average, zero_division = zero_division)\n",
        "\n",
        "    # Accuracy\n",
        "    acc = accuracy_score(y_true, y_pred)\n",
        "\n",
        "    return rec, pr, f1, acc"
      ]
    },
    {
      "cell_type": "markdown",
      "id": "d8cbdd82-77d8-4482-aef8-c66bddcf3927",
      "metadata": {
        "id": "d8cbdd82-77d8-4482-aef8-c66bddcf3927",
        "tags": []
      },
      "source": [
        "#### 2.2.2. Convert data to tensors and create data loader"
      ]
    },
    {
      "cell_type": "code",
      "execution_count": 22,
      "id": "fd58f46b-9d0b-4cad-bae0-d3504323c7ed",
      "metadata": {
        "id": "fd58f46b-9d0b-4cad-bae0-d3504323c7ed",
        "tags": []
      },
      "outputs": [],
      "source": [
        "batch_size = 64\n",
        "\n",
        "# Convert numpy arrays to tensors (training data)\n",
        "tensor_x_train = torch.tensor(x_train, dtype = torch.float32)\n",
        "tensor_y_train = torch.tensor(y_train, dtype = torch.long)\n",
        "\n",
        "# Convert numpy arrays to tensors (validation data)\n",
        "tensor_x_val = torch.tensor(x_val, dtype = torch.float32)\n",
        "tensor_y_val = torch.tensor(y_val, dtype = torch.long)\n",
        "\n",
        "# Create datasets\n",
        "train_ds_tensor = TensorDataset(tensor_x_train, tensor_y_train)\n",
        "val_ds_tensor = TensorDataset(tensor_x_val, tensor_y_val)\n",
        "\n",
        "# Create dataloaders to get data during training using batch\n",
        "train_dataloader = DataLoader(train_ds_tensor, batch_size = batch_size, shuffle = True)\n",
        "val_dataloader = DataLoader(val_ds_tensor, batch_size = batch_size, shuffle = False)"
      ]
    },
    {
      "cell_type": "markdown",
      "id": "afdf5783-b24b-4bbe-bbc5-b7a027c3c53b",
      "metadata": {
        "id": "afdf5783-b24b-4bbe-bbc5-b7a027c3c53b",
        "tags": []
      },
      "source": [
        "#### 2.2.3. Create neural network (DNN)"
      ]
    },
    {
      "cell_type": "code",
      "execution_count": 23,
      "id": "e1b89d98-fa7b-4af5-9216-87e3ca021ed1",
      "metadata": {
        "id": "e1b89d98-fa7b-4af5-9216-87e3ca021ed1",
        "tags": []
      },
      "outputs": [],
      "source": [
        "class NeuralNetwork(nn.Module):\n",
        "    def __init__(self, input_size, num_classes):\n",
        "        super(NeuralNetwork, self).__init__()\n",
        "        self.fc1 = nn.Linear(input_size, 64)\n",
        "        self.relu = nn.ReLU()\n",
        "        self.fc2 = nn.Linear(64, 128)\n",
        "        self.fc3 = nn.Linear(128, 128)\n",
        "        self.fc4 = nn.Linear(128, 64)\n",
        "        self.fc5 = nn.Linear(64, num_classes)\n",
        "\n",
        "    def forward(self, x):\n",
        "        out = self.fc1(x)\n",
        "        out = self.relu(out)\n",
        "        out = self.fc2(out)\n",
        "        out = self.relu(out)\n",
        "        out = self.fc3(out)\n",
        "        out = self.relu(out)\n",
        "        out = self.fc4(out)\n",
        "        out = self.relu(out)\n",
        "        out = self.fc5(out)\n",
        "\n",
        "        return out"
      ]
    },
    {
      "cell_type": "markdown",
      "id": "3675be7e-a691-498c-ab11-a9d73cab02e3",
      "metadata": {
        "id": "3675be7e-a691-498c-ab11-a9d73cab02e3",
        "tags": []
      },
      "source": [
        "#### 2.2.4. Define training and validation functions"
      ]
    },
    {
      "cell_type": "code",
      "execution_count": 24,
      "id": "f5d7abce-659d-4545-8419-bbc8b5c4cccc",
      "metadata": {
        "id": "f5d7abce-659d-4545-8419-bbc8b5c4cccc",
        "tags": []
      },
      "outputs": [],
      "source": [
        "def train(dataloader, model, loss_fn, optimizer):\n",
        "    '''\n",
        "        Function to train neural network\n",
        "    '''\n",
        "\n",
        "    # total of batchs\n",
        "    size = len(dataloader)\n",
        "    train_loss = 0\n",
        "\n",
        "    # Average loss result\n",
        "    avg_train_loss = 0\n",
        "\n",
        "    # Average recall result\n",
        "    avg_train_rec = 0\n",
        "\n",
        "    # Average precision result\n",
        "    avg_train_pr = 0\n",
        "\n",
        "    # Average F1-score result\n",
        "    avg_train_f1 = 0\n",
        "\n",
        "    # Average accuracy result\n",
        "    avg_train_acc = 0\n",
        "\n",
        "    # Accumulated recall result\n",
        "    total_train_rec = 0\n",
        "\n",
        "    # Accumulated precision result\n",
        "    total_train_pr = 0\n",
        "\n",
        "    # Accumulated F1-score result\n",
        "    total_train_f1 = 0\n",
        "\n",
        "    # Accumulated accuracy result\n",
        "    total_train_acc = 0\n",
        "\n",
        "    # Active training mode\n",
        "    model.train()\n",
        "\n",
        "    # Iterate over batches\n",
        "    for batch, (x, y) in enumerate(dataloader):\n",
        "        # Compute prediction error\n",
        "        outputs = model(x)\n",
        "        loss = loss_fn(outputs, y)\n",
        "\n",
        "        # Backpropagation\n",
        "        optimizer.zero_grad()\n",
        "        loss.backward()\n",
        "        optimizer.step()\n",
        "\n",
        "        # Getting wrong predictions\n",
        "        train_loss += loss.item()\n",
        "\n",
        "        # Calculating sklearn metrics\n",
        "        _, pred = torch.max(outputs.data, 1)\n",
        "        rec, pr, f1, acc = get_metrics(pred.numpy(), y)\n",
        "\n",
        "        # Acumulate metric values\n",
        "        total_train_rec += rec\n",
        "        total_train_pr += pr\n",
        "        total_train_f1 += f1\n",
        "        total_train_acc += acc\n",
        "\n",
        "    # Get average about metrics and loss\n",
        "    avg_train_loss = train_loss / size\n",
        "    avg_train_rec = total_train_rec / size\n",
        "    avg_train_pr = total_train_pr / size\n",
        "    avg_train_f1 = total_train_f1 / size\n",
        "    avg_train_acc = total_train_acc / size\n",
        "\n",
        "    print(f\"Training loss: {avg_train_loss:>7f}\")\n",
        "\n",
        "    return avg_train_loss, avg_train_rec, avg_train_pr, avg_train_f1, avg_train_acc"
      ]
    },
    {
      "cell_type": "code",
      "execution_count": 25,
      "id": "87703334-3e18-4654-996b-e5c9e8d7c615",
      "metadata": {
        "id": "87703334-3e18-4654-996b-e5c9e8d7c615",
        "tags": []
      },
      "outputs": [],
      "source": [
        "def val(dataloader, model, loss_fn):\n",
        "    '''\n",
        "        Function to validate neural network\n",
        "    '''\n",
        "    size = len(dataloader)\n",
        "\n",
        "    predictions = []\n",
        "    true_values = []\n",
        "\n",
        "    # Active evaluation mode\n",
        "    model.eval()\n",
        "    val_loss = 0\n",
        "    correct = 0\n",
        "\n",
        "    # Average loss result\n",
        "    avg_val_loss = 0\n",
        "\n",
        "    # Average recall result\n",
        "    avg_val_rec = 0\n",
        "\n",
        "    # Average precision result\n",
        "    avg_val_pr = 0\n",
        "\n",
        "    # Average F1-Score result\n",
        "    avg_val_f1 = 0\n",
        "\n",
        "    # Average accuracy result\n",
        "    avg_val_acc = 0\n",
        "\n",
        "\n",
        "    # Accumulated recall result\n",
        "    total_val_rec = 0\n",
        "\n",
        "    # Accumulated precision result\n",
        "    total_val_pr = 0\n",
        "\n",
        "    # Accumulated F1-Score result\n",
        "    total_val_f1 = 0\n",
        "\n",
        "    # Accumulated accuracy result\n",
        "    total_val_acc = 0\n",
        "\n",
        "    with torch.no_grad():\n",
        "        for x, y in dataloader:\n",
        "            outputs = model(x)\n",
        "\n",
        "            # Getting wrong predictions\n",
        "            val_loss += loss_fn(outputs, y).item()\n",
        "\n",
        "            # Calculating sklearn metrics\n",
        "            _, pred = torch.max(outputs.data, 1)\n",
        "            rec, pr, f1, acc = get_metrics(pred.numpy(), y)\n",
        "\n",
        "            # Acumulate metric values\n",
        "            total_val_rec += rec\n",
        "            total_val_pr += pr\n",
        "            total_val_f1 += f1\n",
        "            total_val_acc += acc\n",
        "\n",
        "        avg_val_loss = val_loss / size\n",
        "        avg_val_rec = total_val_rec / size\n",
        "        avg_val_pr = total_val_pr / size\n",
        "        avg_val_f1 = total_val_f1 / size\n",
        "        avg_val_acc = total_val_acc / size\n",
        "\n",
        "        print(f\"Test Error: \\n Avg accuracy: {(avg_val_acc):>0.4f}, \\n Avg recall: {(avg_val_rec):>0.4f}, \\n Avg precision: {(avg_val_pr):>0.4f}, \\n Avg F1: {(avg_val_f1):>0.4f}, \\n Avg loss: {avg_val_loss:>8f} \\n\")\n",
        "\n",
        "    return avg_val_loss, avg_val_rec, avg_val_pr, avg_val_f1, avg_val_acc"
      ]
    },
    {
      "cell_type": "code",
      "execution_count": 26,
      "id": "61aff187-6eb6-4297-8672-a674818893c1",
      "metadata": {
        "id": "61aff187-6eb6-4297-8672-a674818893c1",
        "tags": []
      },
      "outputs": [],
      "source": [
        "def train_run(train_dataloader, val_dataloader, model, loss_fn, optimizer, epochs = 10, early_stopping = False, monitor = 'loss', patience = 3):\n",
        "    '''\n",
        "        Function to run training and validation process\n",
        "    '''\n",
        "\n",
        "    epochs_list = []\n",
        "    train_losses = []\n",
        "    acc_train_scores = []\n",
        "    rec_train_scores = []\n",
        "    pre_train_scores = []\n",
        "    f1_train_scores = []\n",
        "\n",
        "    val_losses = []\n",
        "    acc_val_scores = []\n",
        "    rec_val_scores = []\n",
        "    pre_val_scores = []\n",
        "    f1_val_scores = []\n",
        "\n",
        "    train_metrics = { \"epochs\": epochs_list, \"loss\": train_losses, \"accuracy\": acc_train_scores, \"recall\": rec_train_scores, \"precision\": pre_train_scores, \"f1\": f1_train_scores }\n",
        "    val_metrics = { \"epochs\": epochs_list, \"loss\": val_losses, \"accuracy\": acc_val_scores, \"recall\": rec_val_scores, \"precision\": pre_val_scores, \"f1\": f1_val_scores }\n",
        "\n",
        "    # Early stopping parameters\n",
        "    min_val_monitor = float(\"inf\")\n",
        "    max_val_monitor = 0\n",
        "    epochs_without_improvement = 0\n",
        "    best_model_weights = None\n",
        "    val_monitor = 0\n",
        "\n",
        "    monitor = monitor.lower()\n",
        "    if early_stopping:\n",
        "        print(\"Early stopping enable using validation monitor:\", monitor)\n",
        "\n",
        "    for t in range(epochs):\n",
        "        print(f\"Epoch {t+1}\\n-------------------------------\")\n",
        "\n",
        "        train_loss, train_rec, train_pr, train_f1, train_acc = train(train_dataloader, model, loss_fn, optimizer)\n",
        "        val_loss, val_rec, val_pr, val_f1, val_acc = val(val_dataloader, model, loss_fn)\n",
        "\n",
        "        train_losses.append(train_loss)\n",
        "        acc_train_scores.append(train_acc)\n",
        "        rec_train_scores.append(train_rec)\n",
        "        pre_train_scores.append(train_pr)\n",
        "        f1_train_scores.append(train_f1)\n",
        "\n",
        "        val_losses.append(val_loss)\n",
        "        acc_val_scores.append(val_acc)\n",
        "        rec_val_scores.append(val_rec)\n",
        "        pre_val_scores.append(val_pr)\n",
        "        f1_val_scores.append(val_f1)\n",
        "\n",
        "        epochs_list.append(t+1)\n",
        "\n",
        "        if early_stopping:\n",
        "            if monitor == \"accuracy\":\n",
        "                val_monitor = val_acc\n",
        "            elif monitor == \"recall\":\n",
        "                val_monitor = val_rec\n",
        "            elif monitor == \"precision\":\n",
        "                val_monitor = val_pr\n",
        "            elif monitor == \"f1\":\n",
        "                val_monitor = val_f1\n",
        "            else:\n",
        "                val_monitor = val_loss\n",
        "\n",
        "            # Check for improvement\n",
        "            if monitor == \"loss\":\n",
        "                if val_monitor < min_val_monitor:\n",
        "                    epochs_without_improvement = 0\n",
        "                    min_val_monitor = val_monitor\n",
        "                    best_model_weights = model.state_dict()\n",
        "                else:\n",
        "                    epochs_without_improvement += 1\n",
        "                    if epochs_without_improvement >= patience:\n",
        "                        print(f\"Early stopping after {t+1} epochs\")\n",
        "                        break\n",
        "            else:\n",
        "                if val_monitor > max_val_monitor:\n",
        "                    epochs_without_improvement = 0\n",
        "                    max_val_monitor = val_monitor\n",
        "                    best_model_weights = model.state_dict()\n",
        "                else:\n",
        "                    epochs_without_improvement += 1\n",
        "                    if epochs_without_improvement >= patience:\n",
        "                        print(f\"Early stopping after {t+1} epochs\")\n",
        "                        break\n",
        "\n",
        "    print(\"Done!\")\n",
        "    return train_metrics, val_metrics"
      ]
    },
    {
      "cell_type": "markdown",
      "id": "9f559c44-1f06-4cd1-a624-1e9c23db6caf",
      "metadata": {
        "id": "9f559c44-1f06-4cd1-a624-1e9c23db6caf",
        "tags": []
      },
      "source": [
        "#### 2.2.5. Perform training"
      ]
    },
    {
      "cell_type": "code",
      "execution_count": 27,
      "id": "ade240b1-daf3-4c56-8bbf-d63a77b0c050",
      "metadata": {
        "colab": {
          "base_uri": "https://localhost:8080/"
        },
        "id": "ade240b1-daf3-4c56-8bbf-d63a77b0c050",
        "outputId": "62dee5bc-bf66-48e3-f084-55072ce028be",
        "tags": []
      },
      "outputs": [
        {
          "name": "stdout",
          "output_type": "stream",
          "text": [
            "NeuralNetwork(\n",
            "  (fc1): Linear(in_features=20, out_features=64, bias=True)\n",
            "  (relu): ReLU()\n",
            "  (fc2): Linear(in_features=64, out_features=128, bias=True)\n",
            "  (fc3): Linear(in_features=128, out_features=128, bias=True)\n",
            "  (fc4): Linear(in_features=128, out_features=64, bias=True)\n",
            "  (fc5): Linear(in_features=64, out_features=4, bias=True)\n",
            ")\n"
          ]
        }
      ],
      "source": [
        "input_size = x.shape[1]\n",
        "num_classes = len(np.unique(y))\n",
        "\n",
        "# Instance model\n",
        "model = NeuralNetwork(input_size, num_classes)\n",
        "print(model)"
      ]
    },
    {
      "cell_type": "code",
      "execution_count": 28,
      "id": "b4bbe702-13e1-4b90-b63d-2ebd70047215",
      "metadata": {
        "id": "b4bbe702-13e1-4b90-b63d-2ebd70047215",
        "tags": []
      },
      "outputs": [],
      "source": [
        "# Loss function\n",
        "loss_fn = nn.CrossEntropyLoss()\n",
        "\n",
        "# Optimizer funtion\n",
        "optimizer = torch.optim.SGD(model.parameters(), lr=1e-3)"
      ]
    },
    {
      "cell_type": "code",
      "execution_count": 29,
      "id": "ed338d54-86d2-4c63-a613-b26e8c834f65",
      "metadata": {
        "colab": {
          "base_uri": "https://localhost:8080/"
        },
        "id": "ed338d54-86d2-4c63-a613-b26e8c834f65",
        "outputId": "0611e145-c4a3-4cf0-c952-8591dd2ca7b9",
        "tags": []
      },
      "outputs": [
        {
          "name": "stdout",
          "output_type": "stream",
          "text": [
            "Early stopping enable using validation monitor: f1\n",
            "Epoch 1\n",
            "-------------------------------\n",
            "Training loss: 1.388202\n",
            "Test Error: \n",
            " Avg accuracy: 0.2768, \n",
            " Avg recall: 0.2768, \n",
            " Avg precision: 0.6553, \n",
            " Avg F1: 0.1759, \n",
            " Avg loss: 1.388143 \n",
            "\n",
            "Epoch 2\n",
            "-------------------------------\n",
            "Training loss: 1.387919\n",
            "Test Error: \n",
            " Avg accuracy: 0.3081, \n",
            " Avg recall: 0.3081, \n",
            " Avg precision: 0.6513, \n",
            " Avg F1: 0.2132, \n",
            " Avg loss: 1.387763 \n",
            "\n",
            "Epoch 3\n",
            "-------------------------------\n",
            "Training loss: 1.387632\n",
            "Test Error: \n",
            " Avg accuracy: 0.3448, \n",
            " Avg recall: 0.3448, \n",
            " Avg precision: 0.6662, \n",
            " Avg F1: 0.2415, \n",
            " Avg loss: 1.387405 \n",
            "\n",
            "Epoch 4\n",
            "-------------------------------\n",
            "Training loss: 1.387319\n",
            "Test Error: \n",
            " Avg accuracy: 0.3181, \n",
            " Avg recall: 0.3181, \n",
            " Avg precision: 0.6478, \n",
            " Avg F1: 0.2002, \n",
            " Avg loss: 1.387066 \n",
            "\n",
            "Epoch 5\n",
            "-------------------------------\n",
            "Training loss: 1.387048\n",
            "Test Error: \n",
            " Avg accuracy: 0.2874, \n",
            " Avg recall: 0.2874, \n",
            " Avg precision: 0.6319, \n",
            " Avg F1: 0.1356, \n",
            " Avg loss: 1.386748 \n",
            "\n",
            "Epoch 6\n",
            "-------------------------------\n",
            "Training loss: 1.386796\n",
            "Test Error: \n",
            " Avg accuracy: 0.2916, \n",
            " Avg recall: 0.2916, \n",
            " Avg precision: 0.7421, \n",
            " Avg F1: 0.1345, \n",
            " Avg loss: 1.386446 \n",
            "\n",
            "Early stopping after 6 epochs\n",
            "Done!\n"
          ]
        }
      ],
      "source": [
        "train_metrics = {}\n",
        "val_metrics = {}\n",
        "epochs = 100\n",
        "\n",
        "# Perform training\n",
        "train_metrics, val_metrics = train_run(train_dataloader, val_dataloader, model, loss_fn, optimizer, epochs = epochs, early_stopping = True, monitor = \"f1\")"
      ]
    },
    {
      "cell_type": "markdown",
      "id": "11953e1e-6781-4e8a-a4a8-0eb74bf19aa5",
      "metadata": {
        "id": "11953e1e-6781-4e8a-a4a8-0eb74bf19aa5",
        "tags": []
      },
      "source": [
        "#### 2.2.6. Metrics"
      ]
    },
    {
      "cell_type": "markdown",
      "id": "Hqy0yltQBmnj",
      "metadata": {
        "id": "Hqy0yltQBmnj"
      },
      "source": [
        "Training metric results"
      ]
    },
    {
      "cell_type": "code",
      "execution_count": 30,
      "id": "517fbd10-145a-4cc1-8613-0c1c8305787e",
      "metadata": {
        "colab": {
          "base_uri": "https://localhost:8080/",
          "height": 175
        },
        "id": "517fbd10-145a-4cc1-8613-0c1c8305787e",
        "outputId": "fff485db-7872-477d-f54b-608067ebdbd1",
        "tags": []
      },
      "outputs": [
        {
          "data": {
            "text/html": [
              "<div>\n",
              "<style scoped>\n",
              "    .dataframe tbody tr th:only-of-type {\n",
              "        vertical-align: middle;\n",
              "    }\n",
              "\n",
              "    .dataframe tbody tr th {\n",
              "        vertical-align: top;\n",
              "    }\n",
              "\n",
              "    .dataframe thead th {\n",
              "        text-align: right;\n",
              "    }\n",
              "</style>\n",
              "<table border=\"1\" class=\"dataframe\">\n",
              "  <thead>\n",
              "    <tr style=\"text-align: right;\">\n",
              "      <th></th>\n",
              "      <th>epochs</th>\n",
              "      <th>loss</th>\n",
              "      <th>accuracy</th>\n",
              "      <th>recall</th>\n",
              "      <th>precision</th>\n",
              "      <th>f1</th>\n",
              "    </tr>\n",
              "  </thead>\n",
              "  <tbody>\n",
              "    <tr>\n",
              "      <th>0</th>\n",
              "      <td>1</td>\n",
              "      <td>1.388202</td>\n",
              "      <td>0.270008</td>\n",
              "      <td>0.270008</td>\n",
              "      <td>0.649664</td>\n",
              "      <td>0.155293</td>\n",
              "    </tr>\n",
              "    <tr>\n",
              "      <th>1</th>\n",
              "      <td>2</td>\n",
              "      <td>1.387919</td>\n",
              "      <td>0.288332</td>\n",
              "      <td>0.288332</td>\n",
              "      <td>0.646368</td>\n",
              "      <td>0.186879</td>\n",
              "    </tr>\n",
              "    <tr>\n",
              "      <th>2</th>\n",
              "      <td>3</td>\n",
              "      <td>1.387632</td>\n",
              "      <td>0.321393</td>\n",
              "      <td>0.321393</td>\n",
              "      <td>0.653342</td>\n",
              "      <td>0.224067</td>\n",
              "    </tr>\n",
              "    <tr>\n",
              "      <th>3</th>\n",
              "      <td>4</td>\n",
              "      <td>1.387319</td>\n",
              "      <td>0.320275</td>\n",
              "      <td>0.320275</td>\n",
              "      <td>0.652047</td>\n",
              "      <td>0.215243</td>\n",
              "    </tr>\n",
              "    <tr>\n",
              "      <th>4</th>\n",
              "      <td>5</td>\n",
              "      <td>1.387048</td>\n",
              "      <td>0.278402</td>\n",
              "      <td>0.278402</td>\n",
              "      <td>0.611857</td>\n",
              "      <td>0.148496</td>\n",
              "    </tr>\n",
              "    <tr>\n",
              "      <th>5</th>\n",
              "      <td>6</td>\n",
              "      <td>1.386796</td>\n",
              "      <td>0.274311</td>\n",
              "      <td>0.274311</td>\n",
              "      <td>0.728023</td>\n",
              "      <td>0.123942</td>\n",
              "    </tr>\n",
              "  </tbody>\n",
              "</table>\n",
              "</div>"
            ],
            "text/plain": [
              "   epochs      loss  accuracy    recall  precision        f1\n",
              "0       1  1.388202  0.270008  0.270008   0.649664  0.155293\n",
              "1       2  1.387919  0.288332  0.288332   0.646368  0.186879\n",
              "2       3  1.387632  0.321393  0.321393   0.653342  0.224067\n",
              "3       4  1.387319  0.320275  0.320275   0.652047  0.215243\n",
              "4       5  1.387048  0.278402  0.278402   0.611857  0.148496\n",
              "5       6  1.386796  0.274311  0.274311   0.728023  0.123942"
            ]
          },
          "execution_count": 30,
          "metadata": {},
          "output_type": "execute_result"
        }
      ],
      "source": [
        "pd.DataFrame(train_metrics)"
      ]
    },
    {
      "cell_type": "markdown",
      "id": "LcISx7WXBpbU",
      "metadata": {
        "id": "LcISx7WXBpbU"
      },
      "source": [
        "Validation metric results"
      ]
    },
    {
      "cell_type": "code",
      "execution_count": 31,
      "id": "bad6e0b9-4225-4e53-9520-16c4d494fb4a",
      "metadata": {
        "colab": {
          "base_uri": "https://localhost:8080/",
          "height": 175
        },
        "id": "bad6e0b9-4225-4e53-9520-16c4d494fb4a",
        "outputId": "a653ab1c-f8ff-49e1-dacb-a4a5da53ed15",
        "tags": []
      },
      "outputs": [
        {
          "data": {
            "text/html": [
              "<div>\n",
              "<style scoped>\n",
              "    .dataframe tbody tr th:only-of-type {\n",
              "        vertical-align: middle;\n",
              "    }\n",
              "\n",
              "    .dataframe tbody tr th {\n",
              "        vertical-align: top;\n",
              "    }\n",
              "\n",
              "    .dataframe thead th {\n",
              "        text-align: right;\n",
              "    }\n",
              "</style>\n",
              "<table border=\"1\" class=\"dataframe\">\n",
              "  <thead>\n",
              "    <tr style=\"text-align: right;\">\n",
              "      <th></th>\n",
              "      <th>epochs</th>\n",
              "      <th>loss</th>\n",
              "      <th>accuracy</th>\n",
              "      <th>recall</th>\n",
              "      <th>precision</th>\n",
              "      <th>f1</th>\n",
              "    </tr>\n",
              "  </thead>\n",
              "  <tbody>\n",
              "    <tr>\n",
              "      <th>0</th>\n",
              "      <td>1</td>\n",
              "      <td>1.388143</td>\n",
              "      <td>0.276786</td>\n",
              "      <td>0.276786</td>\n",
              "      <td>0.655336</td>\n",
              "      <td>0.175902</td>\n",
              "    </tr>\n",
              "    <tr>\n",
              "      <th>1</th>\n",
              "      <td>2</td>\n",
              "      <td>1.387763</td>\n",
              "      <td>0.308122</td>\n",
              "      <td>0.308122</td>\n",
              "      <td>0.651324</td>\n",
              "      <td>0.213180</td>\n",
              "    </tr>\n",
              "    <tr>\n",
              "      <th>2</th>\n",
              "      <td>3</td>\n",
              "      <td>1.387405</td>\n",
              "      <td>0.344780</td>\n",
              "      <td>0.344780</td>\n",
              "      <td>0.666178</td>\n",
              "      <td>0.241454</td>\n",
              "    </tr>\n",
              "    <tr>\n",
              "      <th>3</th>\n",
              "      <td>4</td>\n",
              "      <td>1.387066</td>\n",
              "      <td>0.318080</td>\n",
              "      <td>0.318080</td>\n",
              "      <td>0.647812</td>\n",
              "      <td>0.200244</td>\n",
              "    </tr>\n",
              "    <tr>\n",
              "      <th>4</th>\n",
              "      <td>5</td>\n",
              "      <td>1.386748</td>\n",
              "      <td>0.287431</td>\n",
              "      <td>0.287431</td>\n",
              "      <td>0.631912</td>\n",
              "      <td>0.135594</td>\n",
              "    </tr>\n",
              "    <tr>\n",
              "      <th>5</th>\n",
              "      <td>6</td>\n",
              "      <td>1.386446</td>\n",
              "      <td>0.291638</td>\n",
              "      <td>0.291638</td>\n",
              "      <td>0.742071</td>\n",
              "      <td>0.134459</td>\n",
              "    </tr>\n",
              "  </tbody>\n",
              "</table>\n",
              "</div>"
            ],
            "text/plain": [
              "   epochs      loss  accuracy    recall  precision        f1\n",
              "0       1  1.388143  0.276786  0.276786   0.655336  0.175902\n",
              "1       2  1.387763  0.308122  0.308122   0.651324  0.213180\n",
              "2       3  1.387405  0.344780  0.344780   0.666178  0.241454\n",
              "3       4  1.387066  0.318080  0.318080   0.647812  0.200244\n",
              "4       5  1.386748  0.287431  0.287431   0.631912  0.135594\n",
              "5       6  1.386446  0.291638  0.291638   0.742071  0.134459"
            ]
          },
          "execution_count": 31,
          "metadata": {},
          "output_type": "execute_result"
        }
      ],
      "source": [
        "pd.DataFrame(val_metrics)"
      ]
    },
    {
      "cell_type": "markdown",
      "id": "67ebede3-cbd5-423e-811c-470e2c047124",
      "metadata": {
        "id": "67ebede3-cbd5-423e-811c-470e2c047124",
        "tags": []
      },
      "source": [
        "#### 2.2.7. Plot"
      ]
    },
    {
      "cell_type": "markdown",
      "id": "be8956e1-3da1-4e6a-9785-38b7aae43da3",
      "metadata": {
        "id": "be8956e1-3da1-4e6a-9785-38b7aae43da3"
      },
      "source": [
        "##### 2.2.7.1. Loss"
      ]
    },
    {
      "cell_type": "code",
      "execution_count": 32,
      "id": "201d52e6-eee2-4b02-ae7d-23b259ff2a3e",
      "metadata": {
        "colab": {
          "base_uri": "https://localhost:8080/",
          "height": 487
        },
        "id": "201d52e6-eee2-4b02-ae7d-23b259ff2a3e",
        "outputId": "477aa520-fcdd-46c1-ba2b-fd87b9565310",
        "tags": []
      },
      "outputs": [
        {
          "data": {
            "image/png": "[encoded data removed]",
            "text/plain": [
              "<Figure size 1000x500 with 1 Axes>"
            ]
          },
          "metadata": {},
          "output_type": "display_data"
        }
      ],
      "source": [
        "epochs = range(1, len(train_metrics[\"epochs\"]) + 1)\n",
        "\n",
        "plt.figure(figsize=(10, 5))\n",
        "plt.plot(epochs, train_metrics[\"loss\"], label = \"Training Loss\")\n",
        "plt.plot(epochs, val_metrics[\"loss\"], label = \"Validation Loss\")\n",
        "plt.xlabel(\"Epoch\")\n",
        "plt.ylabel(\"Loss\")\n",
        "plt.legend()\n",
        "plt.title(\"Evolution of training and validation loss over epochs\")\n",
        "plt.show()"
      ]
    },
    {
      "cell_type": "markdown",
      "id": "b5228f18-b5ae-4b47-89ed-923f776cf088",
      "metadata": {
        "id": "b5228f18-b5ae-4b47-89ed-923f776cf088"
      },
      "source": [
        "##### 2.2.7.2. Classification metric"
      ]
    },
    {
      "cell_type": "code",
      "execution_count": 33,
      "id": "6835be99-7a65-4c06-b3fe-16d9a122df27",
      "metadata": {
        "colab": {
          "base_uri": "https://localhost:8080/",
          "height": 487
        },
        "id": "6835be99-7a65-4c06-b3fe-16d9a122df27",
        "outputId": "474addd0-a9de-4585-81b8-be0c430f33d7",
        "tags": []
      },
      "outputs": [
        {
          "data": {
            "image/png": "[encoded data removed]",
            "text/plain": [
              "<Figure size 1000x500 with 1 Axes>"
            ]
          },
          "metadata": {},
          "output_type": "display_data"
        }
      ],
      "source": [
        "epochs = range(1, len(train_metrics[\"epochs\"]) + 1)\n",
        "\n",
        "plt.figure(figsize=(10, 5))\n",
        "plt.plot(epochs, train_metrics[\"f1\"], label = \"Training F1-score\")\n",
        "plt.plot(epochs, val_metrics[\"f1\"], label = \"Validation F1-score\")\n",
        "plt.xlabel(\"Epoch\")\n",
        "plt.ylabel(\"F1-score\")\n",
        "plt.legend()\n",
        "plt.title(\"Evolution of training and validation F1 over epochs\")\n",
        "plt.show()"
      ]
    },
    {
      "cell_type": "markdown",
      "id": "77265549-0494-45a4-bc54-b81a34408b69",
      "metadata": {
        "id": "77265549-0494-45a4-bc54-b81a34408b69",
        "tags": []
      },
      "source": [
        "### 2.3. Evaluation"
      ]
    },
    {
      "cell_type": "code",
      "execution_count": 34,
      "id": "9d20bb9a-158c-4eb3-ae95-97240e75b47b",
      "metadata": {
        "colab": {
          "base_uri": "https://localhost:8080/",
          "height": 224
        },
        "id": "9d20bb9a-158c-4eb3-ae95-97240e75b47b",
        "outputId": "c4401570-9193-4689-fcac-a62505f98b3a",
        "tags": []
      },
      "outputs": [
        {
          "name": "stdout",
          "output_type": "stream",
          "text": [
            "Shape: (2627, 9)\n"
          ]
        },
        {
          "data": {
            "text/html": [
              "<div>\n",
              "<style scoped>\n",
              "    .dataframe tbody tr th:only-of-type {\n",
              "        vertical-align: middle;\n",
              "    }\n",
              "\n",
              "    .dataframe tbody tr th {\n",
              "        vertical-align: top;\n",
              "    }\n",
              "\n",
              "    .dataframe thead th {\n",
              "        text-align: right;\n",
              "    }\n",
              "</style>\n",
              "<table border=\"1\" class=\"dataframe\">\n",
              "  <thead>\n",
              "    <tr style=\"text-align: right;\">\n",
              "      <th></th>\n",
              "      <th>Gender</th>\n",
              "      <th>Ever_Married</th>\n",
              "      <th>Age</th>\n",
              "      <th>Graduated</th>\n",
              "      <th>Profession</th>\n",
              "      <th>Work_Experience</th>\n",
              "      <th>Spending_Score</th>\n",
              "      <th>Family_Size</th>\n",
              "      <th>Var_1</th>\n",
              "    </tr>\n",
              "  </thead>\n",
              "  <tbody>\n",
              "    <tr>\n",
              "      <th>0</th>\n",
              "      <td>Female</td>\n",
              "      <td>Yes</td>\n",
              "      <td>36</td>\n",
              "      <td>Yes</td>\n",
              "      <td>Engineer</td>\n",
              "      <td>0.0</td>\n",
              "      <td>Low</td>\n",
              "      <td>1.0</td>\n",
              "      <td>Cat_6</td>\n",
              "    </tr>\n",
              "    <tr>\n",
              "      <th>1</th>\n",
              "      <td>Male</td>\n",
              "      <td>Yes</td>\n",
              "      <td>37</td>\n",
              "      <td>Yes</td>\n",
              "      <td>Healthcare</td>\n",
              "      <td>8.0</td>\n",
              "      <td>Average</td>\n",
              "      <td>4.0</td>\n",
              "      <td>Cat_6</td>\n",
              "    </tr>\n",
              "    <tr>\n",
              "      <th>2</th>\n",
              "      <td>Female</td>\n",
              "      <td>Yes</td>\n",
              "      <td>69</td>\n",
              "      <td>No</td>\n",
              "      <td>Artist</td>\n",
              "      <td>0.0</td>\n",
              "      <td>Low</td>\n",
              "      <td>1.0</td>\n",
              "      <td>Cat_6</td>\n",
              "    </tr>\n",
              "    <tr>\n",
              "      <th>3</th>\n",
              "      <td>Male</td>\n",
              "      <td>Yes</td>\n",
              "      <td>59</td>\n",
              "      <td>No</td>\n",
              "      <td>Executive</td>\n",
              "      <td>11.0</td>\n",
              "      <td>High</td>\n",
              "      <td>2.0</td>\n",
              "      <td>Cat_6</td>\n",
              "    </tr>\n",
              "    <tr>\n",
              "      <th>4</th>\n",
              "      <td>Female</td>\n",
              "      <td>No</td>\n",
              "      <td>19</td>\n",
              "      <td>No</td>\n",
              "      <td>Marketing</td>\n",
              "      <td>1.0</td>\n",
              "      <td>Low</td>\n",
              "      <td>4.0</td>\n",
              "      <td>Cat_6</td>\n",
              "    </tr>\n",
              "  </tbody>\n",
              "</table>\n",
              "</div>"
            ],
            "text/plain": [
              "   Gender Ever_Married  Age Graduated  Profession  Work_Experience  \\\n",
              "0  Female          Yes   36       Yes    Engineer              0.0   \n",
              "1    Male          Yes   37       Yes  Healthcare              8.0   \n",
              "2  Female          Yes   69        No      Artist              0.0   \n",
              "3    Male          Yes   59        No   Executive             11.0   \n",
              "4  Female           No   19        No   Marketing              1.0   \n",
              "\n",
              "  Spending_Score  Family_Size  Var_1  \n",
              "0            Low          1.0  Cat_6  \n",
              "1        Average          4.0  Cat_6  \n",
              "2            Low          1.0  Cat_6  \n",
              "3           High          2.0  Cat_6  \n",
              "4            Low          4.0  Cat_6  "
            ]
          },
          "execution_count": 34,
          "metadata": {},
          "output_type": "execute_result"
        }
      ],
      "source": [
        "df_test = pd.read_csv(os.path.join(PATH_DATA, \"test_cleaned.csv\"))\n",
        "print(\"Shape:\", df_test.shape)\n",
        "df_test.head()"
      ]
    },
    {
      "cell_type": "code",
      "execution_count": 35,
      "id": "147e0c39-2a0b-4f37-ad8d-867e645c29dc",
      "metadata": {
        "colab": {
          "base_uri": "https://localhost:8080/"
        },
        "id": "147e0c39-2a0b-4f37-ad8d-867e645c29dc",
        "outputId": "2cad110e-7fc1-4b31-d3b4-6f4df837633e",
        "tags": []
      },
      "outputs": [
        {
          "name": "stdout",
          "output_type": "stream",
          "text": [
            "<class 'pandas.core.frame.DataFrame'>\n",
            "RangeIndex: 2627 entries, 0 to 2626\n",
            "Data columns (total 9 columns):\n",
            " #   Column           Non-Null Count  Dtype  \n",
            "---  ------           --------------  -----  \n",
            " 0   Gender           2627 non-null   object \n",
            " 1   Ever_Married     2627 non-null   object \n",
            " 2   Age              2627 non-null   int64  \n",
            " 3   Graduated        2627 non-null   object \n",
            " 4   Profession       2627 non-null   object \n",
            " 5   Work_Experience  2627 non-null   float64\n",
            " 6   Spending_Score   2627 non-null   object \n",
            " 7   Family_Size      2627 non-null   float64\n",
            " 8   Var_1            2627 non-null   object \n",
            "dtypes: float64(2), int64(1), object(6)\n",
            "memory usage: 184.8+ KB\n"
          ]
        }
      ],
      "source": [
        "df_test.info()"
      ]
    }
  ],
  "metadata": {
    "colab": {
      "provenance": []
    },
    "kernelspec": {
      "display_name": "base",
      "language": "python",
      "name": "python3"
    },
    "language_info": {
      "codemirror_mode": {
        "name": "ipython",
        "version": 3
      },
      "file_extension": ".py",
      "mimetype": "text/x-python",
      "name": "python",
      "nbconvert_exporter": "python",
      "pygments_lexer": "ipython3",
      "version": "3.11.9"
    }
  },
  "nbformat": 4,
  "nbformat_minor": 5
}
