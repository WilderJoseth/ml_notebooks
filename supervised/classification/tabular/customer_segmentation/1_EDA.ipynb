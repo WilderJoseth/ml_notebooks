{
 "cells": [
  {
   "cell_type": "markdown",
   "id": "f5332b55-0dc1-4e5d-ad81-dfe9174231ea",
   "metadata": {
    "id": "f5332b55-0dc1-4e5d-ad81-dfe9174231ea"
   },
   "source": [
    "# Customer segmentation\n",
    "\n",
    "This notebook is focus on exploring and cleaning the data."
   ]
  },
  {
   "cell_type": "markdown",
   "id": "o3wNqzwrn6HG",
   "metadata": {
    "id": "o3wNqzwrn6HG"
   },
   "source": [
    "## 1. Understanding the Problem\n",
    "\n",
    "The problem is to understand the customers' preferences based on their personal information in order to help marketing departments to improve level sales by specializing advertisements to smaller client groups. \n",
    "\n",
    "There are four segments:\n",
    "\n",
    "* A\n",
    "* B\n",
    "* C\n",
    "* D"
   ]
  },
  {
   "cell_type": "markdown",
   "id": "fPcitHhnn8wR",
   "metadata": {
    "id": "fPcitHhnn8wR"
   },
   "source": [
    "## 2. Data Understanding"
   ]
  },
  {
   "cell_type": "markdown",
   "id": "hdPLFbGcoAYq",
   "metadata": {
    "id": "hdPLFbGcoAYq"
   },
   "source": [
    "Structure of the data:\n",
    "\n",
    "* **Features**:\n",
    "  * **ID**: Unique ID\n",
    "  * **Gender**: Gender\n",
    "  * **Ever_Married**: Marital status of the customer\n",
    "  * **Age**: Age\n",
    "  * **Graduated**: Is the customer a graduate?\n",
    "  * **Profession**: Profession of the customer\n",
    "  * **Work_Experience**: Work Experience in years\n",
    "  * **Spending_Score**: Spending Score\n",
    "  * **Family_Size**: Family Size\n",
    "  * **Var_1**: Category for the customer\n",
    "* **Target variable**:\n",
    "  * **Segmentation**: Customer Segment of the customer\n",
    "\n",
    "Link: <https://www.kaggle.com/datasets/abisheksudarshan/customer-segmentation>"
   ]
  },
  {
   "cell_type": "markdown",
   "id": "Na3t7Vveplka",
   "metadata": {
    "id": "Na3t7Vveplka"
   },
   "source": [
    "## 3. Data exploration"
   ]
  },
  {
   "cell_type": "markdown",
   "id": "Z7jBX2x4poFi",
   "metadata": {
    "id": "Z7jBX2x4poFi"
   },
   "source": [
    "### 3.1. Review the state of the data\n",
    "\n",
    "This is a first glance over the data."
   ]
  },
  {
   "cell_type": "code",
   "execution_count": 1,
   "id": "73844839-9c8b-412b-8af5-8a8a14ddb683",
   "metadata": {
    "executionInfo": {
     "elapsed": 1250,
     "status": "ok",
     "timestamp": 1723521461456,
     "user": {
      "displayName": "Wilder Rivera",
      "userId": "00908347802429331518"
     },
     "user_tz": 240
    },
    "id": "73844839-9c8b-412b-8af5-8a8a14ddb683",
    "tags": []
   },
   "outputs": [],
   "source": [
    "import pandas as pd\n",
    "import matplotlib.pyplot as plt\n",
    "import seaborn as sns\n",
    "import os"
   ]
  },
  {
   "cell_type": "code",
   "execution_count": 2,
   "id": "6799eba0-9091-407d-9077-0b87962fa29b",
   "metadata": {
    "executionInfo": {
     "elapsed": 3,
     "status": "ok",
     "timestamp": 1723517575994,
     "user": {
      "displayName": "Wilder Rivera",
      "userId": "00908347802429331518"
     },
     "user_tz": 240
    },
    "id": "6799eba0-9091-407d-9077-0b87962fa29b",
    "tags": []
   },
   "outputs": [],
   "source": [
    "plt.style.use('ggplot')"
   ]
  },
  {
   "cell_type": "code",
   "execution_count": 3,
   "id": "U3ftLyisptVn",
   "metadata": {
    "executionInfo": {
     "elapsed": 348,
     "status": "ok",
     "timestamp": 1723517600286,
     "user": {
      "displayName": "Wilder Rivera",
      "userId": "00908347802429331518"
     },
     "user_tz": 240
    },
    "id": "U3ftLyisptVn"
   },
   "outputs": [],
   "source": [
    "PATH_DATA = os.path.join(os.getenv(\"PATH_DATA_PROJECTS\"), \"Tabular\", \"customer_segmentation\")"
   ]
  },
  {
   "cell_type": "code",
   "execution_count": 4,
   "id": "74471c5e-ecf0-40e0-b9c5-57956d6e7c41",
   "metadata": {
    "colab": {
     "base_uri": "https://localhost:8080/",
     "height": 224
    },
    "executionInfo": {
     "elapsed": 338,
     "status": "ok",
     "timestamp": 1723520602734,
     "user": {
      "displayName": "Wilder Rivera",
      "userId": "00908347802429331518"
     },
     "user_tz": 240
    },
    "id": "74471c5e-ecf0-40e0-b9c5-57956d6e7c41",
    "outputId": "acd39c4e-0557-4571-b88a-939d3ca0a608",
    "tags": []
   },
   "outputs": [
    {
     "name": "stdout",
     "output_type": "stream",
     "text": [
      "Shape: (8068, 11)\n"
     ]
    },
    {
     "data": {
      "text/html": [
       "<div>\n",
       "<style scoped>\n",
       "    .dataframe tbody tr th:only-of-type {\n",
       "        vertical-align: middle;\n",
       "    }\n",
       "\n",
       "    .dataframe tbody tr th {\n",
       "        vertical-align: top;\n",
       "    }\n",
       "\n",
       "    .dataframe thead th {\n",
       "        text-align: right;\n",
       "    }\n",
       "</style>\n",
       "<table border=\"1\" class=\"dataframe\">\n",
       "  <thead>\n",
       "    <tr style=\"text-align: right;\">\n",
       "      <th></th>\n",
       "      <th>ID</th>\n",
       "      <th>Gender</th>\n",
       "      <th>Ever_Married</th>\n",
       "      <th>Age</th>\n",
       "      <th>Graduated</th>\n",
       "      <th>Profession</th>\n",
       "      <th>Work_Experience</th>\n",
       "      <th>Spending_Score</th>\n",
       "      <th>Family_Size</th>\n",
       "      <th>Var_1</th>\n",
       "      <th>Segmentation</th>\n",
       "    </tr>\n",
       "  </thead>\n",
       "  <tbody>\n",
       "    <tr>\n",
       "      <th>0</th>\n",
       "      <td>462809</td>\n",
       "      <td>Male</td>\n",
       "      <td>No</td>\n",
       "      <td>22</td>\n",
       "      <td>No</td>\n",
       "      <td>Healthcare</td>\n",
       "      <td>1.0</td>\n",
       "      <td>Low</td>\n",
       "      <td>4.0</td>\n",
       "      <td>Cat_4</td>\n",
       "      <td>D</td>\n",
       "    </tr>\n",
       "    <tr>\n",
       "      <th>1</th>\n",
       "      <td>462643</td>\n",
       "      <td>Female</td>\n",
       "      <td>Yes</td>\n",
       "      <td>38</td>\n",
       "      <td>Yes</td>\n",
       "      <td>Engineer</td>\n",
       "      <td>NaN</td>\n",
       "      <td>Average</td>\n",
       "      <td>3.0</td>\n",
       "      <td>Cat_4</td>\n",
       "      <td>A</td>\n",
       "    </tr>\n",
       "    <tr>\n",
       "      <th>2</th>\n",
       "      <td>466315</td>\n",
       "      <td>Female</td>\n",
       "      <td>Yes</td>\n",
       "      <td>67</td>\n",
       "      <td>Yes</td>\n",
       "      <td>Engineer</td>\n",
       "      <td>1.0</td>\n",
       "      <td>Low</td>\n",
       "      <td>1.0</td>\n",
       "      <td>Cat_6</td>\n",
       "      <td>B</td>\n",
       "    </tr>\n",
       "    <tr>\n",
       "      <th>3</th>\n",
       "      <td>461735</td>\n",
       "      <td>Male</td>\n",
       "      <td>Yes</td>\n",
       "      <td>67</td>\n",
       "      <td>Yes</td>\n",
       "      <td>Lawyer</td>\n",
       "      <td>0.0</td>\n",
       "      <td>High</td>\n",
       "      <td>2.0</td>\n",
       "      <td>Cat_6</td>\n",
       "      <td>B</td>\n",
       "    </tr>\n",
       "    <tr>\n",
       "      <th>4</th>\n",
       "      <td>462669</td>\n",
       "      <td>Female</td>\n",
       "      <td>Yes</td>\n",
       "      <td>40</td>\n",
       "      <td>Yes</td>\n",
       "      <td>Entertainment</td>\n",
       "      <td>NaN</td>\n",
       "      <td>High</td>\n",
       "      <td>6.0</td>\n",
       "      <td>Cat_6</td>\n",
       "      <td>A</td>\n",
       "    </tr>\n",
       "  </tbody>\n",
       "</table>\n",
       "</div>"
      ],
      "text/plain": [
       "       ID  Gender Ever_Married  Age Graduated     Profession  Work_Experience  \\\n",
       "0  462809    Male           No   22        No     Healthcare              1.0   \n",
       "1  462643  Female          Yes   38       Yes       Engineer              NaN   \n",
       "2  466315  Female          Yes   67       Yes       Engineer              1.0   \n",
       "3  461735    Male          Yes   67       Yes         Lawyer              0.0   \n",
       "4  462669  Female          Yes   40       Yes  Entertainment              NaN   \n",
       "\n",
       "  Spending_Score  Family_Size  Var_1 Segmentation  \n",
       "0            Low          4.0  Cat_4            D  \n",
       "1        Average          3.0  Cat_4            A  \n",
       "2            Low          1.0  Cat_6            B  \n",
       "3           High          2.0  Cat_6            B  \n",
       "4           High          6.0  Cat_6            A  "
      ]
     },
     "execution_count": 4,
     "metadata": {},
     "output_type": "execute_result"
    }
   ],
   "source": [
    "df_train = pd.read_csv(os.path.join(PATH_DATA, \"train.csv\"))\n",
    "print(\"Shape:\", df_train.shape)\n",
    "df_train.head()"
   ]
  },
  {
   "cell_type": "code",
   "execution_count": 5,
   "id": "f841f5d6-796e-41b8-9cd2-a0e6ab10b3c1",
   "metadata": {
    "colab": {
     "base_uri": "https://localhost:8080/"
    },
    "executionInfo": {
     "elapsed": 299,
     "status": "ok",
     "timestamp": 1723517868109,
     "user": {
      "displayName": "Wilder Rivera",
      "userId": "00908347802429331518"
     },
     "user_tz": 240
    },
    "id": "f841f5d6-796e-41b8-9cd2-a0e6ab10b3c1",
    "outputId": "f8f3e751-c3c8-4bec-f8b1-5b550a53d4e3",
    "tags": []
   },
   "outputs": [
    {
     "name": "stdout",
     "output_type": "stream",
     "text": [
      "<class 'pandas.core.frame.DataFrame'>\n",
      "RangeIndex: 8068 entries, 0 to 8067\n",
      "Data columns (total 11 columns):\n",
      " #   Column           Non-Null Count  Dtype  \n",
      "---  ------           --------------  -----  \n",
      " 0   ID               8068 non-null   int64  \n",
      " 1   Gender           8068 non-null   object \n",
      " 2   Ever_Married     7928 non-null   object \n",
      " 3   Age              8068 non-null   int64  \n",
      " 4   Graduated        7990 non-null   object \n",
      " 5   Profession       7944 non-null   object \n",
      " 6   Work_Experience  7239 non-null   float64\n",
      " 7   Spending_Score   8068 non-null   object \n",
      " 8   Family_Size      7733 non-null   float64\n",
      " 9   Var_1            7992 non-null   object \n",
      " 10  Segmentation     8068 non-null   object \n",
      "dtypes: float64(2), int64(2), object(7)\n",
      "memory usage: 693.5+ KB\n"
     ]
    }
   ],
   "source": [
    "df_train.info()"
   ]
  },
  {
   "cell_type": "code",
   "execution_count": 6,
   "id": "TCUd6FP3q8rJ",
   "metadata": {
    "colab": {
     "base_uri": "https://localhost:8080/",
     "height": 446
    },
    "executionInfo": {
     "elapsed": 318,
     "status": "ok",
     "timestamp": 1723517883431,
     "user": {
      "displayName": "Wilder Rivera",
      "userId": "00908347802429331518"
     },
     "user_tz": 240
    },
    "id": "TCUd6FP3q8rJ",
    "outputId": "c90a763f-d813-4f2d-e9b9-5069741c5ada"
   },
   "outputs": [
    {
     "name": "stdout",
     "output_type": "stream",
     "text": [
      "Total missing by columns:\n"
     ]
    },
    {
     "data": {
      "text/plain": [
       "ID                   0\n",
       "Gender               0\n",
       "Ever_Married       140\n",
       "Age                  0\n",
       "Graduated           78\n",
       "Profession         124\n",
       "Work_Experience    829\n",
       "Spending_Score       0\n",
       "Family_Size        335\n",
       "Var_1               76\n",
       "Segmentation         0\n",
       "dtype: int64"
      ]
     },
     "execution_count": 6,
     "metadata": {},
     "output_type": "execute_result"
    }
   ],
   "source": [
    "print(\"Total missing by columns:\")\n",
    "df_train.isnull().sum()"
   ]
  },
  {
   "cell_type": "markdown",
   "id": "AN68UExBrC7o",
   "metadata": {
    "id": "AN68UExBrC7o"
   },
   "source": [
    "#### 3.1.1. Categorical"
   ]
  },
  {
   "cell_type": "code",
   "execution_count": 7,
   "id": "lI2tRQ4uriDC",
   "metadata": {
    "executionInfo": {
     "elapsed": 326,
     "status": "ok",
     "timestamp": 1723518214582,
     "user": {
      "displayName": "Wilder Rivera",
      "userId": "00908347802429331518"
     },
     "user_tz": 240
    },
    "id": "lI2tRQ4uriDC"
   },
   "outputs": [],
   "source": [
    "categorical_features = [\"Gender\", \"Ever_Married\", \"Graduated\", \"Profession\", \"Spending_Score\", \"Var_1\"]"
   ]
  },
  {
   "cell_type": "code",
   "execution_count": 8,
   "id": "GV3XHzWBsQ-5",
   "metadata": {
    "colab": {
     "base_uri": "https://localhost:8080/"
    },
    "executionInfo": {
     "elapsed": 300,
     "status": "ok",
     "timestamp": 1723518236027,
     "user": {
      "displayName": "Wilder Rivera",
      "userId": "00908347802429331518"
     },
     "user_tz": 240
    },
    "id": "GV3XHzWBsQ-5",
    "outputId": "beaae815-9a6a-4b26-e714-e29c9f353027"
   },
   "outputs": [
    {
     "name": "stdout",
     "output_type": "stream",
     "text": [
      "\n",
      "Feature: Gender\n",
      "['Male' 'Female']\n",
      "\n",
      "Feature: Ever_Married\n",
      "['No' 'Yes' nan]\n",
      "\n",
      "Feature: Graduated\n",
      "['No' 'Yes' nan]\n",
      "\n",
      "Feature: Profession\n",
      "['Healthcare' 'Engineer' 'Lawyer' 'Entertainment' 'Artist' 'Executive'\n",
      " 'Doctor' 'Homemaker' 'Marketing' nan]\n",
      "\n",
      "Feature: Spending_Score\n",
      "['Low' 'Average' 'High']\n",
      "\n",
      "Feature: Var_1\n",
      "['Cat_4' 'Cat_6' 'Cat_7' 'Cat_3' 'Cat_1' 'Cat_2' nan 'Cat_5']\n"
     ]
    }
   ],
   "source": [
    "for c in categorical_features:\n",
    "    print(\"\\nFeature:\", c)\n",
    "    print(df_train[c].unique())"
   ]
  },
  {
   "cell_type": "markdown",
   "id": "C6KG2_RZsnos",
   "metadata": {
    "id": "C6KG2_RZsnos"
   },
   "source": [
    "#### 3.1.2. Numeric"
   ]
  },
  {
   "cell_type": "code",
   "execution_count": 9,
   "id": "R5v-1tHNsi7g",
   "metadata": {
    "colab": {
     "base_uri": "https://localhost:8080/",
     "height": 300
    },
    "executionInfo": {
     "elapsed": 346,
     "status": "ok",
     "timestamp": 1723518426487,
     "user": {
      "displayName": "Wilder Rivera",
      "userId": "00908347802429331518"
     },
     "user_tz": 240
    },
    "id": "R5v-1tHNsi7g",
    "outputId": "77d28c86-df45-4684-fc30-f243f9a1069c"
   },
   "outputs": [
    {
     "data": {
      "text/html": [
       "<div>\n",
       "<style scoped>\n",
       "    .dataframe tbody tr th:only-of-type {\n",
       "        vertical-align: middle;\n",
       "    }\n",
       "\n",
       "    .dataframe tbody tr th {\n",
       "        vertical-align: top;\n",
       "    }\n",
       "\n",
       "    .dataframe thead th {\n",
       "        text-align: right;\n",
       "    }\n",
       "</style>\n",
       "<table border=\"1\" class=\"dataframe\">\n",
       "  <thead>\n",
       "    <tr style=\"text-align: right;\">\n",
       "      <th></th>\n",
       "      <th>Age</th>\n",
       "      <th>Work_Experience</th>\n",
       "      <th>Family_Size</th>\n",
       "    </tr>\n",
       "  </thead>\n",
       "  <tbody>\n",
       "    <tr>\n",
       "      <th>count</th>\n",
       "      <td>8068.000000</td>\n",
       "      <td>7239.000000</td>\n",
       "      <td>7733.000000</td>\n",
       "    </tr>\n",
       "    <tr>\n",
       "      <th>mean</th>\n",
       "      <td>43.466906</td>\n",
       "      <td>2.641663</td>\n",
       "      <td>2.850123</td>\n",
       "    </tr>\n",
       "    <tr>\n",
       "      <th>std</th>\n",
       "      <td>16.711696</td>\n",
       "      <td>3.406763</td>\n",
       "      <td>1.531413</td>\n",
       "    </tr>\n",
       "    <tr>\n",
       "      <th>min</th>\n",
       "      <td>18.000000</td>\n",
       "      <td>0.000000</td>\n",
       "      <td>1.000000</td>\n",
       "    </tr>\n",
       "    <tr>\n",
       "      <th>25%</th>\n",
       "      <td>30.000000</td>\n",
       "      <td>0.000000</td>\n",
       "      <td>2.000000</td>\n",
       "    </tr>\n",
       "    <tr>\n",
       "      <th>50%</th>\n",
       "      <td>40.000000</td>\n",
       "      <td>1.000000</td>\n",
       "      <td>3.000000</td>\n",
       "    </tr>\n",
       "    <tr>\n",
       "      <th>75%</th>\n",
       "      <td>53.000000</td>\n",
       "      <td>4.000000</td>\n",
       "      <td>4.000000</td>\n",
       "    </tr>\n",
       "    <tr>\n",
       "      <th>max</th>\n",
       "      <td>89.000000</td>\n",
       "      <td>14.000000</td>\n",
       "      <td>9.000000</td>\n",
       "    </tr>\n",
       "  </tbody>\n",
       "</table>\n",
       "</div>"
      ],
      "text/plain": [
       "               Age  Work_Experience  Family_Size\n",
       "count  8068.000000      7239.000000  7733.000000\n",
       "mean     43.466906         2.641663     2.850123\n",
       "std      16.711696         3.406763     1.531413\n",
       "min      18.000000         0.000000     1.000000\n",
       "25%      30.000000         0.000000     2.000000\n",
       "50%      40.000000         1.000000     3.000000\n",
       "75%      53.000000         4.000000     4.000000\n",
       "max      89.000000        14.000000     9.000000"
      ]
     },
     "execution_count": 9,
     "metadata": {},
     "output_type": "execute_result"
    }
   ],
   "source": [
    "numeric_features = [\"Age\", \"Work_Experience\", \"Family_Size\"]\n",
    "df_train[numeric_features].describe()"
   ]
  },
  {
   "cell_type": "markdown",
   "id": "NASmgJpWwWVZ",
   "metadata": {
    "id": "NASmgJpWwWVZ"
   },
   "source": [
    "#### 3.1.3. Target variable"
   ]
  },
  {
   "cell_type": "code",
   "execution_count": 10,
   "id": "9tAUcLIfwai8",
   "metadata": {
    "colab": {
     "base_uri": "https://localhost:8080/"
    },
    "executionInfo": {
     "elapsed": 331,
     "status": "ok",
     "timestamp": 1723519324118,
     "user": {
      "displayName": "Wilder Rivera",
      "userId": "00908347802429331518"
     },
     "user_tz": 240
    },
    "id": "9tAUcLIfwai8",
    "outputId": "a86b3354-0e50-4f67-b1de-1f9d6ad0c26e"
   },
   "outputs": [
    {
     "data": {
      "text/plain": [
       "array(['D', 'A', 'B', 'C'], dtype=object)"
      ]
     },
     "execution_count": 10,
     "metadata": {},
     "output_type": "execute_result"
    }
   ],
   "source": [
    "target_variable = \"Segmentation\"\n",
    "df_train[target_variable].unique()"
   ]
  },
  {
   "cell_type": "markdown",
   "id": "CWlPPp2pwfoj",
   "metadata": {
    "id": "CWlPPp2pwfoj"
   },
   "source": [
    "#### 3.1.4. Conclusion\n",
    "\n",
    "* There are missing values.\n",
    "* The categorical features have few classes per feature.\n",
    "* The numeric features are in different scales.\n",
    "* According to data source information, the feature ID is unique, so it does not help for training. It is necessary to remove it.\n",
    "* The target variable has four classes."
   ]
  },
  {
   "cell_type": "markdown",
   "id": "G5p5GAhdwjDe",
   "metadata": {
    "id": "G5p5GAhdwjDe"
   },
   "source": [
    "### 3.2. Data cleaning\n",
    "\n",
    "Based on initial conclusions, it is necessary to apply data cleaning."
   ]
  },
  {
   "cell_type": "markdown",
   "id": "b57a9815",
   "metadata": {},
   "source": [
    "#### 3.2.1. Categorical"
   ]
  },
  {
   "cell_type": "markdown",
   "id": "MyJmyUVGwt6U",
   "metadata": {
    "id": "MyJmyUVGwt6U"
   },
   "source": [
    "Replace missing values with most frequent classes."
   ]
  },
  {
   "cell_type": "code",
   "execution_count": 11,
   "id": "lPprPj9lwwgY",
   "metadata": {
    "executionInfo": {
     "elapsed": 339,
     "status": "ok",
     "timestamp": 1723520708521,
     "user": {
      "displayName": "Wilder Rivera",
      "userId": "00908347802429331518"
     },
     "user_tz": 240
    },
    "id": "lPprPj9lwwgY"
   },
   "outputs": [],
   "source": [
    "from sklearn.impute import SimpleImputer"
   ]
  },
  {
   "cell_type": "code",
   "execution_count": 12,
   "id": "T7ILlHsGw0R8",
   "metadata": {
    "colab": {
     "base_uri": "https://localhost:8080/",
     "height": 224
    },
    "executionInfo": {
     "elapsed": 7,
     "status": "ok",
     "timestamp": 1723520708986,
     "user": {
      "displayName": "Wilder Rivera",
      "userId": "00908347802429331518"
     },
     "user_tz": 240
    },
    "id": "T7ILlHsGw0R8",
    "outputId": "53957ca0-609e-45c0-9304-405fce550d85"
   },
   "outputs": [
    {
     "data": {
      "text/html": [
       "<div>\n",
       "<style scoped>\n",
       "    .dataframe tbody tr th:only-of-type {\n",
       "        vertical-align: middle;\n",
       "    }\n",
       "\n",
       "    .dataframe tbody tr th {\n",
       "        vertical-align: top;\n",
       "    }\n",
       "\n",
       "    .dataframe thead th {\n",
       "        text-align: right;\n",
       "    }\n",
       "</style>\n",
       "<table border=\"1\" class=\"dataframe\">\n",
       "  <thead>\n",
       "    <tr style=\"text-align: right;\">\n",
       "      <th></th>\n",
       "      <th>ID</th>\n",
       "      <th>Gender</th>\n",
       "      <th>Ever_Married</th>\n",
       "      <th>Age</th>\n",
       "      <th>Graduated</th>\n",
       "      <th>Profession</th>\n",
       "      <th>Work_Experience</th>\n",
       "      <th>Spending_Score</th>\n",
       "      <th>Family_Size</th>\n",
       "      <th>Var_1</th>\n",
       "      <th>Segmentation</th>\n",
       "    </tr>\n",
       "  </thead>\n",
       "  <tbody>\n",
       "    <tr>\n",
       "      <th>0</th>\n",
       "      <td>462809</td>\n",
       "      <td>Male</td>\n",
       "      <td>No</td>\n",
       "      <td>22</td>\n",
       "      <td>No</td>\n",
       "      <td>Healthcare</td>\n",
       "      <td>1.0</td>\n",
       "      <td>Low</td>\n",
       "      <td>4.0</td>\n",
       "      <td>Cat_4</td>\n",
       "      <td>D</td>\n",
       "    </tr>\n",
       "    <tr>\n",
       "      <th>1</th>\n",
       "      <td>462643</td>\n",
       "      <td>Female</td>\n",
       "      <td>Yes</td>\n",
       "      <td>38</td>\n",
       "      <td>Yes</td>\n",
       "      <td>Engineer</td>\n",
       "      <td>NaN</td>\n",
       "      <td>Average</td>\n",
       "      <td>3.0</td>\n",
       "      <td>Cat_4</td>\n",
       "      <td>A</td>\n",
       "    </tr>\n",
       "    <tr>\n",
       "      <th>2</th>\n",
       "      <td>466315</td>\n",
       "      <td>Female</td>\n",
       "      <td>Yes</td>\n",
       "      <td>67</td>\n",
       "      <td>Yes</td>\n",
       "      <td>Engineer</td>\n",
       "      <td>1.0</td>\n",
       "      <td>Low</td>\n",
       "      <td>1.0</td>\n",
       "      <td>Cat_6</td>\n",
       "      <td>B</td>\n",
       "    </tr>\n",
       "    <tr>\n",
       "      <th>3</th>\n",
       "      <td>461735</td>\n",
       "      <td>Male</td>\n",
       "      <td>Yes</td>\n",
       "      <td>67</td>\n",
       "      <td>Yes</td>\n",
       "      <td>Lawyer</td>\n",
       "      <td>0.0</td>\n",
       "      <td>High</td>\n",
       "      <td>2.0</td>\n",
       "      <td>Cat_6</td>\n",
       "      <td>B</td>\n",
       "    </tr>\n",
       "    <tr>\n",
       "      <th>4</th>\n",
       "      <td>462669</td>\n",
       "      <td>Female</td>\n",
       "      <td>Yes</td>\n",
       "      <td>40</td>\n",
       "      <td>Yes</td>\n",
       "      <td>Entertainment</td>\n",
       "      <td>NaN</td>\n",
       "      <td>High</td>\n",
       "      <td>6.0</td>\n",
       "      <td>Cat_6</td>\n",
       "      <td>A</td>\n",
       "    </tr>\n",
       "  </tbody>\n",
       "</table>\n",
       "</div>"
      ],
      "text/plain": [
       "       ID  Gender Ever_Married  Age Graduated     Profession  Work_Experience  \\\n",
       "0  462809    Male           No   22        No     Healthcare              1.0   \n",
       "1  462643  Female          Yes   38       Yes       Engineer              NaN   \n",
       "2  466315  Female          Yes   67       Yes       Engineer              1.0   \n",
       "3  461735    Male          Yes   67       Yes         Lawyer              0.0   \n",
       "4  462669  Female          Yes   40       Yes  Entertainment              NaN   \n",
       "\n",
       "  Spending_Score  Family_Size  Var_1 Segmentation  \n",
       "0            Low          4.0  Cat_4            D  \n",
       "1        Average          3.0  Cat_4            A  \n",
       "2            Low          1.0  Cat_6            B  \n",
       "3           High          2.0  Cat_6            B  \n",
       "4           High          6.0  Cat_6            A  "
      ]
     },
     "execution_count": 12,
     "metadata": {},
     "output_type": "execute_result"
    }
   ],
   "source": [
    "si = SimpleImputer(strategy = \"most_frequent\")\n",
    "ar = si.fit_transform(df_train[categorical_features])\n",
    "df_train_Categorical = pd.DataFrame(ar, columns = categorical_features)\n",
    "\n",
    "for f in categorical_features:\n",
    "    df_train[f] = df_train_Categorical[f]\n",
    "\n",
    "df_train.head()"
   ]
  },
  {
   "cell_type": "markdown",
   "id": "caebd801",
   "metadata": {},
   "source": [
    "#### 3.2.2. Numeric"
   ]
  },
  {
   "cell_type": "code",
   "execution_count": 13,
   "id": "363e593e",
   "metadata": {},
   "outputs": [
    {
     "data": {
      "image/png": "[encoded data removed]",
      "text/plain": [
       "<Figure size 1800x600 with 3 Axes>"
      ]
     },
     "metadata": {},
     "output_type": "display_data"
    }
   ],
   "source": [
    "fig, axes = plt.subplots(1, 3, figsize = (18, 6))\n",
    "\n",
    "for ax, f in zip(axes, numeric_features):\n",
    "    df_train.boxplot(column = f, ax = ax)\n",
    "    ax.set_title(f\"{f} - skewness {df_train[f].skew().round(2)}\")\n",
    "\n",
    "plt.tight_layout()\n",
    "plt.show()"
   ]
  },
  {
   "cell_type": "code",
   "execution_count": 14,
   "id": "10f30bf0",
   "metadata": {},
   "outputs": [
    {
     "name": "stdout",
     "output_type": "stream",
     "text": [
      "Total missing by columns:\n"
     ]
    },
    {
     "data": {
      "text/plain": [
       "Age                0\n",
       "Work_Experience    0\n",
       "Family_Size        0\n",
       "dtype: int64"
      ]
     },
     "execution_count": 14,
     "metadata": {},
     "output_type": "execute_result"
    }
   ],
   "source": [
    "for f in numeric_features:\n",
    "    df_train[f] = df_train[f].fillna(df_train[f].median())\n",
    "\n",
    "print(\"Total missing by columns:\")\n",
    "df_train[numeric_features].isnull().sum()"
   ]
  },
  {
   "cell_type": "code",
   "execution_count": 15,
   "id": "a2a12058",
   "metadata": {},
   "outputs": [
    {
     "name": "stdout",
     "output_type": "stream",
     "text": [
      "Total missing by columns:\n"
     ]
    },
    {
     "data": {
      "text/plain": [
       "ID                 0\n",
       "Gender             0\n",
       "Ever_Married       0\n",
       "Age                0\n",
       "Graduated          0\n",
       "Profession         0\n",
       "Work_Experience    0\n",
       "Spending_Score     0\n",
       "Family_Size        0\n",
       "Var_1              0\n",
       "Segmentation       0\n",
       "dtype: int64"
      ]
     },
     "execution_count": 15,
     "metadata": {},
     "output_type": "execute_result"
    }
   ],
   "source": [
    "print(\"Total missing by columns:\")\n",
    "df_train.isnull().sum()"
   ]
  },
  {
   "cell_type": "markdown",
   "id": "lPN-q4VE12D-",
   "metadata": {
    "id": "lPN-q4VE12D-"
   },
   "source": [
    "### 3.3. Exploratory Data Analysis (EDA)\n",
    "\n",
    "Explore the data distribucion."
   ]
  },
  {
   "cell_type": "markdown",
   "id": "lrtKMoxt2AgS",
   "metadata": {
    "id": "lrtKMoxt2AgS"
   },
   "source": [
    "#### 3.3.1. Categorical"
   ]
  },
  {
   "cell_type": "code",
   "execution_count": 16,
   "id": "IYWGB-2H1-0z",
   "metadata": {
    "executionInfo": {
     "elapsed": 323,
     "status": "ok",
     "timestamp": 1723520867097,
     "user": {
      "displayName": "Wilder Rivera",
      "userId": "00908347802429331518"
     },
     "user_tz": 240
    },
    "id": "IYWGB-2H1-0z"
   },
   "outputs": [],
   "source": [
    "from scipy.stats import chi2_contingency"
   ]
  },
  {
   "cell_type": "code",
   "execution_count": 17,
   "id": "MDARovaw1-x9",
   "metadata": {
    "colab": {
     "base_uri": "https://localhost:8080/",
     "height": 569
    },
    "executionInfo": {
     "elapsed": 530,
     "status": "ok",
     "timestamp": 1723520924337,
     "user": {
      "displayName": "Wilder Rivera",
      "userId": "00908347802429331518"
     },
     "user_tz": 240
    },
    "id": "MDARovaw1-x9",
    "outputId": "2f2fbc3f-6a40-42f6-af35-678023c339d8"
   },
   "outputs": [
    {
     "data": {
      "image/png": "[encoded data removed]",
      "text/plain": [
       "<Figure size 1000x600 with 1 Axes>"
      ]
     },
     "metadata": {},
     "output_type": "display_data"
    }
   ],
   "source": [
    "gender_count = df_train[\"Gender\"].value_counts()\n",
    "\n",
    "plt.figure(figsize = (10, 6))\n",
    "plt.barh(gender_count.index, gender_count.values)\n",
    "plt.xlabel(\"Count\")\n",
    "plt.ylabel(\"Gender\")\n",
    "plt.title(\"Distribution of Gender\")\n",
    "plt.gca().invert_yaxis()\n",
    "plt.show()"
   ]
  },
  {
   "cell_type": "code",
   "execution_count": 18,
   "id": "Iu7hczXe3q3i",
   "metadata": {
    "colab": {
     "base_uri": "https://localhost:8080/"
    },
    "executionInfo": {
     "elapsed": 387,
     "status": "ok",
     "timestamp": 1723521276765,
     "user": {
      "displayName": "Wilder Rivera",
      "userId": "00908347802429331518"
     },
     "user_tz": 240
    },
    "id": "Iu7hczXe3q3i",
    "outputId": "a108a147-1b1a-4220-c181-d47cb30b3739"
   },
   "outputs": [
    {
     "name": "stdout",
     "output_type": "stream",
     "text": [
      "Reject the null hypothesis: There is a significant association between Gender and Segmentation.\n"
     ]
    }
   ],
   "source": [
    "contingency_table = pd.crosstab(df_train[\"Gender\"], df_train[target_variable])\n",
    "chi2, p, dof, expected = chi2_contingency(contingency_table)\n",
    "if p < 0.05:\n",
    "    print(f\"Reject the null hypothesis: There is a significant association between Gender and {target_variable}.\")\n",
    "else:\n",
    "    print(f\"Fail to reject the null hypothesis: No significant association between Gender and {target_variable}.\")"
   ]
  },
  {
   "cell_type": "code",
   "execution_count": 19,
   "id": "J0SnHHUT1-u4",
   "metadata": {
    "colab": {
     "base_uri": "https://localhost:8080/",
     "height": 569
    },
    "executionInfo": {
     "elapsed": 343,
     "status": "ok",
     "timestamp": 1723521189169,
     "user": {
      "displayName": "Wilder Rivera",
      "userId": "00908347802429331518"
     },
     "user_tz": 240
    },
    "id": "J0SnHHUT1-u4",
    "outputId": "258b1e37-b411-4c1d-9db1-4adb126865b2"
   },
   "outputs": [
    {
     "data": {
      "image/png": "[encoded data removed]",
      "text/plain": [
       "<Figure size 1000x600 with 1 Axes>"
      ]
     },
     "metadata": {},
     "output_type": "display_data"
    }
   ],
   "source": [
    "ever_married_count = df_train[\"Ever_Married\"].value_counts()\n",
    "\n",
    "plt.figure(figsize = (10, 6))\n",
    "plt.barh(ever_married_count.index, ever_married_count.values)\n",
    "plt.xlabel(\"Count\")\n",
    "plt.ylabel(\"Ever_Married\")\n",
    "plt.title(\"Distribution of Ever_Married\")\n",
    "plt.gca().invert_yaxis()\n",
    "plt.show()"
   ]
  },
  {
   "cell_type": "code",
   "execution_count": 20,
   "id": "VP59sYu23641",
   "metadata": {
    "colab": {
     "base_uri": "https://localhost:8080/"
    },
    "executionInfo": {
     "elapsed": 322,
     "status": "ok",
     "timestamp": 1723521293398,
     "user": {
      "displayName": "Wilder Rivera",
      "userId": "00908347802429331518"
     },
     "user_tz": 240
    },
    "id": "VP59sYu23641",
    "outputId": "7bc9e92a-f14b-49c3-9017-332fa34d6769"
   },
   "outputs": [
    {
     "name": "stdout",
     "output_type": "stream",
     "text": [
      "Reject the null hypothesis: There is a significant association between Ever_Married and Segmentation.\n"
     ]
    }
   ],
   "source": [
    "contingency_table = pd.crosstab(df_train[\"Ever_Married\"], df_train[target_variable])\n",
    "chi2, p, dof, expected = chi2_contingency(contingency_table)\n",
    "if p < 0.05:\n",
    "    print(f\"Reject the null hypothesis: There is a significant association between Ever_Married and {target_variable}.\")\n",
    "else:\n",
    "    print(f\"Fail to reject the null hypothesis: No significant association between Ever_Married and {target_variable}.\")"
   ]
  },
  {
   "cell_type": "code",
   "execution_count": 21,
   "id": "qJUu7Ahy1-rm",
   "metadata": {
    "colab": {
     "base_uri": "https://localhost:8080/",
     "height": 569
    },
    "executionInfo": {
     "elapsed": 6,
     "status": "ok",
     "timestamp": 1723521190623,
     "user": {
      "displayName": "Wilder Rivera",
      "userId": "00908347802429331518"
     },
     "user_tz": 240
    },
    "id": "qJUu7Ahy1-rm",
    "outputId": "f7bcceef-c08f-42b9-bf24-4b2f14a10604"
   },
   "outputs": [
    {
     "data": {
      "image/png": "[encoded data removed]",
      "text/plain": [
       "<Figure size 1000x600 with 1 Axes>"
      ]
     },
     "metadata": {},
     "output_type": "display_data"
    }
   ],
   "source": [
    "graduated_count = df_train[\"Graduated\"].value_counts()\n",
    "\n",
    "plt.figure(figsize = (10, 6))\n",
    "plt.barh(graduated_count.index, graduated_count.values)\n",
    "plt.xlabel(\"Count\")\n",
    "plt.ylabel(\"Graduated\")\n",
    "plt.title(\"Distribution of Graduated\")\n",
    "plt.gca().invert_yaxis()\n",
    "plt.show()"
   ]
  },
  {
   "cell_type": "code",
   "execution_count": 22,
   "id": "_KokCn1b4Ab6",
   "metadata": {
    "colab": {
     "base_uri": "https://localhost:8080/"
    },
    "executionInfo": {
     "elapsed": 303,
     "status": "ok",
     "timestamp": 1723521313102,
     "user": {
      "displayName": "Wilder Rivera",
      "userId": "00908347802429331518"
     },
     "user_tz": 240
    },
    "id": "_KokCn1b4Ab6",
    "outputId": "2861d9f5-3fb1-4dd0-88a6-06addf2413ee"
   },
   "outputs": [
    {
     "name": "stdout",
     "output_type": "stream",
     "text": [
      "Reject the null hypothesis: There is a significant association between Graduated and Segmentation.\n"
     ]
    }
   ],
   "source": [
    "contingency_table = pd.crosstab(df_train[\"Graduated\"], df_train[target_variable])\n",
    "chi2, p, dof, expected = chi2_contingency(contingency_table)\n",
    "if p < 0.05:\n",
    "    print(f\"Reject the null hypothesis: There is a significant association between Graduated and {target_variable}.\")\n",
    "else:\n",
    "    print(f\"Fail to reject the null hypothesis: No significant association between Graduated and {target_variable}.\")"
   ]
  },
  {
   "cell_type": "code",
   "execution_count": 23,
   "id": "3M3Lnsd31-o1",
   "metadata": {
    "colab": {
     "base_uri": "https://localhost:8080/",
     "height": 569
    },
    "executionInfo": {
     "elapsed": 844,
     "status": "ok",
     "timestamp": 1723521192343,
     "user": {
      "displayName": "Wilder Rivera",
      "userId": "00908347802429331518"
     },
     "user_tz": 240
    },
    "id": "3M3Lnsd31-o1",
    "outputId": "3e6bea8e-6937-44a0-e375-e2965cefe0ae"
   },
   "outputs": [
    {
     "data": {
      "image/png": "[encoded data removed]",
      "text/plain": [
       "<Figure size 1000x600 with 1 Axes>"
      ]
     },
     "metadata": {},
     "output_type": "display_data"
    }
   ],
   "source": [
    "profession_count = df_train[\"Profession\"].value_counts()\n",
    "\n",
    "plt.figure(figsize = (10, 6))\n",
    "plt.barh(profession_count.index, profession_count.values)\n",
    "plt.xlabel(\"Count\")\n",
    "plt.ylabel(\"Profession\")\n",
    "plt.title(\"Distribution of Profession\")\n",
    "plt.gca().invert_yaxis()\n",
    "plt.show()"
   ]
  },
  {
   "cell_type": "code",
   "execution_count": 24,
   "id": "od47jdmt4Dti",
   "metadata": {
    "colab": {
     "base_uri": "https://localhost:8080/"
    },
    "executionInfo": {
     "elapsed": 308,
     "status": "ok",
     "timestamp": 1723521329764,
     "user": {
      "displayName": "Wilder Rivera",
      "userId": "00908347802429331518"
     },
     "user_tz": 240
    },
    "id": "od47jdmt4Dti",
    "outputId": "141e29c2-d2d9-4811-cf38-b25ba33f6683"
   },
   "outputs": [
    {
     "name": "stdout",
     "output_type": "stream",
     "text": [
      "Reject the null hypothesis: There is a significant association between Profession and Segmentation.\n"
     ]
    }
   ],
   "source": [
    "contingency_table = pd.crosstab(df_train[\"Profession\"], df_train[target_variable])\n",
    "chi2, p, dof, expected = chi2_contingency(contingency_table)\n",
    "if p < 0.05:\n",
    "    print(f\"Reject the null hypothesis: There is a significant association between Profession and {target_variable}.\")\n",
    "else:\n",
    "    print(f\"Fail to reject the null hypothesis: No significant association between Profession and {target_variable}.\")"
   ]
  },
  {
   "cell_type": "code",
   "execution_count": 25,
   "id": "bS3coLW01-lr",
   "metadata": {
    "colab": {
     "base_uri": "https://localhost:8080/",
     "height": 569
    },
    "executionInfo": {
     "elapsed": 11,
     "status": "ok",
     "timestamp": 1723521192343,
     "user": {
      "displayName": "Wilder Rivera",
      "userId": "00908347802429331518"
     },
     "user_tz": 240
    },
    "id": "bS3coLW01-lr",
    "outputId": "6622ebb1-d2ad-477b-c6ce-7bf5dc5af5f9"
   },
   "outputs": [
    {
     "data": {
      "image/png": "[encoded data removed]",
      "text/plain": [
       "<Figure size 1000x600 with 1 Axes>"
      ]
     },
     "metadata": {},
     "output_type": "display_data"
    }
   ],
   "source": [
    "spending_score_count = df_train[\"Spending_Score\"].value_counts()\n",
    "\n",
    "plt.figure(figsize = (10, 6))\n",
    "plt.barh(spending_score_count.index, spending_score_count.values)\n",
    "plt.xlabel(\"Count\")\n",
    "plt.ylabel(\"Spending_Score\")\n",
    "plt.title(\"Distribution of Spending_Score\")\n",
    "plt.gca().invert_yaxis()\n",
    "plt.show()"
   ]
  },
  {
   "cell_type": "code",
   "execution_count": 26,
   "id": "M6gLwpne4I1w",
   "metadata": {
    "colab": {
     "base_uri": "https://localhost:8080/"
    },
    "executionInfo": {
     "elapsed": 287,
     "status": "ok",
     "timestamp": 1723521346692,
     "user": {
      "displayName": "Wilder Rivera",
      "userId": "00908347802429331518"
     },
     "user_tz": 240
    },
    "id": "M6gLwpne4I1w",
    "outputId": "499e192b-9634-4608-e963-3997ae7361c5"
   },
   "outputs": [
    {
     "name": "stdout",
     "output_type": "stream",
     "text": [
      "Reject the null hypothesis: There is a significant association between Spending_Score and Segmentation.\n"
     ]
    }
   ],
   "source": [
    "contingency_table = pd.crosstab(df_train[\"Spending_Score\"], df_train[target_variable])\n",
    "chi2, p, dof, expected = chi2_contingency(contingency_table)\n",
    "if p < 0.05:\n",
    "    print(f\"Reject the null hypothesis: There is a significant association between Spending_Score and {target_variable}.\")\n",
    "else:\n",
    "    print(f\"Fail to reject the null hypothesis: No significant association between Spending_Score and {target_variable}.\")"
   ]
  },
  {
   "cell_type": "code",
   "execution_count": 27,
   "id": "l_cq_YQI26fe",
   "metadata": {
    "colab": {
     "base_uri": "https://localhost:8080/",
     "height": 569
    },
    "executionInfo": {
     "elapsed": 555,
     "status": "ok",
     "timestamp": 1723521193482,
     "user": {
      "displayName": "Wilder Rivera",
      "userId": "00908347802429331518"
     },
     "user_tz": 240
    },
    "id": "l_cq_YQI26fe",
    "outputId": "3853556d-fc88-46f7-e04c-9161d3b1a8fc"
   },
   "outputs": [
    {
     "data": {
      "image/png": "[encoded data removed]",
      "text/plain": [
       "<Figure size 1000x600 with 1 Axes>"
      ]
     },
     "metadata": {},
     "output_type": "display_data"
    }
   ],
   "source": [
    "var_1_count = df_train[\"Var_1\"].value_counts()\n",
    "\n",
    "plt.figure(figsize = (10, 6))\n",
    "plt.barh(var_1_count.index, var_1_count.values)\n",
    "plt.xlabel(\"Count\")\n",
    "plt.ylabel(\"Var_1\")\n",
    "plt.title(\"Distribution of Var_1\")\n",
    "plt.gca().invert_yaxis()\n",
    "plt.show()"
   ]
  },
  {
   "cell_type": "code",
   "execution_count": 28,
   "id": "2yWvn5I826cS",
   "metadata": {
    "colab": {
     "base_uri": "https://localhost:8080/"
    },
    "executionInfo": {
     "elapsed": 302,
     "status": "ok",
     "timestamp": 1723521359990,
     "user": {
      "displayName": "Wilder Rivera",
      "userId": "00908347802429331518"
     },
     "user_tz": 240
    },
    "id": "2yWvn5I826cS",
    "outputId": "79ebbea0-faa1-4ead-fa8c-08faa80054e4"
   },
   "outputs": [
    {
     "name": "stdout",
     "output_type": "stream",
     "text": [
      "Reject the null hypothesis: There is a significant association between Var_1 and Segmentation.\n"
     ]
    }
   ],
   "source": [
    "contingency_table = pd.crosstab(df_train[\"Var_1\"], df_train[target_variable])\n",
    "chi2, p, dof, expected = chi2_contingency(contingency_table)\n",
    "if p < 0.05:\n",
    "    print(f\"Reject the null hypothesis: There is a significant association between Var_1 and {target_variable}.\")\n",
    "else:\n",
    "    print(f\"Fail to reject the null hypothesis: No significant association between Var_1 and {target_variable}.\")"
   ]
  },
  {
   "cell_type": "markdown",
   "id": "rKd5Mg104Ttv",
   "metadata": {
    "id": "rKd5Mg104Ttv"
   },
   "source": [
    "#### 3.3.2. Numerical\n",
    "\n",
    "Explore data correlation."
   ]
  },
  {
   "cell_type": "code",
   "execution_count": 29,
   "id": "9dWh-3ZC26ZS",
   "metadata": {
    "colab": {
     "base_uri": "https://localhost:8080/",
     "height": 175
    },
    "executionInfo": {
     "elapsed": 330,
     "status": "ok",
     "timestamp": 1723521428928,
     "user": {
      "displayName": "Wilder Rivera",
      "userId": "00908347802429331518"
     },
     "user_tz": 240
    },
    "id": "9dWh-3ZC26ZS",
    "outputId": "e4c31bb8-74f4-497b-d626-587134a85822"
   },
   "outputs": [
    {
     "data": {
      "text/html": [
       "<div>\n",
       "<style scoped>\n",
       "    .dataframe tbody tr th:only-of-type {\n",
       "        vertical-align: middle;\n",
       "    }\n",
       "\n",
       "    .dataframe tbody tr th {\n",
       "        vertical-align: top;\n",
       "    }\n",
       "\n",
       "    .dataframe thead th {\n",
       "        text-align: right;\n",
       "    }\n",
       "</style>\n",
       "<table border=\"1\" class=\"dataframe\">\n",
       "  <thead>\n",
       "    <tr style=\"text-align: right;\">\n",
       "      <th></th>\n",
       "      <th>Age</th>\n",
       "      <th>Work_Experience</th>\n",
       "      <th>Family_Size</th>\n",
       "    </tr>\n",
       "  </thead>\n",
       "  <tbody>\n",
       "    <tr>\n",
       "      <th>count</th>\n",
       "      <td>8068.000000</td>\n",
       "      <td>8068.000000</td>\n",
       "      <td>8068.000000</td>\n",
       "    </tr>\n",
       "    <tr>\n",
       "      <th>mean</th>\n",
       "      <td>43.466906</td>\n",
       "      <td>2.472980</td>\n",
       "      <td>2.856346</td>\n",
       "    </tr>\n",
       "    <tr>\n",
       "      <th>std</th>\n",
       "      <td>16.711696</td>\n",
       "      <td>3.265248</td>\n",
       "      <td>1.499577</td>\n",
       "    </tr>\n",
       "    <tr>\n",
       "      <th>min</th>\n",
       "      <td>18.000000</td>\n",
       "      <td>0.000000</td>\n",
       "      <td>1.000000</td>\n",
       "    </tr>\n",
       "    <tr>\n",
       "      <th>25%</th>\n",
       "      <td>30.000000</td>\n",
       "      <td>0.000000</td>\n",
       "      <td>2.000000</td>\n",
       "    </tr>\n",
       "    <tr>\n",
       "      <th>50%</th>\n",
       "      <td>40.000000</td>\n",
       "      <td>1.000000</td>\n",
       "      <td>3.000000</td>\n",
       "    </tr>\n",
       "    <tr>\n",
       "      <th>75%</th>\n",
       "      <td>53.000000</td>\n",
       "      <td>4.000000</td>\n",
       "      <td>4.000000</td>\n",
       "    </tr>\n",
       "    <tr>\n",
       "      <th>max</th>\n",
       "      <td>89.000000</td>\n",
       "      <td>14.000000</td>\n",
       "      <td>9.000000</td>\n",
       "    </tr>\n",
       "  </tbody>\n",
       "</table>\n",
       "</div>"
      ],
      "text/plain": [
       "               Age  Work_Experience  Family_Size\n",
       "count  8068.000000      8068.000000  8068.000000\n",
       "mean     43.466906         2.472980     2.856346\n",
       "std      16.711696         3.265248     1.499577\n",
       "min      18.000000         0.000000     1.000000\n",
       "25%      30.000000         0.000000     2.000000\n",
       "50%      40.000000         1.000000     3.000000\n",
       "75%      53.000000         4.000000     4.000000\n",
       "max      89.000000        14.000000     9.000000"
      ]
     },
     "execution_count": 29,
     "metadata": {},
     "output_type": "execute_result"
    }
   ],
   "source": [
    "df_train[numeric_features].describe()"
   ]
  },
  {
   "cell_type": "code",
   "execution_count": 30,
   "id": "7ffef4ca",
   "metadata": {},
   "outputs": [
    {
     "data": {
      "image/png": "[encoded data removed]",
      "text/plain": [
       "<Figure size 1500x500 with 3 Axes>"
      ]
     },
     "metadata": {},
     "output_type": "display_data"
    }
   ],
   "source": [
    "fig, axes = plt.subplots(1, 3, figsize = (15, 5))\n",
    "fig.tight_layout(pad = 4.5)\n",
    "fig.suptitle(\"Distrbutions\")\n",
    "\n",
    "for ax, f in zip(axes, numeric_features):\n",
    "    ax.hist(df_train[f], bins = 20, color = \"teal\")\n",
    "    ax.set_title(f\"{f} - skewness: {df_train[f].skew().round(2)}\")\n",
    "    ax.set_ylabel(\"Frequency\")\n",
    "    ax.set_xlabel(\"Range\")\n",
    "    ax.axvline(x = df_train[f].mean(), linestyle = \"dashed\")\n",
    "    ax.annotate(\"Mean\", xy = (df_train[f].mean(), 140), xytext=(df_train[f].mean()*1.5, 140), arrowprops = dict(facecolor = \"black\"))\n",
    "    \n",
    "plt.show()"
   ]
  },
  {
   "cell_type": "code",
   "execution_count": 31,
   "id": "9zOPB_7r26R4",
   "metadata": {
    "colab": {
     "base_uri": "https://localhost:8080/",
     "height": 700
    },
    "executionInfo": {
     "elapsed": 707,
     "status": "ok",
     "timestamp": 1723521468517,
     "user": {
      "displayName": "Wilder Rivera",
      "userId": "00908347802429331518"
     },
     "user_tz": 240
    },
    "id": "9zOPB_7r26R4",
    "outputId": "b32a88b7-ca3a-4657-acc9-820e3664a7fe"
   },
   "outputs": [
    {
     "data": {
      "image/png": "[encoded data removed]",
      "text/plain": [
       "<Figure size 1000x800 with 2 Axes>"
      ]
     },
     "metadata": {},
     "output_type": "display_data"
    }
   ],
   "source": [
    "correlation_matrix = df_train[numeric_features].corr()\n",
    "\n",
    "plt.figure(figsize=(10, 8))\n",
    "sns.heatmap(correlation_matrix, annot = True, cmap = \"coolwarm\", square = True)\n",
    "plt.title(\"Pearson Correlation Heatmap\")\n",
    "plt.show()"
   ]
  },
  {
   "cell_type": "markdown",
   "id": "bWaZVfRC4uBm",
   "metadata": {
    "id": "bWaZVfRC4uBm"
   },
   "source": [
    "#### 3.3.3. Target variable"
   ]
  },
  {
   "cell_type": "code",
   "execution_count": 32,
   "id": "rHeDDHnI4tu1",
   "metadata": {
    "colab": {
     "base_uri": "https://localhost:8080/",
     "height": 569
    },
    "executionInfo": {
     "elapsed": 1236,
     "status": "ok",
     "timestamp": 1723521541365,
     "user": {
      "displayName": "Wilder Rivera",
      "userId": "00908347802429331518"
     },
     "user_tz": 240
    },
    "id": "rHeDDHnI4tu1",
    "outputId": "8e955dbd-550a-4ceb-8606-f337bac0a28b"
   },
   "outputs": [
    {
     "data": {
      "image/png": "[encoded data removed]",
      "text/plain": [
       "<Figure size 1000x600 with 1 Axes>"
      ]
     },
     "metadata": {},
     "output_type": "display_data"
    }
   ],
   "source": [
    "segmentation_count = df_train[target_variable].value_counts()\n",
    "\n",
    "plt.figure(figsize = (10, 6))\n",
    "plt.barh(segmentation_count.index, segmentation_count.values)\n",
    "plt.xlabel(\"Count\")\n",
    "plt.ylabel(\"Segmentation\")\n",
    "plt.title(\"Distribution of Segmentation\")\n",
    "plt.gca().invert_yaxis()\n",
    "plt.show()"
   ]
  },
  {
   "cell_type": "markdown",
   "id": "2roe86_u5K4P",
   "metadata": {
    "id": "2roe86_u5K4P"
   },
   "source": [
    "#### 3.3.4. Conclusion\n",
    "\n",
    "* **For categorical features**:\n",
    "  * Classes are not equally distributed, so there is a imbalance class problem.\n",
    "  * All features have a significant association with target variable, so none of them should be removed.\n",
    "* **For numerica features**:\n",
    "  * There is no a strong correlation among variables. So, none of them should be removed because of redundancy.\n",
    "  * All have a skew distribution, so the best option to fill missing values was the median.\n",
    "* **For target variable**:\n",
    "  * Classes are not equally distributed, so there is a imbalance class problem."
   ]
  },
  {
   "cell_type": "markdown",
   "id": "j7a3JvCW5IaW",
   "metadata": {
    "id": "j7a3JvCW5IaW"
   },
   "source": [
    "#### 3.3.5. Save file"
   ]
  },
  {
   "cell_type": "code",
   "execution_count": 33,
   "id": "SeX3N_Lg4tq_",
   "metadata": {
    "id": "SeX3N_Lg4tq_"
   },
   "outputs": [],
   "source": [
    "path_csv_clean = \"train_cleaned.csv\"\n",
    "df_train.drop([\"ID\"], axis = 1, inplace = True)\n",
    "df_train.to_csv(os.path.join(PATH_DATA, path_csv_clean), index = False)"
   ]
  }
 ],
 "metadata": {
  "colab": {
   "provenance": []
  },
  "kernelspec": {
   "display_name": "base",
   "language": "python",
   "name": "python3"
  },
  "language_info": {
   "codemirror_mode": {
    "name": "ipython",
    "version": 3
   },
   "file_extension": ".py",
   "mimetype": "text/x-python",
   "name": "python",
   "nbconvert_exporter": "python",
   "pygments_lexer": "ipython3",
   "version": "3.11.9"
  }
 },
 "nbformat": 4,
 "nbformat_minor": 5
}
