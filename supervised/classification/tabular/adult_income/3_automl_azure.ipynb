{
  "cells": [
    {
      "cell_type": "markdown",
      "source": [
        "# Adult Income\n",
        "\n",
        "This notebook focuses on modeling using Auto machine learning using azure.\n",
        "\n",
        "Workflow:\n",
        "\n",
        "1. Create storage account and container.\n",
        "2. Upload CSV file into container.\n",
        "3. Create Azure ML Workspace.\n",
        "4. Create datastore.\n",
        "5. Create MLTable data asset.\n",
        "6. Create ML pipeline.\n",
        "\n",
        "![Workflow](img/azure_ml_workflow.png)"
      ],
      "metadata": {}
    },
    {
      "cell_type": "markdown",
      "source": [
        "## 1. Load credentials"
      ],
      "metadata": {
        "nteract": {
          "transient": {
            "deleting": false
          }
        }
      }
    },
    {
      "cell_type": "code",
      "source": [
        "from azure.ai.ml import MLClient\n",
        "from azure.identity import DefaultAzureCredential"
      ],
      "outputs": [],
      "execution_count": 9,
      "metadata": {
        "gather": {
          "logged": 1726955841962
        }
      }
    },
    {
      "cell_type": "code",
      "source": [
        "credential = DefaultAzureCredential()\n",
        "ml_client = MLClient.from_config(credential = credential)"
      ],
      "outputs": [
        {
          "output_type": "stream",
          "name": "stderr",
          "text": "Found the config file in: /config.json\n"
        }
      ],
      "execution_count": 2,
      "metadata": {
        "jupyter": {
          "source_hidden": false,
          "outputs_hidden": false
        },
        "nteract": {
          "transient": {
            "deleting": false
          }
        },
        "gather": {
          "logged": 1726954649608
        }
      }
    },
    {
      "cell_type": "markdown",
      "source": [
        "## 2. Data preparation"
      ],
      "metadata": {
        "nteract": {
          "transient": {
            "deleting": false
          }
        }
      }
    },
    {
      "cell_type": "code",
      "source": [
        "import os\n",
        "from dotenv import load_dotenv"
      ],
      "outputs": [],
      "execution_count": null,
      "metadata": {
        "jupyter": {
          "source_hidden": false,
          "outputs_hidden": false
        },
        "nteract": {
          "transient": {
            "deleting": false
          }
        }
      }
    },
    {
      "cell_type": "markdown",
      "source": [
        "### 2.1. Get datastore"
      ],
      "metadata": {
        "nteract": {
          "transient": {
            "deleting": false
          }
        }
      }
    },
    {
      "cell_type": "code",
      "source": [
        "from azure.ai.ml.entities import AzureBlobDatastore\n",
        "from azure.ai.ml.entities import AccountKeyConfiguration"
      ],
      "outputs": [],
      "execution_count": 3,
      "metadata": {
        "jupyter": {
          "source_hidden": false,
          "outputs_hidden": false
        },
        "nteract": {
          "transient": {
            "deleting": false
          }
        },
        "gather": {
          "logged": 1726954661466
        }
      }
    },
    {
      "cell_type": "code",
      "source": [
        "load_dotenv()\n",
        "ai_storage_account_key = os.getenv(\"STORAGE_ACCOUNT_KEY\")\n",
        "storage_account_name = os.getenv(\"STORAGE_ACCOUNT_NAME\")\n",
        "container_name = os.getenv(\"CONTAINER_NAME\")\n",
        "datastore_name = \"workspacetabulardata\"\n",
        "\n",
        "try:\n",
        "    # Get datastore\n",
        "    datastore = ml_client.datastores.get(datastore_name)\n",
        "    print(f\"Datastore {datastore_name} found\")\n",
        "except:\n",
        "    # Create datastore in case it is not found\n",
        "    datastore = AzureBlobDatastore(\n",
        "        name = datastore_name,\n",
        "        description = \"Azure Blob Storage for custom tabular data\",\n",
        "        account_name = storage_account_name,\n",
        "        container_name = container_name,\n",
        "        protocol = \"https\",\n",
        "        credentials = AccountKeyConfiguration(\n",
        "            account_key = ai_storage_account_key\n",
        "        ),\n",
        "    )\n",
        "\n",
        "    ml_client.create_or_update(datastore)\n",
        "    print(f\"Datastore {datastore_name} created\")"
      ],
      "outputs": [
        {
          "output_type": "stream",
          "name": "stdout",
          "text": "Datastore workspacetabulardata found\n"
        }
      ],
      "execution_count": 12,
      "metadata": {
        "jupyter": {
          "source_hidden": false,
          "outputs_hidden": false
        },
        "nteract": {
          "transient": {
            "deleting": false
          }
        },
        "gather": {
          "logged": 1726957019302
        }
      }
    },
    {
      "cell_type": "markdown",
      "source": [
        "### 2.2. Create data asset (MLTable)"
      ],
      "metadata": {
        "nteract": {
          "transient": {
            "deleting": false
          }
        }
      }
    },
    {
      "cell_type": "code",
      "source": [
        "import mltable\n",
        "from mltable import MLTableHeaders, MLTableFileEncoding\n",
        "from azure.ai.ml.entities import Data\n",
        "from azure.ai.ml.constants import AssetTypes"
      ],
      "outputs": [],
      "execution_count": 17,
      "metadata": {
        "jupyter": {
          "source_hidden": false,
          "outputs_hidden": false
        },
        "nteract": {
          "transient": {
            "deleting": false
          }
        },
        "gather": {
          "logged": 1726957337947
        }
      }
    },
    {
      "cell_type": "markdown",
      "source": [
        "#### 2.2.1. Create"
      ],
      "metadata": {
        "nteract": {
          "transient": {
            "deleting": false
          }
        }
      }
    },
    {
      "cell_type": "code",
      "source": [
        "# Identify storage location\n",
        "file_name = \"adult_train_cleaned.csv\"\n",
        "path = f\"wasbs://{container_name}@{storage_account_name}.blob.core.windows.net/{file_name}\"\n",
        "\n",
        "# Create path for data files\n",
        "paths = [{\"file\": path}]\n",
        "\n",
        "# Create schema as an MLTable\n",
        "tbl = mltable.from_delimited_files(\n",
        "    paths = paths,\n",
        "    delimiter = \",\",\n",
        "    header = MLTableHeaders.all_files_same_headers,\n",
        "    infer_column_types = True,\n",
        "    include_path_column = False,\n",
        "    encoding = MLTableFileEncoding.utf8\n",
        ")\n",
        "\n",
        "# Show the first few records\n",
        "tbl.show(5)"
      ],
      "outputs": [
        {
          "output_type": "execute_result",
          "execution_count": 16,
          "data": {
            "text/plain": "   age         workclass  fnlwgt  education  education-num  \\\n0   39         State-gov   77516  Bachelors             13   \n1   50  Self-emp-not-inc   83311  Bachelors             13   \n2   38           Private  215646    HS-grad              9   \n3   53           Private  234721       11th              7   \n4   28           Private  338409  Bachelors             13   \n\n       marital-status         occupation   relationship   race     sex  \\\n0       Never-married       Adm-clerical  Not-in-family  White    Male   \n1  Married-civ-spouse    Exec-managerial        Husband  White    Male   \n2            Divorced  Handlers-cleaners  Not-in-family  White    Male   \n3  Married-civ-spouse  Handlers-cleaners        Husband  Black    Male   \n4  Married-civ-spouse     Prof-specialty           Wife  Black  Female   \n\n   capital-gain  capital-loss  hours-per-week native-country income  \n0          2174             0              40  United-States  <=50K  \n1             0             0              13  United-States  <=50K  \n2             0             0              40  United-States  <=50K  \n3             0             0              40  United-States  <=50K  \n4             0             0              40           Cuba  <=50K  ",
            "text/html": "<div>\n<style scoped>\n    .dataframe tbody tr th:only-of-type {\n        vertical-align: middle;\n    }\n\n    .dataframe tbody tr th {\n        vertical-align: top;\n    }\n\n    .dataframe thead th {\n        text-align: right;\n    }\n</style>\n<table border=\"1\" class=\"dataframe\">\n  <thead>\n    <tr style=\"text-align: right;\">\n      <th></th>\n      <th>age</th>\n      <th>workclass</th>\n      <th>fnlwgt</th>\n      <th>education</th>\n      <th>education-num</th>\n      <th>marital-status</th>\n      <th>occupation</th>\n      <th>relationship</th>\n      <th>race</th>\n      <th>sex</th>\n      <th>capital-gain</th>\n      <th>capital-loss</th>\n      <th>hours-per-week</th>\n      <th>native-country</th>\n      <th>income</th>\n    </tr>\n  </thead>\n  <tbody>\n    <tr>\n      <th>0</th>\n      <td>39</td>\n      <td>State-gov</td>\n      <td>77516</td>\n      <td>Bachelors</td>\n      <td>13</td>\n      <td>Never-married</td>\n      <td>Adm-clerical</td>\n      <td>Not-in-family</td>\n      <td>White</td>\n      <td>Male</td>\n      <td>2174</td>\n      <td>0</td>\n      <td>40</td>\n      <td>United-States</td>\n      <td>&lt;=50K</td>\n    </tr>\n    <tr>\n      <th>1</th>\n      <td>50</td>\n      <td>Self-emp-not-inc</td>\n      <td>83311</td>\n      <td>Bachelors</td>\n      <td>13</td>\n      <td>Married-civ-spouse</td>\n      <td>Exec-managerial</td>\n      <td>Husband</td>\n      <td>White</td>\n      <td>Male</td>\n      <td>0</td>\n      <td>0</td>\n      <td>13</td>\n      <td>United-States</td>\n      <td>&lt;=50K</td>\n    </tr>\n    <tr>\n      <th>2</th>\n      <td>38</td>\n      <td>Private</td>\n      <td>215646</td>\n      <td>HS-grad</td>\n      <td>9</td>\n      <td>Divorced</td>\n      <td>Handlers-cleaners</td>\n      <td>Not-in-family</td>\n      <td>White</td>\n      <td>Male</td>\n      <td>0</td>\n      <td>0</td>\n      <td>40</td>\n      <td>United-States</td>\n      <td>&lt;=50K</td>\n    </tr>\n    <tr>\n      <th>3</th>\n      <td>53</td>\n      <td>Private</td>\n      <td>234721</td>\n      <td>11th</td>\n      <td>7</td>\n      <td>Married-civ-spouse</td>\n      <td>Handlers-cleaners</td>\n      <td>Husband</td>\n      <td>Black</td>\n      <td>Male</td>\n      <td>0</td>\n      <td>0</td>\n      <td>40</td>\n      <td>United-States</td>\n      <td>&lt;=50K</td>\n    </tr>\n    <tr>\n      <th>4</th>\n      <td>28</td>\n      <td>Private</td>\n      <td>338409</td>\n      <td>Bachelors</td>\n      <td>13</td>\n      <td>Married-civ-spouse</td>\n      <td>Prof-specialty</td>\n      <td>Wife</td>\n      <td>Black</td>\n      <td>Female</td>\n      <td>0</td>\n      <td>0</td>\n      <td>40</td>\n      <td>Cuba</td>\n      <td>&lt;=50K</td>\n    </tr>\n  </tbody>\n</table>\n</div>"
          },
          "metadata": {}
        }
      ],
      "execution_count": 16,
      "metadata": {
        "jupyter": {
          "source_hidden": false,
          "outputs_hidden": false
        },
        "nteract": {
          "transient": {
            "deleting": false
          }
        },
        "gather": {
          "logged": 1726957267771
        }
      }
    },
    {
      "cell_type": "code",
      "source": [
        "# Save the data loading steps in an MLTable file\n",
        "mltable_folder = \"./adult_income\"\n",
        "tbl.save(mltable_folder)\n",
        "\n",
        "# Define the Data asset object\n",
        "data_asset_name = \"adult_income_mltable\"\n",
        "data_asset_version = \"1.0\"\n",
        "\n",
        "my_data = Data(\n",
        "    path = mltable_folder,\n",
        "    type = AssetTypes.MLTABLE,\n",
        "    description = \"Adult income dataset MLTable\",\n",
        "    name = data_asset_name,\n",
        "    version = data_asset_version\n",
        ")\n",
        "\n",
        "# Create the data asset in the workspace\n",
        "ml_client.data.create_or_update(my_data)"
      ],
      "outputs": [
        {
          "output_type": "stream",
          "name": "stderr",
          "text": "\r\u001b[32mUploading adult_income (0.0 MBs):   0%|          | 0/386 [00:00<?, ?it/s]\r\u001b[32mUploading adult_income (0.0 MBs): 100%|██████████| 386/386 [00:00<00:00, 3365907.16it/s]\n\u001b[39m\n\n"
        },
        {
          "output_type": "execute_result",
          "execution_count": 18,
          "data": {
            "text/plain": "Data({'path': 'azureml://subscriptions/2daeb7d0-57d4-43e5-911d-8abf10773fe3/resourcegroups/rg-test-01/workspaces/ws-ml-20240921/datastores/workspaceblobstore/paths/LocalUpload/02715d69992f4b4dc390839c9e207884/adult_income/', 'skip_validation': False, 'mltable_schema_url': None, 'referenced_uris': ['wasbs://mytabulardata@stml20240921.blob.core.windows.net/adult_train_cleaned.csv'], 'type': 'mltable', 'is_anonymous': False, 'auto_increment_version': False, 'auto_delete_setting': None, 'name': 'adult_income_mltable', 'description': 'Adult income dataset MLTable', 'tags': {}, 'properties': {}, 'print_as_yaml': False, 'id': '/subscriptions/2daeb7d0-57d4-43e5-911d-8abf10773fe3/resourceGroups/rg-test-01/providers/Microsoft.MachineLearningServices/workspaces/ws-ml-20240921/data/adult_income_mltable/versions/1.0', 'Resource__source_path': '', 'base_path': '/mnt/batch/tasks/shared/LS_root/mounts/clusters/cistandardds11v2/code/Users/200566948', 'creation_context': <azure.ai.ml.entities._system_data.SystemData object at 0x7ffba76cd9f0>, 'serialize': <msrest.serialization.Serializer object at 0x7ffba76cd8d0>, 'version': '1.0', 'latest_version': None, 'datastore': None})"
          },
          "metadata": {}
        }
      ],
      "execution_count": 18,
      "metadata": {
        "jupyter": {
          "source_hidden": false,
          "outputs_hidden": false
        },
        "nteract": {
          "transient": {
            "deleting": false
          }
        },
        "gather": {
          "logged": 1726957540178
        }
      }
    },
    {
      "cell_type": "markdown",
      "source": [
        "#### 2.2.2. Read"
      ],
      "metadata": {
        "nteract": {
          "transient": {
            "deleting": false
          }
        }
      }
    },
    {
      "cell_type": "code",
      "source": [
        "# Get data asset\n",
        "data_asset = ml_client.data.get(name = data_asset_name, version = data_asset_version)\n",
        "\n",
        "# Read data asset\n",
        "tbl = mltable.load(f\"azureml:/{data_asset.id}\")\n",
        "df = tbl.to_pandas_dataframe()\n",
        "df.head()"
      ],
      "outputs": [
        {
          "output_type": "execute_result",
          "execution_count": 19,
          "data": {
            "text/plain": "   age         workclass  fnlwgt  education  education-num  \\\n0   39         State-gov   77516  Bachelors             13   \n1   50  Self-emp-not-inc   83311  Bachelors             13   \n2   38           Private  215646    HS-grad              9   \n3   53           Private  234721       11th              7   \n4   28           Private  338409  Bachelors             13   \n\n       marital-status         occupation   relationship   race     sex  \\\n0       Never-married       Adm-clerical  Not-in-family  White    Male   \n1  Married-civ-spouse    Exec-managerial        Husband  White    Male   \n2            Divorced  Handlers-cleaners  Not-in-family  White    Male   \n3  Married-civ-spouse  Handlers-cleaners        Husband  Black    Male   \n4  Married-civ-spouse     Prof-specialty           Wife  Black  Female   \n\n   capital-gain  capital-loss  hours-per-week native-country income  \n0          2174             0              40  United-States  <=50K  \n1             0             0              13  United-States  <=50K  \n2             0             0              40  United-States  <=50K  \n3             0             0              40  United-States  <=50K  \n4             0             0              40           Cuba  <=50K  ",
            "text/html": "<div>\n<style scoped>\n    .dataframe tbody tr th:only-of-type {\n        vertical-align: middle;\n    }\n\n    .dataframe tbody tr th {\n        vertical-align: top;\n    }\n\n    .dataframe thead th {\n        text-align: right;\n    }\n</style>\n<table border=\"1\" class=\"dataframe\">\n  <thead>\n    <tr style=\"text-align: right;\">\n      <th></th>\n      <th>age</th>\n      <th>workclass</th>\n      <th>fnlwgt</th>\n      <th>education</th>\n      <th>education-num</th>\n      <th>marital-status</th>\n      <th>occupation</th>\n      <th>relationship</th>\n      <th>race</th>\n      <th>sex</th>\n      <th>capital-gain</th>\n      <th>capital-loss</th>\n      <th>hours-per-week</th>\n      <th>native-country</th>\n      <th>income</th>\n    </tr>\n  </thead>\n  <tbody>\n    <tr>\n      <th>0</th>\n      <td>39</td>\n      <td>State-gov</td>\n      <td>77516</td>\n      <td>Bachelors</td>\n      <td>13</td>\n      <td>Never-married</td>\n      <td>Adm-clerical</td>\n      <td>Not-in-family</td>\n      <td>White</td>\n      <td>Male</td>\n      <td>2174</td>\n      <td>0</td>\n      <td>40</td>\n      <td>United-States</td>\n      <td>&lt;=50K</td>\n    </tr>\n    <tr>\n      <th>1</th>\n      <td>50</td>\n      <td>Self-emp-not-inc</td>\n      <td>83311</td>\n      <td>Bachelors</td>\n      <td>13</td>\n      <td>Married-civ-spouse</td>\n      <td>Exec-managerial</td>\n      <td>Husband</td>\n      <td>White</td>\n      <td>Male</td>\n      <td>0</td>\n      <td>0</td>\n      <td>13</td>\n      <td>United-States</td>\n      <td>&lt;=50K</td>\n    </tr>\n    <tr>\n      <th>2</th>\n      <td>38</td>\n      <td>Private</td>\n      <td>215646</td>\n      <td>HS-grad</td>\n      <td>9</td>\n      <td>Divorced</td>\n      <td>Handlers-cleaners</td>\n      <td>Not-in-family</td>\n      <td>White</td>\n      <td>Male</td>\n      <td>0</td>\n      <td>0</td>\n      <td>40</td>\n      <td>United-States</td>\n      <td>&lt;=50K</td>\n    </tr>\n    <tr>\n      <th>3</th>\n      <td>53</td>\n      <td>Private</td>\n      <td>234721</td>\n      <td>11th</td>\n      <td>7</td>\n      <td>Married-civ-spouse</td>\n      <td>Handlers-cleaners</td>\n      <td>Husband</td>\n      <td>Black</td>\n      <td>Male</td>\n      <td>0</td>\n      <td>0</td>\n      <td>40</td>\n      <td>United-States</td>\n      <td>&lt;=50K</td>\n    </tr>\n    <tr>\n      <th>4</th>\n      <td>28</td>\n      <td>Private</td>\n      <td>338409</td>\n      <td>Bachelors</td>\n      <td>13</td>\n      <td>Married-civ-spouse</td>\n      <td>Prof-specialty</td>\n      <td>Wife</td>\n      <td>Black</td>\n      <td>Female</td>\n      <td>0</td>\n      <td>0</td>\n      <td>40</td>\n      <td>Cuba</td>\n      <td>&lt;=50K</td>\n    </tr>\n  </tbody>\n</table>\n</div>"
          },
          "metadata": {}
        }
      ],
      "execution_count": 19,
      "metadata": {
        "jupyter": {
          "source_hidden": false,
          "outputs_hidden": false
        },
        "nteract": {
          "transient": {
            "deleting": false
          }
        },
        "gather": {
          "logged": 1726957604897
        }
      }
    },
    {
      "cell_type": "markdown",
      "source": [
        "## 3. Set up compute resources"
      ],
      "metadata": {
        "nteract": {
          "transient": {
            "deleting": false
          }
        }
      }
    },
    {
      "cell_type": "code",
      "source": [
        "from azure.ai.ml.entities import AmlCompute"
      ],
      "outputs": [],
      "execution_count": 20,
      "metadata": {
        "jupyter": {
          "source_hidden": false,
          "outputs_hidden": false
        },
        "nteract": {
          "transient": {
            "deleting": false
          }
        },
        "gather": {
          "logged": 1726957773266
        }
      }
    },
    {
      "cell_type": "code",
      "source": [
        "cc_name = \"ccstandardds11v2\"\n",
        "\n",
        "try:\n",
        "    # Get compute cluster\n",
        "    compute_cluster = ml_client.compute.get(cc_name)\n",
        "    print(f\"Compute cluster {cc_name} found\")\n",
        "except:\n",
        "    # Create compute cluster in case it is not found\n",
        "    compute_cluster = AmlCompute(\n",
        "        name = cc_name,\n",
        "        type = \"amlcompute\",\n",
        "        size = \"Standard_DS11_v2\",\n",
        "        location = \"eastus2\",\n",
        "        min_instances = 0,\n",
        "        max_instances = 2,\n",
        "        idle_time_before_scale_down = 120,\n",
        "        tier = \"dedicated\",\n",
        "    )\n",
        "\n",
        "    ml_client.begin_create_or_update(compute_cluster).result()\n",
        "    print(f\"Compute cluster {cc_name} created\")"
      ],
      "outputs": [
        {
          "output_type": "stream",
          "name": "stdout",
          "text": "Compute cluster ccstandardds11v2 found\n"
        }
      ],
      "execution_count": 21,
      "metadata": {
        "jupyter": {
          "source_hidden": false,
          "outputs_hidden": false
        },
        "nteract": {
          "transient": {
            "deleting": false
          }
        },
        "gather": {
          "logged": 1726957987209
        }
      }
    },
    {
      "cell_type": "markdown",
      "source": [
        "## 4. Project code"
      ],
      "metadata": {
        "nteract": {
          "transient": {
            "deleting": false
          }
        }
      }
    },
    {
      "cell_type": "code",
      "source": [
        "from azure.ai.ml import automl\n",
        "from azure.ai.ml import Input"
      ],
      "outputs": [],
      "execution_count": 22,
      "metadata": {
        "jupyter": {
          "source_hidden": false,
          "outputs_hidden": false
        },
        "nteract": {
          "transient": {
            "deleting": false
          }
        },
        "gather": {
          "logged": 1726958079444
        }
      }
    },
    {
      "cell_type": "code",
      "source": [
        "# Get data asset\n",
        "training_data_input = Input(type = AssetTypes.MLTABLE, path = f\"azureml:{data_asset_name}:{data_asset_version}\")"
      ],
      "outputs": [],
      "execution_count": 23,
      "metadata": {
        "jupyter": {
          "source_hidden": false,
          "outputs_hidden": false
        },
        "nteract": {
          "transient": {
            "deleting": false
          }
        },
        "gather": {
          "logged": 1726958089783
        }
      }
    },
    {
      "cell_type": "code",
      "source": [
        "# Configure the classification job\n",
        "classification_job = automl.classification(\n",
        "    compute = cc_name,\n",
        "    experiment_name = \"automl-adult-income-classification\",\n",
        "    training_data = training_data_input,\n",
        "    target_column_name = \"income\",\n",
        "    primary_metric = \"accuracy\",\n",
        "    n_cross_validations = 3,\n",
        "    enable_model_explainability = True\n",
        ")"
      ],
      "outputs": [],
      "execution_count": 31,
      "metadata": {
        "jupyter": {
          "source_hidden": false,
          "outputs_hidden": false
        },
        "nteract": {
          "transient": {
            "deleting": false
          }
        },
        "gather": {
          "logged": 1726959341259
        }
      }
    },
    {
      "cell_type": "code",
      "source": [
        "# Set the limits\n",
        "# Min iterations = 4\n",
        "\n",
        "classification_job.set_limits(\n",
        "    timeout_minutes = 20, \n",
        "    trial_timeout_minutes = 10, \n",
        "    max_trials = 5,\n",
        "    enable_early_termination = True,\n",
        ")"
      ],
      "outputs": [],
      "execution_count": 33,
      "metadata": {
        "jupyter": {
          "source_hidden": false,
          "outputs_hidden": false
        },
        "nteract": {
          "transient": {
            "deleting": false
          }
        },
        "gather": {
          "logged": 1726959377889
        }
      }
    },
    {
      "cell_type": "code",
      "source": [
        "# Set the training properties\n",
        "\n",
        "classification_job.set_training(\n",
        "    allowed_training_algorithms = [\"LogisticRegression\", \"DecisionTree\"], \n",
        "    enable_onnx_compatible_models = True\n",
        ")"
      ],
      "outputs": [],
      "execution_count": 34,
      "metadata": {
        "jupyter": {
          "source_hidden": false,
          "outputs_hidden": false
        },
        "nteract": {
          "transient": {
            "deleting": false
          }
        },
        "gather": {
          "logged": 1726959379543
        }
      }
    },
    {
      "cell_type": "code",
      "source": [
        "# Submit the AutoML job\n",
        "returned_job = ml_client.jobs.create_or_update(\n",
        "    classification_job\n",
        ")  \n",
        "\n",
        "# Submit the job to the backend\n",
        "aml_url = returned_job.studio_url\n",
        "print(\"Monitor your job at\", aml_url)"
      ],
      "outputs": [],
      "execution_count": null,
      "metadata": {
        "jupyter": {
          "source_hidden": false,
          "outputs_hidden": true
        },
        "nteract": {
          "transient": {
            "deleting": false
          }
        },
        "gather": {
          "logged": 1726959383654
        }
      }
    },
    {
      "cell_type": "code",
      "source": [],
      "outputs": [],
      "execution_count": null,
      "metadata": {
        "jupyter": {
          "source_hidden": false,
          "outputs_hidden": false
        },
        "nteract": {
          "transient": {
            "deleting": false
          }
        }
      }
    }
  ],
  "metadata": {
    "language_info": {
      "name": "python",
      "version": "3.10.14",
      "mimetype": "text/x-python",
      "codemirror_mode": {
        "name": "ipython",
        "version": 3
      },
      "pygments_lexer": "ipython3",
      "nbconvert_exporter": "python",
      "file_extension": ".py"
    },
    "microsoft": {
      "ms_spell_check": {
        "ms_spell_check_language": "en"
      },
      "host": {
        "AzureML": {
          "notebookHasBeenCompleted": true
        }
      }
    },
    "kernelspec": {
      "name": "python310-sdkv2",
      "language": "python",
      "display_name": "Python 3.10 - SDK v2"
    },
    "kernel_info": {
      "name": "python310-sdkv2"
    },
    "nteract": {
      "version": "nteract-front-end@1.0.0"
    }
  },
  "nbformat": 4,
  "nbformat_minor": 2
}