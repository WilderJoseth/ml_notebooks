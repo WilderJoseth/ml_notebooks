{
 "cells": [
  {
   "cell_type": "markdown",
   "metadata": {},
   "source": [
    "# IMDB Movie Reviews"
   ]
  },
  {
   "cell_type": "markdown",
   "metadata": {},
   "source": [
    "## 1. Data preparation"
   ]
  },
  {
   "cell_type": "code",
   "execution_count": 1,
   "metadata": {},
   "outputs": [],
   "source": [
    "import os\n",
    "import pandas as pd\n",
    "import matplotlib.pyplot as plt\n",
    "import time"
   ]
  },
  {
   "cell_type": "code",
   "execution_count": 2,
   "metadata": {},
   "outputs": [],
   "source": [
    "pd.set_option(\"max_colwidth\", 400)"
   ]
  },
  {
   "cell_type": "code",
   "execution_count": 3,
   "metadata": {},
   "outputs": [],
   "source": [
    "PATH_DATA = os.path.join(os.getenv(\"PATH_DATA_PROJECTS\"), \"Tabular\", \"IMDB_movie_reviews\")"
   ]
  },
  {
   "cell_type": "code",
   "execution_count": 4,
   "metadata": {},
   "outputs": [
    {
     "name": "stdout",
     "output_type": "stream",
     "text": [
      "Shape: (50000, 2)\n"
     ]
    },
    {
     "data": {
      "text/html": [
       "<div>\n",
       "<style scoped>\n",
       "    .dataframe tbody tr th:only-of-type {\n",
       "        vertical-align: middle;\n",
       "    }\n",
       "\n",
       "    .dataframe tbody tr th {\n",
       "        vertical-align: top;\n",
       "    }\n",
       "\n",
       "    .dataframe thead th {\n",
       "        text-align: right;\n",
       "    }\n",
       "</style>\n",
       "<table border=\"1\" class=\"dataframe\">\n",
       "  <thead>\n",
       "    <tr style=\"text-align: right;\">\n",
       "      <th></th>\n",
       "      <th>review</th>\n",
       "      <th>sentiment</th>\n",
       "    </tr>\n",
       "  </thead>\n",
       "  <tbody>\n",
       "    <tr>\n",
       "      <th>0</th>\n",
       "      <td>one review mention watch oz episod hook right exactli happen first thing struck oz brutal unflinch scene violenc set right word go trust show faint heart timid show pull punch regard drug sex violenc hardcor classic use word call oz nicknam given oswald maximum secur state penitentari focus mainli emerald citi experiment section prison cell glass front face inward privaci high agenda em citi h...</td>\n",
       "      <td>positive</td>\n",
       "    </tr>\n",
       "    <tr>\n",
       "      <th>1</th>\n",
       "      <td>wonder littl product film techniqu unassum oldtimebbc fashion give comfort sometim discomfort sen realism entir piec actor extrem well chosen michael sheen got polari voic pat truli see seamless edit guid refer william diari entri well worth watch terrificli written perform piec master product one great master comedi life realism realli come home littl thing fantasi guard rather use tradit dre...</td>\n",
       "      <td>positive</td>\n",
       "    </tr>\n",
       "    <tr>\n",
       "      <th>2</th>\n",
       "      <td>thought wonder way spend time hot summer weekend sit air condit theater watch lightheart comedi plot simplist dialogu witti charact likabl even well bread suspect serial killer may disappoint realiz match point risk addict thought proof woodi allen still fulli control style mani u grown love would laugh one woodi comedi year dare say decad never impress scarlet johanson manag tone sexi imag ju...</td>\n",
       "      <td>positive</td>\n",
       "    </tr>\n",
       "    <tr>\n",
       "      <th>3</th>\n",
       "      <td>basic there famili littl boy jake think there zombi closet parent fight time movi slower soap opera suddenli jake decid becom rambo kill zombi ok first go make film must decid thriller drama drama movi watchabl parent divorc argu like real life jake closet total ruin film expect see boogeyman similar movi instead watch drama meaningless thriller spot well play parent descent dialog shot jake i...</td>\n",
       "      <td>negative</td>\n",
       "    </tr>\n",
       "    <tr>\n",
       "      <th>4</th>\n",
       "      <td>petter mattei love time money visual stun film watch mr mattei offer u vivid portrait human relat movi seem tell u money power success peopl differ situat encount variat arthur schnitzler play theme director transfer action present time new york differ charact meet connect one connect one way anoth next person one seem know previou point contact stylishli film sophist luxuri look taken see peo...</td>\n",
       "      <td>positive</td>\n",
       "    </tr>\n",
       "  </tbody>\n",
       "</table>\n",
       "</div>"
      ],
      "text/plain": [
       "                                                                                                                                                                                                                                                                                                                                                                                                            review  \\\n",
       "0  one review mention watch oz episod hook right exactli happen first thing struck oz brutal unflinch scene violenc set right word go trust show faint heart timid show pull punch regard drug sex violenc hardcor classic use word call oz nicknam given oswald maximum secur state penitentari focus mainli emerald citi experiment section prison cell glass front face inward privaci high agenda em citi h...   \n",
       "1  wonder littl product film techniqu unassum oldtimebbc fashion give comfort sometim discomfort sen realism entir piec actor extrem well chosen michael sheen got polari voic pat truli see seamless edit guid refer william diari entri well worth watch terrificli written perform piec master product one great master comedi life realism realli come home littl thing fantasi guard rather use tradit dre...   \n",
       "2  thought wonder way spend time hot summer weekend sit air condit theater watch lightheart comedi plot simplist dialogu witti charact likabl even well bread suspect serial killer may disappoint realiz match point risk addict thought proof woodi allen still fulli control style mani u grown love would laugh one woodi comedi year dare say decad never impress scarlet johanson manag tone sexi imag ju...   \n",
       "3  basic there famili littl boy jake think there zombi closet parent fight time movi slower soap opera suddenli jake decid becom rambo kill zombi ok first go make film must decid thriller drama drama movi watchabl parent divorc argu like real life jake closet total ruin film expect see boogeyman similar movi instead watch drama meaningless thriller spot well play parent descent dialog shot jake i...   \n",
       "4  petter mattei love time money visual stun film watch mr mattei offer u vivid portrait human relat movi seem tell u money power success peopl differ situat encount variat arthur schnitzler play theme director transfer action present time new york differ charact meet connect one connect one way anoth next person one seem know previou point contact stylishli film sophist luxuri look taken see peo...   \n",
       "\n",
       "  sentiment  \n",
       "0  positive  \n",
       "1  positive  \n",
       "2  positive  \n",
       "3  negative  \n",
       "4  positive  "
      ]
     },
     "execution_count": 4,
     "metadata": {},
     "output_type": "execute_result"
    }
   ],
   "source": [
    "df_train_full = pd.read_csv(os.path.join(PATH_DATA, \"IMDB_Dataset_cleaned.csv\"))\n",
    "print(\"Shape:\", df_train_full.shape)\n",
    "df_train_full.head()"
   ]
  },
  {
   "cell_type": "markdown",
   "metadata": {},
   "source": [
    "### 1.1. Tokenization"
   ]
  },
  {
   "cell_type": "code",
   "execution_count": 5,
   "metadata": {},
   "outputs": [],
   "source": [
    "from nltk.tokenize import word_tokenize"
   ]
  },
  {
   "cell_type": "code",
   "execution_count": 6,
   "metadata": {},
   "outputs": [
    {
     "data": {
      "text/html": [
       "<div>\n",
       "<style scoped>\n",
       "    .dataframe tbody tr th:only-of-type {\n",
       "        vertical-align: middle;\n",
       "    }\n",
       "\n",
       "    .dataframe tbody tr th {\n",
       "        vertical-align: top;\n",
       "    }\n",
       "\n",
       "    .dataframe thead th {\n",
       "        text-align: right;\n",
       "    }\n",
       "</style>\n",
       "<table border=\"1\" class=\"dataframe\">\n",
       "  <thead>\n",
       "    <tr style=\"text-align: right;\">\n",
       "      <th></th>\n",
       "      <th>review</th>\n",
       "      <th>sentiment</th>\n",
       "      <th>tokens</th>\n",
       "      <th>tokens_total</th>\n",
       "    </tr>\n",
       "  </thead>\n",
       "  <tbody>\n",
       "    <tr>\n",
       "      <th>0</th>\n",
       "      <td>one review mention watch oz episod hook right exactli happen first thing struck oz brutal unflinch scene violenc set right word go trust show faint heart timid show pull punch regard drug sex violenc hardcor classic use word call oz nicknam given oswald maximum secur state penitentari focus mainli emerald citi experiment section prison cell glass front face inward privaci high agenda em citi h...</td>\n",
       "      <td>positive</td>\n",
       "      <td>[one, review, mention, watch, oz, episod, hook, right, exactli, happen, first, thing, struck, oz, brutal, unflinch, scene, violenc, set, right, word, go, trust, show, faint, heart, timid, show, pull, punch, regard, drug, sex, violenc, hardcor, classic, use, word, call, oz, nicknam, given, oswald, maximum, secur, state, penitentari, focus, mainli, emerald, citi, experiment, section, prison, cel...</td>\n",
       "      <td>164</td>\n",
       "    </tr>\n",
       "    <tr>\n",
       "      <th>1</th>\n",
       "      <td>wonder littl product film techniqu unassum oldtimebbc fashion give comfort sometim discomfort sen realism entir piec actor extrem well chosen michael sheen got polari voic pat truli see seamless edit guid refer william diari entri well worth watch terrificli written perform piec master product one great master comedi life realism realli come home littl thing fantasi guard rather use tradit dre...</td>\n",
       "      <td>positive</td>\n",
       "      <td>[wonder, littl, product, film, techniqu, unassum, oldtimebbc, fashion, give, comfort, sometim, discomfort, sen, realism, entir, piec, actor, extrem, well, chosen, michael, sheen, got, polari, voic, pat, truli, see, seamless, edit, guid, refer, william, diari, entri, well, worth, watch, terrificli, written, perform, piec, master, product, one, great, master, comedi, life, realism, realli, come,...</td>\n",
       "      <td>84</td>\n",
       "    </tr>\n",
       "    <tr>\n",
       "      <th>2</th>\n",
       "      <td>thought wonder way spend time hot summer weekend sit air condit theater watch lightheart comedi plot simplist dialogu witti charact likabl even well bread suspect serial killer may disappoint realiz match point risk addict thought proof woodi allen still fulli control style mani u grown love would laugh one woodi comedi year dare say decad never impress scarlet johanson manag tone sexi imag ju...</td>\n",
       "      <td>positive</td>\n",
       "      <td>[thought, wonder, way, spend, time, hot, summer, weekend, sit, air, condit, theater, watch, lightheart, comedi, plot, simplist, dialogu, witti, charact, likabl, even, well, bread, suspect, serial, killer, may, disappoint, realiz, match, point, risk, addict, thought, proof, woodi, allen, still, fulli, control, style, mani, u, grown, love, would, laugh, one, woodi, comedi, year, dare, say, decad...</td>\n",
       "      <td>84</td>\n",
       "    </tr>\n",
       "    <tr>\n",
       "      <th>3</th>\n",
       "      <td>basic there famili littl boy jake think there zombi closet parent fight time movi slower soap opera suddenli jake decid becom rambo kill zombi ok first go make film must decid thriller drama drama movi watchabl parent divorc argu like real life jake closet total ruin film expect see boogeyman similar movi instead watch drama meaningless thriller spot well play parent descent dialog shot jake i...</td>\n",
       "      <td>negative</td>\n",
       "      <td>[basic, there, famili, littl, boy, jake, think, there, zombi, closet, parent, fight, time, movi, slower, soap, opera, suddenli, jake, decid, becom, rambo, kill, zombi, ok, first, go, make, film, must, decid, thriller, drama, drama, movi, watchabl, parent, divorc, argu, like, real, life, jake, closet, total, ruin, film, expect, see, boogeyman, similar, movi, instead, watch, drama, meaningless, ...</td>\n",
       "      <td>66</td>\n",
       "    </tr>\n",
       "    <tr>\n",
       "      <th>4</th>\n",
       "      <td>petter mattei love time money visual stun film watch mr mattei offer u vivid portrait human relat movi seem tell u money power success peopl differ situat encount variat arthur schnitzler play theme director transfer action present time new york differ charact meet connect one connect one way anoth next person one seem know previou point contact stylishli film sophist luxuri look taken see peo...</td>\n",
       "      <td>positive</td>\n",
       "      <td>[petter, mattei, love, time, money, visual, stun, film, watch, mr, mattei, offer, u, vivid, portrait, human, relat, movi, seem, tell, u, money, power, success, peopl, differ, situat, encount, variat, arthur, schnitzler, play, theme, director, transfer, action, present, time, new, york, differ, charact, meet, connect, one, connect, one, way, anoth, next, person, one, seem, know, previou, point,...</td>\n",
       "      <td>125</td>\n",
       "    </tr>\n",
       "  </tbody>\n",
       "</table>\n",
       "</div>"
      ],
      "text/plain": [
       "                                                                                                                                                                                                                                                                                                                                                                                                            review  \\\n",
       "0  one review mention watch oz episod hook right exactli happen first thing struck oz brutal unflinch scene violenc set right word go trust show faint heart timid show pull punch regard drug sex violenc hardcor classic use word call oz nicknam given oswald maximum secur state penitentari focus mainli emerald citi experiment section prison cell glass front face inward privaci high agenda em citi h...   \n",
       "1  wonder littl product film techniqu unassum oldtimebbc fashion give comfort sometim discomfort sen realism entir piec actor extrem well chosen michael sheen got polari voic pat truli see seamless edit guid refer william diari entri well worth watch terrificli written perform piec master product one great master comedi life realism realli come home littl thing fantasi guard rather use tradit dre...   \n",
       "2  thought wonder way spend time hot summer weekend sit air condit theater watch lightheart comedi plot simplist dialogu witti charact likabl even well bread suspect serial killer may disappoint realiz match point risk addict thought proof woodi allen still fulli control style mani u grown love would laugh one woodi comedi year dare say decad never impress scarlet johanson manag tone sexi imag ju...   \n",
       "3  basic there famili littl boy jake think there zombi closet parent fight time movi slower soap opera suddenli jake decid becom rambo kill zombi ok first go make film must decid thriller drama drama movi watchabl parent divorc argu like real life jake closet total ruin film expect see boogeyman similar movi instead watch drama meaningless thriller spot well play parent descent dialog shot jake i...   \n",
       "4  petter mattei love time money visual stun film watch mr mattei offer u vivid portrait human relat movi seem tell u money power success peopl differ situat encount variat arthur schnitzler play theme director transfer action present time new york differ charact meet connect one connect one way anoth next person one seem know previou point contact stylishli film sophist luxuri look taken see peo...   \n",
       "\n",
       "  sentiment  \\\n",
       "0  positive   \n",
       "1  positive   \n",
       "2  positive   \n",
       "3  negative   \n",
       "4  positive   \n",
       "\n",
       "                                                                                                                                                                                                                                                                                                                                                                                                            tokens  \\\n",
       "0  [one, review, mention, watch, oz, episod, hook, right, exactli, happen, first, thing, struck, oz, brutal, unflinch, scene, violenc, set, right, word, go, trust, show, faint, heart, timid, show, pull, punch, regard, drug, sex, violenc, hardcor, classic, use, word, call, oz, nicknam, given, oswald, maximum, secur, state, penitentari, focus, mainli, emerald, citi, experiment, section, prison, cel...   \n",
       "1  [wonder, littl, product, film, techniqu, unassum, oldtimebbc, fashion, give, comfort, sometim, discomfort, sen, realism, entir, piec, actor, extrem, well, chosen, michael, sheen, got, polari, voic, pat, truli, see, seamless, edit, guid, refer, william, diari, entri, well, worth, watch, terrificli, written, perform, piec, master, product, one, great, master, comedi, life, realism, realli, come,...   \n",
       "2  [thought, wonder, way, spend, time, hot, summer, weekend, sit, air, condit, theater, watch, lightheart, comedi, plot, simplist, dialogu, witti, charact, likabl, even, well, bread, suspect, serial, killer, may, disappoint, realiz, match, point, risk, addict, thought, proof, woodi, allen, still, fulli, control, style, mani, u, grown, love, would, laugh, one, woodi, comedi, year, dare, say, decad...   \n",
       "3  [basic, there, famili, littl, boy, jake, think, there, zombi, closet, parent, fight, time, movi, slower, soap, opera, suddenli, jake, decid, becom, rambo, kill, zombi, ok, first, go, make, film, must, decid, thriller, drama, drama, movi, watchabl, parent, divorc, argu, like, real, life, jake, closet, total, ruin, film, expect, see, boogeyman, similar, movi, instead, watch, drama, meaningless, ...   \n",
       "4  [petter, mattei, love, time, money, visual, stun, film, watch, mr, mattei, offer, u, vivid, portrait, human, relat, movi, seem, tell, u, money, power, success, peopl, differ, situat, encount, variat, arthur, schnitzler, play, theme, director, transfer, action, present, time, new, york, differ, charact, meet, connect, one, connect, one, way, anoth, next, person, one, seem, know, previou, point,...   \n",
       "\n",
       "   tokens_total  \n",
       "0           164  \n",
       "1            84  \n",
       "2            84  \n",
       "3            66  \n",
       "4           125  "
      ]
     },
     "execution_count": 6,
     "metadata": {},
     "output_type": "execute_result"
    }
   ],
   "source": [
    "df_train_full[\"tokens\"] = df_train_full[\"review\"].map(word_tokenize)\n",
    "df_train_full[\"tokens_total\"] = df_train_full[\"tokens\"].map(len)\n",
    "df_train_full.head()"
   ]
  },
  {
   "cell_type": "markdown",
   "metadata": {},
   "source": [
    "### 1.2. Encoding target variable\n",
    "\n",
    "Transform target variable from text to numeric (1: positive and 0: negative)."
   ]
  },
  {
   "cell_type": "code",
   "execution_count": 7,
   "metadata": {},
   "outputs": [
    {
     "data": {
      "text/html": [
       "<div>\n",
       "<style scoped>\n",
       "    .dataframe tbody tr th:only-of-type {\n",
       "        vertical-align: middle;\n",
       "    }\n",
       "\n",
       "    .dataframe tbody tr th {\n",
       "        vertical-align: top;\n",
       "    }\n",
       "\n",
       "    .dataframe thead th {\n",
       "        text-align: right;\n",
       "    }\n",
       "</style>\n",
       "<table border=\"1\" class=\"dataframe\">\n",
       "  <thead>\n",
       "    <tr style=\"text-align: right;\">\n",
       "      <th></th>\n",
       "      <th>review</th>\n",
       "      <th>sentiment</th>\n",
       "      <th>tokens</th>\n",
       "      <th>tokens_total</th>\n",
       "    </tr>\n",
       "  </thead>\n",
       "  <tbody>\n",
       "    <tr>\n",
       "      <th>0</th>\n",
       "      <td>one review mention watch oz episod hook right exactli happen first thing struck oz brutal unflinch scene violenc set right word go trust show faint heart timid show pull punch regard drug sex violenc hardcor classic use word call oz nicknam given oswald maximum secur state penitentari focus mainli emerald citi experiment section prison cell glass front face inward privaci high agenda em citi h...</td>\n",
       "      <td>1</td>\n",
       "      <td>[one, review, mention, watch, oz, episod, hook, right, exactli, happen, first, thing, struck, oz, brutal, unflinch, scene, violenc, set, right, word, go, trust, show, faint, heart, timid, show, pull, punch, regard, drug, sex, violenc, hardcor, classic, use, word, call, oz, nicknam, given, oswald, maximum, secur, state, penitentari, focus, mainli, emerald, citi, experiment, section, prison, cel...</td>\n",
       "      <td>164</td>\n",
       "    </tr>\n",
       "    <tr>\n",
       "      <th>1</th>\n",
       "      <td>wonder littl product film techniqu unassum oldtimebbc fashion give comfort sometim discomfort sen realism entir piec actor extrem well chosen michael sheen got polari voic pat truli see seamless edit guid refer william diari entri well worth watch terrificli written perform piec master product one great master comedi life realism realli come home littl thing fantasi guard rather use tradit dre...</td>\n",
       "      <td>1</td>\n",
       "      <td>[wonder, littl, product, film, techniqu, unassum, oldtimebbc, fashion, give, comfort, sometim, discomfort, sen, realism, entir, piec, actor, extrem, well, chosen, michael, sheen, got, polari, voic, pat, truli, see, seamless, edit, guid, refer, william, diari, entri, well, worth, watch, terrificli, written, perform, piec, master, product, one, great, master, comedi, life, realism, realli, come,...</td>\n",
       "      <td>84</td>\n",
       "    </tr>\n",
       "    <tr>\n",
       "      <th>2</th>\n",
       "      <td>thought wonder way spend time hot summer weekend sit air condit theater watch lightheart comedi plot simplist dialogu witti charact likabl even well bread suspect serial killer may disappoint realiz match point risk addict thought proof woodi allen still fulli control style mani u grown love would laugh one woodi comedi year dare say decad never impress scarlet johanson manag tone sexi imag ju...</td>\n",
       "      <td>1</td>\n",
       "      <td>[thought, wonder, way, spend, time, hot, summer, weekend, sit, air, condit, theater, watch, lightheart, comedi, plot, simplist, dialogu, witti, charact, likabl, even, well, bread, suspect, serial, killer, may, disappoint, realiz, match, point, risk, addict, thought, proof, woodi, allen, still, fulli, control, style, mani, u, grown, love, would, laugh, one, woodi, comedi, year, dare, say, decad...</td>\n",
       "      <td>84</td>\n",
       "    </tr>\n",
       "    <tr>\n",
       "      <th>3</th>\n",
       "      <td>basic there famili littl boy jake think there zombi closet parent fight time movi slower soap opera suddenli jake decid becom rambo kill zombi ok first go make film must decid thriller drama drama movi watchabl parent divorc argu like real life jake closet total ruin film expect see boogeyman similar movi instead watch drama meaningless thriller spot well play parent descent dialog shot jake i...</td>\n",
       "      <td>0</td>\n",
       "      <td>[basic, there, famili, littl, boy, jake, think, there, zombi, closet, parent, fight, time, movi, slower, soap, opera, suddenli, jake, decid, becom, rambo, kill, zombi, ok, first, go, make, film, must, decid, thriller, drama, drama, movi, watchabl, parent, divorc, argu, like, real, life, jake, closet, total, ruin, film, expect, see, boogeyman, similar, movi, instead, watch, drama, meaningless, ...</td>\n",
       "      <td>66</td>\n",
       "    </tr>\n",
       "    <tr>\n",
       "      <th>4</th>\n",
       "      <td>petter mattei love time money visual stun film watch mr mattei offer u vivid portrait human relat movi seem tell u money power success peopl differ situat encount variat arthur schnitzler play theme director transfer action present time new york differ charact meet connect one connect one way anoth next person one seem know previou point contact stylishli film sophist luxuri look taken see peo...</td>\n",
       "      <td>1</td>\n",
       "      <td>[petter, mattei, love, time, money, visual, stun, film, watch, mr, mattei, offer, u, vivid, portrait, human, relat, movi, seem, tell, u, money, power, success, peopl, differ, situat, encount, variat, arthur, schnitzler, play, theme, director, transfer, action, present, time, new, york, differ, charact, meet, connect, one, connect, one, way, anoth, next, person, one, seem, know, previou, point,...</td>\n",
       "      <td>125</td>\n",
       "    </tr>\n",
       "  </tbody>\n",
       "</table>\n",
       "</div>"
      ],
      "text/plain": [
       "                                                                                                                                                                                                                                                                                                                                                                                                            review  \\\n",
       "0  one review mention watch oz episod hook right exactli happen first thing struck oz brutal unflinch scene violenc set right word go trust show faint heart timid show pull punch regard drug sex violenc hardcor classic use word call oz nicknam given oswald maximum secur state penitentari focus mainli emerald citi experiment section prison cell glass front face inward privaci high agenda em citi h...   \n",
       "1  wonder littl product film techniqu unassum oldtimebbc fashion give comfort sometim discomfort sen realism entir piec actor extrem well chosen michael sheen got polari voic pat truli see seamless edit guid refer william diari entri well worth watch terrificli written perform piec master product one great master comedi life realism realli come home littl thing fantasi guard rather use tradit dre...   \n",
       "2  thought wonder way spend time hot summer weekend sit air condit theater watch lightheart comedi plot simplist dialogu witti charact likabl even well bread suspect serial killer may disappoint realiz match point risk addict thought proof woodi allen still fulli control style mani u grown love would laugh one woodi comedi year dare say decad never impress scarlet johanson manag tone sexi imag ju...   \n",
       "3  basic there famili littl boy jake think there zombi closet parent fight time movi slower soap opera suddenli jake decid becom rambo kill zombi ok first go make film must decid thriller drama drama movi watchabl parent divorc argu like real life jake closet total ruin film expect see boogeyman similar movi instead watch drama meaningless thriller spot well play parent descent dialog shot jake i...   \n",
       "4  petter mattei love time money visual stun film watch mr mattei offer u vivid portrait human relat movi seem tell u money power success peopl differ situat encount variat arthur schnitzler play theme director transfer action present time new york differ charact meet connect one connect one way anoth next person one seem know previou point contact stylishli film sophist luxuri look taken see peo...   \n",
       "\n",
       "   sentiment  \\\n",
       "0          1   \n",
       "1          1   \n",
       "2          1   \n",
       "3          0   \n",
       "4          1   \n",
       "\n",
       "                                                                                                                                                                                                                                                                                                                                                                                                            tokens  \\\n",
       "0  [one, review, mention, watch, oz, episod, hook, right, exactli, happen, first, thing, struck, oz, brutal, unflinch, scene, violenc, set, right, word, go, trust, show, faint, heart, timid, show, pull, punch, regard, drug, sex, violenc, hardcor, classic, use, word, call, oz, nicknam, given, oswald, maximum, secur, state, penitentari, focus, mainli, emerald, citi, experiment, section, prison, cel...   \n",
       "1  [wonder, littl, product, film, techniqu, unassum, oldtimebbc, fashion, give, comfort, sometim, discomfort, sen, realism, entir, piec, actor, extrem, well, chosen, michael, sheen, got, polari, voic, pat, truli, see, seamless, edit, guid, refer, william, diari, entri, well, worth, watch, terrificli, written, perform, piec, master, product, one, great, master, comedi, life, realism, realli, come,...   \n",
       "2  [thought, wonder, way, spend, time, hot, summer, weekend, sit, air, condit, theater, watch, lightheart, comedi, plot, simplist, dialogu, witti, charact, likabl, even, well, bread, suspect, serial, killer, may, disappoint, realiz, match, point, risk, addict, thought, proof, woodi, allen, still, fulli, control, style, mani, u, grown, love, would, laugh, one, woodi, comedi, year, dare, say, decad...   \n",
       "3  [basic, there, famili, littl, boy, jake, think, there, zombi, closet, parent, fight, time, movi, slower, soap, opera, suddenli, jake, decid, becom, rambo, kill, zombi, ok, first, go, make, film, must, decid, thriller, drama, drama, movi, watchabl, parent, divorc, argu, like, real, life, jake, closet, total, ruin, film, expect, see, boogeyman, similar, movi, instead, watch, drama, meaningless, ...   \n",
       "4  [petter, mattei, love, time, money, visual, stun, film, watch, mr, mattei, offer, u, vivid, portrait, human, relat, movi, seem, tell, u, money, power, success, peopl, differ, situat, encount, variat, arthur, schnitzler, play, theme, director, transfer, action, present, time, new, york, differ, charact, meet, connect, one, connect, one, way, anoth, next, person, one, seem, know, previou, point,...   \n",
       "\n",
       "   tokens_total  \n",
       "0           164  \n",
       "1            84  \n",
       "2            84  \n",
       "3            66  \n",
       "4           125  "
      ]
     },
     "execution_count": 7,
     "metadata": {},
     "output_type": "execute_result"
    }
   ],
   "source": [
    "target_variable = \"sentiment\"\n",
    "df_train_full[target_variable] = df_train_full[target_variable].apply(lambda x: 1 if x == \"positive\" else 0)\n",
    "df_train_full.head()"
   ]
  },
  {
   "cell_type": "markdown",
   "metadata": {},
   "source": [
    "## 2. Modeling"
   ]
  },
  {
   "cell_type": "markdown",
   "metadata": {},
   "source": [
    "### 2.1. Take a sample\n",
    "\n",
    "If there are memory issues, taking a sample is a good option."
   ]
  },
  {
   "cell_type": "code",
   "execution_count": 8,
   "metadata": {},
   "outputs": [
    {
     "name": "stdout",
     "output_type": "stream",
     "text": [
      "Sample shape: (3000, 4)\n"
     ]
    },
    {
     "data": {
      "text/html": [
       "<div>\n",
       "<style scoped>\n",
       "    .dataframe tbody tr th:only-of-type {\n",
       "        vertical-align: middle;\n",
       "    }\n",
       "\n",
       "    .dataframe tbody tr th {\n",
       "        vertical-align: top;\n",
       "    }\n",
       "\n",
       "    .dataframe thead th {\n",
       "        text-align: right;\n",
       "    }\n",
       "</style>\n",
       "<table border=\"1\" class=\"dataframe\">\n",
       "  <thead>\n",
       "    <tr style=\"text-align: right;\">\n",
       "      <th></th>\n",
       "      <th>review</th>\n",
       "      <th>sentiment</th>\n",
       "      <th>tokens</th>\n",
       "      <th>tokens_total</th>\n",
       "    </tr>\n",
       "  </thead>\n",
       "  <tbody>\n",
       "    <tr>\n",
       "      <th>0</th>\n",
       "      <td>one review mention watch oz episod hook right exactli happen first thing struck oz brutal unflinch scene violenc set right word go trust show faint heart timid show pull punch regard drug sex violenc hardcor classic use word call oz nicknam given oswald maximum secur state penitentari focus mainli emerald citi experiment section prison cell glass front face inward privaci high agenda em citi h...</td>\n",
       "      <td>1</td>\n",
       "      <td>[one, review, mention, watch, oz, episod, hook, right, exactli, happen, first, thing, struck, oz, brutal, unflinch, scene, violenc, set, right, word, go, trust, show, faint, heart, timid, show, pull, punch, regard, drug, sex, violenc, hardcor, classic, use, word, call, oz, nicknam, given, oswald, maximum, secur, state, penitentari, focus, mainli, emerald, citi, experiment, section, prison, cel...</td>\n",
       "      <td>164</td>\n",
       "    </tr>\n",
       "    <tr>\n",
       "      <th>1</th>\n",
       "      <td>wonder littl product film techniqu unassum oldtimebbc fashion give comfort sometim discomfort sen realism entir piec actor extrem well chosen michael sheen got polari voic pat truli see seamless edit guid refer william diari entri well worth watch terrificli written perform piec master product one great master comedi life realism realli come home littl thing fantasi guard rather use tradit dre...</td>\n",
       "      <td>1</td>\n",
       "      <td>[wonder, littl, product, film, techniqu, unassum, oldtimebbc, fashion, give, comfort, sometim, discomfort, sen, realism, entir, piec, actor, extrem, well, chosen, michael, sheen, got, polari, voic, pat, truli, see, seamless, edit, guid, refer, william, diari, entri, well, worth, watch, terrificli, written, perform, piec, master, product, one, great, master, comedi, life, realism, realli, come,...</td>\n",
       "      <td>84</td>\n",
       "    </tr>\n",
       "    <tr>\n",
       "      <th>2</th>\n",
       "      <td>thought wonder way spend time hot summer weekend sit air condit theater watch lightheart comedi plot simplist dialogu witti charact likabl even well bread suspect serial killer may disappoint realiz match point risk addict thought proof woodi allen still fulli control style mani u grown love would laugh one woodi comedi year dare say decad never impress scarlet johanson manag tone sexi imag ju...</td>\n",
       "      <td>1</td>\n",
       "      <td>[thought, wonder, way, spend, time, hot, summer, weekend, sit, air, condit, theater, watch, lightheart, comedi, plot, simplist, dialogu, witti, charact, likabl, even, well, bread, suspect, serial, killer, may, disappoint, realiz, match, point, risk, addict, thought, proof, woodi, allen, still, fulli, control, style, mani, u, grown, love, would, laugh, one, woodi, comedi, year, dare, say, decad...</td>\n",
       "      <td>84</td>\n",
       "    </tr>\n",
       "    <tr>\n",
       "      <th>4</th>\n",
       "      <td>petter mattei love time money visual stun film watch mr mattei offer u vivid portrait human relat movi seem tell u money power success peopl differ situat encount variat arthur schnitzler play theme director transfer action present time new york differ charact meet connect one connect one way anoth next person one seem know previou point contact stylishli film sophist luxuri look taken see peo...</td>\n",
       "      <td>1</td>\n",
       "      <td>[petter, mattei, love, time, money, visual, stun, film, watch, mr, mattei, offer, u, vivid, portrait, human, relat, movi, seem, tell, u, money, power, success, peopl, differ, situat, encount, variat, arthur, schnitzler, play, theme, director, transfer, action, present, time, new, york, differ, charact, meet, connect, one, connect, one, way, anoth, next, person, one, seem, know, previou, point,...</td>\n",
       "      <td>125</td>\n",
       "    </tr>\n",
       "    <tr>\n",
       "      <th>5</th>\n",
       "      <td>probabl alltim favorit movi stori selfless sacrific dedic nobl caus preachi bore never get old despit seen time last year paul luka perform bring tear eye bett davi one truli sympathet role delight kid grandma say like dressedup midget child make fun watch mother slow awaken what happen world roof believ startl dozen thumb would movi</td>\n",
       "      <td>1</td>\n",
       "      <td>[probabl, alltim, favorit, movi, stori, selfless, sacrific, dedic, nobl, caus, preachi, bore, never, get, old, despit, seen, time, last, year, paul, luka, perform, bring, tear, eye, bett, davi, one, truli, sympathet, role, delight, kid, grandma, say, like, dressedup, midget, child, make, fun, watch, mother, slow, awaken, what, happen, world, roof, believ, startl, dozen, thumb, would, movi]</td>\n",
       "      <td>56</td>\n",
       "    </tr>\n",
       "  </tbody>\n",
       "</table>\n",
       "</div>"
      ],
      "text/plain": [
       "                                                                                                                                                                                                                                                                                                                                                                                                            review  \\\n",
       "0  one review mention watch oz episod hook right exactli happen first thing struck oz brutal unflinch scene violenc set right word go trust show faint heart timid show pull punch regard drug sex violenc hardcor classic use word call oz nicknam given oswald maximum secur state penitentari focus mainli emerald citi experiment section prison cell glass front face inward privaci high agenda em citi h...   \n",
       "1  wonder littl product film techniqu unassum oldtimebbc fashion give comfort sometim discomfort sen realism entir piec actor extrem well chosen michael sheen got polari voic pat truli see seamless edit guid refer william diari entri well worth watch terrificli written perform piec master product one great master comedi life realism realli come home littl thing fantasi guard rather use tradit dre...   \n",
       "2  thought wonder way spend time hot summer weekend sit air condit theater watch lightheart comedi plot simplist dialogu witti charact likabl even well bread suspect serial killer may disappoint realiz match point risk addict thought proof woodi allen still fulli control style mani u grown love would laugh one woodi comedi year dare say decad never impress scarlet johanson manag tone sexi imag ju...   \n",
       "4  petter mattei love time money visual stun film watch mr mattei offer u vivid portrait human relat movi seem tell u money power success peopl differ situat encount variat arthur schnitzler play theme director transfer action present time new york differ charact meet connect one connect one way anoth next person one seem know previou point contact stylishli film sophist luxuri look taken see peo...   \n",
       "5                                                                  probabl alltim favorit movi stori selfless sacrific dedic nobl caus preachi bore never get old despit seen time last year paul luka perform bring tear eye bett davi one truli sympathet role delight kid grandma say like dressedup midget child make fun watch mother slow awaken what happen world roof believ startl dozen thumb would movi   \n",
       "\n",
       "   sentiment  \\\n",
       "0          1   \n",
       "1          1   \n",
       "2          1   \n",
       "4          1   \n",
       "5          1   \n",
       "\n",
       "                                                                                                                                                                                                                                                                                                                                                                                                            tokens  \\\n",
       "0  [one, review, mention, watch, oz, episod, hook, right, exactli, happen, first, thing, struck, oz, brutal, unflinch, scene, violenc, set, right, word, go, trust, show, faint, heart, timid, show, pull, punch, regard, drug, sex, violenc, hardcor, classic, use, word, call, oz, nicknam, given, oswald, maximum, secur, state, penitentari, focus, mainli, emerald, citi, experiment, section, prison, cel...   \n",
       "1  [wonder, littl, product, film, techniqu, unassum, oldtimebbc, fashion, give, comfort, sometim, discomfort, sen, realism, entir, piec, actor, extrem, well, chosen, michael, sheen, got, polari, voic, pat, truli, see, seamless, edit, guid, refer, william, diari, entri, well, worth, watch, terrificli, written, perform, piec, master, product, one, great, master, comedi, life, realism, realli, come,...   \n",
       "2  [thought, wonder, way, spend, time, hot, summer, weekend, sit, air, condit, theater, watch, lightheart, comedi, plot, simplist, dialogu, witti, charact, likabl, even, well, bread, suspect, serial, killer, may, disappoint, realiz, match, point, risk, addict, thought, proof, woodi, allen, still, fulli, control, style, mani, u, grown, love, would, laugh, one, woodi, comedi, year, dare, say, decad...   \n",
       "4  [petter, mattei, love, time, money, visual, stun, film, watch, mr, mattei, offer, u, vivid, portrait, human, relat, movi, seem, tell, u, money, power, success, peopl, differ, situat, encount, variat, arthur, schnitzler, play, theme, director, transfer, action, present, time, new, york, differ, charact, meet, connect, one, connect, one, way, anoth, next, person, one, seem, know, previou, point,...   \n",
       "5         [probabl, alltim, favorit, movi, stori, selfless, sacrific, dedic, nobl, caus, preachi, bore, never, get, old, despit, seen, time, last, year, paul, luka, perform, bring, tear, eye, bett, davi, one, truli, sympathet, role, delight, kid, grandma, say, like, dressedup, midget, child, make, fun, watch, mother, slow, awaken, what, happen, world, roof, believ, startl, dozen, thumb, would, movi]   \n",
       "\n",
       "   tokens_total  \n",
       "0           164  \n",
       "1            84  \n",
       "2            84  \n",
       "4           125  \n",
       "5            56  "
      ]
     },
     "execution_count": 8,
     "metadata": {},
     "output_type": "execute_result"
    }
   ],
   "source": [
    "SAMPLE_SIZE = 3000\n",
    "\n",
    "# Getting sample for positive cases\n",
    "df_sample_positive = df_train_full[df_train_full[\"sentiment\"] == 1].head(int(SAMPLE_SIZE / 2))\n",
    "\n",
    "# Getting sample for negative cases\n",
    "df_sample_negative = df_train_full[df_train_full[\"sentiment\"] == 0].head(int(SAMPLE_SIZE / 2))\n",
    "\n",
    "# Building sample dataset\n",
    "df_train_full = pd.concat([df_sample_positive, df_sample_negative], axis = 0)\n",
    "print(\"Sample shape:\", df_train_full.shape)\n",
    "df_train_full.head()"
   ]
  },
  {
   "cell_type": "markdown",
   "metadata": {},
   "source": [
    "### 2.1. Perform TF-IDF Vectorization\n",
    "\n",
    "Transform text into numbers, due to machine learning algorithms only work with numbers."
   ]
  },
  {
   "cell_type": "code",
   "execution_count": 9,
   "metadata": {},
   "outputs": [],
   "source": [
    "from sklearn.feature_extraction.text import TfidfVectorizer"
   ]
  },
  {
   "cell_type": "markdown",
   "metadata": {},
   "source": [
    "##### Apply tokenization\n",
    "\n",
    "Defining function to convert text into tokens."
   ]
  },
  {
   "cell_type": "code",
   "execution_count": 10,
   "metadata": {},
   "outputs": [],
   "source": [
    "def get_tokens(text):\n",
    "    tokens = word_tokenize(text)\n",
    "    return tokens"
   ]
  },
  {
   "cell_type": "markdown",
   "metadata": {},
   "source": [
    "##### Apply TFIDF Vectorization"
   ]
  },
  {
   "cell_type": "code",
   "execution_count": 11,
   "metadata": {},
   "outputs": [
    {
     "name": "stdout",
     "output_type": "stream",
     "text": [
      "(3000, 25089)\n"
     ]
    }
   ],
   "source": [
    "tfidfVect = TfidfVectorizer(analyzer = get_tokens)\n",
    "x_tfidf = tfidfVect.fit_transform(df_train_full[\"review\"].values)\n",
    "print(x_tfidf.shape)"
   ]
  },
  {
   "cell_type": "code",
   "execution_count": 12,
   "metadata": {},
   "outputs": [
    {
     "name": "stdout",
     "output_type": "stream",
     "text": [
      "['aaa' 'aaahth' 'aaargh' ... 'êtrepeutêtr' 'ís' 'ísnt']\n"
     ]
    }
   ],
   "source": [
    "print(tfidfVect.get_feature_names_out())"
   ]
  },
  {
   "cell_type": "markdown",
   "metadata": {},
   "source": [
    "### 2.2. Split data into training and validation"
   ]
  },
  {
   "cell_type": "code",
   "execution_count": 13,
   "metadata": {},
   "outputs": [],
   "source": [
    "from sklearn.model_selection import train_test_split"
   ]
  },
  {
   "cell_type": "code",
   "execution_count": 14,
   "metadata": {},
   "outputs": [
    {
     "name": "stdout",
     "output_type": "stream",
     "text": [
      "x_train shape: (2400, 25089)\n",
      "x_val shape: (600, 25089)\n",
      "y_train shape: (2400,)\n",
      "y_val shape: (600,)\n"
     ]
    }
   ],
   "source": [
    "y = df_train_full[target_variable].values\n",
    "\n",
    "x_train, x_val, y_train, y_val = train_test_split(x_tfidf, y, test_size = 0.2, random_state = 42)\n",
    "\n",
    "print(\"x_train shape:\", x_train.shape)\n",
    "print(\"x_val shape:\", x_val.shape)\n",
    "print(\"y_train shape:\", y_train.shape)\n",
    "print(\"y_val shape:\", y_val.shape)"
   ]
  },
  {
   "cell_type": "markdown",
   "metadata": {},
   "source": [
    "### 2.3. Training"
   ]
  },
  {
   "cell_type": "code",
   "execution_count": 15,
   "metadata": {},
   "outputs": [],
   "source": [
    "from sklearn.model_selection import GridSearchCV\n",
    "from xgboost import XGBClassifier"
   ]
  },
  {
   "cell_type": "code",
   "execution_count": 16,
   "metadata": {},
   "outputs": [
    {
     "name": "stdout",
     "output_type": "stream",
     "text": [
      "Duration minutes: 2.0849695960680643\n"
     ]
    }
   ],
   "source": [
    "t = time.time()\n",
    "\n",
    "# Hyperparameter tunning\n",
    "hyperParameters = { \"n_estimators\": (80, 100), \"max_depth\": (4, 7) }\n",
    "xgb = XGBClassifier(objective = \"binary:logistic\")\n",
    "random_search_xg = GridSearchCV(xgb, hyperParameters, refit = True)\n",
    "\n",
    "# Training\n",
    "random_search_xg.fit(x_train, y_train)\n",
    "\n",
    "tt = (time.time() - t)\n",
    "print(\"Duration minutes:\", tt/60)"
   ]
  },
  {
   "cell_type": "code",
   "execution_count": 17,
   "metadata": {},
   "outputs": [
    {
     "name": "stdout",
     "output_type": "stream",
     "text": [
      "Best hyperparameters: {'max_depth': 7, 'n_estimators': 100}\n",
      "Best score: 0.7975\n"
     ]
    }
   ],
   "source": [
    "print(\"Best hyperparameters:\", random_search_xg.best_params_)\n",
    "print(\"Best score:\", random_search_xg.best_score_)"
   ]
  },
  {
   "cell_type": "markdown",
   "metadata": {},
   "source": [
    "### 2.4. Evaluation"
   ]
  },
  {
   "cell_type": "code",
   "execution_count": 18,
   "metadata": {},
   "outputs": [],
   "source": [
    "from sklearn import metrics\n",
    "from sklearn.metrics import classification_report, confusion_matrix, roc_auc_score, roc_curve, precision_recall_curve, average_precision_score"
   ]
  },
  {
   "cell_type": "code",
   "execution_count": 19,
   "metadata": {},
   "outputs": [
    {
     "name": "stdout",
     "output_type": "stream",
     "text": [
      "Accuracy: 0.8283333333333334\n",
      "Precision: 0.8285030864197531\n",
      "Recall: 0.8283333333333334\n",
      "F1-score: 0.8281385137741393\n"
     ]
    }
   ],
   "source": [
    "# Get preidctions\n",
    "y_pred = random_search_xg.predict(x_val)\n",
    "\n",
    "# Accuracy\n",
    "acc = metrics.accuracy_score(y_val, y_pred)\n",
    "\n",
    "# Precision\n",
    "pre = metrics.precision_score(y_val, y_pred, average = \"weighted\")\n",
    "\n",
    "# Recall\n",
    "rec = metrics.recall_score(y_val, y_pred, average = \"weighted\")\n",
    "\n",
    "# F1\n",
    "f1 = metrics.f1_score(y_val, y_pred, average = \"weighted\")\n",
    "\n",
    "print(\"Accuracy:\", acc)\n",
    "print(\"Precision:\", pre)\n",
    "print(\"Recall:\", rec)\n",
    "print(\"F1-score:\", f1)"
   ]
  },
  {
   "cell_type": "code",
   "execution_count": 20,
   "metadata": {},
   "outputs": [
    {
     "name": "stdout",
     "output_type": "stream",
     "text": [
      "\n",
      "ROC AUC Score: 0.9050661798265632\n"
     ]
    },
    {
     "data": {
      "image/png": "[encoded data removed]",
      "text/plain": [
       "<Figure size 640x480 with 1 Axes>"
      ]
     },
     "metadata": {},
     "output_type": "display_data"
    }
   ],
   "source": [
    "# Probabilities for ROC AUC\n",
    "y_prob = random_search_xg.predict_proba(x_val)[:, 1]\n",
    "\n",
    "# ROC AUC Score\n",
    "roc_auc = roc_auc_score(y_val, y_prob)\n",
    "print(\"\\nROC AUC Score:\", roc_auc)\n",
    "\n",
    "# ROC Curve\n",
    "fpr, tpr, _ = roc_curve(y_val, y_prob)\n",
    "plt.figure()\n",
    "plt.plot(fpr, tpr, label = \"ROC curve (area = %0.2f)\" % roc_auc)\n",
    "plt.plot([0, 1], [0, 1], \"k--\")\n",
    "plt.xlim([0.0, 1.0])\n",
    "plt.ylim([0.0, 1.05])\n",
    "plt.xlabel(\"False Positive Rate\")\n",
    "plt.ylabel(\"True Positive Rate\")\n",
    "plt.title(\"ROC curve - Logistic Regression\")\n",
    "plt.legend(loc = \"lower right\")\n",
    "plt.show()"
   ]
  }
 ],
 "metadata": {
  "kernelspec": {
   "display_name": "base",
   "language": "python",
   "name": "python3"
  },
  "language_info": {
   "codemirror_mode": {
    "name": "ipython",
    "version": 3
   },
   "file_extension": ".py",
   "mimetype": "text/x-python",
   "name": "python",
   "nbconvert_exporter": "python",
   "pygments_lexer": "ipython3",
   "version": "3.11.9"
  }
 },
 "nbformat": 4,
 "nbformat_minor": 2
}
