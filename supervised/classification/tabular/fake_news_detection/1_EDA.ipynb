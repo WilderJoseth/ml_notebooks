{
 "cells": [
  {
   "cell_type": "markdown",
   "metadata": {},
   "source": [
    "# Fake News Detection"
   ]
  },
  {
   "cell_type": "markdown",
   "metadata": {},
   "source": [
    "## 1. Understanding the Problem"
   ]
  },
  {
   "cell_type": "markdown",
   "metadata": {},
   "source": [
    "## 2. Data Understanding\n",
    "\n",
    "**Link**: https://www.kaggle.com/datasets/khushikyad001/fake-news-detection"
   ]
  },
  {
   "cell_type": "markdown",
   "metadata": {},
   "source": [
    "## 3. Data exploration"
   ]
  },
  {
   "cell_type": "code",
   "execution_count": 14,
   "metadata": {},
   "outputs": [],
   "source": [
    "import os\n",
    "import pandas as pd\n",
    "import numpy as np\n",
    "import matplotlib.pyplot as plt\n",
    "import seaborn as sns\n",
    "\n",
    "from dotenv import load_dotenv"
   ]
  },
  {
   "cell_type": "code",
   "execution_count": 15,
   "metadata": {},
   "outputs": [
    {
     "data": {
      "text/plain": [
       "True"
      ]
     },
     "execution_count": 15,
     "metadata": {},
     "output_type": "execute_result"
    }
   ],
   "source": [
    "load_dotenv()"
   ]
  },
  {
   "cell_type": "code",
   "execution_count": 2,
   "metadata": {},
   "outputs": [],
   "source": [
    "plt.style.use(\"ggplot\")"
   ]
  },
  {
   "cell_type": "code",
   "execution_count": 3,
   "metadata": {},
   "outputs": [],
   "source": [
    "PATH_DATA = os.path.join(os.getenv(\"PATH_DATA_PROJECTS\"), \"Tabular\", \"Fake_News_Detection\")"
   ]
  },
  {
   "cell_type": "code",
   "execution_count": 4,
   "metadata": {},
   "outputs": [
    {
     "name": "stdout",
     "output_type": "stream",
     "text": [
      "Shape: (4000, 24)\n"
     ]
    },
    {
     "data": {
      "text/html": [
       "<div>\n",
       "<style scoped>\n",
       "    .dataframe tbody tr th:only-of-type {\n",
       "        vertical-align: middle;\n",
       "    }\n",
       "\n",
       "    .dataframe tbody tr th {\n",
       "        vertical-align: top;\n",
       "    }\n",
       "\n",
       "    .dataframe thead th {\n",
       "        text-align: right;\n",
       "    }\n",
       "</style>\n",
       "<table border=\"1\" class=\"dataframe\">\n",
       "  <thead>\n",
       "    <tr style=\"text-align: right;\">\n",
       "      <th></th>\n",
       "      <th>id</th>\n",
       "      <th>title</th>\n",
       "      <th>author</th>\n",
       "      <th>text</th>\n",
       "      <th>state</th>\n",
       "      <th>date_published</th>\n",
       "      <th>source</th>\n",
       "      <th>category</th>\n",
       "      <th>sentiment_score</th>\n",
       "      <th>word_count</th>\n",
       "      <th>...</th>\n",
       "      <th>num_shares</th>\n",
       "      <th>num_comments</th>\n",
       "      <th>political_bias</th>\n",
       "      <th>fact_check_rating</th>\n",
       "      <th>is_satirical</th>\n",
       "      <th>trust_score</th>\n",
       "      <th>source_reputation</th>\n",
       "      <th>clickbait_score</th>\n",
       "      <th>plagiarism_score</th>\n",
       "      <th>label</th>\n",
       "    </tr>\n",
       "  </thead>\n",
       "  <tbody>\n",
       "    <tr>\n",
       "      <th>0</th>\n",
       "      <td>1</td>\n",
       "      <td>Breaking News 1</td>\n",
       "      <td>Jane Smith</td>\n",
       "      <td>This is the content of article 1. It contains ...</td>\n",
       "      <td>Tennessee</td>\n",
       "      <td>30-11-2021</td>\n",
       "      <td>The Onion</td>\n",
       "      <td>Entertainment</td>\n",
       "      <td>-0.22</td>\n",
       "      <td>1302</td>\n",
       "      <td>...</td>\n",
       "      <td>47305</td>\n",
       "      <td>450</td>\n",
       "      <td>Center</td>\n",
       "      <td>FALSE</td>\n",
       "      <td>1</td>\n",
       "      <td>76</td>\n",
       "      <td>6</td>\n",
       "      <td>0.84</td>\n",
       "      <td>53.35</td>\n",
       "      <td>Fake</td>\n",
       "    </tr>\n",
       "    <tr>\n",
       "      <th>1</th>\n",
       "      <td>2</td>\n",
       "      <td>Breaking News 2</td>\n",
       "      <td>Emily Davis</td>\n",
       "      <td>This is the content of article 2. It contains ...</td>\n",
       "      <td>Wisconsin</td>\n",
       "      <td>02-09-2021</td>\n",
       "      <td>The Guardian</td>\n",
       "      <td>Technology</td>\n",
       "      <td>0.92</td>\n",
       "      <td>322</td>\n",
       "      <td>...</td>\n",
       "      <td>39804</td>\n",
       "      <td>530</td>\n",
       "      <td>Left</td>\n",
       "      <td>Mixed</td>\n",
       "      <td>1</td>\n",
       "      <td>1</td>\n",
       "      <td>5</td>\n",
       "      <td>0.85</td>\n",
       "      <td>28.28</td>\n",
       "      <td>Fake</td>\n",
       "    </tr>\n",
       "    <tr>\n",
       "      <th>2</th>\n",
       "      <td>3</td>\n",
       "      <td>Breaking News 3</td>\n",
       "      <td>John Doe</td>\n",
       "      <td>This is the content of article 3. It contains ...</td>\n",
       "      <td>Missouri</td>\n",
       "      <td>13-04-2021</td>\n",
       "      <td>New York Times</td>\n",
       "      <td>Sports</td>\n",
       "      <td>0.25</td>\n",
       "      <td>228</td>\n",
       "      <td>...</td>\n",
       "      <td>45860</td>\n",
       "      <td>763</td>\n",
       "      <td>Center</td>\n",
       "      <td>Mixed</td>\n",
       "      <td>0</td>\n",
       "      <td>57</td>\n",
       "      <td>1</td>\n",
       "      <td>0.72</td>\n",
       "      <td>0.38</td>\n",
       "      <td>Fake</td>\n",
       "    </tr>\n",
       "    <tr>\n",
       "      <th>3</th>\n",
       "      <td>4</td>\n",
       "      <td>Breaking News 4</td>\n",
       "      <td>Alex Johnson</td>\n",
       "      <td>This is the content of article 4. It contains ...</td>\n",
       "      <td>North Carolina</td>\n",
       "      <td>08-03-2020</td>\n",
       "      <td>CNN</td>\n",
       "      <td>Sports</td>\n",
       "      <td>0.94</td>\n",
       "      <td>155</td>\n",
       "      <td>...</td>\n",
       "      <td>34222</td>\n",
       "      <td>945</td>\n",
       "      <td>Center</td>\n",
       "      <td>TRUE</td>\n",
       "      <td>1</td>\n",
       "      <td>18</td>\n",
       "      <td>10</td>\n",
       "      <td>0.92</td>\n",
       "      <td>32.20</td>\n",
       "      <td>Fake</td>\n",
       "    </tr>\n",
       "    <tr>\n",
       "      <th>4</th>\n",
       "      <td>5</td>\n",
       "      <td>Breaking News 5</td>\n",
       "      <td>Emily Davis</td>\n",
       "      <td>This is the content of article 5. It contains ...</td>\n",
       "      <td>California</td>\n",
       "      <td>23-03-2022</td>\n",
       "      <td>Daily Mail</td>\n",
       "      <td>Technology</td>\n",
       "      <td>-0.01</td>\n",
       "      <td>962</td>\n",
       "      <td>...</td>\n",
       "      <td>35934</td>\n",
       "      <td>433</td>\n",
       "      <td>Right</td>\n",
       "      <td>Mixed</td>\n",
       "      <td>0</td>\n",
       "      <td>95</td>\n",
       "      <td>6</td>\n",
       "      <td>0.66</td>\n",
       "      <td>77.70</td>\n",
       "      <td>Real</td>\n",
       "    </tr>\n",
       "  </tbody>\n",
       "</table>\n",
       "<p>5 rows × 24 columns</p>\n",
       "</div>"
      ],
      "text/plain": [
       "   id            title        author  \\\n",
       "0   1  Breaking News 1    Jane Smith   \n",
       "1   2  Breaking News 2   Emily Davis   \n",
       "2   3  Breaking News 3      John Doe   \n",
       "3   4  Breaking News 4  Alex Johnson   \n",
       "4   5  Breaking News 5   Emily Davis   \n",
       "\n",
       "                                                text           state  \\\n",
       "0  This is the content of article 1. It contains ...       Tennessee   \n",
       "1  This is the content of article 2. It contains ...       Wisconsin   \n",
       "2  This is the content of article 3. It contains ...        Missouri   \n",
       "3  This is the content of article 4. It contains ...  North Carolina   \n",
       "4  This is the content of article 5. It contains ...      California   \n",
       "\n",
       "  date_published          source       category  sentiment_score  word_count  \\\n",
       "0     30-11-2021       The Onion  Entertainment            -0.22        1302   \n",
       "1     02-09-2021    The Guardian     Technology             0.92         322   \n",
       "2     13-04-2021  New York Times         Sports             0.25         228   \n",
       "3     08-03-2020             CNN         Sports             0.94         155   \n",
       "4     23-03-2022      Daily Mail     Technology            -0.01         962   \n",
       "\n",
       "   ...  num_shares  num_comments  political_bias  fact_check_rating  \\\n",
       "0  ...       47305           450          Center              FALSE   \n",
       "1  ...       39804           530            Left              Mixed   \n",
       "2  ...       45860           763          Center              Mixed   \n",
       "3  ...       34222           945          Center               TRUE   \n",
       "4  ...       35934           433           Right              Mixed   \n",
       "\n",
       "   is_satirical  trust_score source_reputation clickbait_score  \\\n",
       "0             1           76                 6            0.84   \n",
       "1             1            1                 5            0.85   \n",
       "2             0           57                 1            0.72   \n",
       "3             1           18                10            0.92   \n",
       "4             0           95                 6            0.66   \n",
       "\n",
       "   plagiarism_score  label  \n",
       "0             53.35   Fake  \n",
       "1             28.28   Fake  \n",
       "2              0.38   Fake  \n",
       "3             32.20   Fake  \n",
       "4             77.70   Real  \n",
       "\n",
       "[5 rows x 24 columns]"
      ]
     },
     "execution_count": 4,
     "metadata": {},
     "output_type": "execute_result"
    }
   ],
   "source": [
    "df = pd.read_csv(os.path.join(PATH_DATA, \"fake_news_dataset.csv\"))\n",
    "print(\"Shape:\", df.shape)\n",
    "df.head()"
   ]
  },
  {
   "cell_type": "code",
   "execution_count": 5,
   "metadata": {},
   "outputs": [
    {
     "name": "stdout",
     "output_type": "stream",
     "text": [
      "<class 'pandas.core.frame.DataFrame'>\n",
      "RangeIndex: 4000 entries, 0 to 3999\n",
      "Data columns (total 24 columns):\n",
      " #   Column             Non-Null Count  Dtype  \n",
      "---  ------             --------------  -----  \n",
      " 0   id                 4000 non-null   int64  \n",
      " 1   title              4000 non-null   object \n",
      " 2   author             4000 non-null   object \n",
      " 3   text               4000 non-null   object \n",
      " 4   state              4000 non-null   object \n",
      " 5   date_published     4000 non-null   object \n",
      " 6   source             4000 non-null   object \n",
      " 7   category           4000 non-null   object \n",
      " 8   sentiment_score    4000 non-null   float64\n",
      " 9   word_count         4000 non-null   int64  \n",
      " 10  char_count         4000 non-null   int64  \n",
      " 11  has_images         4000 non-null   int64  \n",
      " 12  has_videos         4000 non-null   int64  \n",
      " 13  readability_score  4000 non-null   float64\n",
      " 14  num_shares         4000 non-null   int64  \n",
      " 15  num_comments       4000 non-null   int64  \n",
      " 16  political_bias     4000 non-null   object \n",
      " 17  fact_check_rating  4000 non-null   object \n",
      " 18  is_satirical       4000 non-null   int64  \n",
      " 19  trust_score        4000 non-null   int64  \n",
      " 20  source_reputation  4000 non-null   int64  \n",
      " 21  clickbait_score    4000 non-null   float64\n",
      " 22  plagiarism_score   4000 non-null   float64\n",
      " 23  label              4000 non-null   object \n",
      "dtypes: float64(4), int64(10), object(10)\n",
      "memory usage: 750.1+ KB\n"
     ]
    }
   ],
   "source": [
    "df.info()"
   ]
  },
  {
   "cell_type": "code",
   "execution_count": 6,
   "metadata": {},
   "outputs": [
    {
     "name": "stdout",
     "output_type": "stream",
     "text": [
      "Total missing by columns:\n"
     ]
    },
    {
     "data": {
      "text/plain": [
       "id                   0\n",
       "title                0\n",
       "author               0\n",
       "text                 0\n",
       "state                0\n",
       "date_published       0\n",
       "source               0\n",
       "category             0\n",
       "sentiment_score      0\n",
       "word_count           0\n",
       "char_count           0\n",
       "has_images           0\n",
       "has_videos           0\n",
       "readability_score    0\n",
       "num_shares           0\n",
       "num_comments         0\n",
       "political_bias       0\n",
       "fact_check_rating    0\n",
       "is_satirical         0\n",
       "trust_score          0\n",
       "source_reputation    0\n",
       "clickbait_score      0\n",
       "plagiarism_score     0\n",
       "label                0\n",
       "dtype: int64"
      ]
     },
     "execution_count": 6,
     "metadata": {},
     "output_type": "execute_result"
    }
   ],
   "source": [
    "print(\"Total missing by columns:\")\n",
    "df.isnull().sum()"
   ]
  },
  {
   "cell_type": "markdown",
   "metadata": {},
   "source": [
    "### 3.1. Target variable"
   ]
  },
  {
   "cell_type": "code",
   "execution_count": 7,
   "metadata": {},
   "outputs": [],
   "source": [
    "target_variable = \"label\""
   ]
  },
  {
   "cell_type": "code",
   "execution_count": 10,
   "metadata": {},
   "outputs": [
    {
     "data": {
      "text/plain": [
       "array(['Fake', 'Real'], dtype=object)"
      ]
     },
     "execution_count": 10,
     "metadata": {},
     "output_type": "execute_result"
    }
   ],
   "source": [
    "df[target_variable].unique()"
   ]
  },
  {
   "cell_type": "markdown",
   "metadata": {},
   "source": [
    "### 3.2. Categorical"
   ]
  },
  {
   "cell_type": "code",
   "execution_count": 8,
   "metadata": {},
   "outputs": [],
   "source": [
    "categorical_features = [\"author\", \"state\", \"source\", \"category\", \"has_images\", \"has_videos\", \"political_bias\", \"fact_check_rating\", \"is_satirical\"]"
   ]
  },
  {
   "cell_type": "markdown",
   "metadata": {},
   "source": [
    "### 3.3. Numerical"
   ]
  },
  {
   "cell_type": "code",
   "execution_count": 9,
   "metadata": {},
   "outputs": [],
   "source": [
    "numerical_features = [\"sentiment_score\", \"word_count\", \"char_count\", \"readability_score\", \"num_shares\", \"num_comments\", \"trust_score\", \"source_reputation\", \"clickbait_score\",\n",
    "                      \"plagiarism_score\"]"
   ]
  },
  {
   "cell_type": "code",
   "execution_count": 13,
   "metadata": {},
   "outputs": [
    {
     "name": "stdout",
     "output_type": "stream",
     "text": [
      "\n",
      "Feature: author\n",
      "['Jane Smith' 'Emily Davis' 'John Doe' 'Alex Johnson' 'Chris Lee']\n",
      "\n",
      "Feature: state\n",
      "['Tennessee' 'Wisconsin' 'Missouri' 'North Carolina' 'California'\n",
      " 'Maryland' 'Texas' 'Virginia' 'Washington' 'Indiana' 'Florida' 'Ohio'\n",
      " 'New York' 'Michigan' 'Arizona' 'Massachusetts' 'Georgia' 'Pennsylvania'\n",
      " 'Illinois' 'New Jersey']\n",
      "\n",
      "Feature: source\n",
      "['The Onion' 'The Guardian' 'New York Times' 'CNN' 'Daily Mail' 'Fox News'\n",
      " 'HuffPost' 'Snopes' 'Washington Post' 'BBC' 'Breitbart' 'InfoWars'\n",
      " 'Reuters']\n",
      "\n",
      "Feature: category\n",
      "['Entertainment' 'Technology' 'Sports' 'Business' 'Politics' 'Health']\n",
      "\n",
      "Feature: has_images\n",
      "[0 1]\n",
      "\n",
      "Feature: has_videos\n",
      "[0 1]\n",
      "\n",
      "Feature: political_bias\n",
      "['Center' 'Left' 'Right']\n",
      "\n",
      "Feature: fact_check_rating\n",
      "['FALSE' 'Mixed' 'TRUE']\n",
      "\n",
      "Feature: is_satirical\n",
      "[1 0]\n"
     ]
    }
   ],
   "source": [
    "for c in categorical_features:\n",
    "    print(\"\\nFeature:\", c)\n",
    "    print(df[c].unique())"
   ]
  },
  {
   "cell_type": "code",
   "execution_count": 12,
   "metadata": {},
   "outputs": [
    {
     "data": {
      "text/html": [
       "<div>\n",
       "<style scoped>\n",
       "    .dataframe tbody tr th:only-of-type {\n",
       "        vertical-align: middle;\n",
       "    }\n",
       "\n",
       "    .dataframe tbody tr th {\n",
       "        vertical-align: top;\n",
       "    }\n",
       "\n",
       "    .dataframe thead th {\n",
       "        text-align: right;\n",
       "    }\n",
       "</style>\n",
       "<table border=\"1\" class=\"dataframe\">\n",
       "  <thead>\n",
       "    <tr style=\"text-align: right;\">\n",
       "      <th></th>\n",
       "      <th>sentiment_score</th>\n",
       "      <th>word_count</th>\n",
       "      <th>char_count</th>\n",
       "      <th>readability_score</th>\n",
       "      <th>num_shares</th>\n",
       "      <th>num_comments</th>\n",
       "      <th>trust_score</th>\n",
       "      <th>source_reputation</th>\n",
       "      <th>clickbait_score</th>\n",
       "      <th>plagiarism_score</th>\n",
       "    </tr>\n",
       "  </thead>\n",
       "  <tbody>\n",
       "    <tr>\n",
       "      <th>count</th>\n",
       "      <td>4000.000000</td>\n",
       "      <td>4000.000000</td>\n",
       "      <td>4000.0000</td>\n",
       "      <td>4000.000000</td>\n",
       "      <td>4000.000000</td>\n",
       "      <td>4000.000000</td>\n",
       "      <td>4000.000000</td>\n",
       "      <td>4000.00000</td>\n",
       "      <td>4000.000000</td>\n",
       "      <td>4000.000000</td>\n",
       "    </tr>\n",
       "    <tr>\n",
       "      <th>mean</th>\n",
       "      <td>-0.000645</td>\n",
       "      <td>795.655750</td>\n",
       "      <td>4277.0680</td>\n",
       "      <td>54.764595</td>\n",
       "      <td>25144.596750</td>\n",
       "      <td>489.870250</td>\n",
       "      <td>49.960750</td>\n",
       "      <td>5.54925</td>\n",
       "      <td>0.494447</td>\n",
       "      <td>50.598110</td>\n",
       "    </tr>\n",
       "    <tr>\n",
       "      <th>std</th>\n",
       "      <td>0.574768</td>\n",
       "      <td>406.373871</td>\n",
       "      <td>2186.2073</td>\n",
       "      <td>14.404027</td>\n",
       "      <td>14387.537467</td>\n",
       "      <td>287.435733</td>\n",
       "      <td>29.467911</td>\n",
       "      <td>2.87422</td>\n",
       "      <td>0.289138</td>\n",
       "      <td>28.932298</td>\n",
       "    </tr>\n",
       "    <tr>\n",
       "      <th>min</th>\n",
       "      <td>-1.000000</td>\n",
       "      <td>100.000000</td>\n",
       "      <td>500.0000</td>\n",
       "      <td>30.020000</td>\n",
       "      <td>39.000000</td>\n",
       "      <td>0.000000</td>\n",
       "      <td>0.000000</td>\n",
       "      <td>1.00000</td>\n",
       "      <td>0.000000</td>\n",
       "      <td>0.040000</td>\n",
       "    </tr>\n",
       "    <tr>\n",
       "      <th>25%</th>\n",
       "      <td>-0.490000</td>\n",
       "      <td>445.750000</td>\n",
       "      <td>2358.7500</td>\n",
       "      <td>42.480000</td>\n",
       "      <td>12781.750000</td>\n",
       "      <td>238.000000</td>\n",
       "      <td>24.000000</td>\n",
       "      <td>3.00000</td>\n",
       "      <td>0.240000</td>\n",
       "      <td>25.915000</td>\n",
       "    </tr>\n",
       "    <tr>\n",
       "      <th>50%</th>\n",
       "      <td>-0.010000</td>\n",
       "      <td>793.000000</td>\n",
       "      <td>4287.0000</td>\n",
       "      <td>54.235000</td>\n",
       "      <td>25308.500000</td>\n",
       "      <td>483.000000</td>\n",
       "      <td>50.000000</td>\n",
       "      <td>6.00000</td>\n",
       "      <td>0.490000</td>\n",
       "      <td>51.480000</td>\n",
       "    </tr>\n",
       "    <tr>\n",
       "      <th>75%</th>\n",
       "      <td>0.510000</td>\n",
       "      <td>1150.000000</td>\n",
       "      <td>6206.5000</td>\n",
       "      <td>67.215000</td>\n",
       "      <td>37453.500000</td>\n",
       "      <td>741.000000</td>\n",
       "      <td>76.000000</td>\n",
       "      <td>8.00000</td>\n",
       "      <td>0.740000</td>\n",
       "      <td>75.580000</td>\n",
       "    </tr>\n",
       "    <tr>\n",
       "      <th>max</th>\n",
       "      <td>1.000000</td>\n",
       "      <td>1500.000000</td>\n",
       "      <td>7996.0000</td>\n",
       "      <td>79.980000</td>\n",
       "      <td>50000.000000</td>\n",
       "      <td>1000.000000</td>\n",
       "      <td>100.000000</td>\n",
       "      <td>10.00000</td>\n",
       "      <td>1.000000</td>\n",
       "      <td>99.950000</td>\n",
       "    </tr>\n",
       "  </tbody>\n",
       "</table>\n",
       "</div>"
      ],
      "text/plain": [
       "       sentiment_score   word_count  char_count  readability_score  \\\n",
       "count      4000.000000  4000.000000   4000.0000        4000.000000   \n",
       "mean         -0.000645   795.655750   4277.0680          54.764595   \n",
       "std           0.574768   406.373871   2186.2073          14.404027   \n",
       "min          -1.000000   100.000000    500.0000          30.020000   \n",
       "25%          -0.490000   445.750000   2358.7500          42.480000   \n",
       "50%          -0.010000   793.000000   4287.0000          54.235000   \n",
       "75%           0.510000  1150.000000   6206.5000          67.215000   \n",
       "max           1.000000  1500.000000   7996.0000          79.980000   \n",
       "\n",
       "         num_shares  num_comments  trust_score  source_reputation  \\\n",
       "count   4000.000000   4000.000000  4000.000000         4000.00000   \n",
       "mean   25144.596750    489.870250    49.960750            5.54925   \n",
       "std    14387.537467    287.435733    29.467911            2.87422   \n",
       "min       39.000000      0.000000     0.000000            1.00000   \n",
       "25%    12781.750000    238.000000    24.000000            3.00000   \n",
       "50%    25308.500000    483.000000    50.000000            6.00000   \n",
       "75%    37453.500000    741.000000    76.000000            8.00000   \n",
       "max    50000.000000   1000.000000   100.000000           10.00000   \n",
       "\n",
       "       clickbait_score  plagiarism_score  \n",
       "count      4000.000000       4000.000000  \n",
       "mean          0.494447         50.598110  \n",
       "std           0.289138         28.932298  \n",
       "min           0.000000          0.040000  \n",
       "25%           0.240000         25.915000  \n",
       "50%           0.490000         51.480000  \n",
       "75%           0.740000         75.580000  \n",
       "max           1.000000         99.950000  "
      ]
     },
     "execution_count": 12,
     "metadata": {},
     "output_type": "execute_result"
    }
   ],
   "source": [
    "df[numerical_features].describe()"
   ]
  },
  {
   "cell_type": "markdown",
   "metadata": {},
   "source": [
    "## 4. Data cleaning"
   ]
  },
  {
   "cell_type": "code",
   "execution_count": 56,
   "metadata": {},
   "outputs": [],
   "source": [
    "df[target_variable] = df[target_variable].astype(str)\n",
    "df[target_variable] = df[target_variable].map(lambda x: x.strip())\n",
    "df[target_variable] = df[target_variable].map(lambda x: x.upper())"
   ]
  },
  {
   "cell_type": "code",
   "execution_count": 49,
   "metadata": {},
   "outputs": [],
   "source": [
    "string_features = [\"author\", \"state\", \"source\", \"category\", \"political_bias\", \"fact_check_rating\"]\n",
    "df[string_features] = df[string_features].astype(str)\n",
    "df[string_features] = df[string_features].map(lambda x: x.strip())\n",
    "df[string_features] = df[string_features].map(lambda x: x.upper())"
   ]
  },
  {
   "cell_type": "markdown",
   "metadata": {},
   "source": [
    "## 5. Ingest data"
   ]
  },
  {
   "cell_type": "code",
   "execution_count": 16,
   "metadata": {},
   "outputs": [],
   "source": [
    "import pyodbc"
   ]
  },
  {
   "cell_type": "code",
   "execution_count": 51,
   "metadata": {},
   "outputs": [],
   "source": [
    "SERVER_MSSQL = os.getenv(\"SERVER_MSSQL\")\n",
    "DATABASE_MSSQL = os.getenv(\"DATABASE_MSSQL\")\n",
    "UID_MSSQL = os.getenv(\"UID_MSSQL\")\n",
    "PWD_MSSQL = os.getenv(\"PWD_MSSQL\")\n",
    "\n",
    "conn = pyodbc.connect(\n",
    "    \"DRIVER={ODBC Driver 18 for SQL Server};\"\n",
    "    f\"SERVER={SERVER_MSSQL};\"\n",
    "    f\"DATABASE={DATABASE_MSSQL};\"\n",
    "    f\"UID={UID_MSSQL};\"\n",
    "    f\"PWD={PWD_MSSQL};\"\n",
    "    \"Encrypt=yes;\"\n",
    "    \"TrustServerCertificate=yes;\"\n",
    ")"
   ]
  },
  {
   "cell_type": "code",
   "execution_count": 52,
   "metadata": {},
   "outputs": [],
   "source": [
    "cur = conn.cursor()"
   ]
  },
  {
   "cell_type": "code",
   "execution_count": 57,
   "metadata": {},
   "outputs": [],
   "source": [
    "query = \"DROP TABLE IF EXISTS dbo.fake_news_detection\"\n",
    "cur.execute(query)\n",
    "conn.commit()"
   ]
  },
  {
   "cell_type": "code",
   "execution_count": 58,
   "metadata": {},
   "outputs": [],
   "source": [
    "query = \"CREATE TABLE dbo.fake_news_detection (\" \\\n",
    "        \"label VARCHAR(4) NOT NULL,\" \\\n",
    "        \"author VARCHAR(100) NOT NULL,\" \\\n",
    "        \"state VARCHAR(100) NOT NULL,\" \\\n",
    "        \"source VARCHAR(100) NOT NULL,\" \\\n",
    "        \"category VARCHAR(100) NOT NULL,\" \\\n",
    "        \"has_images BIT NOT NULL,\" \\\n",
    "        \"has_videos BIT NOT NULL,\" \\\n",
    "        \"political_bias VARCHAR(100) NOT NULL,\" \\\n",
    "        \"fact_check_rating VARCHAR(100) NOT NULL,\" \\\n",
    "        \"is_satirical BIT NOT NULL,\" \\\n",
    "        \"sentiment_score DECIMAL(3,2) NOT NULL,\" \\\n",
    "        \"word_count INT NOT NULL,\" \\\n",
    "        \"char_count INT NOT NULL,\" \\\n",
    "        \"readability_score DECIMAL(5,2) NOT NULL,\" \\\n",
    "        \"num_shares INT NOT NULL,\" \\\n",
    "        \"num_comments INT NOT NULL,\" \\\n",
    "        \"trust_score INT NOT NULL,\" \\\n",
    "        \"source_reputation INT NOT NULL,\" \\\n",
    "        \"clickbait_score DECIMAL(3,2) NOT NULL,\" \\\n",
    "        \"plagiarism_score DECIMAL(5,2) NOT NULL\" \\\n",
    "        \")\"\n",
    "cur.execute(query)\n",
    "conn.commit()"
   ]
  },
  {
   "cell_type": "code",
   "execution_count": 59,
   "metadata": {},
   "outputs": [],
   "source": [
    "features = [target_variable] + categorical_features + numerical_features\n",
    "features_query = \", \".join(x for x in features)\n",
    "values_query = (\"?,\" * len(features))[:-1]"
   ]
  },
  {
   "cell_type": "code",
   "execution_count": 60,
   "metadata": {},
   "outputs": [],
   "source": [
    "insert_query = f\"INSERT INTO dbo.fake_news_detection ({features_query}) VALUES ({values_query})\"\n",
    "data_sql = list(df[features].itertuples(index = False, name = None))\n",
    "cur.executemany(insert_query, data_sql)\n",
    "conn.commit()"
   ]
  },
  {
   "cell_type": "code",
   "execution_count": 61,
   "metadata": {},
   "outputs": [],
   "source": [
    "conn.close()"
   ]
  },
  {
   "cell_type": "code",
   "execution_count": null,
   "metadata": {},
   "outputs": [],
   "source": []
  }
 ],
 "metadata": {
  "kernelspec": {
   "display_name": "base",
   "language": "python",
   "name": "python3"
  },
  "language_info": {
   "codemirror_mode": {
    "name": "ipython",
    "version": 3
   },
   "file_extension": ".py",
   "mimetype": "text/x-python",
   "name": "python",
   "nbconvert_exporter": "python",
   "pygments_lexer": "ipython3",
   "version": "3.11.9"
  }
 },
 "nbformat": 4,
 "nbformat_minor": 2
}
