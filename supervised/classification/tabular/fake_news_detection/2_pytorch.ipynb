{
 "cells": [
  {
   "cell_type": "markdown",
   "metadata": {},
   "source": [
    "# Fake News Detection"
   ]
  },
  {
   "cell_type": "markdown",
   "metadata": {},
   "source": [
    "## 1. Data preparation"
   ]
  },
  {
   "cell_type": "code",
   "execution_count": 54,
   "metadata": {},
   "outputs": [],
   "source": [
    "import os\n",
    "import pandas as pd\n",
    "import matplotlib.pyplot as plt\n",
    "import seaborn as sns\n",
    "import numpy as np\n",
    "import pyodbc\n",
    "from dotenv import load_dotenv"
   ]
  },
  {
   "cell_type": "code",
   "execution_count": 3,
   "metadata": {},
   "outputs": [
    {
     "data": {
      "text/plain": [
       "True"
      ]
     },
     "execution_count": 3,
     "metadata": {},
     "output_type": "execute_result"
    }
   ],
   "source": [
    "load_dotenv()"
   ]
  },
  {
   "cell_type": "code",
   "execution_count": 48,
   "metadata": {},
   "outputs": [],
   "source": [
    "plt.style.use(\"ggplot\")"
   ]
  },
  {
   "cell_type": "code",
   "execution_count": 6,
   "metadata": {},
   "outputs": [],
   "source": [
    "SERVER_MSSQL = os.getenv(\"SERVER_MSSQL\")\n",
    "DATABASE_MSSQL = os.getenv(\"DATABASE_MSSQL\")\n",
    "UID_MSSQL = os.getenv(\"UID_MSSQL\")\n",
    "PWD_MSSQL = os.getenv(\"PWD_MSSQL\")\n",
    "\n",
    "conn = pyodbc.connect(\n",
    "    \"DRIVER={ODBC Driver 18 for SQL Server};\"\n",
    "    f\"SERVER={SERVER_MSSQL};\"\n",
    "    f\"DATABASE={DATABASE_MSSQL};\"\n",
    "    f\"UID={UID_MSSQL};\"\n",
    "    f\"PWD={PWD_MSSQL};\"\n",
    "    \"Encrypt=yes;\"\n",
    "    \"TrustServerCertificate=yes;\"\n",
    ")"
   ]
  },
  {
   "cell_type": "code",
   "execution_count": 7,
   "metadata": {},
   "outputs": [],
   "source": [
    "target_variable = \"label\"\n",
    "categorical_features = [\"author\", \"state\", \"source\", \"category\", \"has_images\", \"has_videos\", \"political_bias\", \"fact_check_rating\", \"is_satirical\"]\n",
    "numerical_features = [\"sentiment_score\", \"word_count\", \"char_count\", \"readability_score\", \"num_shares\", \"num_comments\", \"trust_score\", \"source_reputation\", \"clickbait_score\",\n",
    "                      \"plagiarism_score\"]"
   ]
  },
  {
   "cell_type": "code",
   "execution_count": 9,
   "metadata": {},
   "outputs": [],
   "source": [
    "features = [target_variable] + categorical_features + numerical_features\n",
    "features_query = \", \".join(x for x in features)"
   ]
  },
  {
   "cell_type": "code",
   "execution_count": 10,
   "metadata": {},
   "outputs": [
    {
     "name": "stdout",
     "output_type": "stream",
     "text": [
      "Shape (4000, 20)\n"
     ]
    },
    {
     "name": "stderr",
     "output_type": "stream",
     "text": [
      "C:\\Users\\Wilder\\AppData\\Local\\Temp\\ipykernel_22320\\1382865238.py:2: UserWarning: pandas only supports SQLAlchemy connectable (engine/connection) or database string URI or sqlite3 DBAPI2 connection. Other DBAPI2 objects are not tested. Please consider using SQLAlchemy.\n",
      "  df = pd.read_sql(query, conn)\n"
     ]
    }
   ],
   "source": [
    "query = f\"SELECT {features_query} FROM dbo.fake_news_detection\"\n",
    "df = pd.read_sql(query, conn)\n",
    "print(\"Shape\", df.shape)"
   ]
  },
  {
   "cell_type": "code",
   "execution_count": 11,
   "metadata": {},
   "outputs": [
    {
     "data": {
      "text/html": [
       "<div>\n",
       "<style scoped>\n",
       "    .dataframe tbody tr th:only-of-type {\n",
       "        vertical-align: middle;\n",
       "    }\n",
       "\n",
       "    .dataframe tbody tr th {\n",
       "        vertical-align: top;\n",
       "    }\n",
       "\n",
       "    .dataframe thead th {\n",
       "        text-align: right;\n",
       "    }\n",
       "</style>\n",
       "<table border=\"1\" class=\"dataframe\">\n",
       "  <thead>\n",
       "    <tr style=\"text-align: right;\">\n",
       "      <th></th>\n",
       "      <th>label</th>\n",
       "      <th>author</th>\n",
       "      <th>state</th>\n",
       "      <th>source</th>\n",
       "      <th>category</th>\n",
       "      <th>has_images</th>\n",
       "      <th>has_videos</th>\n",
       "      <th>political_bias</th>\n",
       "      <th>fact_check_rating</th>\n",
       "      <th>is_satirical</th>\n",
       "      <th>sentiment_score</th>\n",
       "      <th>word_count</th>\n",
       "      <th>char_count</th>\n",
       "      <th>readability_score</th>\n",
       "      <th>num_shares</th>\n",
       "      <th>num_comments</th>\n",
       "      <th>trust_score</th>\n",
       "      <th>source_reputation</th>\n",
       "      <th>clickbait_score</th>\n",
       "      <th>plagiarism_score</th>\n",
       "    </tr>\n",
       "  </thead>\n",
       "  <tbody>\n",
       "    <tr>\n",
       "      <th>0</th>\n",
       "      <td>FAKE</td>\n",
       "      <td>JANE SMITH</td>\n",
       "      <td>TENNESSEE</td>\n",
       "      <td>THE ONION</td>\n",
       "      <td>ENTERTAINMENT</td>\n",
       "      <td>False</td>\n",
       "      <td>False</td>\n",
       "      <td>CENTER</td>\n",
       "      <td>FALSE</td>\n",
       "      <td>True</td>\n",
       "      <td>-0.22</td>\n",
       "      <td>1302</td>\n",
       "      <td>5070</td>\n",
       "      <td>66.18</td>\n",
       "      <td>47305</td>\n",
       "      <td>450</td>\n",
       "      <td>76</td>\n",
       "      <td>6</td>\n",
       "      <td>0.84</td>\n",
       "      <td>53.35</td>\n",
       "    </tr>\n",
       "    <tr>\n",
       "      <th>1</th>\n",
       "      <td>FAKE</td>\n",
       "      <td>EMILY DAVIS</td>\n",
       "      <td>WISCONSIN</td>\n",
       "      <td>THE GUARDIAN</td>\n",
       "      <td>TECHNOLOGY</td>\n",
       "      <td>True</td>\n",
       "      <td>False</td>\n",
       "      <td>LEFT</td>\n",
       "      <td>MIXED</td>\n",
       "      <td>True</td>\n",
       "      <td>0.92</td>\n",
       "      <td>322</td>\n",
       "      <td>2722</td>\n",
       "      <td>41.10</td>\n",
       "      <td>39804</td>\n",
       "      <td>530</td>\n",
       "      <td>1</td>\n",
       "      <td>5</td>\n",
       "      <td>0.85</td>\n",
       "      <td>28.28</td>\n",
       "    </tr>\n",
       "    <tr>\n",
       "      <th>2</th>\n",
       "      <td>FAKE</td>\n",
       "      <td>JOHN DOE</td>\n",
       "      <td>MISSOURI</td>\n",
       "      <td>NEW YORK TIMES</td>\n",
       "      <td>SPORTS</td>\n",
       "      <td>False</td>\n",
       "      <td>True</td>\n",
       "      <td>CENTER</td>\n",
       "      <td>MIXED</td>\n",
       "      <td>False</td>\n",
       "      <td>0.25</td>\n",
       "      <td>228</td>\n",
       "      <td>5904</td>\n",
       "      <td>30.04</td>\n",
       "      <td>45860</td>\n",
       "      <td>763</td>\n",
       "      <td>57</td>\n",
       "      <td>1</td>\n",
       "      <td>0.72</td>\n",
       "      <td>0.38</td>\n",
       "    </tr>\n",
       "    <tr>\n",
       "      <th>3</th>\n",
       "      <td>FAKE</td>\n",
       "      <td>ALEX JOHNSON</td>\n",
       "      <td>NORTH CAROLINA</td>\n",
       "      <td>CNN</td>\n",
       "      <td>SPORTS</td>\n",
       "      <td>True</td>\n",
       "      <td>False</td>\n",
       "      <td>CENTER</td>\n",
       "      <td>TRUE</td>\n",
       "      <td>True</td>\n",
       "      <td>0.94</td>\n",
       "      <td>155</td>\n",
       "      <td>825</td>\n",
       "      <td>75.16</td>\n",
       "      <td>34222</td>\n",
       "      <td>945</td>\n",
       "      <td>18</td>\n",
       "      <td>10</td>\n",
       "      <td>0.92</td>\n",
       "      <td>32.20</td>\n",
       "    </tr>\n",
       "    <tr>\n",
       "      <th>4</th>\n",
       "      <td>REAL</td>\n",
       "      <td>EMILY DAVIS</td>\n",
       "      <td>CALIFORNIA</td>\n",
       "      <td>DAILY MAIL</td>\n",
       "      <td>TECHNOLOGY</td>\n",
       "      <td>True</td>\n",
       "      <td>False</td>\n",
       "      <td>RIGHT</td>\n",
       "      <td>MIXED</td>\n",
       "      <td>False</td>\n",
       "      <td>-0.01</td>\n",
       "      <td>962</td>\n",
       "      <td>1087</td>\n",
       "      <td>43.90</td>\n",
       "      <td>35934</td>\n",
       "      <td>433</td>\n",
       "      <td>95</td>\n",
       "      <td>6</td>\n",
       "      <td>0.66</td>\n",
       "      <td>77.70</td>\n",
       "    </tr>\n",
       "  </tbody>\n",
       "</table>\n",
       "</div>"
      ],
      "text/plain": [
       "  label        author           state          source       category  \\\n",
       "0  FAKE    JANE SMITH       TENNESSEE       THE ONION  ENTERTAINMENT   \n",
       "1  FAKE   EMILY DAVIS       WISCONSIN    THE GUARDIAN     TECHNOLOGY   \n",
       "2  FAKE      JOHN DOE        MISSOURI  NEW YORK TIMES         SPORTS   \n",
       "3  FAKE  ALEX JOHNSON  NORTH CAROLINA             CNN         SPORTS   \n",
       "4  REAL   EMILY DAVIS      CALIFORNIA      DAILY MAIL     TECHNOLOGY   \n",
       "\n",
       "   has_images  has_videos political_bias fact_check_rating  is_satirical  \\\n",
       "0       False       False         CENTER             FALSE          True   \n",
       "1        True       False           LEFT             MIXED          True   \n",
       "2       False        True         CENTER             MIXED         False   \n",
       "3        True       False         CENTER              TRUE          True   \n",
       "4        True       False          RIGHT             MIXED         False   \n",
       "\n",
       "   sentiment_score  word_count  char_count  readability_score  num_shares  \\\n",
       "0            -0.22        1302        5070              66.18       47305   \n",
       "1             0.92         322        2722              41.10       39804   \n",
       "2             0.25         228        5904              30.04       45860   \n",
       "3             0.94         155         825              75.16       34222   \n",
       "4            -0.01         962        1087              43.90       35934   \n",
       "\n",
       "   num_comments  trust_score  source_reputation  clickbait_score  \\\n",
       "0           450           76                  6             0.84   \n",
       "1           530            1                  5             0.85   \n",
       "2           763           57                  1             0.72   \n",
       "3           945           18                 10             0.92   \n",
       "4           433           95                  6             0.66   \n",
       "\n",
       "   plagiarism_score  \n",
       "0             53.35  \n",
       "1             28.28  \n",
       "2              0.38  \n",
       "3             32.20  \n",
       "4             77.70  "
      ]
     },
     "execution_count": 11,
     "metadata": {},
     "output_type": "execute_result"
    }
   ],
   "source": [
    "df.head()"
   ]
  },
  {
   "cell_type": "markdown",
   "metadata": {},
   "source": [
    "### 1.1. Categorical"
   ]
  },
  {
   "cell_type": "code",
   "execution_count": 12,
   "metadata": {},
   "outputs": [],
   "source": [
    "from sklearn.preprocessing import OneHotEncoder"
   ]
  },
  {
   "cell_type": "code",
   "execution_count": 13,
   "metadata": {},
   "outputs": [],
   "source": [
    "# Get transformer instance \n",
    "# sparse_output = False to return the values as vectors\n",
    "# drop = first to remove first class, because the rest of classes are enough explanatory and reduce training time \n",
    "onehot_encoder = OneHotEncoder(sparse_output = False, drop = \"first\")\n",
    "\n",
    "# Training\n",
    "encoded_features = onehot_encoder.fit_transform(df[categorical_features])\n",
    "\n",
    "# Turn result into a dataframe\n",
    "df_one_hot_encoder = pd.DataFrame(encoded_features, columns = onehot_encoder.get_feature_names_out())"
   ]
  },
  {
   "cell_type": "markdown",
   "metadata": {},
   "source": [
    "### 1.2. Numeric"
   ]
  },
  {
   "cell_type": "code",
   "execution_count": 14,
   "metadata": {},
   "outputs": [],
   "source": [
    "from sklearn.preprocessing import MinMaxScaler"
   ]
  },
  {
   "cell_type": "code",
   "execution_count": 15,
   "metadata": {},
   "outputs": [
    {
     "name": "stdout",
     "output_type": "stream",
     "text": [
      "Shape: (4000, 20)\n"
     ]
    },
    {
     "data": {
      "text/html": [
       "<div>\n",
       "<style scoped>\n",
       "    .dataframe tbody tr th:only-of-type {\n",
       "        vertical-align: middle;\n",
       "    }\n",
       "\n",
       "    .dataframe tbody tr th {\n",
       "        vertical-align: top;\n",
       "    }\n",
       "\n",
       "    .dataframe thead th {\n",
       "        text-align: right;\n",
       "    }\n",
       "</style>\n",
       "<table border=\"1\" class=\"dataframe\">\n",
       "  <thead>\n",
       "    <tr style=\"text-align: right;\">\n",
       "      <th></th>\n",
       "      <th>label</th>\n",
       "      <th>author</th>\n",
       "      <th>state</th>\n",
       "      <th>source</th>\n",
       "      <th>category</th>\n",
       "      <th>has_images</th>\n",
       "      <th>has_videos</th>\n",
       "      <th>political_bias</th>\n",
       "      <th>fact_check_rating</th>\n",
       "      <th>is_satirical</th>\n",
       "      <th>sentiment_score</th>\n",
       "      <th>word_count</th>\n",
       "      <th>char_count</th>\n",
       "      <th>readability_score</th>\n",
       "      <th>num_shares</th>\n",
       "      <th>num_comments</th>\n",
       "      <th>trust_score</th>\n",
       "      <th>source_reputation</th>\n",
       "      <th>clickbait_score</th>\n",
       "      <th>plagiarism_score</th>\n",
       "    </tr>\n",
       "  </thead>\n",
       "  <tbody>\n",
       "    <tr>\n",
       "      <th>0</th>\n",
       "      <td>FAKE</td>\n",
       "      <td>JANE SMITH</td>\n",
       "      <td>TENNESSEE</td>\n",
       "      <td>THE ONION</td>\n",
       "      <td>ENTERTAINMENT</td>\n",
       "      <td>False</td>\n",
       "      <td>False</td>\n",
       "      <td>CENTER</td>\n",
       "      <td>FALSE</td>\n",
       "      <td>True</td>\n",
       "      <td>0.390</td>\n",
       "      <td>0.858571</td>\n",
       "      <td>0.609658</td>\n",
       "      <td>0.723779</td>\n",
       "      <td>0.946058</td>\n",
       "      <td>0.450</td>\n",
       "      <td>0.76</td>\n",
       "      <td>0.555556</td>\n",
       "      <td>0.84</td>\n",
       "      <td>0.533580</td>\n",
       "    </tr>\n",
       "    <tr>\n",
       "      <th>1</th>\n",
       "      <td>FAKE</td>\n",
       "      <td>EMILY DAVIS</td>\n",
       "      <td>WISCONSIN</td>\n",
       "      <td>THE GUARDIAN</td>\n",
       "      <td>TECHNOLOGY</td>\n",
       "      <td>True</td>\n",
       "      <td>False</td>\n",
       "      <td>LEFT</td>\n",
       "      <td>MIXED</td>\n",
       "      <td>True</td>\n",
       "      <td>0.960</td>\n",
       "      <td>0.158571</td>\n",
       "      <td>0.296425</td>\n",
       "      <td>0.221777</td>\n",
       "      <td>0.795921</td>\n",
       "      <td>0.530</td>\n",
       "      <td>0.01</td>\n",
       "      <td>0.444444</td>\n",
       "      <td>0.85</td>\n",
       "      <td>0.282654</td>\n",
       "    </tr>\n",
       "    <tr>\n",
       "      <th>2</th>\n",
       "      <td>FAKE</td>\n",
       "      <td>JOHN DOE</td>\n",
       "      <td>MISSOURI</td>\n",
       "      <td>NEW YORK TIMES</td>\n",
       "      <td>SPORTS</td>\n",
       "      <td>False</td>\n",
       "      <td>True</td>\n",
       "      <td>CENTER</td>\n",
       "      <td>MIXED</td>\n",
       "      <td>False</td>\n",
       "      <td>0.625</td>\n",
       "      <td>0.091429</td>\n",
       "      <td>0.720918</td>\n",
       "      <td>0.000400</td>\n",
       "      <td>0.917135</td>\n",
       "      <td>0.763</td>\n",
       "      <td>0.57</td>\n",
       "      <td>0.000000</td>\n",
       "      <td>0.72</td>\n",
       "      <td>0.003403</td>\n",
       "    </tr>\n",
       "    <tr>\n",
       "      <th>3</th>\n",
       "      <td>FAKE</td>\n",
       "      <td>ALEX JOHNSON</td>\n",
       "      <td>NORTH CAROLINA</td>\n",
       "      <td>CNN</td>\n",
       "      <td>SPORTS</td>\n",
       "      <td>True</td>\n",
       "      <td>False</td>\n",
       "      <td>CENTER</td>\n",
       "      <td>TRUE</td>\n",
       "      <td>True</td>\n",
       "      <td>0.970</td>\n",
       "      <td>0.039286</td>\n",
       "      <td>0.043356</td>\n",
       "      <td>0.903523</td>\n",
       "      <td>0.684194</td>\n",
       "      <td>0.945</td>\n",
       "      <td>0.18</td>\n",
       "      <td>1.000000</td>\n",
       "      <td>0.92</td>\n",
       "      <td>0.321890</td>\n",
       "    </tr>\n",
       "    <tr>\n",
       "      <th>4</th>\n",
       "      <td>REAL</td>\n",
       "      <td>EMILY DAVIS</td>\n",
       "      <td>CALIFORNIA</td>\n",
       "      <td>DAILY MAIL</td>\n",
       "      <td>TECHNOLOGY</td>\n",
       "      <td>True</td>\n",
       "      <td>False</td>\n",
       "      <td>RIGHT</td>\n",
       "      <td>MIXED</td>\n",
       "      <td>False</td>\n",
       "      <td>0.495</td>\n",
       "      <td>0.615714</td>\n",
       "      <td>0.078308</td>\n",
       "      <td>0.277822</td>\n",
       "      <td>0.718460</td>\n",
       "      <td>0.433</td>\n",
       "      <td>0.95</td>\n",
       "      <td>0.555556</td>\n",
       "      <td>0.66</td>\n",
       "      <td>0.777300</td>\n",
       "    </tr>\n",
       "  </tbody>\n",
       "</table>\n",
       "</div>"
      ],
      "text/plain": [
       "  label        author           state          source       category  \\\n",
       "0  FAKE    JANE SMITH       TENNESSEE       THE ONION  ENTERTAINMENT   \n",
       "1  FAKE   EMILY DAVIS       WISCONSIN    THE GUARDIAN     TECHNOLOGY   \n",
       "2  FAKE      JOHN DOE        MISSOURI  NEW YORK TIMES         SPORTS   \n",
       "3  FAKE  ALEX JOHNSON  NORTH CAROLINA             CNN         SPORTS   \n",
       "4  REAL   EMILY DAVIS      CALIFORNIA      DAILY MAIL     TECHNOLOGY   \n",
       "\n",
       "   has_images  has_videos political_bias fact_check_rating  is_satirical  \\\n",
       "0       False       False         CENTER             FALSE          True   \n",
       "1        True       False           LEFT             MIXED          True   \n",
       "2       False        True         CENTER             MIXED         False   \n",
       "3        True       False         CENTER              TRUE          True   \n",
       "4        True       False          RIGHT             MIXED         False   \n",
       "\n",
       "   sentiment_score  word_count  char_count  readability_score  num_shares  \\\n",
       "0            0.390    0.858571    0.609658           0.723779    0.946058   \n",
       "1            0.960    0.158571    0.296425           0.221777    0.795921   \n",
       "2            0.625    0.091429    0.720918           0.000400    0.917135   \n",
       "3            0.970    0.039286    0.043356           0.903523    0.684194   \n",
       "4            0.495    0.615714    0.078308           0.277822    0.718460   \n",
       "\n",
       "   num_comments  trust_score  source_reputation  clickbait_score  \\\n",
       "0         0.450         0.76           0.555556             0.84   \n",
       "1         0.530         0.01           0.444444             0.85   \n",
       "2         0.763         0.57           0.000000             0.72   \n",
       "3         0.945         0.18           1.000000             0.92   \n",
       "4         0.433         0.95           0.555556             0.66   \n",
       "\n",
       "   plagiarism_score  \n",
       "0          0.533580  \n",
       "1          0.282654  \n",
       "2          0.003403  \n",
       "3          0.321890  \n",
       "4          0.777300  "
      ]
     },
     "execution_count": 15,
     "metadata": {},
     "output_type": "execute_result"
    }
   ],
   "source": [
    "scaler = MinMaxScaler()\n",
    "ar = scaler.fit_transform(df[numerical_features])\n",
    "df_numeric = pd.DataFrame(ar, columns = numerical_features)\n",
    "\n",
    "for c in numerical_features:\n",
    "    df[c] = df_numeric[c]\n",
    "    \n",
    "print(\"Shape:\", df.shape)\n",
    "df.head()"
   ]
  },
  {
   "cell_type": "markdown",
   "metadata": {},
   "source": [
    "### 1.3. Target variable"
   ]
  },
  {
   "cell_type": "code",
   "execution_count": 16,
   "metadata": {},
   "outputs": [
    {
     "data": {
      "text/plain": [
       "array([1, 0])"
      ]
     },
     "execution_count": 16,
     "metadata": {},
     "output_type": "execute_result"
    }
   ],
   "source": [
    "df[target_variable] = df[target_variable].map(lambda x: 1 if x == \"FAKE\" else 0)\n",
    "df[target_variable].unique()"
   ]
  },
  {
   "cell_type": "markdown",
   "metadata": {},
   "source": [
    "### 1.4. Get transformed dataset"
   ]
  },
  {
   "cell_type": "code",
   "execution_count": 32,
   "metadata": {},
   "outputs": [
    {
     "name": "stdout",
     "output_type": "stream",
     "text": [
      "Shape: (4000, 58)\n"
     ]
    },
    {
     "data": {
      "text/html": [
       "<div>\n",
       "<style scoped>\n",
       "    .dataframe tbody tr th:only-of-type {\n",
       "        vertical-align: middle;\n",
       "    }\n",
       "\n",
       "    .dataframe tbody tr th {\n",
       "        vertical-align: top;\n",
       "    }\n",
       "\n",
       "    .dataframe thead th {\n",
       "        text-align: right;\n",
       "    }\n",
       "</style>\n",
       "<table border=\"1\" class=\"dataframe\">\n",
       "  <thead>\n",
       "    <tr style=\"text-align: right;\">\n",
       "      <th></th>\n",
       "      <th>sentiment_score</th>\n",
       "      <th>word_count</th>\n",
       "      <th>char_count</th>\n",
       "      <th>readability_score</th>\n",
       "      <th>num_shares</th>\n",
       "      <th>num_comments</th>\n",
       "      <th>trust_score</th>\n",
       "      <th>source_reputation</th>\n",
       "      <th>clickbait_score</th>\n",
       "      <th>plagiarism_score</th>\n",
       "      <th>...</th>\n",
       "      <th>category_SPORTS</th>\n",
       "      <th>category_TECHNOLOGY</th>\n",
       "      <th>has_images_True</th>\n",
       "      <th>has_videos_True</th>\n",
       "      <th>political_bias_LEFT</th>\n",
       "      <th>political_bias_RIGHT</th>\n",
       "      <th>fact_check_rating_MIXED</th>\n",
       "      <th>fact_check_rating_TRUE</th>\n",
       "      <th>is_satirical_True</th>\n",
       "      <th>label</th>\n",
       "    </tr>\n",
       "  </thead>\n",
       "  <tbody>\n",
       "    <tr>\n",
       "      <th>0</th>\n",
       "      <td>0.390</td>\n",
       "      <td>0.858571</td>\n",
       "      <td>0.609658</td>\n",
       "      <td>0.723779</td>\n",
       "      <td>0.946058</td>\n",
       "      <td>0.450</td>\n",
       "      <td>0.76</td>\n",
       "      <td>0.555556</td>\n",
       "      <td>0.84</td>\n",
       "      <td>0.533580</td>\n",
       "      <td>...</td>\n",
       "      <td>0.0</td>\n",
       "      <td>0.0</td>\n",
       "      <td>0.0</td>\n",
       "      <td>0.0</td>\n",
       "      <td>0.0</td>\n",
       "      <td>0.0</td>\n",
       "      <td>0.0</td>\n",
       "      <td>0.0</td>\n",
       "      <td>1.0</td>\n",
       "      <td>1</td>\n",
       "    </tr>\n",
       "    <tr>\n",
       "      <th>1</th>\n",
       "      <td>0.960</td>\n",
       "      <td>0.158571</td>\n",
       "      <td>0.296425</td>\n",
       "      <td>0.221777</td>\n",
       "      <td>0.795921</td>\n",
       "      <td>0.530</td>\n",
       "      <td>0.01</td>\n",
       "      <td>0.444444</td>\n",
       "      <td>0.85</td>\n",
       "      <td>0.282654</td>\n",
       "      <td>...</td>\n",
       "      <td>0.0</td>\n",
       "      <td>1.0</td>\n",
       "      <td>1.0</td>\n",
       "      <td>0.0</td>\n",
       "      <td>1.0</td>\n",
       "      <td>0.0</td>\n",
       "      <td>1.0</td>\n",
       "      <td>0.0</td>\n",
       "      <td>1.0</td>\n",
       "      <td>1</td>\n",
       "    </tr>\n",
       "    <tr>\n",
       "      <th>2</th>\n",
       "      <td>0.625</td>\n",
       "      <td>0.091429</td>\n",
       "      <td>0.720918</td>\n",
       "      <td>0.000400</td>\n",
       "      <td>0.917135</td>\n",
       "      <td>0.763</td>\n",
       "      <td>0.57</td>\n",
       "      <td>0.000000</td>\n",
       "      <td>0.72</td>\n",
       "      <td>0.003403</td>\n",
       "      <td>...</td>\n",
       "      <td>1.0</td>\n",
       "      <td>0.0</td>\n",
       "      <td>0.0</td>\n",
       "      <td>1.0</td>\n",
       "      <td>0.0</td>\n",
       "      <td>0.0</td>\n",
       "      <td>1.0</td>\n",
       "      <td>0.0</td>\n",
       "      <td>0.0</td>\n",
       "      <td>1</td>\n",
       "    </tr>\n",
       "    <tr>\n",
       "      <th>3</th>\n",
       "      <td>0.970</td>\n",
       "      <td>0.039286</td>\n",
       "      <td>0.043356</td>\n",
       "      <td>0.903523</td>\n",
       "      <td>0.684194</td>\n",
       "      <td>0.945</td>\n",
       "      <td>0.18</td>\n",
       "      <td>1.000000</td>\n",
       "      <td>0.92</td>\n",
       "      <td>0.321890</td>\n",
       "      <td>...</td>\n",
       "      <td>1.0</td>\n",
       "      <td>0.0</td>\n",
       "      <td>1.0</td>\n",
       "      <td>0.0</td>\n",
       "      <td>0.0</td>\n",
       "      <td>0.0</td>\n",
       "      <td>0.0</td>\n",
       "      <td>1.0</td>\n",
       "      <td>1.0</td>\n",
       "      <td>1</td>\n",
       "    </tr>\n",
       "    <tr>\n",
       "      <th>4</th>\n",
       "      <td>0.495</td>\n",
       "      <td>0.615714</td>\n",
       "      <td>0.078308</td>\n",
       "      <td>0.277822</td>\n",
       "      <td>0.718460</td>\n",
       "      <td>0.433</td>\n",
       "      <td>0.95</td>\n",
       "      <td>0.555556</td>\n",
       "      <td>0.66</td>\n",
       "      <td>0.777300</td>\n",
       "      <td>...</td>\n",
       "      <td>0.0</td>\n",
       "      <td>1.0</td>\n",
       "      <td>1.0</td>\n",
       "      <td>0.0</td>\n",
       "      <td>0.0</td>\n",
       "      <td>1.0</td>\n",
       "      <td>1.0</td>\n",
       "      <td>0.0</td>\n",
       "      <td>0.0</td>\n",
       "      <td>0</td>\n",
       "    </tr>\n",
       "  </tbody>\n",
       "</table>\n",
       "<p>5 rows × 58 columns</p>\n",
       "</div>"
      ],
      "text/plain": [
       "   sentiment_score  word_count  char_count  readability_score  num_shares  \\\n",
       "0            0.390    0.858571    0.609658           0.723779    0.946058   \n",
       "1            0.960    0.158571    0.296425           0.221777    0.795921   \n",
       "2            0.625    0.091429    0.720918           0.000400    0.917135   \n",
       "3            0.970    0.039286    0.043356           0.903523    0.684194   \n",
       "4            0.495    0.615714    0.078308           0.277822    0.718460   \n",
       "\n",
       "   num_comments  trust_score  source_reputation  clickbait_score  \\\n",
       "0         0.450         0.76           0.555556             0.84   \n",
       "1         0.530         0.01           0.444444             0.85   \n",
       "2         0.763         0.57           0.000000             0.72   \n",
       "3         0.945         0.18           1.000000             0.92   \n",
       "4         0.433         0.95           0.555556             0.66   \n",
       "\n",
       "   plagiarism_score  ...  category_SPORTS  category_TECHNOLOGY  \\\n",
       "0          0.533580  ...              0.0                  0.0   \n",
       "1          0.282654  ...              0.0                  1.0   \n",
       "2          0.003403  ...              1.0                  0.0   \n",
       "3          0.321890  ...              1.0                  0.0   \n",
       "4          0.777300  ...              0.0                  1.0   \n",
       "\n",
       "   has_images_True  has_videos_True  political_bias_LEFT  \\\n",
       "0              0.0              0.0                  0.0   \n",
       "1              1.0              0.0                  1.0   \n",
       "2              0.0              1.0                  0.0   \n",
       "3              1.0              0.0                  0.0   \n",
       "4              1.0              0.0                  0.0   \n",
       "\n",
       "   political_bias_RIGHT  fact_check_rating_MIXED  fact_check_rating_TRUE  \\\n",
       "0                   0.0                      0.0                     0.0   \n",
       "1                   0.0                      1.0                     0.0   \n",
       "2                   0.0                      1.0                     0.0   \n",
       "3                   0.0                      0.0                     1.0   \n",
       "4                   1.0                      1.0                     0.0   \n",
       "\n",
       "   is_satirical_True  label  \n",
       "0                1.0      1  \n",
       "1                1.0      1  \n",
       "2                0.0      1  \n",
       "3                1.0      1  \n",
       "4                0.0      0  \n",
       "\n",
       "[5 rows x 58 columns]"
      ]
     },
     "execution_count": 32,
     "metadata": {},
     "output_type": "execute_result"
    }
   ],
   "source": [
    "df_train_encoded = pd.concat([df[numerical_features], df_one_hot_encoder, df[target_variable]], axis = 1)\n",
    "print(\"Shape:\", df_train_encoded.shape)\n",
    "df_train_encoded.head()"
   ]
  },
  {
   "cell_type": "markdown",
   "metadata": {},
   "source": [
    "## 2. Modeling"
   ]
  },
  {
   "cell_type": "code",
   "execution_count": 21,
   "metadata": {},
   "outputs": [],
   "source": [
    "import torch\n",
    "import torch.nn as nn\n",
    "import torch.optim as optim\n",
    "from torch.utils.data import Dataset, DataLoader"
   ]
  },
  {
   "cell_type": "code",
   "execution_count": 51,
   "metadata": {},
   "outputs": [],
   "source": [
    "from sklearn.model_selection import train_test_split\n",
    "from sklearn.metrics import accuracy_score, precision_score, recall_score, f1_score, confusion_matrix\n",
    "from sklearn.utils.class_weight import compute_class_weight"
   ]
  },
  {
   "cell_type": "code",
   "execution_count": 33,
   "metadata": {},
   "outputs": [],
   "source": [
    "y = df_train_encoded.pop(target_variable).values\n",
    "x = df_train_encoded.values"
   ]
  },
  {
   "cell_type": "code",
   "execution_count": 34,
   "metadata": {},
   "outputs": [
    {
     "name": "stdout",
     "output_type": "stream",
     "text": [
      "x_train shape: (3200, 57)\n",
      "y_train shape: (3200,)\n",
      "x_test shape: (800, 57)\n",
      "y_test shape: (800,)\n"
     ]
    }
   ],
   "source": [
    "x_train, x_test, y_train, y_test = train_test_split(x, y, test_size = 0.2, random_state = 42)\n",
    "print(\"x_train shape:\", x_train.shape)\n",
    "print(\"y_train shape:\", y_train.shape)\n",
    "print(\"x_test shape:\", x_test.shape)\n",
    "print(\"y_test shape:\", y_test.shape)"
   ]
  },
  {
   "cell_type": "markdown",
   "metadata": {},
   "source": [
    "### 2.1. Create dataset"
   ]
  },
  {
   "cell_type": "code",
   "execution_count": 35,
   "metadata": {},
   "outputs": [],
   "source": [
    "class TabularDataset(Dataset):\n",
    "    def __init__(self, x, y):\n",
    "        self.x = torch.tensor(x, dtype = torch.float32)\n",
    "        self.y = torch.tensor(y, dtype = torch.float32).unsqueeze(1)\n",
    "    \n",
    "    def __len__(self):\n",
    "        return len(self.x)\n",
    "    \n",
    "    def __getitem__(self, idx):\n",
    "        return self.x[idx], self.y[idx]"
   ]
  },
  {
   "cell_type": "code",
   "execution_count": 36,
   "metadata": {},
   "outputs": [],
   "source": [
    "train_dataset = TabularDataset(x_train, y_train)\n",
    "test_dataset = TabularDataset(x_test, y_test)"
   ]
  },
  {
   "cell_type": "code",
   "execution_count": 37,
   "metadata": {},
   "outputs": [],
   "source": [
    "train_loader = DataLoader(train_dataset, batch_size = 32, shuffle = True)\n",
    "test_loader = DataLoader(test_dataset, batch_size = 32, shuffle = False)"
   ]
  },
  {
   "cell_type": "markdown",
   "metadata": {},
   "source": [
    "### 2.2. Neural Network Model"
   ]
  },
  {
   "cell_type": "code",
   "execution_count": 38,
   "metadata": {},
   "outputs": [],
   "source": [
    "class NeuralNet(nn.Module):\n",
    "    def __init__(self, input_dim):\n",
    "        super(NeuralNet, self).__init__()\n",
    "        self.model = nn.Sequential(\n",
    "            nn.Linear(input_dim, 64),\n",
    "            nn.ReLU(),\n",
    "            nn.Linear(64, 128),\n",
    "            nn.ReLU(),\n",
    "            nn.Linear(128, 256),\n",
    "            nn.ReLU(),\n",
    "            nn.Linear(256, 128),\n",
    "            nn.ReLU(),\n",
    "            nn.Linear(128, 64),\n",
    "            nn.ReLU(),\n",
    "            nn.Linear(64, 32),\n",
    "            nn.ReLU(),\n",
    "            nn.Linear(32, 1),\n",
    "            nn.Sigmoid()\n",
    "        )\n",
    "\n",
    "    def forward(self, x):\n",
    "        return self.model(x)"
   ]
  },
  {
   "cell_type": "code",
   "execution_count": 57,
   "metadata": {},
   "outputs": [],
   "source": [
    "input_dim = x_train.shape[1]\n",
    "model = NeuralNet(input_dim)"
   ]
  },
  {
   "cell_type": "code",
   "execution_count": 58,
   "metadata": {},
   "outputs": [],
   "source": [
    "class_weights = compute_class_weight(class_weight = \"balanced\", classes = np.unique(y_train), y = y_train)\n",
    "class_weights = torch.tensor(class_weights, dtype = torch.float32)"
   ]
  },
  {
   "cell_type": "code",
   "execution_count": 59,
   "metadata": {},
   "outputs": [],
   "source": [
    "criterion = nn.BCELoss(weight = class_weights[1])  # Binary Cross Entropy for binary classification\n",
    "optimizer = optim.Adam(model.parameters(), lr = 0.001)"
   ]
  },
  {
   "cell_type": "code",
   "execution_count": 60,
   "metadata": {},
   "outputs": [
    {
     "name": "stdout",
     "output_type": "stream",
     "text": [
      "Epoch 1, Loss: 0.6871379429101944\n",
      "Epoch 2, Loss: 0.6868086296319962\n",
      "Epoch 3, Loss: 0.6868320292234421\n",
      "Epoch 4, Loss: 0.6857718342542648\n",
      "Epoch 5, Loss: 0.6836972242593765\n",
      "Epoch 6, Loss: 0.6775186914205551\n",
      "Epoch 7, Loss: 0.6679276263713837\n",
      "Epoch 8, Loss: 0.6458459085226059\n",
      "Epoch 9, Loss: 0.6190924063324929\n",
      "Epoch 10, Loss: 0.5934881210327149\n",
      "Epoch 11, Loss: 0.5470734080672264\n",
      "Epoch 12, Loss: 0.5014818540215492\n",
      "Epoch 13, Loss: 0.45776066452264785\n",
      "Epoch 14, Loss: 0.4111605893075466\n",
      "Epoch 15, Loss: 0.34521093040704726\n",
      "Epoch 16, Loss: 0.31094555616378783\n",
      "Epoch 17, Loss: 0.26575802445411684\n",
      "Epoch 18, Loss: 0.22062536358833312\n",
      "Epoch 19, Loss: 0.19733783710747957\n",
      "Epoch 20, Loss: 0.1562278906814754\n",
      "Epoch 21, Loss: 0.1307526227273047\n",
      "Epoch 22, Loss: 0.1171068830601871\n",
      "Epoch 23, Loss: 0.09797282440587879\n",
      "Epoch 24, Loss: 0.09947376149706542\n",
      "Epoch 25, Loss: 0.07556606626603753\n",
      "Epoch 26, Loss: 0.050876875882968305\n",
      "Epoch 27, Loss: 0.07422149619669653\n",
      "Epoch 28, Loss: 0.049172143593896184\n",
      "Epoch 29, Loss: 0.059714150931686166\n",
      "Epoch 30, Loss: 0.05241932120872662\n",
      "Epoch 31, Loss: 0.04588684789603576\n",
      "Epoch 32, Loss: 0.04322710511740297\n",
      "Epoch 33, Loss: 0.04478878525667824\n",
      "Epoch 34, Loss: 0.02684569692471996\n",
      "Epoch 35, Loss: 0.04588178142439574\n",
      "Epoch 36, Loss: 0.05790592033416033\n",
      "Epoch 37, Loss: 0.03331266286666505\n",
      "Epoch 38, Loss: 0.03341480241622776\n",
      "Epoch 39, Loss: 0.02246795088809449\n",
      "Epoch 40, Loss: 0.03500850935233757\n",
      "Epoch 41, Loss: 0.02902165055333171\n",
      "Epoch 42, Loss: 0.034352048338914754\n",
      "Epoch 43, Loss: 0.029864785150857644\n",
      "Epoch 44, Loss: 0.019855402539251374\n",
      "Epoch 45, Loss: 0.0231529180862708\n",
      "Epoch 46, Loss: 0.03143147296330426\n",
      "Epoch 47, Loss: 0.023905622115707955\n",
      "Epoch 48, Loss: 0.02199741524818819\n",
      "Epoch 49, Loss: 0.03179914500855375\n",
      "Epoch 50, Loss: 0.025106099414406346\n"
     ]
    }
   ],
   "source": [
    "epochs = 50\n",
    "for epoch in range(epochs):\n",
    "    model.train()\n",
    "    total_loss = 0\n",
    "    for X_batch, y_batch in train_loader:\n",
    "        optimizer.zero_grad()\n",
    "        outputs = model(X_batch)\n",
    "        loss = criterion(outputs, y_batch)\n",
    "        loss.backward()\n",
    "        optimizer.step()\n",
    "        total_loss += loss.item()\n",
    "    \n",
    "    print(f\"Epoch {epoch+1}, Loss: {total_loss/len(train_loader)}\")"
   ]
  },
  {
   "cell_type": "code",
   "execution_count": 61,
   "metadata": {},
   "outputs": [
    {
     "name": "stdout",
     "output_type": "stream",
     "text": [
      "Test Accuracy: 0.4650\n",
      "Precision: 0.4800\n",
      "Recall: 0.4964\n",
      "F1 Score: 0.4880\n"
     ]
    }
   ],
   "source": [
    "model.eval()\n",
    "correct = 0\n",
    "total = 0\n",
    "\n",
    "y_true = []\n",
    "y_pred = []\n",
    "\n",
    "with torch.no_grad():\n",
    "    for X_batch, y_batch in test_loader:\n",
    "        outputs = model(X_batch)\n",
    "        predicted = (outputs >= 0.5).float()\n",
    "\n",
    "        y_true.extend(y_batch.numpy().flatten())\n",
    "        y_pred.extend(predicted.numpy().flatten())\n",
    "\n",
    "# Calculate evaluation metrics\n",
    "acc = accuracy_score(y_true, y_pred)\n",
    "pre = precision_score(y_true, y_pred)\n",
    "rec = recall_score(y_true, y_pred)\n",
    "f1 = f1_score(y_true, y_pred)\n",
    "\n",
    "# Print results\n",
    "print(f\"Test Accuracy: {acc:.4f}\")\n",
    "print(f\"Precision: {pre:.4f}\")\n",
    "print(f\"Recall: {rec:.4f}\")\n",
    "print(f\"F1 Score: {f1:.4f}\")"
   ]
  },
  {
   "cell_type": "code",
   "execution_count": 62,
   "metadata": {},
   "outputs": [
    {
     "data": {
      "image/png": "[encoded data removed]",
      "text/plain": [
       "<Figure size 1000x700 with 2 Axes>"
      ]
     },
     "metadata": {},
     "output_type": "display_data"
    }
   ],
   "source": [
    "# Assuming y_test and y_pred are your true labels and predicted labels\n",
    "cm = confusion_matrix(y_test, y_pred)\n",
    "\n",
    "# Plot the confusion matrix\n",
    "plt.figure(figsize = (10, 7))\n",
    "sns.heatmap(cm, annot=True, fmt = \"d\", cmap = \"Blues\", xticklabels = range(2), yticklabels = range(2))\n",
    "plt.xlabel(\"Predicted\")\n",
    "plt.ylabel(\"True\")\n",
    "plt.title(\"Confusion Matrix\")\n",
    "plt.show()"
   ]
  },
  {
   "cell_type": "code",
   "execution_count": null,
   "metadata": {},
   "outputs": [],
   "source": []
  }
 ],
 "metadata": {
  "kernelspec": {
   "display_name": "base",
   "language": "python",
   "name": "python3"
  },
  "language_info": {
   "codemirror_mode": {
    "name": "ipython",
    "version": 3
   },
   "file_extension": ".py",
   "mimetype": "text/x-python",
   "name": "python",
   "nbconvert_exporter": "python",
   "pygments_lexer": "ipython3",
   "version": "3.11.9"
  }
 },
 "nbformat": 4,
 "nbformat_minor": 2
}
