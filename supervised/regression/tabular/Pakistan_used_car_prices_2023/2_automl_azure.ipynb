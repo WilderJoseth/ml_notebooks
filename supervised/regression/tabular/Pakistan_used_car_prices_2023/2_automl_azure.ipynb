{
 "cells": [
  {
   "cell_type": "markdown",
   "metadata": {},
   "source": [
    "# Pakistan Used Car Prices 2023 - Azure AutoML"
   ]
  },
  {
   "cell_type": "markdown",
   "metadata": {},
   "source": [
    "## Data preparation"
   ]
  },
  {
   "cell_type": "code",
   "execution_count": 1,
   "metadata": {},
   "outputs": [],
   "source": [
    "import os\n",
    "import pandas as pd\n",
    "from dotenv import load_dotenv"
   ]
  },
  {
   "cell_type": "code",
   "execution_count": 2,
   "metadata": {},
   "outputs": [],
   "source": [
    "PATH_DATA = os.path.join(os.getenv(\"PATH_DATA_PROJECTS\"), \"Tabular\", \"Pakistan_Used_Car_Prices_2023\")"
   ]
  },
  {
   "cell_type": "code",
   "execution_count": 3,
   "metadata": {},
   "outputs": [
    {
     "name": "stdout",
     "output_type": "stream",
     "text": [
      "Shape: (72670, 14)\n"
     ]
    },
    {
     "data": {
      "text/html": [
       "<div>\n",
       "<style scoped>\n",
       "    .dataframe tbody tr th:only-of-type {\n",
       "        vertical-align: middle;\n",
       "    }\n",
       "\n",
       "    .dataframe tbody tr th {\n",
       "        vertical-align: top;\n",
       "    }\n",
       "\n",
       "    .dataframe thead th {\n",
       "        text-align: right;\n",
       "    }\n",
       "</style>\n",
       "<table border=\"1\" class=\"dataframe\">\n",
       "  <thead>\n",
       "    <tr style=\"text-align: right;\">\n",
       "      <th></th>\n",
       "      <th>addref</th>\n",
       "      <th>city</th>\n",
       "      <th>assembly</th>\n",
       "      <th>body</th>\n",
       "      <th>make</th>\n",
       "      <th>model</th>\n",
       "      <th>year</th>\n",
       "      <th>engine</th>\n",
       "      <th>transmission</th>\n",
       "      <th>fuel</th>\n",
       "      <th>color</th>\n",
       "      <th>registered</th>\n",
       "      <th>mileage</th>\n",
       "      <th>price</th>\n",
       "    </tr>\n",
       "  </thead>\n",
       "  <tbody>\n",
       "    <tr>\n",
       "      <th>0</th>\n",
       "      <td>7943732</td>\n",
       "      <td>Other</td>\n",
       "      <td>Local</td>\n",
       "      <td>Sedan</td>\n",
       "      <td>Toyota</td>\n",
       "      <td>Corolla</td>\n",
       "      <td>2013.0</td>\n",
       "      <td>1300.0</td>\n",
       "      <td>Manual</td>\n",
       "      <td>Petrol</td>\n",
       "      <td>Other</td>\n",
       "      <td>Lahore</td>\n",
       "      <td>145000</td>\n",
       "      <td>2870000.0</td>\n",
       "    </tr>\n",
       "    <tr>\n",
       "      <th>1</th>\n",
       "      <td>7730314</td>\n",
       "      <td>Lahore</td>\n",
       "      <td>Local</td>\n",
       "      <td>Sedan</td>\n",
       "      <td>Honda</td>\n",
       "      <td>Other</td>\n",
       "      <td>2000.0</td>\n",
       "      <td>1300.0</td>\n",
       "      <td>Manual</td>\n",
       "      <td>Petrol</td>\n",
       "      <td>Other</td>\n",
       "      <td>Lahore</td>\n",
       "      <td>230000</td>\n",
       "      <td>995000.0</td>\n",
       "    </tr>\n",
       "    <tr>\n",
       "      <th>2</th>\n",
       "      <td>7943737</td>\n",
       "      <td>Lahore</td>\n",
       "      <td>Local</td>\n",
       "      <td>Sedan</td>\n",
       "      <td>Toyota</td>\n",
       "      <td>Other</td>\n",
       "      <td>2021.0</td>\n",
       "      <td>1300.0</td>\n",
       "      <td>Manual</td>\n",
       "      <td>Petrol</td>\n",
       "      <td>Other</td>\n",
       "      <td>Punjab</td>\n",
       "      <td>60500</td>\n",
       "      <td>3585000.0</td>\n",
       "    </tr>\n",
       "    <tr>\n",
       "      <th>3</th>\n",
       "      <td>7943733</td>\n",
       "      <td>Lahore</td>\n",
       "      <td>Local</td>\n",
       "      <td>Hatchback</td>\n",
       "      <td>Suzuki</td>\n",
       "      <td>Other</td>\n",
       "      <td>2017.0</td>\n",
       "      <td>1300.0</td>\n",
       "      <td>Manual</td>\n",
       "      <td>Petrol</td>\n",
       "      <td>Other</td>\n",
       "      <td>Islamabad</td>\n",
       "      <td>87000</td>\n",
       "      <td>2250000.0</td>\n",
       "    </tr>\n",
       "    <tr>\n",
       "      <th>4</th>\n",
       "      <td>7923484</td>\n",
       "      <td>Lahore</td>\n",
       "      <td>Local</td>\n",
       "      <td>Sedan</td>\n",
       "      <td>Honda</td>\n",
       "      <td>Civic</td>\n",
       "      <td>2017.0</td>\n",
       "      <td>1800.0</td>\n",
       "      <td>Automatic</td>\n",
       "      <td>Petrol</td>\n",
       "      <td>Other</td>\n",
       "      <td>Lahore</td>\n",
       "      <td>86000</td>\n",
       "      <td>4850000.0</td>\n",
       "    </tr>\n",
       "  </tbody>\n",
       "</table>\n",
       "</div>"
      ],
      "text/plain": [
       "    addref    city assembly       body    make    model    year  engine  \\\n",
       "0  7943732   Other    Local      Sedan  Toyota  Corolla  2013.0  1300.0   \n",
       "1  7730314  Lahore    Local      Sedan   Honda    Other  2000.0  1300.0   \n",
       "2  7943737  Lahore    Local      Sedan  Toyota    Other  2021.0  1300.0   \n",
       "3  7943733  Lahore    Local  Hatchback  Suzuki    Other  2017.0  1300.0   \n",
       "4  7923484  Lahore    Local      Sedan   Honda    Civic  2017.0  1800.0   \n",
       "\n",
       "  transmission    fuel  color registered  mileage      price  \n",
       "0       Manual  Petrol  Other     Lahore   145000  2870000.0  \n",
       "1       Manual  Petrol  Other     Lahore   230000   995000.0  \n",
       "2       Manual  Petrol  Other     Punjab    60500  3585000.0  \n",
       "3       Manual  Petrol  Other  Islamabad    87000  2250000.0  \n",
       "4    Automatic  Petrol  Other     Lahore    86000  4850000.0  "
      ]
     },
     "execution_count": 3,
     "metadata": {},
     "output_type": "execute_result"
    }
   ],
   "source": [
    "df = pd.read_csv(os.path.join(PATH_DATA, \"pakwheels_used_car_data_cleaned.csv\"))\n",
    "print(\"Shape:\", df.shape)\n",
    "df.head()"
   ]
  },
  {
   "cell_type": "code",
   "execution_count": 4,
   "metadata": {},
   "outputs": [
    {
     "name": "stdout",
     "output_type": "stream",
     "text": [
      "Total missing by columns:\n"
     ]
    },
    {
     "data": {
      "text/plain": [
       "addref          0\n",
       "city            0\n",
       "assembly        0\n",
       "body            0\n",
       "make            0\n",
       "model           0\n",
       "year            0\n",
       "engine          0\n",
       "transmission    0\n",
       "fuel            0\n",
       "color           0\n",
       "registered      0\n",
       "mileage         0\n",
       "price           0\n",
       "dtype: int64"
      ]
     },
     "execution_count": 4,
     "metadata": {},
     "output_type": "execute_result"
    }
   ],
   "source": [
    "print(\"Total missing by columns:\")\n",
    "df.isnull().sum()"
   ]
  },
  {
   "cell_type": "markdown",
   "metadata": {},
   "source": [
    "### Categorical"
   ]
  },
  {
   "cell_type": "code",
   "execution_count": 5,
   "metadata": {},
   "outputs": [],
   "source": [
    "from sklearn.preprocessing import OneHotEncoder"
   ]
  },
  {
   "cell_type": "code",
   "execution_count": 6,
   "metadata": {},
   "outputs": [],
   "source": [
    "categorical_features = [\"city\", \"assembly\", \"body\", \"make\", \"model\", \"transmission\", \"fuel\", \"color\", \"registered\"]"
   ]
  },
  {
   "cell_type": "code",
   "execution_count": 7,
   "metadata": {},
   "outputs": [],
   "source": [
    "# Get transformer instance \n",
    "# sparse_output = False to return the values as vectors\n",
    "# drop = first to remove first class, because the rest of classes are enough explanatory and reduce training time \n",
    "onehot_encoder = OneHotEncoder(sparse_output = False, drop = \"first\")\n",
    "\n",
    "# Training\n",
    "encoded_features = onehot_encoder.fit_transform(df[categorical_features])\n",
    "\n",
    "# Turn result into a dataframe\n",
    "df_one_hot_encoder = pd.DataFrame(encoded_features, columns = onehot_encoder.get_feature_names_out())"
   ]
  },
  {
   "cell_type": "markdown",
   "metadata": {},
   "source": [
    "### Numeric"
   ]
  },
  {
   "cell_type": "code",
   "execution_count": 8,
   "metadata": {},
   "outputs": [],
   "source": [
    "from sklearn.preprocessing import MinMaxScaler"
   ]
  },
  {
   "cell_type": "code",
   "execution_count": 9,
   "metadata": {},
   "outputs": [],
   "source": [
    "numeric_features = [\"year\", \"engine\", \"mileage\"]"
   ]
  },
  {
   "cell_type": "code",
   "execution_count": 10,
   "metadata": {},
   "outputs": [],
   "source": [
    "scaler = MinMaxScaler()\n",
    "ar = scaler.fit_transform(df[numeric_features])\n",
    "df_numeric = pd.DataFrame(ar, columns = numeric_features)"
   ]
  },
  {
   "cell_type": "markdown",
   "metadata": {},
   "source": [
    "### Get transformed dataset"
   ]
  },
  {
   "cell_type": "code",
   "execution_count": 11,
   "metadata": {},
   "outputs": [],
   "source": [
    "target_variable = \"price\""
   ]
  },
  {
   "cell_type": "code",
   "execution_count": 12,
   "metadata": {},
   "outputs": [
    {
     "name": "stdout",
     "output_type": "stream",
     "text": [
      "Shape: (72670, 27)\n"
     ]
    },
    {
     "data": {
      "text/html": [
       "<div>\n",
       "<style scoped>\n",
       "    .dataframe tbody tr th:only-of-type {\n",
       "        vertical-align: middle;\n",
       "    }\n",
       "\n",
       "    .dataframe tbody tr th {\n",
       "        vertical-align: top;\n",
       "    }\n",
       "\n",
       "    .dataframe thead th {\n",
       "        text-align: right;\n",
       "    }\n",
       "</style>\n",
       "<table border=\"1\" class=\"dataframe\">\n",
       "  <thead>\n",
       "    <tr style=\"text-align: right;\">\n",
       "      <th></th>\n",
       "      <th>year</th>\n",
       "      <th>engine</th>\n",
       "      <th>mileage</th>\n",
       "      <th>city_Karachi</th>\n",
       "      <th>city_Lahore</th>\n",
       "      <th>city_Other</th>\n",
       "      <th>assembly_Local</th>\n",
       "      <th>body_Other</th>\n",
       "      <th>body_Sedan</th>\n",
       "      <th>make_Other</th>\n",
       "      <th>...</th>\n",
       "      <th>fuel_Petrol</th>\n",
       "      <th>color_Silver</th>\n",
       "      <th>color_White</th>\n",
       "      <th>registered_Karachi</th>\n",
       "      <th>registered_Lahore</th>\n",
       "      <th>registered_Other</th>\n",
       "      <th>registered_Punjab</th>\n",
       "      <th>registered_Sindh</th>\n",
       "      <th>registered_Un-Registered</th>\n",
       "      <th>price</th>\n",
       "    </tr>\n",
       "  </thead>\n",
       "  <tbody>\n",
       "    <tr>\n",
       "      <th>0</th>\n",
       "      <td>0.71875</td>\n",
       "      <td>0.085447</td>\n",
       "      <td>0.144999</td>\n",
       "      <td>0.0</td>\n",
       "      <td>0.0</td>\n",
       "      <td>1.0</td>\n",
       "      <td>1.0</td>\n",
       "      <td>0.0</td>\n",
       "      <td>1.0</td>\n",
       "      <td>0.0</td>\n",
       "      <td>...</td>\n",
       "      <td>1.0</td>\n",
       "      <td>0.0</td>\n",
       "      <td>0.0</td>\n",
       "      <td>0.0</td>\n",
       "      <td>1.0</td>\n",
       "      <td>0.0</td>\n",
       "      <td>0.0</td>\n",
       "      <td>0.0</td>\n",
       "      <td>0.0</td>\n",
       "      <td>2870000.0</td>\n",
       "    </tr>\n",
       "    <tr>\n",
       "      <th>1</th>\n",
       "      <td>0.31250</td>\n",
       "      <td>0.085447</td>\n",
       "      <td>0.229999</td>\n",
       "      <td>0.0</td>\n",
       "      <td>1.0</td>\n",
       "      <td>0.0</td>\n",
       "      <td>1.0</td>\n",
       "      <td>0.0</td>\n",
       "      <td>1.0</td>\n",
       "      <td>0.0</td>\n",
       "      <td>...</td>\n",
       "      <td>1.0</td>\n",
       "      <td>0.0</td>\n",
       "      <td>0.0</td>\n",
       "      <td>0.0</td>\n",
       "      <td>1.0</td>\n",
       "      <td>0.0</td>\n",
       "      <td>0.0</td>\n",
       "      <td>0.0</td>\n",
       "      <td>0.0</td>\n",
       "      <td>995000.0</td>\n",
       "    </tr>\n",
       "    <tr>\n",
       "      <th>2</th>\n",
       "      <td>0.96875</td>\n",
       "      <td>0.085447</td>\n",
       "      <td>0.060499</td>\n",
       "      <td>0.0</td>\n",
       "      <td>1.0</td>\n",
       "      <td>0.0</td>\n",
       "      <td>1.0</td>\n",
       "      <td>0.0</td>\n",
       "      <td>1.0</td>\n",
       "      <td>0.0</td>\n",
       "      <td>...</td>\n",
       "      <td>1.0</td>\n",
       "      <td>0.0</td>\n",
       "      <td>0.0</td>\n",
       "      <td>0.0</td>\n",
       "      <td>0.0</td>\n",
       "      <td>0.0</td>\n",
       "      <td>1.0</td>\n",
       "      <td>0.0</td>\n",
       "      <td>0.0</td>\n",
       "      <td>3585000.0</td>\n",
       "    </tr>\n",
       "    <tr>\n",
       "      <th>3</th>\n",
       "      <td>0.84375</td>\n",
       "      <td>0.085447</td>\n",
       "      <td>0.086999</td>\n",
       "      <td>0.0</td>\n",
       "      <td>1.0</td>\n",
       "      <td>0.0</td>\n",
       "      <td>1.0</td>\n",
       "      <td>0.0</td>\n",
       "      <td>0.0</td>\n",
       "      <td>0.0</td>\n",
       "      <td>...</td>\n",
       "      <td>1.0</td>\n",
       "      <td>0.0</td>\n",
       "      <td>0.0</td>\n",
       "      <td>0.0</td>\n",
       "      <td>0.0</td>\n",
       "      <td>0.0</td>\n",
       "      <td>0.0</td>\n",
       "      <td>0.0</td>\n",
       "      <td>0.0</td>\n",
       "      <td>2250000.0</td>\n",
       "    </tr>\n",
       "    <tr>\n",
       "      <th>4</th>\n",
       "      <td>0.84375</td>\n",
       "      <td>0.118825</td>\n",
       "      <td>0.085999</td>\n",
       "      <td>0.0</td>\n",
       "      <td>1.0</td>\n",
       "      <td>0.0</td>\n",
       "      <td>1.0</td>\n",
       "      <td>0.0</td>\n",
       "      <td>1.0</td>\n",
       "      <td>0.0</td>\n",
       "      <td>...</td>\n",
       "      <td>1.0</td>\n",
       "      <td>0.0</td>\n",
       "      <td>0.0</td>\n",
       "      <td>0.0</td>\n",
       "      <td>1.0</td>\n",
       "      <td>0.0</td>\n",
       "      <td>0.0</td>\n",
       "      <td>0.0</td>\n",
       "      <td>0.0</td>\n",
       "      <td>4850000.0</td>\n",
       "    </tr>\n",
       "  </tbody>\n",
       "</table>\n",
       "<p>5 rows × 27 columns</p>\n",
       "</div>"
      ],
      "text/plain": [
       "      year    engine   mileage  city_Karachi  city_Lahore  city_Other  \\\n",
       "0  0.71875  0.085447  0.144999           0.0          0.0         1.0   \n",
       "1  0.31250  0.085447  0.229999           0.0          1.0         0.0   \n",
       "2  0.96875  0.085447  0.060499           0.0          1.0         0.0   \n",
       "3  0.84375  0.085447  0.086999           0.0          1.0         0.0   \n",
       "4  0.84375  0.118825  0.085999           0.0          1.0         0.0   \n",
       "\n",
       "   assembly_Local  body_Other  body_Sedan  make_Other  ...  fuel_Petrol  \\\n",
       "0             1.0         0.0         1.0         0.0  ...          1.0   \n",
       "1             1.0         0.0         1.0         0.0  ...          1.0   \n",
       "2             1.0         0.0         1.0         0.0  ...          1.0   \n",
       "3             1.0         0.0         0.0         0.0  ...          1.0   \n",
       "4             1.0         0.0         1.0         0.0  ...          1.0   \n",
       "\n",
       "   color_Silver  color_White  registered_Karachi  registered_Lahore  \\\n",
       "0           0.0          0.0                 0.0                1.0   \n",
       "1           0.0          0.0                 0.0                1.0   \n",
       "2           0.0          0.0                 0.0                0.0   \n",
       "3           0.0          0.0                 0.0                0.0   \n",
       "4           0.0          0.0                 0.0                1.0   \n",
       "\n",
       "   registered_Other  registered_Punjab  registered_Sindh  \\\n",
       "0               0.0                0.0               0.0   \n",
       "1               0.0                0.0               0.0   \n",
       "2               0.0                1.0               0.0   \n",
       "3               0.0                0.0               0.0   \n",
       "4               0.0                0.0               0.0   \n",
       "\n",
       "   registered_Un-Registered      price  \n",
       "0                       0.0  2870000.0  \n",
       "1                       0.0   995000.0  \n",
       "2                       0.0  3585000.0  \n",
       "3                       0.0  2250000.0  \n",
       "4                       0.0  4850000.0  \n",
       "\n",
       "[5 rows x 27 columns]"
      ]
     },
     "execution_count": 12,
     "metadata": {},
     "output_type": "execute_result"
    }
   ],
   "source": [
    "df_encoded = pd.concat([df_numeric, df_one_hot_encoder, df[target_variable]], axis = 1)\n",
    "print(\"Shape:\", df_encoded.shape)\n",
    "df_encoded.head()"
   ]
  },
  {
   "cell_type": "code",
   "execution_count": 13,
   "metadata": {},
   "outputs": [],
   "source": [
    "path_csv_train = \"pakwheels_used_car_data_train.csv\"\n",
    "df_encoded.to_csv(os.path.join(PATH_DATA, path_csv_train), index = False)"
   ]
  },
  {
   "cell_type": "markdown",
   "metadata": {},
   "source": [
    "### Load to storage"
   ]
  },
  {
   "cell_type": "code",
   "execution_count": 14,
   "metadata": {},
   "outputs": [],
   "source": [
    "from azure.storage.blob import BlobClient"
   ]
  },
  {
   "cell_type": "code",
   "execution_count": 16,
   "metadata": {},
   "outputs": [],
   "source": [
    "load_dotenv()\n",
    "storage_account_name = os.getenv(\"STORAGE_ACCOUNT_NAME\")\n",
    "storage_account_key = os.getenv(\"STORAGE_ACCOUNT_KEY\")\n",
    "storage_container_name = os.getenv(\"CONTAINER_NAME\")\n",
    "\n",
    "connection_string = f\"DefaultEndpointsProtocol=https;AccountName={storage_account_name};AccountKey={storage_account_key};EndpointSuffix=core.windows.net\"\n",
    "blob = BlobClient.from_connection_string(conn_str=connection_string, container_name=storage_container_name, blob_name=path_csv_train)\n",
    "\n",
    "with open(os.path.join(PATH_DATA, path_csv_train), \"rb\") as data:\n",
    "    blob.upload_blob(data)"
   ]
  },
  {
   "cell_type": "code",
   "execution_count": null,
   "metadata": {},
   "outputs": [],
   "source": []
  }
 ],
 "metadata": {
  "kernelspec": {
   "display_name": "sklearn-env-1-5",
   "language": "python",
   "name": "python3"
  },
  "language_info": {
   "codemirror_mode": {
    "name": "ipython",
    "version": 3
   },
   "file_extension": ".py",
   "mimetype": "text/x-python",
   "name": "python",
   "nbconvert_exporter": "python",
   "pygments_lexer": "ipython3",
   "version": "3.11.9"
  }
 },
 "nbformat": 4,
 "nbformat_minor": 2
}
