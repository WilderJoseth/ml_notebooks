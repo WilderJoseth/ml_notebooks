{
 "cells": [
  {
   "cell_type": "markdown",
   "metadata": {},
   "source": [
    "# Pakistan Used Car Prices 2023"
   ]
  },
  {
   "cell_type": "markdown",
   "metadata": {},
   "source": [
    "## 1. Understanding the Problem\n",
    "\n",
    "The data was provided by PakWheels, the most renowned second-hand Car Selling company in Pakistan, and it contains selling history from 1990 to 2022 providing information about car features and its final price.\n",
    "\n",
    "Research questions:\n",
    "\n",
    "* Which car features have the most influence on the final price?"
   ]
  },
  {
   "cell_type": "markdown",
   "metadata": {},
   "source": [
    "Link: https://www.kaggle.com/datasets/talhabarkaatahmad/pakistan-used-car-prices-2023"
   ]
  },
  {
   "cell_type": "markdown",
   "metadata": {},
   "source": [
    "## 2. Data Understanding\n",
    "\n",
    "Characteristics:\n",
    "\n",
    "* **Type**: Structured.\n",
    "* **Format**: CSV file.\n",
    "* **Size**: 8 MB.\n",
    "* **Collection**: observational, so causation conclusions are not possible.\n",
    "* **Sampling method**: not specified."
   ]
  },
  {
   "cell_type": "markdown",
   "metadata": {},
   "source": [
    "## 3. Data exploration"
   ]
  },
  {
   "cell_type": "code",
   "execution_count": 2,
   "metadata": {},
   "outputs": [],
   "source": [
    "import os\n",
    "import pandas as pd\n",
    "import numpy as np\n",
    "import matplotlib.pyplot as plt\n",
    "from matplotlib.ticker import PercentFormatter\n",
    "import seaborn as sns\n",
    "from collections import Counter"
   ]
  },
  {
   "cell_type": "code",
   "execution_count": 3,
   "metadata": {},
   "outputs": [],
   "source": [
    "plt.style.use(\"ggplot\")"
   ]
  },
  {
   "cell_type": "markdown",
   "metadata": {},
   "source": [
    "### 3.1. Review the state of the data\n",
    "\n",
    "This is a first glance over the data."
   ]
  },
  {
   "cell_type": "code",
   "execution_count": 4,
   "metadata": {},
   "outputs": [],
   "source": [
    "PATH_DATA = os.path.join(os.getenv(\"PATH_DATA_PROJECTS\"), \"Tabular\", \"Pakistan_Used_Car_Prices_2023\")"
   ]
  },
  {
   "cell_type": "code",
   "execution_count": 54,
   "metadata": {},
   "outputs": [
    {
     "name": "stdout",
     "output_type": "stream",
     "text": [
      "Shape: (77878, 14)\n"
     ]
    },
    {
     "data": {
      "text/html": [
       "<div>\n",
       "<style scoped>\n",
       "    .dataframe tbody tr th:only-of-type {\n",
       "        vertical-align: middle;\n",
       "    }\n",
       "\n",
       "    .dataframe tbody tr th {\n",
       "        vertical-align: top;\n",
       "    }\n",
       "\n",
       "    .dataframe thead th {\n",
       "        text-align: right;\n",
       "    }\n",
       "</style>\n",
       "<table border=\"1\" class=\"dataframe\">\n",
       "  <thead>\n",
       "    <tr style=\"text-align: right;\">\n",
       "      <th></th>\n",
       "      <th>addref</th>\n",
       "      <th>city</th>\n",
       "      <th>assembly</th>\n",
       "      <th>body</th>\n",
       "      <th>make</th>\n",
       "      <th>model</th>\n",
       "      <th>year</th>\n",
       "      <th>engine</th>\n",
       "      <th>transmission</th>\n",
       "      <th>fuel</th>\n",
       "      <th>color</th>\n",
       "      <th>registered</th>\n",
       "      <th>mileage</th>\n",
       "      <th>price</th>\n",
       "    </tr>\n",
       "  </thead>\n",
       "  <tbody>\n",
       "    <tr>\n",
       "      <th>0</th>\n",
       "      <td>7943732</td>\n",
       "      <td>Peshawar</td>\n",
       "      <td>NaN</td>\n",
       "      <td>Sedan</td>\n",
       "      <td>Toyota</td>\n",
       "      <td>Corolla</td>\n",
       "      <td>2013.0</td>\n",
       "      <td>1300.0</td>\n",
       "      <td>Manual</td>\n",
       "      <td>Petrol</td>\n",
       "      <td>Silver Metallic</td>\n",
       "      <td>Lahore</td>\n",
       "      <td>145000</td>\n",
       "      <td>2870000.0</td>\n",
       "    </tr>\n",
       "    <tr>\n",
       "      <th>1</th>\n",
       "      <td>7730314</td>\n",
       "      <td>Lahore</td>\n",
       "      <td>NaN</td>\n",
       "      <td>Sedan</td>\n",
       "      <td>Honda</td>\n",
       "      <td>City</td>\n",
       "      <td>2000.0</td>\n",
       "      <td>1300.0</td>\n",
       "      <td>Manual</td>\n",
       "      <td>Petrol</td>\n",
       "      <td>Blue</td>\n",
       "      <td>Lahore</td>\n",
       "      <td>230000</td>\n",
       "      <td>995000.0</td>\n",
       "    </tr>\n",
       "    <tr>\n",
       "      <th>2</th>\n",
       "      <td>7943737</td>\n",
       "      <td>Lahore</td>\n",
       "      <td>NaN</td>\n",
       "      <td>Sedan</td>\n",
       "      <td>Toyota</td>\n",
       "      <td>Yaris</td>\n",
       "      <td>2021.0</td>\n",
       "      <td>1300.0</td>\n",
       "      <td>Manual</td>\n",
       "      <td>Petrol</td>\n",
       "      <td>Super White</td>\n",
       "      <td>Punjab</td>\n",
       "      <td>60500</td>\n",
       "      <td>3585000.0</td>\n",
       "    </tr>\n",
       "    <tr>\n",
       "      <th>3</th>\n",
       "      <td>7943733</td>\n",
       "      <td>Lahore</td>\n",
       "      <td>NaN</td>\n",
       "      <td>Hatchback</td>\n",
       "      <td>Suzuki</td>\n",
       "      <td>Swift</td>\n",
       "      <td>2017.0</td>\n",
       "      <td>1300.0</td>\n",
       "      <td>Manual</td>\n",
       "      <td>Petrol</td>\n",
       "      <td>Grey</td>\n",
       "      <td>Islamabad</td>\n",
       "      <td>87000</td>\n",
       "      <td>2250000.0</td>\n",
       "    </tr>\n",
       "    <tr>\n",
       "      <th>4</th>\n",
       "      <td>7923484</td>\n",
       "      <td>Lahore</td>\n",
       "      <td>NaN</td>\n",
       "      <td>Sedan</td>\n",
       "      <td>Honda</td>\n",
       "      <td>Civic</td>\n",
       "      <td>2017.0</td>\n",
       "      <td>1800.0</td>\n",
       "      <td>Automatic</td>\n",
       "      <td>Petrol</td>\n",
       "      <td>Grey</td>\n",
       "      <td>Lahore</td>\n",
       "      <td>86000</td>\n",
       "      <td>4850000.0</td>\n",
       "    </tr>\n",
       "  </tbody>\n",
       "</table>\n",
       "</div>"
      ],
      "text/plain": [
       "    addref      city assembly       body    make    model    year  engine  \\\n",
       "0  7943732  Peshawar      NaN      Sedan  Toyota  Corolla  2013.0  1300.0   \n",
       "1  7730314    Lahore      NaN      Sedan   Honda     City  2000.0  1300.0   \n",
       "2  7943737    Lahore      NaN      Sedan  Toyota    Yaris  2021.0  1300.0   \n",
       "3  7943733    Lahore      NaN  Hatchback  Suzuki    Swift  2017.0  1300.0   \n",
       "4  7923484    Lahore      NaN      Sedan   Honda    Civic  2017.0  1800.0   \n",
       "\n",
       "  transmission    fuel            color registered  mileage      price  \n",
       "0       Manual  Petrol  Silver Metallic     Lahore   145000  2870000.0  \n",
       "1       Manual  Petrol             Blue     Lahore   230000   995000.0  \n",
       "2       Manual  Petrol      Super White     Punjab    60500  3585000.0  \n",
       "3       Manual  Petrol             Grey  Islamabad    87000  2250000.0  \n",
       "4    Automatic  Petrol             Grey     Lahore    86000  4850000.0  "
      ]
     },
     "execution_count": 54,
     "metadata": {},
     "output_type": "execute_result"
    }
   ],
   "source": [
    "df = pd.read_csv(os.path.join(PATH_DATA, \"pakwheels_used_car_data.csv\"))\n",
    "print(\"Shape:\", df.shape)\n",
    "df.head()"
   ]
  },
  {
   "cell_type": "code",
   "execution_count": 6,
   "metadata": {},
   "outputs": [
    {
     "name": "stdout",
     "output_type": "stream",
     "text": [
      "<class 'pandas.core.frame.DataFrame'>\n",
      "RangeIndex: 77878 entries, 0 to 77877\n",
      "Data columns (total 14 columns):\n",
      " #   Column        Non-Null Count  Dtype  \n",
      "---  ------        --------------  -----  \n",
      " 0   addref        77878 non-null  int64  \n",
      " 1   city          77878 non-null  object \n",
      " 2   assembly      24189 non-null  object \n",
      " 3   body          68974 non-null  object \n",
      " 4   make          77878 non-null  object \n",
      " 5   model         77878 non-null  object \n",
      " 6   year          73099 non-null  float64\n",
      " 7   engine        77875 non-null  float64\n",
      " 8   transmission  77878 non-null  object \n",
      " 9   fuel          76972 non-null  object \n",
      " 10  color         76398 non-null  object \n",
      " 11  registered    77878 non-null  object \n",
      " 12  mileage       77878 non-null  int64  \n",
      " 13  price         77295 non-null  float64\n",
      "dtypes: float64(3), int64(2), object(9)\n",
      "memory usage: 8.3+ MB\n"
     ]
    }
   ],
   "source": [
    "df.info()"
   ]
  },
  {
   "cell_type": "code",
   "execution_count": 7,
   "metadata": {},
   "outputs": [
    {
     "name": "stdout",
     "output_type": "stream",
     "text": [
      "Total missing by columns:\n"
     ]
    },
    {
     "data": {
      "text/plain": [
       "addref              0\n",
       "city                0\n",
       "assembly        53689\n",
       "body             8904\n",
       "make                0\n",
       "model               0\n",
       "year             4779\n",
       "engine              3\n",
       "transmission        0\n",
       "fuel              906\n",
       "color            1480\n",
       "registered          0\n",
       "mileage             0\n",
       "price             583\n",
       "dtype: int64"
      ]
     },
     "execution_count": 7,
     "metadata": {},
     "output_type": "execute_result"
    }
   ],
   "source": [
    "print(\"Total missing by columns:\")\n",
    "df.isnull().sum()"
   ]
  },
  {
   "cell_type": "markdown",
   "metadata": {},
   "source": [
    "#### 3.1.1. Categorical"
   ]
  },
  {
   "cell_type": "code",
   "execution_count": 8,
   "metadata": {},
   "outputs": [],
   "source": [
    "categorical_features = [\"city\", \"assembly\", \"body\", \"make\", \"model\", \"transmission\", \"fuel\", \"color\", \"registered\"]"
   ]
  },
  {
   "cell_type": "markdown",
   "metadata": {},
   "source": [
    "Review unique values"
   ]
  },
  {
   "cell_type": "code",
   "execution_count": 9,
   "metadata": {},
   "outputs": [
    {
     "name": "stdout",
     "output_type": "stream",
     "text": [
      "\n",
      "Feature: city - unique values: 297\n",
      "['Peshawar' 'Lahore' 'Vehari' 'Islamabad' 'Faisalabad' 'Sialkot'\n",
      " 'Mansehra' 'Gujranwala' 'Kasur' 'Bahawalnagar' 'Karachi' 'Rawalpindi'\n",
      " 'Quetta' 'Mardan' 'Pindi' 'Gujrat' 'Charsadda' 'Hyderabad' 'Multan'\n",
      " 'Chichawatni' 'Kohat' 'Chakwal' 'Abbottabad' 'Hafizabad' 'Nowshera'\n",
      " 'Okara' 'Sadiqabad' 'Wah' 'Haripur' 'D.G.Khan' 'Sargodha' 'Dadyal'\n",
      " 'Jaranwala' 'Kharian' 'Haroonabad' 'Depal' 'Sahiwal' 'Swabi' 'Muzaffar'\n",
      " 'Jhang' 'Bahawalpur' 'Daharki' 'Jalalpur' 'Rahim' 'Wazirabad' 'Dina'\n",
      " 'Chashma' 'Gojra' 'Jhelum' 'Chishtian' 'Mandi' 'Kotli' 'Arifwala'\n",
      " 'Mingora' 'Mirpur' 'Khushab' 'Lakki' 'Gujar' 'Mian' 'Hasilpur'\n",
      " 'Hayatabad' 'Attock' 'Taxila' 'Ranipur' 'Dera' 'Bhalwal' 'Shorkot'\n",
      " 'Renala' 'Abdul' 'Toba' 'Rajana' 'Bhakkar' 'Tando' 'Nawabshah' 'Phalia'\n",
      " 'Khairpur' 'Dargai' 'Bhera' 'Sheikhupura' 'Head' 'Sambrial'\n",
      " 'Muzaffarabad' 'Talagang' 'Layyah' 'Swatmingora' 'Burewala' 'Mamu'\n",
      " 'Sukkur' 'Shakargarh' 'More' 'Pattoki' 'Sohawa' 'Zafarwal' 'Satiana'\n",
      " 'Fort' 'Adda' 'Chowk' 'Akora' 'Dinga' 'Larkana' 'Takhtbai' 'Kabirwala'\n",
      " 'Khanewal' 'Nankana' 'Kamoke' 'Lodhran' 'Thatta' 'Daska' 'Topi' 'Chiniot'\n",
      " 'Swat' 'Narowal' 'Khanpur' 'Fateh' 'Jatlaan' 'Lala' 'Bannu' 'Sarai'\n",
      " 'Murree' 'Kotri' 'Sara-E-Alamgir' 'Muridke' 'Kallar' 'Bat' 'Shikar'\n",
      " 'Kandiaro' 'Karoor' 'Kunjah' 'Risalpur' 'Kot' 'Shah' 'Pak' 'Phool'\n",
      " 'Zahir' 'Kandh' 'Liaqat' 'Kahuta' 'Raiwind' 'Yazman' 'Farooqabad'\n",
      " 'Allahabad' 'Rahwali' 'Karore' 'Ghotki' 'Hangu' 'Jampur' 'Chawinda'\n",
      " 'Tarbela' 'Rawat' 'Pir' 'Kashmir' 'Shahdara' 'Chaksawari' 'Jehangira'\n",
      " 'Lower' 'Mehrabpur' 'Bhimber' 'Karak' 'Kotla' 'Jand' 'Jauharabad'\n",
      " 'Mangla' 'Sumandari' 'Chunian' 'Daulatpur' 'Ahmed' 'Pind' 'Alipur'\n",
      " 'Gaggo' 'Melsi' 'Tandiliyawala' 'Gwadar' 'Rawalakot' 'Hassan' 'Kamalia'\n",
      " 'Jacobabad' 'Chenab' 'Garh' 'Taunsa' 'Pasrur' 'Kamra' 'Tibba' 'Rajanpur'\n",
      " 'Jamshoro' 'Jatoi' 'Pano' 'Pishin' 'Doltala' 'Morgah' 'Minchanabad'\n",
      " 'Skardu' 'Ghazi' 'Malakwal' 'Hub-Balochistan' 'Balakot' 'Sillanwali'\n",
      " 'Kala' 'Sanghar' 'Dadu' 'Hazro' 'Qila' 'New' 'Kamber' 'Shuja' 'Esa' 'Dir'\n",
      " 'Jahaniya' 'Umer' 'Gambat' 'Quaid' 'Sangla' 'Sikandarabad' 'Malakand'\n",
      " 'Kashmore' 'Havali' 'Mandra' 'Chaklala' 'Khudian' 'Dunia' 'Gilgit'\n",
      " 'Saidu' 'Buner' 'Ugoke' 'Harappa' 'Chak' 'Samanabad' 'Bhan' 'Jhand'\n",
      " 'Toru' 'Sehwan' 'Gharo' 'Other' 'Faqirwali' 'Tank' 'Sara' 'Mithi' 'Badin'\n",
      " 'Khurrianwala' 'Hawilian' 'Narang' 'Hujra' 'Chowha' 'Jamrud' 'Jandanwala'\n",
      " 'Buchay' 'Dijkot' 'Kallur' 'Khangarh' 'Darya' 'Kumbh' 'Digri' 'Kunri'\n",
      " 'Hala' 'Matli' 'Naukot' 'Chitral' 'Hattar' 'Khan' 'Shahdad' 'Naseerabad'\n",
      " 'Manga' 'Iskandarabad' 'Bhai' 'Basirpur' 'Khanqah' 'Piplan' 'Hattian'\n",
      " 'Wahn' 'Qasba' 'Khuzdar' 'Nilore' 'Laliah' 'Qazi' 'Gakhar' 'Ubauro'\n",
      " 'Lasbela' 'Shahpur' 'Amangarh' 'Domeli' 'Kacha' 'Shahdadpur' 'Noshero'\n",
      " 'Khandabad' 'Guddu' 'Benz' 'Sibi' 'Klaske' 'Bhuawana' 'Ali' 'Khewra'\n",
      " 'Noudero' 'Moro' 'Qalandarabad' 'Gadoon' 'Donga' 'Shamsabad' 'Khyber']\n",
      "\n",
      "Feature: assembly - unique values: 2\n",
      "[nan 'Imported']\n",
      "\n",
      "Feature: body - unique values: 22\n",
      "['Sedan' 'Hatchback' 'SUV' 'MPV' nan 'Crossover' 'Micro Van' 'Mini Van'\n",
      " 'Double Cabin' 'Compact sedan' 'High Roof' 'Van' 'Compact SUV' 'Pick Up'\n",
      " 'Coupe' 'Station Wagon' 'Convertible' 'Truck' 'Off-Road Vehicles'\n",
      " 'Mini Vehicles' 'Single Cabin' 'Compact hatchback']\n",
      "\n",
      "Feature: make - unique values: 68\n",
      "['Toyota' 'Honda' 'Suzuki' 'Daihatsu' 'Mitsubishi' 'Hyundai' 'KIA'\n",
      " 'Nissan' 'Adam' 'Mazda' 'Lexus' 'Mercedes' 'BMW' 'Changan' 'DFSK' 'FAW'\n",
      " 'Proton' 'Haval' 'MG' 'Volkswagen' 'Range' 'Audi' 'Land' 'Peugeot'\n",
      " 'United' 'Subaru' 'Jeep' 'Tesla' 'Chevrolet' 'Prince' 'Chery' 'Porsche'\n",
      " 'GMC' 'Daewoo' 'MINI' 'Datsun' 'Ford' 'Dodge' 'Volvo' 'BAIC' 'Bentley'\n",
      " 'Jaguar' 'Cadillac' 'Chrysler' 'Hino' 'Isuzu' 'Fiat' 'Willys' 'Sogo'\n",
      " 'Power' 'SsangYong' 'Daehan' 'JAC' 'JW' 'GAC' 'Austin' 'Opel' 'ZOTYE'\n",
      " 'Master' 'Genesis' 'Others' 'Buick' 'Mushtaq' 'Hummer' 'JMC' 'Roma'\n",
      " 'Classic' 'Rinco']\n",
      "\n",
      "Feature: model - unique values: 435\n",
      "['Corolla' 'City' 'Yaris' 'Swift' 'Civic' 'Move' 'Mehran' 'Mira' 'Pajero'\n",
      " 'Cultus' 'Vitz' 'Alto' 'Land' 'BR-V' 'Tucson' 'Passo' 'C-HR' 'Hustler'\n",
      " 'Sportage' 'Liana' 'Aqua' 'Baleno' 'Dayz' 'Belta' 'Vezel' 'Every' 'Raize'\n",
      " 'Hijet' 'Prado' 'Elantra' 'Hilux' 'Fortuner' 'Revo' 'Carol' 'Sunny' 'N'\n",
      " 'RX' 'Wagon' 'Benz' 'Bolan' 'Picanto' '6' 'Roomy' 'Prius' 'Hiace' 'Cuore'\n",
      " '3' 'Karvaan' 'Charade' 'Alsvin' 'Glory' 'Accord' 'Freed' 'X-PV' 'Otti'\n",
      " 'Duet' 'Corona' 'X70' 'FX' 'H6' 'Saga' 'Grand' 'HS' 'Up' 'Sonata' 'Oshan'\n",
      " 'Clipper' 'Premio' 'Rover' 'Tundra' 'Sorento' 'Atrai' 'Santro' 'Flair'\n",
      " 'RX8' 'A3' 'Esse' 'Vitara' '2008' 'ZS' '5' 'Aygo' 'Bravo' 'Pleo' 'Fit'\n",
      " 'Life' 'Cross' 'Khyber' 'Terios' 'Roox' 'Tanto' 'Santa' 'Stonic' 'HR-V'\n",
      " 'Sienta' 'AD' 'A5' 'X5' 'Mark' 'Lancer' 'Wrangler' 'Ek' 'Model' 'Celerio'\n",
      " 'Copen' 'Rush' 'Note' 'Zest' 'LX' 'Crown' 'Surf' 'Cast' 'Spark' 'X1'\n",
      " 'CR-Z' 'Pearl' 'Q2' 'A4' 'Potohar' 'Jolion' 'Camry' 'Rav4' 'V2' 'Tiggo'\n",
      " 'Kicks' 'Allion' 'Lite' 'Cayenne' 'Joy' 'Moco' 'Grace' 'Airwave' 'A6'\n",
      " 'Pixis' 'Sierra' 'Boon' 'Ciaz' 'March' 'Thor' 'R2' 'Excel' 'Avensis'\n",
      " 'Wish' 'Margalla' 'Platz' 'Jimny' 'Racer' 'Stream' 'Insight' 'Coupe' 'Q7'\n",
      " 'Cooper' '120' 'EK' 'Optra' 'Porte' 'Fj' 'Cherokee' 'Cami' 'Ravi' 'Tank'\n",
      " 'Town' 'Mirage' '7' 'QQ' 'IST' 'Succeed' 'Mustang' '86' 'Xbee' 'Classic'\n",
      " 'Harrier' 'Juke' 'Qashqai' 'Carry' 'ISIS' 'Voxy' 'Wake' 'Navara' 'MR'\n",
      " 'Alphard' 'Kizashi' 'Challenger' 'Carrier' 'Other' 'K07' 'Probox'\n",
      " 'Starlet' 'Leaf' 'Minica' 'BJ40' 'CR-V' 'Equinox' 'CJ' 'Acty' 'M'\n",
      " 'Forester' 'Shehzore' 'Kei' 'Cervo' 'Noah' 'MX' 'Jade' 'i4' 'Tacoma'\n",
      " 'Exclusive' 'Esquire' 'Boxster' 'e-tron' 'CT200h' 'Avanza' 'Alpha' 'Taft'\n",
      " 'R1' 'Taycan' 'Galant' 'Continental' 'Stella' 'Spike' 'Panamera' 'Spacia'\n",
      " 'Inspire' 'Aveo' '350Z' 'Titan' 'Auris' 'Seres' 'A1' 'Patrol' 'Pino'\n",
      " 'Wingroad' 'Sakura' 'Xenia' 'Estima' 'Beetle' 'Serena' 'Coaster' 'S660'\n",
      " 'S' 'MR2' 'Cefiro' 'F' 'Spectra' 'A8' 'Thats' 'Kalash' 'LS' 'X' 'Lucida'\n",
      " 'Bluebird' 'Samurai' 'Cts' '300' 'Ram' 'iQ' 'L200' 'Verisa' 'APV' 'Rocky'\n",
      " 'NKR' 'Vamos' 'UX' 'Rvr' 'Ractis' 'Brio' 'Palette' 'Kona' 'Skyline'\n",
      " 'H-100' 'Cressida' 'D-Max' 'Uno' 'Terracan' 'Q3' 'Sprinter' 'Solio'\n",
      " 'Scrum' 'S5' 'X2' 'M38' 'Pickup' 'X7' '500' 'I' 'Pulsar' 'Coo' 'Dias'\n",
      " 'i7' 'Bongo' 'Tiida' 'Silverado' 'Avalon' 'Brz' 'Cx3' 'Axela' 'Cedric'\n",
      " 'Cappuccino' 'K01' 'Z' 'Ignis' 'Golf' 'Mini' 'iX' 'Bezza' 'Sx4' 'Minicab'\n",
      " 'Pride' '2' 'TT' 'Carina' 'Mega' 'Kaghan' 'Nv350' 'Chitral' 'Stavic'\n",
      " 'Staria' 'Trooper' 'Fiesta' 'Will' 'Charmant' 'B' 'GS' 'X200' 'Sirius'\n",
      " 'Hongqi' 'M9' 'Cielo' 'Xjs' 'T6' 'Sj410' 'Gen' 'Altezza' 'Kix' 'Polo'\n",
      " 'Toppo' 'N-Van' 'Safari' 'Storia' 'Forland' 'Corvette' 'Grandis'\n",
      " 'Concerto' 'Rexton' 'Q5' 'Blue' 'Cj' 'Primera' 'GS3' 'iX3' 'Rio' 'Celica'\n",
      " 'Raum' 'Cerato' 'Gladiator' 'Suburban' 'Corsa' '206' 'Today' 'Cruze'\n",
      " 'Z100' 'Mobilio' 'Beat' 'Celsior' 'Z3' 'Bt' 'Impreza' 'Foton' '323'\n",
      " 'Gilgit' 'Sonica' 'GV60' 'Sirion' '626' 'Integra' 'Feroza' 'Cx7' 'A7'\n",
      " 'Nx' 'Chaser' 'Niro' 'X3' 'Amarok' 'XL7' 'Caravan' 'L300' '1000' 'Accent'\n",
      " 'Shahbaz' 'Ranger' 'Cr' 'Double' 'XF' 'Azwagon' 'Escalade' 'Roadmaster'\n",
      " 'B2200' 'Sambar' 'C37' 'Z4' 'Chairman' 'CX70T' 'M8' '1200' 'UNI-T' 'KY10'\n",
      " 'Senova' 'Colorado' 'A800' 'Frontier' 'Sentra' 'FUSO' 'i8' '370Z'\n",
      " 'Transit' 'Mulsanne' 'H2' 'CS35' 'Bj212' 'V40' 'Vigus' 'Family' 'Matiz'\n",
      " 'Ioniq' 'Cherry' 'Bego' 'H3' 'Cars' 'Cube' 'Rekord' 'Aria' 'Jiaxing' '1'\n",
      " '1300' 'New' 'Sc']\n",
      "\n",
      "Feature: transmission - unique values: 2\n",
      "['Manual' 'Automatic']\n",
      "\n",
      "Feature: fuel - unique values: 4\n",
      "['Petrol' 'Hybrid' 'Diesel' nan]\n",
      "\n",
      "Feature: color - unique values: 397\n",
      "['Silver Metallic' 'Blue' 'Super White' 'Grey' 'Albastar Silver' 'Maroon'\n",
      " 'Fire Quartz Red' 'Crystal Black Pearl' 'Unique Orange' 'Silky Silver'\n",
      " 'Grey Graphite' 'Silver' 'Pearl White III' 'Bright Silver Metallic'\n",
      " 'Black' 'Red' 'Solid White' 'White' 'Super white' 'Modern Steel Metallic'\n",
      " 'Super White II' 'Green' 'Crystal Black' 'Super White ' 'Cerullian Blue'\n",
      " 'Taffeta White' 'Attitude Black' 'Lunar Silver Metallic' 'Black Mica'\n",
      " 'Yellow' 'Graphite Grey' 'Beige Metallic' 'Beige' 'Purple'\n",
      " 'Phantom Brown' 'Pink' 'Milky Beige' 'Dark Blue' 'White Pearl'\n",
      " 'Snow White Pearl' 'Obsidian Black Metallic' 'Strong Blue'\n",
      " 'Alabaster Silver' 'Alpine White' 'Lunar Silver' 'Steller White'\n",
      " 'Aqua Silver' 'Gold' 'Bronze Mica' 'Mercury Blue' 'Clear White'\n",
      " 'Attitude Black Mica' 'Iridium Silver' 'Urban Titanium' 'silver metallic'\n",
      " nan 'Brown' 'Sparkling Silver' 'Diamond Black' 'Snow White'\n",
      " 'Satin silver metallic' 'Stellar White' 'Buckiham Blue' 'Orange' 'White '\n",
      " 'Bronze' 'Bluish Black Pearl' 'Sand Khaki Pearl' 'Oxford Blue'\n",
      " 'White Pearl Crystal Shine' 'Grey Metallic' 'Silky Silver Metallic'\n",
      " 'Silver Mica Metallic' 'Polar White' 'Armour Silver' 'Black Metallic'\n",
      " 'Cherry Black' 'Golden' 'Burgundy' 'Gray' 'Galaxy Balck' 'Turquoise'\n",
      " 'Crystal Pearl' 'Arctic White' 'Diamond Metallic Black'\n",
      " 'Black Mica Metallic' 'mythos Black Metallic' 'Gray Metallic'\n",
      " 'Sandy Beige' 'Brilliant Blue Metallic' 'Serenity White Pearl'\n",
      " 'Superior White' 'Ruby Red' 'Panthera Metal' 'Cerulean Blue' 'Red Mica'\n",
      " 'Dark Maroon' 'Fery Red' 'Galaxy Black' 'Cosmic Red' 'Navy'\n",
      " 'Light Blue Metallic' 'Teffeta White' 'Diamond White' 'Solid Black'\n",
      " 'Black Pearl' 'Quartz Black' 'Pure White Pearl' 'Pearl Red'\n",
      " 'Absolutely Red' 'Orient Blue Metallic' 'Polished Metal Metallic' 'white'\n",
      " 'Noble White' 'Ralley Red' 'Glacier White' 'Harvard Blue' 'Sunset Red'\n",
      " 'Orion Blue' 'Cool Silver Metallic' 'Sporty Blue Metallic'\n",
      " 'Metallic Grey' 'Moco Peach' 'Black Diamond Metallic' 'Blue Metallic'\n",
      " ' Brown Mica' 'Mineral Grey' 'Brixton Blue' 'Phoenix Red'\n",
      " 'Luna Silver Metallic' 'Aquamarine Blue' 'Pearl Black'\n",
      " 'Nighthawk Black Pearl' 'strong blue' 'Super Black Pearl' 'Jet Grey'\n",
      " 'Full Moon Silver' 'Labrador Black Pearl' 'Sand Beige' 'Super Red V'\n",
      " 'Dark Blue Mica' 'Midnight Blue' 'Dignity Brown Pearl Metallic'\n",
      " 'Bold Beige Metallic' 'graphite grey' 'Silver Pearl' 'Graphite'\n",
      " 'Captiva Blue Pearl' 'Whiteq' 'Metallic Red'\n",
      " '{:wine=>\"Wine\", :beige=>\"Beige\", :black=>\"Black\", :blue=>\"Blue\", :bronze=>\"Bronze\", :brown=>\"Brown\", :burgundy=>\"Burgundy\", :gold=>\"Gold\", :green=>\"Green\", :grey=>\"Grey\", :indigo=>\"Indigo\", :magenta=>\"Magenta\", :maroon=>\"Maroon\", :orange=>\"Orange\", :pink=>\"Pink\", :purple=>\"Purple\", :red=>\"Red\", :silver=>\"Silver\", :turquoise=>\"Turquoise\", :white=>\"White\", :yellow=>\"Yellow\", :navy=>\"Navy\", :unlisted=>\"Unlisted\"}'\n",
      " 'Unlisted' 'Space Gray' 'Premiun Sunlight White Pearl' 'Rallye Red'\n",
      " 'Milano Red' 'Typhoon Silver' 'Magnetic Force' 'Phantom Black'\n",
      " 'Premium White Pearl' 'Dark Green' 'Magenta' 'Hampton Grey'\n",
      " 'Urban titanium' 'Whitw' 'Platinum White Pearl' 'Black ' 'Ash Gray'\n",
      " 'Black Sand Pearl' 'Designo Diamond White' 'Olive Green'\n",
      " 'Lotus Gray Metallic' 'Medium Silver' 'Fairy Red' 'Brilliant Silver'\n",
      " 'SILVER MET' 'silver' 'Indigo' 'Aztec Green Pearl' 'Phantom Grey Pearl'\n",
      " 'Midnight Black' 'Mineral White' 'Smart Black' 'Innocent Pink Pearl'\n",
      " 'Attitude Black ' 'Super white ' 'Blue Brillant Effect'\n",
      " 'metallic mat black' 'Diamond Silver Metallic' 'Mica Beige Metallic'\n",
      " 'Chawton White' 'Attitude Metallic' 'Manufaktur Opalite White Bright'\n",
      " 'Crimson Spark Red' 'Dorado Gold' 'Mineral Gray Metallic'\n",
      " 'Arctic Silver Metallic' 'Black Sapphire Metallic'\n",
      " 'Premium Crystal Red Metallic' 'Manhattan Gray Metallic'\n",
      " 'Eminent White Pearl' 'Super Pearl Black' 'Gun Metallic'\n",
      " 'Precious Wite Pearl' 'Light Rose Mica Metallic' 'White Pearl Crystral'\n",
      " 'Glacier White Metallic' 'Florett Silver Metallic' 'White Pearl Crystal'\n",
      " 'Hamilton White' 'Vivid Blue Pearl' 'Star Silver Metallic' 'DarkBlue'\n",
      " 'Pearl White' 'Meteoroid Gray Metallic' 'Magnetic Grey Metallic'\n",
      " 'Meteoroid Gray Metalic' 'Dolomite White Metallic' 'Black Diamond'\n",
      " 'Sand Black Pearl' 'Dimaond White Metallic' 'Carnelian Red Pearl'\n",
      " 'Premium White' 'Brilliant White Pearl' 'Dark Emerald Mica'\n",
      " 'Celestial Black' 'Crystal black met' 'Diamond White Metallic'\n",
      " 'Mythos Black Metallic' 'Platinum White' 'Carrara White Metallic' 'Ebony'\n",
      " 'Farringdon Red' 'Frost Green Mica' 'Light Silver Metallic'\n",
      " 'Habreneno Red' 'Night Black' 'Bayou Blue' 'Granada Black Pearl'\n",
      " 'Cool White Pearl' 'Armor Silver' 'Storm Silver Metallic'\n",
      " 'Brilliant Black' 'Iridium Silver Metallic' 'Nautic Blue  Metallic'\n",
      " 'Crystal Black Pearl and Silver' 'Dark Blue Pearl' 'Shadow Black'\n",
      " 'Moonstone Metallic' 'Obsidian Black' 'Nighthawk Black'\n",
      " 'Alabaster Silver Metallic' 'Red Mica Metallic' 'Royal Blue'\n",
      " 'Silver metallic' 'Ebony Twilight Metallic' 'Fuji White' 'Pearl white'\n",
      " 'Fizz Blue Pearl Metallic' 'Dark Red Mica' 'Graphite Grey Pearl'\n",
      " 'Galactic Grey Metallic' 'Glass Metallic' 'Mellinnum Silver' 'Gold Dust'\n",
      " 'Java Black' 'Brilliant Blue' 'Torino Red Pearl' 'Premium White Pearl II'\n",
      " ' dark bluish grey' 'Dark Grey' 'Alpine Whire' 'Night Blacl'\n",
      " 'Premium Yellow Pearl' 'Blue Eclipse Metallic' 'Dark Brown' 'Super Black'\n",
      " 'golden' 'Smoke Grey' 'Aurora Black Pearl' 'Pitch Black' 'Race Red'\n",
      " 'Night Hawk Black Pearl' 'Black Metalic' 'Crystal Red' 'Rich Espresso'\n",
      " 'Carbon Black Metallic' 'Pure Red' 'Habareno Red'\n",
      " 'Meteriod Gray Metallic' 'Orange Fusion' 'Designo Cashmere White'\n",
      " 'Silver Streak Mica' 'Dolomite Brown Metallic'\n",
      " 'Avant Garde Bronze Metallic' 'Atmandine Black' 'Creamy White'\n",
      " 'Abyss Grey Metallic' 'Brilliant White Metallic'\n",
      " 'Morning Mist Blue Metallic' 'Cherry Pearl Crystal' 'Solar Yellow'\n",
      " 'Chiffon Ivory Metallic' 'Fiz Blue Pearl Metallic' 'Lilac Silver'\n",
      " 'Carnelian Red' 'Teal Blue' 'Tenorite Grey Metallic' 'Cayenne Red'\n",
      " 'Fiery Red' 'Rosewood Maroon' 'Designo Mocha Black Metallic'\n",
      " 'super white II' 'Wine Red' 'Ultra Black Solidic'\n",
      " 'Milk Tea Beige Metallic' 'Moonlight Blue Metallic'\n",
      " 'Premium Silver Metallic' 'Phantom Red Metallic' 'Light Beige Metallic'\n",
      " 'Habanero Red' 'Crimson Red' 'Salsa Red Pearl' 'Citron Green'\n",
      " 'Blue Mica Metallic' 'Sea Green' 'Kemora Grey' 'Dark Metal Grey'\n",
      " 'White Platinum Metallic Tri Coat'\n",
      " 'Midnight Blue Beam Metallic and Silver' 'Santorini Metallic Black'\n",
      " 'Sunshine Gold' 'Cosmic Black Pearl' 'Satin Silver' 'Wine' 'Golden Black'\n",
      " 'White Orchid Pearl' 'Graphite Pearl' 'Shimmering Green' 'Red Wine'\n",
      " 'Oxford White' 'Brilliant Sporty Blue Metallic' 'Pearl White Metallic'\n",
      " 'Black Sapphire' 'Uyuni White' 'Carrera White' 'Cool Black Metallic'\n",
      " 'Deep Blue Metallic' 'Twilight Grey Pearl' 'Dakota Gray Metallic'\n",
      " 'Nebula Gray Pearl' 'Ocean Blue' 'Brilliant Silver Metallic'\n",
      " 'Artic blue pearl' 'Brilliant Sporty Blue' 'Pewter Grey Metallic'\n",
      " 'Campagno Red' 'Navy Blue' 'Kalahari Beige Metallic' 'Rio Tomato'\n",
      " 'designo Mocha Black' 'Ice Titanium Mica' 'Champagne Gold Metallic'\n",
      " 'Boost Blue Pearl Metallic' 'Dark Teal Mica' 'Silver '\n",
      " 'Shining Pearl White' 'Wine Red Metallic' 'Silver Mica Mettalic'\n",
      " 'Jungle Green' 'Dark Brown Mica Metallic' 'Wedgewood Blue Metallic'\n",
      " 'Magnesium Metallic' 'Light Rose Metallic' 'green mica graphite'\n",
      " 'Dark Green Mica' 'Jet Black' 'Metallic Silver' 'Graphite grey'\n",
      " 'Piemont Red' ' Morpho Blue Pearl' 'Barolo Black Metallic'\n",
      " 'Beige Mica Metallic' 'Tidewater Blue Metallic' 'Strong Blue Metallic'\n",
      " 'Phytonic Blue' 'Obsidian' 'Sterling Silver Metallic' 'Pure Metal Silver'\n",
      " 'Cuvee Silver Metallic' 'Tuxedo Black Metallic' 'Cosmic Blue'\n",
      " 'Cosmos Black' 'Ablaze Red Pearl' 'Cobalt Blue Metallic' 'Timeless Back'\n",
      " 'Brilliant Red']\n",
      "\n",
      "Feature: registered - unique values: 121\n",
      "['Lahore' 'Punjab' 'Islamabad' 'Un-Registered' 'Sindh' 'Swat' 'Karachi'\n",
      " 'Faisalabad' 'Multan' 'Peshawar' 'Rawalpindi' 'Hyderabad' 'Quetta'\n",
      " 'Mirpur A.K.' 'Bahawalpur' 'Kashmir' 'Mingora' 'Toba Tek Singh'\n",
      " 'Gujranwala' 'Sialkot' 'Mardan' 'Mirpur khas' 'Attock' 'Sargodha'\n",
      " 'Qila Deedar Singh' 'Dera ismail khan' 'Bannu' 'Gujrat' 'Sahiwal'\n",
      " 'Rahim Yar Khan' 'Nowshera' 'Abbottabad' 'Sadiqabad' 'Muzaffar Gargh'\n",
      " 'Muzaffarabad' 'Farooqabad' 'Fateh Jang' 'Mian Wali' 'Okara' 'Kohat'\n",
      " 'Sukkur' 'Jhelum' 'Sheikhupura' 'D.G.Khan' 'Nawabshah' 'Mansehra' 'Dir'\n",
      " 'Bahawalnagar' 'Swabi' 'Jhang' 'Lasbela' 'Shorkot' 'Pak pattan sharif'\n",
      " 'Gharo' 'Mandi bahauddin' 'Adda jahan khan' 'Larkana' 'Gilgit'\n",
      " 'Charsadda' 'Karak' 'Zafarwal' 'Thatta' 'Gujar Khan' 'Chiniot' 'Vehari'\n",
      " 'Chakwal' 'Bhakkar' 'Khanewal' 'Abdul Hakeem' 'Buner' 'Tando Allah Yar'\n",
      " 'Malakand Agency' 'Haripur' 'Kasur' 'Kotli Ak' 'Sara-E-Alamgir' 'Phalia'\n",
      " 'Chishtian' 'Jandanwala' 'Wah cantt' 'Hazro' 'Wazirabad' 'Kharian'\n",
      " 'Iskandarabad' 'Jatoi' 'Daska' 'Pir mahal' 'Badin' 'Lower Dir'\n",
      " 'Hafizabad' 'Khushab' 'Narowal' 'Bhai pheru' 'Ghazi' 'Layyah'\n",
      " 'Lakki marwat' 'Pindi gheb' 'Pattoki' 'Dina' 'Hangu' 'Skardu' 'Sibi'\n",
      " 'Haroonabad' 'Adda shaiwala' 'Basirpur' 'Jacobabad' 'Batang' 'Balakot'\n",
      " 'Kotla' 'Sajawal' 'Kamoke' 'Burewala' 'Rawalakot' 'Dera Allah Yar'\n",
      " 'Mian Channu' 'Noshero Feroze' 'Ahmed Pur East' 'Hattar' 'Arifwala'\n",
      " 'Akora khattak' 'Hunza']\n"
     ]
    }
   ],
   "source": [
    "for c in categorical_features:\n",
    "    print(\"\\nFeature:\", c, \"- unique values:\", len(df[c].unique()))\n",
    "    print(df[c].unique())"
   ]
  },
  {
   "cell_type": "markdown",
   "metadata": {},
   "source": [
    "City"
   ]
  },
  {
   "cell_type": "code",
   "execution_count": 71,
   "metadata": {},
   "outputs": [
    {
     "name": "stdout",
     "output_type": "stream",
     "text": [
      "Shape: (297, 2)\n"
     ]
    },
    {
     "data": {
      "text/html": [
       "<div>\n",
       "<style scoped>\n",
       "    .dataframe tbody tr th:only-of-type {\n",
       "        vertical-align: middle;\n",
       "    }\n",
       "\n",
       "    .dataframe tbody tr th {\n",
       "        vertical-align: top;\n",
       "    }\n",
       "\n",
       "    .dataframe thead th {\n",
       "        text-align: right;\n",
       "    }\n",
       "</style>\n",
       "<table border=\"1\" class=\"dataframe\">\n",
       "  <thead>\n",
       "    <tr style=\"text-align: right;\">\n",
       "      <th></th>\n",
       "      <th>City</th>\n",
       "      <th>Frequency</th>\n",
       "    </tr>\n",
       "  </thead>\n",
       "  <tbody>\n",
       "    <tr>\n",
       "      <th>0</th>\n",
       "      <td>Peshawar</td>\n",
       "      <td>3689</td>\n",
       "    </tr>\n",
       "    <tr>\n",
       "      <th>1</th>\n",
       "      <td>Lahore</td>\n",
       "      <td>16674</td>\n",
       "    </tr>\n",
       "    <tr>\n",
       "      <th>2</th>\n",
       "      <td>Vehari</td>\n",
       "      <td>156</td>\n",
       "    </tr>\n",
       "    <tr>\n",
       "      <th>3</th>\n",
       "      <td>Islamabad</td>\n",
       "      <td>11501</td>\n",
       "    </tr>\n",
       "    <tr>\n",
       "      <th>4</th>\n",
       "      <td>Faisalabad</td>\n",
       "      <td>3037</td>\n",
       "    </tr>\n",
       "    <tr>\n",
       "      <th>5</th>\n",
       "      <td>Sialkot</td>\n",
       "      <td>1328</td>\n",
       "    </tr>\n",
       "    <tr>\n",
       "      <th>6</th>\n",
       "      <td>Mansehra</td>\n",
       "      <td>261</td>\n",
       "    </tr>\n",
       "    <tr>\n",
       "      <th>7</th>\n",
       "      <td>Gujranwala</td>\n",
       "      <td>1999</td>\n",
       "    </tr>\n",
       "    <tr>\n",
       "      <th>8</th>\n",
       "      <td>Kasur</td>\n",
       "      <td>116</td>\n",
       "    </tr>\n",
       "    <tr>\n",
       "      <th>9</th>\n",
       "      <td>Bahawalnagar</td>\n",
       "      <td>96</td>\n",
       "    </tr>\n",
       "  </tbody>\n",
       "</table>\n",
       "</div>"
      ],
      "text/plain": [
       "           City  Frequency\n",
       "0      Peshawar       3689\n",
       "1        Lahore      16674\n",
       "2        Vehari        156\n",
       "3     Islamabad      11501\n",
       "4    Faisalabad       3037\n",
       "5       Sialkot       1328\n",
       "6      Mansehra        261\n",
       "7    Gujranwala       1999\n",
       "8         Kasur        116\n",
       "9  Bahawalnagar         96"
      ]
     },
     "execution_count": 71,
     "metadata": {},
     "output_type": "execute_result"
    }
   ],
   "source": [
    "counter = Counter(df[\"city\"].values)\n",
    "dfCounter =  pd.DataFrame(counter.items(), columns = [\"City\", \"Frequency\"])\n",
    "print(\"Shape:\", dfCounter.shape)\n",
    "dfCounter.head(10)"
   ]
  },
  {
   "cell_type": "code",
   "execution_count": 79,
   "metadata": {},
   "outputs": [
    {
     "name": "stdout",
     "output_type": "stream",
     "text": [
      "Most common value: Lahore and its frequency: 16674\n",
      "Least common value: More and its frequency: 1\n",
      "Frequency for most common value '16674': 1\n",
      "Frequency for least common value '1': 35\n"
     ]
    }
   ],
   "source": [
    "most_common_v, most_common_f = dfCounter.loc[dfCounter[\"Frequency\"].idxmax(), \"City\"], dfCounter.loc[dfCounter[\"Frequency\"].idxmax(), \"Frequency\"]\n",
    "least_common_v, least_common_f = dfCounter.loc[dfCounter[\"Frequency\"].idxmin(), \"City\"], dfCounter.loc[dfCounter[\"Frequency\"].idxmin(), \"Frequency\"]\n",
    "most_count = dfCounter[dfCounter[\"Frequency\"] == most_common_f].shape[0]\n",
    "least_count = dfCounter[dfCounter[\"Frequency\"] == least_common_f].shape[0]\n",
    "\n",
    "print(f\"Most common value: {most_common_v} and its frequency: {most_common_f}\")\n",
    "print(f\"Least common value: {least_common_v} and its frequency: {least_common_f}\")\n",
    "print(f\"Frequency for most common value '{most_common_f}': {most_count}\")\n",
    "print(f\"Frequency for least common value '{least_common_f}': {least_count}\")"
   ]
  },
  {
   "cell_type": "markdown",
   "metadata": {},
   "source": [
    "assembly"
   ]
  },
  {
   "cell_type": "code",
   "execution_count": 82,
   "metadata": {},
   "outputs": [
    {
     "name": "stdout",
     "output_type": "stream",
     "text": [
      "Shape: (2, 2)\n"
     ]
    },
    {
     "data": {
      "text/html": [
       "<div>\n",
       "<style scoped>\n",
       "    .dataframe tbody tr th:only-of-type {\n",
       "        vertical-align: middle;\n",
       "    }\n",
       "\n",
       "    .dataframe tbody tr th {\n",
       "        vertical-align: top;\n",
       "    }\n",
       "\n",
       "    .dataframe thead th {\n",
       "        text-align: right;\n",
       "    }\n",
       "</style>\n",
       "<table border=\"1\" class=\"dataframe\">\n",
       "  <thead>\n",
       "    <tr style=\"text-align: right;\">\n",
       "      <th></th>\n",
       "      <th>assembly</th>\n",
       "      <th>Frequency</th>\n",
       "    </tr>\n",
       "  </thead>\n",
       "  <tbody>\n",
       "    <tr>\n",
       "      <th>0</th>\n",
       "      <td>NaN</td>\n",
       "      <td>53689</td>\n",
       "    </tr>\n",
       "    <tr>\n",
       "      <th>1</th>\n",
       "      <td>Imported</td>\n",
       "      <td>24189</td>\n",
       "    </tr>\n",
       "  </tbody>\n",
       "</table>\n",
       "</div>"
      ],
      "text/plain": [
       "   assembly  Frequency\n",
       "0       NaN      53689\n",
       "1  Imported      24189"
      ]
     },
     "execution_count": 82,
     "metadata": {},
     "output_type": "execute_result"
    }
   ],
   "source": [
    "counter = Counter(df[\"assembly\"].values)\n",
    "dfCounter =  pd.DataFrame(counter.items(), columns = [\"assembly\", \"Frequency\"])\n",
    "print(\"Shape:\", dfCounter.shape)\n",
    "dfCounter.head(10)"
   ]
  },
  {
   "cell_type": "markdown",
   "metadata": {},
   "source": [
    "body"
   ]
  },
  {
   "cell_type": "code",
   "execution_count": 83,
   "metadata": {},
   "outputs": [
    {
     "name": "stdout",
     "output_type": "stream",
     "text": [
      "Shape: (22, 2)\n"
     ]
    },
    {
     "data": {
      "text/html": [
       "<div>\n",
       "<style scoped>\n",
       "    .dataframe tbody tr th:only-of-type {\n",
       "        vertical-align: middle;\n",
       "    }\n",
       "\n",
       "    .dataframe tbody tr th {\n",
       "        vertical-align: top;\n",
       "    }\n",
       "\n",
       "    .dataframe thead th {\n",
       "        text-align: right;\n",
       "    }\n",
       "</style>\n",
       "<table border=\"1\" class=\"dataframe\">\n",
       "  <thead>\n",
       "    <tr style=\"text-align: right;\">\n",
       "      <th></th>\n",
       "      <th>body</th>\n",
       "      <th>Frequency</th>\n",
       "    </tr>\n",
       "  </thead>\n",
       "  <tbody>\n",
       "    <tr>\n",
       "      <th>0</th>\n",
       "      <td>Sedan</td>\n",
       "      <td>30193</td>\n",
       "    </tr>\n",
       "    <tr>\n",
       "      <th>1</th>\n",
       "      <td>Hatchback</td>\n",
       "      <td>25014</td>\n",
       "    </tr>\n",
       "    <tr>\n",
       "      <th>2</th>\n",
       "      <td>SUV</td>\n",
       "      <td>5087</td>\n",
       "    </tr>\n",
       "    <tr>\n",
       "      <th>3</th>\n",
       "      <td>MPV</td>\n",
       "      <td>786</td>\n",
       "    </tr>\n",
       "    <tr>\n",
       "      <th>4</th>\n",
       "      <td>NaN</td>\n",
       "      <td>8904</td>\n",
       "    </tr>\n",
       "    <tr>\n",
       "      <th>5</th>\n",
       "      <td>Crossover</td>\n",
       "      <td>2156</td>\n",
       "    </tr>\n",
       "    <tr>\n",
       "      <th>6</th>\n",
       "      <td>Micro Van</td>\n",
       "      <td>539</td>\n",
       "    </tr>\n",
       "    <tr>\n",
       "      <th>7</th>\n",
       "      <td>Mini Van</td>\n",
       "      <td>1337</td>\n",
       "    </tr>\n",
       "    <tr>\n",
       "      <th>8</th>\n",
       "      <td>Double Cabin</td>\n",
       "      <td>779</td>\n",
       "    </tr>\n",
       "    <tr>\n",
       "      <th>9</th>\n",
       "      <td>Compact sedan</td>\n",
       "      <td>793</td>\n",
       "    </tr>\n",
       "    <tr>\n",
       "      <th>10</th>\n",
       "      <td>High Roof</td>\n",
       "      <td>74</td>\n",
       "    </tr>\n",
       "    <tr>\n",
       "      <th>11</th>\n",
       "      <td>Van</td>\n",
       "      <td>716</td>\n",
       "    </tr>\n",
       "    <tr>\n",
       "      <th>12</th>\n",
       "      <td>Compact SUV</td>\n",
       "      <td>476</td>\n",
       "    </tr>\n",
       "    <tr>\n",
       "      <th>13</th>\n",
       "      <td>Pick Up</td>\n",
       "      <td>521</td>\n",
       "    </tr>\n",
       "    <tr>\n",
       "      <th>14</th>\n",
       "      <td>Coupe</td>\n",
       "      <td>90</td>\n",
       "    </tr>\n",
       "    <tr>\n",
       "      <th>15</th>\n",
       "      <td>Station Wagon</td>\n",
       "      <td>230</td>\n",
       "    </tr>\n",
       "    <tr>\n",
       "      <th>16</th>\n",
       "      <td>Convertible</td>\n",
       "      <td>47</td>\n",
       "    </tr>\n",
       "    <tr>\n",
       "      <th>17</th>\n",
       "      <td>Truck</td>\n",
       "      <td>86</td>\n",
       "    </tr>\n",
       "    <tr>\n",
       "      <th>18</th>\n",
       "      <td>Off-Road Vehicles</td>\n",
       "      <td>12</td>\n",
       "    </tr>\n",
       "    <tr>\n",
       "      <th>19</th>\n",
       "      <td>Mini Vehicles</td>\n",
       "      <td>8</td>\n",
       "    </tr>\n",
       "    <tr>\n",
       "      <th>20</th>\n",
       "      <td>Single Cabin</td>\n",
       "      <td>26</td>\n",
       "    </tr>\n",
       "    <tr>\n",
       "      <th>21</th>\n",
       "      <td>Compact hatchback</td>\n",
       "      <td>4</td>\n",
       "    </tr>\n",
       "  </tbody>\n",
       "</table>\n",
       "</div>"
      ],
      "text/plain": [
       "                 body  Frequency\n",
       "0               Sedan      30193\n",
       "1           Hatchback      25014\n",
       "2                 SUV       5087\n",
       "3                 MPV        786\n",
       "4                 NaN       8904\n",
       "5           Crossover       2156\n",
       "6           Micro Van        539\n",
       "7            Mini Van       1337\n",
       "8        Double Cabin        779\n",
       "9       Compact sedan        793\n",
       "10          High Roof         74\n",
       "11                Van        716\n",
       "12        Compact SUV        476\n",
       "13            Pick Up        521\n",
       "14              Coupe         90\n",
       "15      Station Wagon        230\n",
       "16        Convertible         47\n",
       "17              Truck         86\n",
       "18  Off-Road Vehicles         12\n",
       "19      Mini Vehicles          8\n",
       "20       Single Cabin         26\n",
       "21  Compact hatchback          4"
      ]
     },
     "execution_count": 83,
     "metadata": {},
     "output_type": "execute_result"
    }
   ],
   "source": [
    "counter = Counter(df[\"body\"].values)\n",
    "dfCounter =  pd.DataFrame(counter.items(), columns = [\"body\", \"Frequency\"])\n",
    "print(\"Shape:\", dfCounter.shape)\n",
    "dfCounter"
   ]
  },
  {
   "cell_type": "code",
   "execution_count": 84,
   "metadata": {},
   "outputs": [
    {
     "name": "stdout",
     "output_type": "stream",
     "text": [
      "Most common value: Sedan and its frequency: 30193\n",
      "Least common value: Compact hatchback and its frequency: 4\n",
      "Frequency for most common value '30193': 1\n",
      "Frequency for least common value '4': 1\n"
     ]
    }
   ],
   "source": [
    "most_common_v, most_common_f = dfCounter.loc[dfCounter[\"Frequency\"].idxmax(), \"body\"], dfCounter.loc[dfCounter[\"Frequency\"].idxmax(), \"Frequency\"]\n",
    "least_common_v, least_common_f = dfCounter.loc[dfCounter[\"Frequency\"].idxmin(), \"body\"], dfCounter.loc[dfCounter[\"Frequency\"].idxmin(), \"Frequency\"]\n",
    "most_count = dfCounter[dfCounter[\"Frequency\"] == most_common_f].shape[0]\n",
    "least_count = dfCounter[dfCounter[\"Frequency\"] == least_common_f].shape[0]\n",
    "\n",
    "print(f\"Most common value: {most_common_v} and its frequency: {most_common_f}\")\n",
    "print(f\"Least common value: {least_common_v} and its frequency: {least_common_f}\")\n",
    "print(f\"Frequency for most common value '{most_common_f}': {most_count}\")\n",
    "print(f\"Frequency for least common value '{least_common_f}': {least_count}\")"
   ]
  },
  {
   "cell_type": "markdown",
   "metadata": {},
   "source": [
    "make"
   ]
  },
  {
   "cell_type": "code",
   "execution_count": 85,
   "metadata": {},
   "outputs": [
    {
     "name": "stdout",
     "output_type": "stream",
     "text": [
      "Shape: (68, 2)\n"
     ]
    },
    {
     "data": {
      "text/html": [
       "<div>\n",
       "<style scoped>\n",
       "    .dataframe tbody tr th:only-of-type {\n",
       "        vertical-align: middle;\n",
       "    }\n",
       "\n",
       "    .dataframe tbody tr th {\n",
       "        vertical-align: top;\n",
       "    }\n",
       "\n",
       "    .dataframe thead th {\n",
       "        text-align: right;\n",
       "    }\n",
       "</style>\n",
       "<table border=\"1\" class=\"dataframe\">\n",
       "  <thead>\n",
       "    <tr style=\"text-align: right;\">\n",
       "      <th></th>\n",
       "      <th>make</th>\n",
       "      <th>Frequency</th>\n",
       "    </tr>\n",
       "  </thead>\n",
       "  <tbody>\n",
       "    <tr>\n",
       "      <th>0</th>\n",
       "      <td>Toyota</td>\n",
       "      <td>24910</td>\n",
       "    </tr>\n",
       "    <tr>\n",
       "      <th>1</th>\n",
       "      <td>Honda</td>\n",
       "      <td>16428</td>\n",
       "    </tr>\n",
       "    <tr>\n",
       "      <th>2</th>\n",
       "      <td>Suzuki</td>\n",
       "      <td>22347</td>\n",
       "    </tr>\n",
       "    <tr>\n",
       "      <th>3</th>\n",
       "      <td>Daihatsu</td>\n",
       "      <td>3181</td>\n",
       "    </tr>\n",
       "    <tr>\n",
       "      <th>4</th>\n",
       "      <td>Mitsubishi</td>\n",
       "      <td>1101</td>\n",
       "    </tr>\n",
       "    <tr>\n",
       "      <th>...</th>\n",
       "      <td>...</td>\n",
       "      <td>...</td>\n",
       "    </tr>\n",
       "    <tr>\n",
       "      <th>63</th>\n",
       "      <td>Hummer</td>\n",
       "      <td>4</td>\n",
       "    </tr>\n",
       "    <tr>\n",
       "      <th>64</th>\n",
       "      <td>JMC</td>\n",
       "      <td>4</td>\n",
       "    </tr>\n",
       "    <tr>\n",
       "      <th>65</th>\n",
       "      <td>Roma</td>\n",
       "      <td>1</td>\n",
       "    </tr>\n",
       "    <tr>\n",
       "      <th>66</th>\n",
       "      <td>Classic</td>\n",
       "      <td>1</td>\n",
       "    </tr>\n",
       "    <tr>\n",
       "      <th>67</th>\n",
       "      <td>Rinco</td>\n",
       "      <td>1</td>\n",
       "    </tr>\n",
       "  </tbody>\n",
       "</table>\n",
       "<p>68 rows × 2 columns</p>\n",
       "</div>"
      ],
      "text/plain": [
       "          make  Frequency\n",
       "0       Toyota      24910\n",
       "1        Honda      16428\n",
       "2       Suzuki      22347\n",
       "3     Daihatsu       3181\n",
       "4   Mitsubishi       1101\n",
       "..         ...        ...\n",
       "63      Hummer          4\n",
       "64         JMC          4\n",
       "65        Roma          1\n",
       "66     Classic          1\n",
       "67       Rinco          1\n",
       "\n",
       "[68 rows x 2 columns]"
      ]
     },
     "execution_count": 85,
     "metadata": {},
     "output_type": "execute_result"
    }
   ],
   "source": [
    "counter = Counter(df[\"make\"].values)\n",
    "dfCounter =  pd.DataFrame(counter.items(), columns = [\"make\", \"Frequency\"])\n",
    "print(\"Shape:\", dfCounter.shape)\n",
    "dfCounter"
   ]
  },
  {
   "cell_type": "code",
   "execution_count": 86,
   "metadata": {},
   "outputs": [
    {
     "name": "stdout",
     "output_type": "stream",
     "text": [
      "Most common value: Toyota and its frequency: 24910\n",
      "Least common value: GAC and its frequency: 1\n",
      "Frequency for most common value '24910': 1\n",
      "Frequency for least common value '1': 7\n"
     ]
    }
   ],
   "source": [
    "most_common_v, most_common_f = dfCounter.loc[dfCounter[\"Frequency\"].idxmax(), \"make\"], dfCounter.loc[dfCounter[\"Frequency\"].idxmax(), \"Frequency\"]\n",
    "least_common_v, least_common_f = dfCounter.loc[dfCounter[\"Frequency\"].idxmin(), \"make\"], dfCounter.loc[dfCounter[\"Frequency\"].idxmin(), \"Frequency\"]\n",
    "most_count = dfCounter[dfCounter[\"Frequency\"] == most_common_f].shape[0]\n",
    "least_count = dfCounter[dfCounter[\"Frequency\"] == least_common_f].shape[0]\n",
    "\n",
    "print(f\"Most common value: {most_common_v} and its frequency: {most_common_f}\")\n",
    "print(f\"Least common value: {least_common_v} and its frequency: {least_common_f}\")\n",
    "print(f\"Frequency for most common value '{most_common_f}': {most_count}\")\n",
    "print(f\"Frequency for least common value '{least_common_f}': {least_count}\")"
   ]
  },
  {
   "cell_type": "markdown",
   "metadata": {},
   "source": [
    "model"
   ]
  },
  {
   "cell_type": "code",
   "execution_count": 87,
   "metadata": {},
   "outputs": [
    {
     "name": "stdout",
     "output_type": "stream",
     "text": [
      "Shape: (435, 2)\n"
     ]
    },
    {
     "data": {
      "text/html": [
       "<div>\n",
       "<style scoped>\n",
       "    .dataframe tbody tr th:only-of-type {\n",
       "        vertical-align: middle;\n",
       "    }\n",
       "\n",
       "    .dataframe tbody tr th {\n",
       "        vertical-align: top;\n",
       "    }\n",
       "\n",
       "    .dataframe thead th {\n",
       "        text-align: right;\n",
       "    }\n",
       "</style>\n",
       "<table border=\"1\" class=\"dataframe\">\n",
       "  <thead>\n",
       "    <tr style=\"text-align: right;\">\n",
       "      <th></th>\n",
       "      <th>model</th>\n",
       "      <th>Frequency</th>\n",
       "    </tr>\n",
       "  </thead>\n",
       "  <tbody>\n",
       "    <tr>\n",
       "      <th>0</th>\n",
       "      <td>Corolla</td>\n",
       "      <td>12871</td>\n",
       "    </tr>\n",
       "    <tr>\n",
       "      <th>1</th>\n",
       "      <td>City</td>\n",
       "      <td>5277</td>\n",
       "    </tr>\n",
       "    <tr>\n",
       "      <th>2</th>\n",
       "      <td>Yaris</td>\n",
       "      <td>1291</td>\n",
       "    </tr>\n",
       "    <tr>\n",
       "      <th>3</th>\n",
       "      <td>Swift</td>\n",
       "      <td>1534</td>\n",
       "    </tr>\n",
       "    <tr>\n",
       "      <th>4</th>\n",
       "      <td>Civic</td>\n",
       "      <td>8275</td>\n",
       "    </tr>\n",
       "    <tr>\n",
       "      <th>...</th>\n",
       "      <td>...</td>\n",
       "      <td>...</td>\n",
       "    </tr>\n",
       "    <tr>\n",
       "      <th>430</th>\n",
       "      <td>Jiaxing</td>\n",
       "      <td>1</td>\n",
       "    </tr>\n",
       "    <tr>\n",
       "      <th>431</th>\n",
       "      <td>1</td>\n",
       "      <td>1</td>\n",
       "    </tr>\n",
       "    <tr>\n",
       "      <th>432</th>\n",
       "      <td>1300</td>\n",
       "      <td>1</td>\n",
       "    </tr>\n",
       "    <tr>\n",
       "      <th>433</th>\n",
       "      <td>New</td>\n",
       "      <td>1</td>\n",
       "    </tr>\n",
       "    <tr>\n",
       "      <th>434</th>\n",
       "      <td>Sc</td>\n",
       "      <td>1</td>\n",
       "    </tr>\n",
       "  </tbody>\n",
       "</table>\n",
       "<p>435 rows × 2 columns</p>\n",
       "</div>"
      ],
      "text/plain": [
       "       model  Frequency\n",
       "0    Corolla      12871\n",
       "1       City       5277\n",
       "2      Yaris       1291\n",
       "3      Swift       1534\n",
       "4      Civic       8275\n",
       "..       ...        ...\n",
       "430  Jiaxing          1\n",
       "431        1          1\n",
       "432     1300          1\n",
       "433      New          1\n",
       "434       Sc          1\n",
       "\n",
       "[435 rows x 2 columns]"
      ]
     },
     "execution_count": 87,
     "metadata": {},
     "output_type": "execute_result"
    }
   ],
   "source": [
    "counter = Counter(df[\"model\"].values)\n",
    "dfCounter =  pd.DataFrame(counter.items(), columns = [\"model\", \"Frequency\"])\n",
    "print(\"Shape:\", dfCounter.shape)\n",
    "dfCounter"
   ]
  },
  {
   "cell_type": "code",
   "execution_count": 88,
   "metadata": {},
   "outputs": [
    {
     "name": "stdout",
     "output_type": "stream",
     "text": [
      "Most common value: Corolla and its frequency: 12871\n",
      "Least common value: 6 and its frequency: 1\n",
      "Frequency for most common value '12871': 1\n",
      "Frequency for least common value '1': 81\n"
     ]
    }
   ],
   "source": [
    "most_common_v, most_common_f = dfCounter.loc[dfCounter[\"Frequency\"].idxmax(), \"model\"], dfCounter.loc[dfCounter[\"Frequency\"].idxmax(), \"Frequency\"]\n",
    "least_common_v, least_common_f = dfCounter.loc[dfCounter[\"Frequency\"].idxmin(), \"model\"], dfCounter.loc[dfCounter[\"Frequency\"].idxmin(), \"Frequency\"]\n",
    "most_count = dfCounter[dfCounter[\"Frequency\"] == most_common_f].shape[0]\n",
    "least_count = dfCounter[dfCounter[\"Frequency\"] == least_common_f].shape[0]\n",
    "\n",
    "print(f\"Most common value: {most_common_v} and its frequency: {most_common_f}\")\n",
    "print(f\"Least common value: {least_common_v} and its frequency: {least_common_f}\")\n",
    "print(f\"Frequency for most common value '{most_common_f}': {most_count}\")\n",
    "print(f\"Frequency for least common value '{least_common_f}': {least_count}\")"
   ]
  },
  {
   "cell_type": "markdown",
   "metadata": {},
   "source": [
    "transmission"
   ]
  },
  {
   "cell_type": "code",
   "execution_count": 89,
   "metadata": {},
   "outputs": [
    {
     "name": "stdout",
     "output_type": "stream",
     "text": [
      "Shape: (2, 2)\n"
     ]
    },
    {
     "data": {
      "text/html": [
       "<div>\n",
       "<style scoped>\n",
       "    .dataframe tbody tr th:only-of-type {\n",
       "        vertical-align: middle;\n",
       "    }\n",
       "\n",
       "    .dataframe tbody tr th {\n",
       "        vertical-align: top;\n",
       "    }\n",
       "\n",
       "    .dataframe thead th {\n",
       "        text-align: right;\n",
       "    }\n",
       "</style>\n",
       "<table border=\"1\" class=\"dataframe\">\n",
       "  <thead>\n",
       "    <tr style=\"text-align: right;\">\n",
       "      <th></th>\n",
       "      <th>transmission</th>\n",
       "      <th>Frequency</th>\n",
       "    </tr>\n",
       "  </thead>\n",
       "  <tbody>\n",
       "    <tr>\n",
       "      <th>0</th>\n",
       "      <td>Manual</td>\n",
       "      <td>35115</td>\n",
       "    </tr>\n",
       "    <tr>\n",
       "      <th>1</th>\n",
       "      <td>Automatic</td>\n",
       "      <td>42763</td>\n",
       "    </tr>\n",
       "  </tbody>\n",
       "</table>\n",
       "</div>"
      ],
      "text/plain": [
       "  transmission  Frequency\n",
       "0       Manual      35115\n",
       "1    Automatic      42763"
      ]
     },
     "execution_count": 89,
     "metadata": {},
     "output_type": "execute_result"
    }
   ],
   "source": [
    "counter = Counter(df[\"transmission\"].values)\n",
    "dfCounter =  pd.DataFrame(counter.items(), columns = [\"transmission\", \"Frequency\"])\n",
    "print(\"Shape:\", dfCounter.shape)\n",
    "dfCounter"
   ]
  },
  {
   "cell_type": "markdown",
   "metadata": {},
   "source": [
    "fuel"
   ]
  },
  {
   "cell_type": "code",
   "execution_count": 91,
   "metadata": {},
   "outputs": [
    {
     "name": "stdout",
     "output_type": "stream",
     "text": [
      "Shape: (4, 2)\n"
     ]
    },
    {
     "data": {
      "text/html": [
       "<div>\n",
       "<style scoped>\n",
       "    .dataframe tbody tr th:only-of-type {\n",
       "        vertical-align: middle;\n",
       "    }\n",
       "\n",
       "    .dataframe tbody tr th {\n",
       "        vertical-align: top;\n",
       "    }\n",
       "\n",
       "    .dataframe thead th {\n",
       "        text-align: right;\n",
       "    }\n",
       "</style>\n",
       "<table border=\"1\" class=\"dataframe\">\n",
       "  <thead>\n",
       "    <tr style=\"text-align: right;\">\n",
       "      <th></th>\n",
       "      <th>fuel</th>\n",
       "      <th>Frequency</th>\n",
       "    </tr>\n",
       "  </thead>\n",
       "  <tbody>\n",
       "    <tr>\n",
       "      <th>0</th>\n",
       "      <td>Petrol</td>\n",
       "      <td>70620</td>\n",
       "    </tr>\n",
       "    <tr>\n",
       "      <th>1</th>\n",
       "      <td>Hybrid</td>\n",
       "      <td>2895</td>\n",
       "    </tr>\n",
       "    <tr>\n",
       "      <th>2</th>\n",
       "      <td>Diesel</td>\n",
       "      <td>3457</td>\n",
       "    </tr>\n",
       "    <tr>\n",
       "      <th>3</th>\n",
       "      <td>NaN</td>\n",
       "      <td>906</td>\n",
       "    </tr>\n",
       "  </tbody>\n",
       "</table>\n",
       "</div>"
      ],
      "text/plain": [
       "     fuel  Frequency\n",
       "0  Petrol      70620\n",
       "1  Hybrid       2895\n",
       "2  Diesel       3457\n",
       "3     NaN        906"
      ]
     },
     "execution_count": 91,
     "metadata": {},
     "output_type": "execute_result"
    }
   ],
   "source": [
    "counter = Counter(df[\"fuel\"].values)\n",
    "dfCounter =  pd.DataFrame(counter.items(), columns = [\"fuel\", \"Frequency\"])\n",
    "print(\"Shape:\", dfCounter.shape)\n",
    "dfCounter"
   ]
  },
  {
   "cell_type": "markdown",
   "metadata": {},
   "source": [
    "color"
   ]
  },
  {
   "cell_type": "code",
   "execution_count": 92,
   "metadata": {},
   "outputs": [
    {
     "name": "stdout",
     "output_type": "stream",
     "text": [
      "Shape: (397, 2)\n"
     ]
    },
    {
     "data": {
      "text/html": [
       "<div>\n",
       "<style scoped>\n",
       "    .dataframe tbody tr th:only-of-type {\n",
       "        vertical-align: middle;\n",
       "    }\n",
       "\n",
       "    .dataframe tbody tr th {\n",
       "        vertical-align: top;\n",
       "    }\n",
       "\n",
       "    .dataframe thead th {\n",
       "        text-align: right;\n",
       "    }\n",
       "</style>\n",
       "<table border=\"1\" class=\"dataframe\">\n",
       "  <thead>\n",
       "    <tr style=\"text-align: right;\">\n",
       "      <th></th>\n",
       "      <th>color</th>\n",
       "      <th>Frequency</th>\n",
       "    </tr>\n",
       "  </thead>\n",
       "  <tbody>\n",
       "    <tr>\n",
       "      <th>0</th>\n",
       "      <td>Silver Metallic</td>\n",
       "      <td>1204</td>\n",
       "    </tr>\n",
       "    <tr>\n",
       "      <th>1</th>\n",
       "      <td>Blue</td>\n",
       "      <td>2650</td>\n",
       "    </tr>\n",
       "    <tr>\n",
       "      <th>2</th>\n",
       "      <td>Super White</td>\n",
       "      <td>2414</td>\n",
       "    </tr>\n",
       "    <tr>\n",
       "      <th>3</th>\n",
       "      <td>Grey</td>\n",
       "      <td>4173</td>\n",
       "    </tr>\n",
       "    <tr>\n",
       "      <th>4</th>\n",
       "      <td>Albastar Silver</td>\n",
       "      <td>11</td>\n",
       "    </tr>\n",
       "    <tr>\n",
       "      <th>...</th>\n",
       "      <td>...</td>\n",
       "      <td>...</td>\n",
       "    </tr>\n",
       "    <tr>\n",
       "      <th>392</th>\n",
       "      <td>Cosmos Black</td>\n",
       "      <td>1</td>\n",
       "    </tr>\n",
       "    <tr>\n",
       "      <th>393</th>\n",
       "      <td>Ablaze Red Pearl</td>\n",
       "      <td>1</td>\n",
       "    </tr>\n",
       "    <tr>\n",
       "      <th>394</th>\n",
       "      <td>Cobalt Blue Metallic</td>\n",
       "      <td>1</td>\n",
       "    </tr>\n",
       "    <tr>\n",
       "      <th>395</th>\n",
       "      <td>Timeless Back</td>\n",
       "      <td>1</td>\n",
       "    </tr>\n",
       "    <tr>\n",
       "      <th>396</th>\n",
       "      <td>Brilliant Red</td>\n",
       "      <td>1</td>\n",
       "    </tr>\n",
       "  </tbody>\n",
       "</table>\n",
       "<p>397 rows × 2 columns</p>\n",
       "</div>"
      ],
      "text/plain": [
       "                    color  Frequency\n",
       "0         Silver Metallic       1204\n",
       "1                    Blue       2650\n",
       "2             Super White       2414\n",
       "3                    Grey       4173\n",
       "4         Albastar Silver         11\n",
       "..                    ...        ...\n",
       "392          Cosmos Black          1\n",
       "393      Ablaze Red Pearl          1\n",
       "394  Cobalt Blue Metallic          1\n",
       "395         Timeless Back          1\n",
       "396         Brilliant Red          1\n",
       "\n",
       "[397 rows x 2 columns]"
      ]
     },
     "execution_count": 92,
     "metadata": {},
     "output_type": "execute_result"
    }
   ],
   "source": [
    "counter = Counter(df[\"color\"].values)\n",
    "dfCounter =  pd.DataFrame(counter.items(), columns = [\"color\", \"Frequency\"])\n",
    "print(\"Shape:\", dfCounter.shape)\n",
    "dfCounter"
   ]
  },
  {
   "cell_type": "code",
   "execution_count": 93,
   "metadata": {},
   "outputs": [
    {
     "name": "stdout",
     "output_type": "stream",
     "text": [
      "Most common value: White and its frequency: 21444\n",
      "Least common value: Buckiham Blue and its frequency: 1\n",
      "Frequency for most common value '21444': 1\n",
      "Frequency for least common value '1': 101\n"
     ]
    }
   ],
   "source": [
    "most_common_v, most_common_f = dfCounter.loc[dfCounter[\"Frequency\"].idxmax(), \"color\"], dfCounter.loc[dfCounter[\"Frequency\"].idxmax(), \"Frequency\"]\n",
    "least_common_v, least_common_f = dfCounter.loc[dfCounter[\"Frequency\"].idxmin(), \"color\"], dfCounter.loc[dfCounter[\"Frequency\"].idxmin(), \"Frequency\"]\n",
    "most_count = dfCounter[dfCounter[\"Frequency\"] == most_common_f].shape[0]\n",
    "least_count = dfCounter[dfCounter[\"Frequency\"] == least_common_f].shape[0]\n",
    "\n",
    "print(f\"Most common value: {most_common_v} and its frequency: {most_common_f}\")\n",
    "print(f\"Least common value: {least_common_v} and its frequency: {least_common_f}\")\n",
    "print(f\"Frequency for most common value '{most_common_f}': {most_count}\")\n",
    "print(f\"Frequency for least common value '{least_common_f}': {least_count}\")"
   ]
  },
  {
   "cell_type": "markdown",
   "metadata": {},
   "source": [
    "registered"
   ]
  },
  {
   "cell_type": "code",
   "execution_count": 94,
   "metadata": {},
   "outputs": [
    {
     "name": "stdout",
     "output_type": "stream",
     "text": [
      "Shape: (121, 2)\n"
     ]
    },
    {
     "data": {
      "text/html": [
       "<div>\n",
       "<style scoped>\n",
       "    .dataframe tbody tr th:only-of-type {\n",
       "        vertical-align: middle;\n",
       "    }\n",
       "\n",
       "    .dataframe tbody tr th {\n",
       "        vertical-align: top;\n",
       "    }\n",
       "\n",
       "    .dataframe thead th {\n",
       "        text-align: right;\n",
       "    }\n",
       "</style>\n",
       "<table border=\"1\" class=\"dataframe\">\n",
       "  <thead>\n",
       "    <tr style=\"text-align: right;\">\n",
       "      <th></th>\n",
       "      <th>registered</th>\n",
       "      <th>Frequency</th>\n",
       "    </tr>\n",
       "  </thead>\n",
       "  <tbody>\n",
       "    <tr>\n",
       "      <th>0</th>\n",
       "      <td>Lahore</td>\n",
       "      <td>18739</td>\n",
       "    </tr>\n",
       "    <tr>\n",
       "      <th>1</th>\n",
       "      <td>Punjab</td>\n",
       "      <td>9414</td>\n",
       "    </tr>\n",
       "    <tr>\n",
       "      <th>2</th>\n",
       "      <td>Islamabad</td>\n",
       "      <td>18942</td>\n",
       "    </tr>\n",
       "    <tr>\n",
       "      <th>3</th>\n",
       "      <td>Un-Registered</td>\n",
       "      <td>5058</td>\n",
       "    </tr>\n",
       "    <tr>\n",
       "      <th>4</th>\n",
       "      <td>Sindh</td>\n",
       "      <td>9906</td>\n",
       "    </tr>\n",
       "    <tr>\n",
       "      <th>...</th>\n",
       "      <td>...</td>\n",
       "      <td>...</td>\n",
       "    </tr>\n",
       "    <tr>\n",
       "      <th>116</th>\n",
       "      <td>Ahmed Pur East</td>\n",
       "      <td>1</td>\n",
       "    </tr>\n",
       "    <tr>\n",
       "      <th>117</th>\n",
       "      <td>Hattar</td>\n",
       "      <td>1</td>\n",
       "    </tr>\n",
       "    <tr>\n",
       "      <th>118</th>\n",
       "      <td>Arifwala</td>\n",
       "      <td>1</td>\n",
       "    </tr>\n",
       "    <tr>\n",
       "      <th>119</th>\n",
       "      <td>Akora khattak</td>\n",
       "      <td>1</td>\n",
       "    </tr>\n",
       "    <tr>\n",
       "      <th>120</th>\n",
       "      <td>Hunza</td>\n",
       "      <td>1</td>\n",
       "    </tr>\n",
       "  </tbody>\n",
       "</table>\n",
       "<p>121 rows × 2 columns</p>\n",
       "</div>"
      ],
      "text/plain": [
       "         registered  Frequency\n",
       "0            Lahore      18739\n",
       "1            Punjab       9414\n",
       "2         Islamabad      18942\n",
       "3     Un-Registered       5058\n",
       "4             Sindh       9906\n",
       "..              ...        ...\n",
       "116  Ahmed Pur East          1\n",
       "117          Hattar          1\n",
       "118        Arifwala          1\n",
       "119   Akora khattak          1\n",
       "120           Hunza          1\n",
       "\n",
       "[121 rows x 2 columns]"
      ]
     },
     "execution_count": 94,
     "metadata": {},
     "output_type": "execute_result"
    }
   ],
   "source": [
    "counter = Counter(df[\"registered\"].values)\n",
    "dfCounter =  pd.DataFrame(counter.items(), columns = [\"registered\", \"Frequency\"])\n",
    "print(\"Shape:\", dfCounter.shape)\n",
    "dfCounter"
   ]
  },
  {
   "cell_type": "code",
   "execution_count": 95,
   "metadata": {},
   "outputs": [
    {
     "name": "stdout",
     "output_type": "stream",
     "text": [
      "Most common value: Islamabad and its frequency: 18942\n",
      "Least common value: Mingora and its frequency: 1\n",
      "Frequency for most common value '18942': 1\n",
      "Frequency for least common value '1': 42\n"
     ]
    }
   ],
   "source": [
    "most_common_v, most_common_f = dfCounter.loc[dfCounter[\"Frequency\"].idxmax(), \"registered\"], dfCounter.loc[dfCounter[\"Frequency\"].idxmax(), \"Frequency\"]\n",
    "least_common_v, least_common_f = dfCounter.loc[dfCounter[\"Frequency\"].idxmin(), \"registered\"], dfCounter.loc[dfCounter[\"Frequency\"].idxmin(), \"Frequency\"]\n",
    "most_count = dfCounter[dfCounter[\"Frequency\"] == most_common_f].shape[0]\n",
    "least_count = dfCounter[dfCounter[\"Frequency\"] == least_common_f].shape[0]\n",
    "\n",
    "print(f\"Most common value: {most_common_v} and its frequency: {most_common_f}\")\n",
    "print(f\"Least common value: {least_common_v} and its frequency: {least_common_f}\")\n",
    "print(f\"Frequency for most common value '{most_common_f}': {most_count}\")\n",
    "print(f\"Frequency for least common value '{least_common_f}': {least_count}\")"
   ]
  },
  {
   "cell_type": "code",
   "execution_count": null,
   "metadata": {},
   "outputs": [],
   "source": []
  },
  {
   "cell_type": "code",
   "execution_count": 56,
   "metadata": {},
   "outputs": [
    {
     "data": {
      "image/png": "[encoded data removed]",
      "text/plain": [
       "<Figure size 2000x1000 with 2 Axes>"
      ]
     },
     "metadata": {},
     "output_type": "display_data"
    }
   ],
   "source": [
    "# Calculate frequencies\n",
    "city_count = df[\"city\"].value_counts()\n",
    "\n",
    "# Create basic bar plot\n",
    "fig, axs = plt.subplots(figsize = (20, 10))\n",
    "axs.bar(city_count.index, city_count, color = \"steelblue\")\n",
    "axs.tick_params(rotation = 90, labelsize = 5)\n",
    "\n",
    "# Add cumulative percentage line to plot\n",
    "ax2 = axs.twinx()\n",
    "ax2.plot(city_count.index, city_count.cumsum()/city_count.sum()*100, marker = \"D\", ms = 2, color = \"orange\")\n",
    "ax2.yaxis.set_major_formatter(PercentFormatter())\n",
    "ax2.axhline(y = 80, color = \"red\", linestyle = \"--\", linewidth = 1)  # 80% line\n",
    "\n",
    "plt.title(\"Pareto Chart of City\")\n",
    "plt.show()"
   ]
  },
  {
   "cell_type": "code",
   "execution_count": 62,
   "metadata": {},
   "outputs": [
    {
     "data": {
      "text/plain": [
       "city\n",
       "Lahore        21.410411\n",
       "Karachi       39.939392\n",
       "Islamabad     54.707363\n",
       "Rawalpindi    61.702920\n",
       "Peshawar      66.439816\n",
       "Faisalabad    70.339505\n",
       "Multan        73.353193\n",
       "Gujranwala    75.920029\n",
       "Sialkot       77.625260\n",
       "Sargodha      78.753948\n",
       "Abbottabad    79.736254\n",
       "Name: count, dtype: float64"
      ]
     },
     "execution_count": 62,
     "metadata": {},
     "output_type": "execute_result"
    }
   ],
   "source": [
    "city_count = df[\"city\"].value_counts()\n",
    "cummutaly_relative_frequency = city_count.cumsum()/city_count.sum()*100\n",
    "cummutaly_relative_frequency[cummutaly_relative_frequency <= 80]"
   ]
  },
  {
   "cell_type": "markdown",
   "metadata": {},
   "source": [
    "Body"
   ]
  },
  {
   "cell_type": "code",
   "execution_count": 66,
   "metadata": {},
   "outputs": [
    {
     "data": {
      "image/png": "[encoded data removed]",
      "text/plain": [
       "<Figure size 2000x1000 with 2 Axes>"
      ]
     },
     "metadata": {},
     "output_type": "display_data"
    }
   ],
   "source": [
    "# Calculate frequencies\n",
    "body_count = df[\"body\"].value_counts()\n",
    "\n",
    "# Create basic bar plot\n",
    "fig, axs = plt.subplots(figsize = (20, 10))\n",
    "axs.bar(body_count.index, body_count, color = \"steelblue\")\n",
    "axs.tick_params(rotation = 90)\n",
    "\n",
    "# Add cumulative percentage line to plot\n",
    "ax2 = axs.twinx()\n",
    "ax2.plot(body_count.index, body_count.cumsum()/body_count.sum()*100, marker = \"D\", ms = 2)\n",
    "ax2.yaxis.set_major_formatter(PercentFormatter())\n",
    "\n",
    "plt.show()"
   ]
  },
  {
   "cell_type": "code",
   "execution_count": 19,
   "metadata": {},
   "outputs": [
    {
     "data": {
      "text/plain": [
       "make\n",
       "Toyota      31.985927\n",
       "Suzuki      28.694882\n",
       "Honda       21.094532\n",
       "Daihatsu     4.084594\n",
       "KIA          2.265081\n",
       "              ...    \n",
       "Buick        0.001284\n",
       "Mushtaq      0.001284\n",
       "Roma         0.001284\n",
       "Classic      0.001284\n",
       "Rinco        0.001284\n",
       "Name: count, Length: 68, dtype: float64"
      ]
     },
     "execution_count": 19,
     "metadata": {},
     "output_type": "execute_result"
    }
   ],
   "source": [
    "make_count = df[\"make\"].value_counts()\n",
    "make_freq = (make_count / df.shape[0]) * 100\n",
    "make_freq"
   ]
  },
  {
   "cell_type": "code",
   "execution_count": 20,
   "metadata": {},
   "outputs": [
    {
     "data": {
      "text/plain": [
       "model\n",
       "Corolla    16.527132\n",
       "Civic      10.625594\n",
       "City        6.775983\n",
       "Mehran      5.891266\n",
       "Cultus      5.730758\n",
       "             ...    \n",
       "Amarok      0.001284\n",
       "XL7         0.001284\n",
       "1300        0.001284\n",
       "New         0.001284\n",
       "Sc          0.001284\n",
       "Name: count, Length: 435, dtype: float64"
      ]
     },
     "execution_count": 20,
     "metadata": {},
     "output_type": "execute_result"
    }
   ],
   "source": [
    "model_count = df[\"model\"].value_counts()\n",
    "model_freq = (model_count / df.shape[0]) * 100\n",
    "model_freq"
   ]
  },
  {
   "cell_type": "code",
   "execution_count": 21,
   "metadata": {},
   "outputs": [
    {
     "data": {
      "text/plain": [
       "color\n",
       "White                   27.535376\n",
       "Silver                  10.494620\n",
       "Black                    9.006395\n",
       "Grey                     5.358381\n",
       "Solid White              5.229975\n",
       "                          ...    \n",
       "Cosmos Black             0.001284\n",
       "Ablaze Red Pearl         0.001284\n",
       "Cobalt Blue Metallic     0.001284\n",
       "Timeless Back            0.001284\n",
       "Brilliant Red            0.001284\n",
       "Name: count, Length: 396, dtype: float64"
      ]
     },
     "execution_count": 21,
     "metadata": {},
     "output_type": "execute_result"
    }
   ],
   "source": [
    "color_count = df[\"color\"].value_counts()\n",
    "color_freq = (color_count / df.shape[0]) * 100\n",
    "color_freq"
   ]
  },
  {
   "cell_type": "code",
   "execution_count": 22,
   "metadata": {},
   "outputs": [
    {
     "data": {
      "text/plain": [
       "registered\n",
       "Islamabad         24.322659\n",
       "Lahore            24.061994\n",
       "Karachi           13.916639\n",
       "Sindh             12.719895\n",
       "Punjab            12.088138\n",
       "                    ...    \n",
       "Ahmed Pur East     0.001284\n",
       "Hattar             0.001284\n",
       "Arifwala           0.001284\n",
       "Akora khattak      0.001284\n",
       "Hunza              0.001284\n",
       "Name: count, Length: 121, dtype: float64"
      ]
     },
     "execution_count": 22,
     "metadata": {},
     "output_type": "execute_result"
    }
   ],
   "source": [
    "registered_count = df[\"registered\"].value_counts()\n",
    "registered_freq = (registered_count / df.shape[0]) * 100\n",
    "registered_freq"
   ]
  },
  {
   "cell_type": "markdown",
   "metadata": {},
   "source": [
    "#### 3.1.2. Numeric"
   ]
  },
  {
   "cell_type": "code",
   "execution_count": 15,
   "metadata": {},
   "outputs": [
    {
     "data": {
      "text/html": [
       "<div>\n",
       "<style scoped>\n",
       "    .dataframe tbody tr th:only-of-type {\n",
       "        vertical-align: middle;\n",
       "    }\n",
       "\n",
       "    .dataframe tbody tr th {\n",
       "        vertical-align: top;\n",
       "    }\n",
       "\n",
       "    .dataframe thead th {\n",
       "        text-align: right;\n",
       "    }\n",
       "</style>\n",
       "<table border=\"1\" class=\"dataframe\">\n",
       "  <thead>\n",
       "    <tr style=\"text-align: right;\">\n",
       "      <th></th>\n",
       "      <th>year</th>\n",
       "      <th>engine</th>\n",
       "      <th>mileage</th>\n",
       "    </tr>\n",
       "  </thead>\n",
       "  <tbody>\n",
       "    <tr>\n",
       "      <th>count</th>\n",
       "      <td>73099.000000</td>\n",
       "      <td>77875.000000</td>\n",
       "      <td>77878.000000</td>\n",
       "    </tr>\n",
       "    <tr>\n",
       "      <th>mean</th>\n",
       "      <td>2012.812610</td>\n",
       "      <td>1408.072550</td>\n",
       "      <td>91109.192750</td>\n",
       "    </tr>\n",
       "    <tr>\n",
       "      <th>std</th>\n",
       "      <td>7.516685</td>\n",
       "      <td>704.459947</td>\n",
       "      <td>89275.336173</td>\n",
       "    </tr>\n",
       "    <tr>\n",
       "      <th>min</th>\n",
       "      <td>1990.000000</td>\n",
       "      <td>3.000000</td>\n",
       "      <td>1.000000</td>\n",
       "    </tr>\n",
       "    <tr>\n",
       "      <th>25%</th>\n",
       "      <td>2007.000000</td>\n",
       "      <td>1000.000000</td>\n",
       "      <td>34000.000000</td>\n",
       "    </tr>\n",
       "    <tr>\n",
       "      <th>50%</th>\n",
       "      <td>2015.000000</td>\n",
       "      <td>1300.000000</td>\n",
       "      <td>80000.000000</td>\n",
       "    </tr>\n",
       "    <tr>\n",
       "      <th>75%</th>\n",
       "      <td>2019.000000</td>\n",
       "      <td>1600.000000</td>\n",
       "      <td>123456.000000</td>\n",
       "    </tr>\n",
       "    <tr>\n",
       "      <th>max</th>\n",
       "      <td>2022.000000</td>\n",
       "      <td>15000.000000</td>\n",
       "      <td>1000000.000000</td>\n",
       "    </tr>\n",
       "  </tbody>\n",
       "</table>\n",
       "</div>"
      ],
      "text/plain": [
       "               year        engine         mileage\n",
       "count  73099.000000  77875.000000    77878.000000\n",
       "mean    2012.812610   1408.072550    91109.192750\n",
       "std        7.516685    704.459947    89275.336173\n",
       "min     1990.000000      3.000000        1.000000\n",
       "25%     2007.000000   1000.000000    34000.000000\n",
       "50%     2015.000000   1300.000000    80000.000000\n",
       "75%     2019.000000   1600.000000   123456.000000\n",
       "max     2022.000000  15000.000000  1000000.000000"
      ]
     },
     "execution_count": 15,
     "metadata": {},
     "output_type": "execute_result"
    }
   ],
   "source": [
    "numeric_features = [\"year\", \"engine\", \"mileage\"]\n",
    "df[numeric_features].describe()"
   ]
  },
  {
   "cell_type": "markdown",
   "metadata": {},
   "source": [
    "#### Target variable"
   ]
  },
  {
   "cell_type": "code",
   "execution_count": 16,
   "metadata": {},
   "outputs": [
    {
     "data": {
      "text/plain": [
       "count    7.729500e+04\n",
       "mean     3.883232e+06\n",
       "std      5.759480e+06\n",
       "min      1.100000e+05\n",
       "25%      1.450000e+06\n",
       "50%      2.700000e+06\n",
       "75%      4.500000e+06\n",
       "max      5.290000e+08\n",
       "Name: price, dtype: float64"
      ]
     },
     "execution_count": 16,
     "metadata": {},
     "output_type": "execute_result"
    }
   ],
   "source": [
    "target_variable = \"price\"\n",
    "df[target_variable].describe()"
   ]
  },
  {
   "cell_type": "markdown",
   "metadata": {},
   "source": [
    "### Data cleaning"
   ]
  },
  {
   "cell_type": "markdown",
   "metadata": {},
   "source": [
    "#### Categorical"
   ]
  },
  {
   "cell_type": "code",
   "execution_count": 17,
   "metadata": {},
   "outputs": [],
   "source": [
    "df[\"city\"] = df[\"city\"].map(lambda x: x.strip() if isinstance(x, str) else x)\n",
    "df[\"body\"] = df[\"body\"].map(lambda x: x.strip() if isinstance(x, str) else x)\n",
    "df[\"make\"] = df[\"make\"].map(lambda x: x.strip() if isinstance(x, str) else x)\n",
    "df[\"model\"] = df[\"model\"].map(lambda x: x.strip() if isinstance(x, str) else x)\n",
    "df[\"color\"] = df[\"color\"].map(lambda x: x.strip() if isinstance(x, str) else x)\n",
    "df[\"registered\"] = df[\"registered\"].map(lambda x: x.strip() if isinstance(x, str) else x)"
   ]
  },
  {
   "cell_type": "code",
   "execution_count": 18,
   "metadata": {},
   "outputs": [],
   "source": [
    "df[\"city\"] = df[\"city\"].map(lambda x: x if x in (\"Lahore\", \"Karachi\", \"Islamabad\") else \"Other\")\n",
    "df[\"body\"] = df[\"body\"].map(lambda x: x if x in (\"Sedan\", \"Hatchback\") else \"Other\")\n",
    "df[\"make\"] = df[\"make\"].map(lambda x: x if x in (\"Toyota\", \"Suzuki\", \"Honda\") else \"Other\")\n",
    "df[\"model\"] = df[\"model\"].map(lambda x: x if x in (\"Corolla\", \"Civic\") else \"Other\")\n",
    "df[\"color\"] = df[\"color\"].map(lambda x: x if x in (\"White\", \"Silver\") else \"Other\")\n",
    "df[\"registered\"] = df[\"registered\"].map(lambda x: x if x in (\"Islamabad\", \"Lahore\", \"Karachi\", \"Sindh\", \"Punjab\", \"Un-Registered\") else \"Other\")"
   ]
  },
  {
   "cell_type": "code",
   "execution_count": 19,
   "metadata": {},
   "outputs": [],
   "source": [
    "df[\"assembly\"] = df[\"assembly\"].fillna(\"Local\")\n",
    "df[\"fuel\"] = df[\"fuel\"].fillna(\"Other\")"
   ]
  },
  {
   "cell_type": "markdown",
   "metadata": {},
   "source": [
    "#### Numeric"
   ]
  },
  {
   "cell_type": "code",
   "execution_count": 20,
   "metadata": {},
   "outputs": [],
   "source": [
    "df = df.dropna()"
   ]
  },
  {
   "cell_type": "code",
   "execution_count": 21,
   "metadata": {},
   "outputs": [
    {
     "data": {
      "text/html": [
       "<div>\n",
       "<style scoped>\n",
       "    .dataframe tbody tr th:only-of-type {\n",
       "        vertical-align: middle;\n",
       "    }\n",
       "\n",
       "    .dataframe tbody tr th {\n",
       "        vertical-align: top;\n",
       "    }\n",
       "\n",
       "    .dataframe thead th {\n",
       "        text-align: right;\n",
       "    }\n",
       "</style>\n",
       "<table border=\"1\" class=\"dataframe\">\n",
       "  <thead>\n",
       "    <tr style=\"text-align: right;\">\n",
       "      <th></th>\n",
       "      <th>addref</th>\n",
       "      <th>city</th>\n",
       "      <th>assembly</th>\n",
       "      <th>body</th>\n",
       "      <th>make</th>\n",
       "      <th>model</th>\n",
       "      <th>year</th>\n",
       "      <th>engine</th>\n",
       "      <th>transmission</th>\n",
       "      <th>fuel</th>\n",
       "      <th>color</th>\n",
       "      <th>registered</th>\n",
       "      <th>mileage</th>\n",
       "      <th>price</th>\n",
       "    </tr>\n",
       "  </thead>\n",
       "  <tbody>\n",
       "    <tr>\n",
       "      <th>0</th>\n",
       "      <td>7943732</td>\n",
       "      <td>Other</td>\n",
       "      <td>Local</td>\n",
       "      <td>Sedan</td>\n",
       "      <td>Toyota</td>\n",
       "      <td>Corolla</td>\n",
       "      <td>2013.0</td>\n",
       "      <td>1300.0</td>\n",
       "      <td>Manual</td>\n",
       "      <td>Petrol</td>\n",
       "      <td>Other</td>\n",
       "      <td>Lahore</td>\n",
       "      <td>145000</td>\n",
       "      <td>2870000.0</td>\n",
       "    </tr>\n",
       "    <tr>\n",
       "      <th>1</th>\n",
       "      <td>7730314</td>\n",
       "      <td>Lahore</td>\n",
       "      <td>Local</td>\n",
       "      <td>Sedan</td>\n",
       "      <td>Honda</td>\n",
       "      <td>Other</td>\n",
       "      <td>2000.0</td>\n",
       "      <td>1300.0</td>\n",
       "      <td>Manual</td>\n",
       "      <td>Petrol</td>\n",
       "      <td>Other</td>\n",
       "      <td>Lahore</td>\n",
       "      <td>230000</td>\n",
       "      <td>995000.0</td>\n",
       "    </tr>\n",
       "    <tr>\n",
       "      <th>2</th>\n",
       "      <td>7943737</td>\n",
       "      <td>Lahore</td>\n",
       "      <td>Local</td>\n",
       "      <td>Sedan</td>\n",
       "      <td>Toyota</td>\n",
       "      <td>Other</td>\n",
       "      <td>2021.0</td>\n",
       "      <td>1300.0</td>\n",
       "      <td>Manual</td>\n",
       "      <td>Petrol</td>\n",
       "      <td>Other</td>\n",
       "      <td>Punjab</td>\n",
       "      <td>60500</td>\n",
       "      <td>3585000.0</td>\n",
       "    </tr>\n",
       "    <tr>\n",
       "      <th>3</th>\n",
       "      <td>7943733</td>\n",
       "      <td>Lahore</td>\n",
       "      <td>Local</td>\n",
       "      <td>Hatchback</td>\n",
       "      <td>Suzuki</td>\n",
       "      <td>Other</td>\n",
       "      <td>2017.0</td>\n",
       "      <td>1300.0</td>\n",
       "      <td>Manual</td>\n",
       "      <td>Petrol</td>\n",
       "      <td>Other</td>\n",
       "      <td>Islamabad</td>\n",
       "      <td>87000</td>\n",
       "      <td>2250000.0</td>\n",
       "    </tr>\n",
       "    <tr>\n",
       "      <th>4</th>\n",
       "      <td>7923484</td>\n",
       "      <td>Lahore</td>\n",
       "      <td>Local</td>\n",
       "      <td>Sedan</td>\n",
       "      <td>Honda</td>\n",
       "      <td>Civic</td>\n",
       "      <td>2017.0</td>\n",
       "      <td>1800.0</td>\n",
       "      <td>Automatic</td>\n",
       "      <td>Petrol</td>\n",
       "      <td>Other</td>\n",
       "      <td>Lahore</td>\n",
       "      <td>86000</td>\n",
       "      <td>4850000.0</td>\n",
       "    </tr>\n",
       "  </tbody>\n",
       "</table>\n",
       "</div>"
      ],
      "text/plain": [
       "    addref    city assembly       body    make    model    year  engine  \\\n",
       "0  7943732   Other    Local      Sedan  Toyota  Corolla  2013.0  1300.0   \n",
       "1  7730314  Lahore    Local      Sedan   Honda    Other  2000.0  1300.0   \n",
       "2  7943737  Lahore    Local      Sedan  Toyota    Other  2021.0  1300.0   \n",
       "3  7943733  Lahore    Local  Hatchback  Suzuki    Other  2017.0  1300.0   \n",
       "4  7923484  Lahore    Local      Sedan   Honda    Civic  2017.0  1800.0   \n",
       "\n",
       "  transmission    fuel  color registered  mileage      price  \n",
       "0       Manual  Petrol  Other     Lahore   145000  2870000.0  \n",
       "1       Manual  Petrol  Other     Lahore   230000   995000.0  \n",
       "2       Manual  Petrol  Other     Punjab    60500  3585000.0  \n",
       "3       Manual  Petrol  Other  Islamabad    87000  2250000.0  \n",
       "4    Automatic  Petrol  Other     Lahore    86000  4850000.0  "
      ]
     },
     "execution_count": 21,
     "metadata": {},
     "output_type": "execute_result"
    }
   ],
   "source": [
    "df.head()"
   ]
  },
  {
   "cell_type": "code",
   "execution_count": 22,
   "metadata": {},
   "outputs": [],
   "source": [
    "path_csv_clean = \"pakwheels_used_car_data_cleaned.csv\"\n",
    "df.to_csv(os.path.join(PATH_DATA, path_csv_clean), index = False)"
   ]
  }
 ],
 "metadata": {
  "kernelspec": {
   "display_name": "sklearn-env-1-5",
   "language": "python",
   "name": "python3"
  },
  "language_info": {
   "codemirror_mode": {
    "name": "ipython",
    "version": 3
   },
   "file_extension": ".py",
   "mimetype": "text/x-python",
   "name": "python",
   "nbconvert_exporter": "python",
   "pygments_lexer": "ipython3",
   "version": "3.11.9"
  }
 },
 "nbformat": 4,
 "nbformat_minor": 2
}
